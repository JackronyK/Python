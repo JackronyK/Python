{
 "cells": [
  {
   "cell_type": "code",
   "execution_count": 2,
   "metadata": {},
   "outputs": [],
   "source": [
    "import numpy as np"
   ]
  },
  {
   "cell_type": "markdown",
   "metadata": {},
   "source": [
    "### Array Creation\n",
    "\n",
    "There are 6 general mechanisms for creating arrays :\n",
    "1. Conversion from other python structures (i.e lists and tuples)\n",
    "2. Intrinsic Numpy array creation functions e.g arange, ones, zeros ..\n",
    "3. Replicating, joining, or mutating existing arrays\n",
    "4. Reading arrays from disk, either from standard or custom formats\n",
    "5. creatings arrays from raw bytes through the use of strings or buffers\n",
    "6. Use of special library functions e.g random\n"
   ]
  },
  {
   "cell_type": "markdown",
   "metadata": {},
   "source": [
    "#### 1. Coonverting Python sequences to Numpy Arrays\n",
    "\n",
    "Lists and tuples can define ndarray creation:\n",
    "<font color=green>\n",
    ">> - a list of numbers will create a 1D array\n",
    ">> - a list of lists will create a 2D array\n",
    ">> - further nested lists will create higher-dimensional arrays. In general, any array object is called an ndarray in NumPy.</font>\n",
    "\n"
   ]
  },
  {
   "cell_type": "code",
   "execution_count": 3,
   "metadata": {},
   "outputs": [],
   "source": [
    "a1D = np.array([1,2,3,4])\n",
    "a2D = np.array([[1,2],[3,4]])\n",
    "a3D  = np.array([[[1,2],[3,4]],[[5,6],[7,8]]])"
   ]
  },
  {
   "cell_type": "code",
   "execution_count": 6,
   "metadata": {},
   "outputs": [
    {
     "name": "stdout",
     "output_type": "stream",
     "text": [
      "[1 2 3 4]\n",
      "\n",
      "[[1 2]\n",
      " [3 4]]\n",
      "\n",
      "[[[1 2]\n",
      "  [3 4]]\n",
      "\n",
      " [[5 6]\n",
      "  [7 8]]]\n"
     ]
    }
   ],
   "source": [
    "print(f\"{a1D}\\n\\n{a2D}\\n\\n{a3D}\")"
   ]
  },
  {
   "cell_type": "markdown",
   "metadata": {},
   "source": [
    "#### 2. Intrinsic np Array Creation Functions\n",
    "\n",
    "NumPy has over 40 built-in functions for creating arrays as laid out in the Array creation routines<https://numpy.org/doc/1.26/reference/routines.array-creation.html#routines-array-creation>. These functions can be split into roughly three categories, based on the dimension of the array they create:\n",
    "\n",
    "1. 1D arrays\n",
    "Examples:\n",
    "  -np.arange()\n",
    "  -numpy.linspace > it will create arrays with a specified number of elements, and spaced equally between the specified beginning and end values. "
   ]
  },
  {
   "cell_type": "code",
   "execution_count": 4,
   "metadata": {},
   "outputs": [
    {
     "name": "stdout",
     "output_type": "stream",
     "text": [
      "[ 0  1  2  3  4  5  6  7  8  9 10 11]\n",
      "[ 3.  4.  5.  6.  7.  8.  9. 10. 11. 12.]\n",
      "[ 2.   2.5  3.   3.5  4.   4.5  5.   5.5  6.   6.5  7.   7.5  8.   8.5\n",
      "  9.   9.5 10.  10.5 11.  11.5 12.  12.5 13.  13.5 14.  14.5 15.  15.5\n",
      " 16.  16.5 17.  17.5 18.  18.5 19.  19.5]\n"
     ]
    }
   ],
   "source": [
    "import numpy as np\n",
    "\n",
    "# arange\n",
    "_1D_arange1 = np.arange(12)\n",
    "print(_1D_arange1)\n",
    "\n",
    "_1D_arange2 = np.arange(3, 13, dtype=float)\n",
    "print(_1D_arange2)\n",
    "\n",
    "_1D_arange3 = np.arange(2, 20, 0.5, dtype=float)\n",
    "print(_1D_arange3)"
   ]
  },
  {
   "cell_type": "code",
   "execution_count": 5,
   "metadata": {},
   "outputs": [
    {
     "name": "stdout",
     "output_type": "stream",
     "text": [
      "[10.  12.5 15.  17.5 20. ]\n"
     ]
    }
   ],
   "source": [
    "# np.linespace\n",
    "_1D_linspace1 = np.linspace(10, 20, 5)\n",
    "print(_1D_linspace1)"
   ]
  },
  {
   "cell_type": "markdown",
   "metadata": {},
   "source": [
    "2. 2D arrays\n",
    "Examples:   \n",
    "    -np.eye - defines a 2d identity matrix   \n",
    "    -numpy.diag can define either a square 2D array with given values along the diagonal or if given a 2D array returns a 1D array that is only the diagonal elements.\n"
   ]
  },
  {
   "cell_type": "code",
   "execution_count": 6,
   "metadata": {},
   "outputs": [
    {
     "name": "stdout",
     "output_type": "stream",
     "text": [
      "[[1. 0. 0.]\n",
      " [0. 1. 0.]\n",
      " [0. 0. 1.]]\n"
     ]
    }
   ],
   "source": [
    "# np.eye\n",
    "_2D_eye1 = np.eye(3)\n",
    "print(_2D_eye1)"
   ]
  },
  {
   "cell_type": "code",
   "execution_count": 10,
   "metadata": {},
   "outputs": [
    {
     "name": "stdout",
     "output_type": "stream",
     "text": [
      "[[0 0 1 0 0 0]\n",
      " [0 0 0 2 0 0]\n",
      " [0 0 0 0 3 0]\n",
      " [0 0 0 0 0 4]\n",
      " [0 0 0 0 0 0]\n",
      " [0 0 0 0 0 0]]\n"
     ]
    }
   ],
   "source": [
    "# Diagram\n",
    "_2D_diag1 = np.diag([1,2,3,4],2)\n",
    "print(_2D_diag1)"
   ]
  },
  {
   "cell_type": "markdown",
   "metadata": {},
   "source": [
    "3. ndarrays\n",
    "\n",
    "Examples:   \n",
    "     np.ones  \n",
    "     np.zeros   \n",
    "     np.random  \n",
    "    \n"
   ]
  },
  {
   "cell_type": "code",
   "execution_count": 12,
   "metadata": {},
   "outputs": [
    {
     "data": {
      "text/plain": [
       "array([[1., 1., 1., 1.],\n",
       "       [1., 1., 1., 1.]])"
      ]
     },
     "execution_count": 12,
     "metadata": {},
     "output_type": "execute_result"
    }
   ],
   "source": [
    "import numpy as np\n",
    "np.zeros((2,4))\n",
    "np.ones((2,4))\n",
    "\n",
    "\n",
    "\n",
    "from numpy.random import default_rng\n",
    "default_rng(42).random(3,4)"
   ]
  },
  {
   "cell_type": "markdown",
   "metadata": {},
   "source": [
    "#### 3. Replicating, Joining, or mutating existing arrays\n",
    "> ->Once you have created arrays, you can replicate, join, or mutate those existing arrays to create new arrays.   \n",
    ">  ->When you assign an array or its elements to a new variable, you have to explicitly numpy.copy the array, otherwise the variable is a view into the original array."
   ]
  },
  {
   "cell_type": "code",
   "execution_count": 4,
   "metadata": {},
   "outputs": [
    {
     "name": "stdout",
     "output_type": "stream",
     "text": [
      "Copy1 [2 3 4 5 5 6 7 8 9]\n",
      "Copy2 [2 3 4 5]\n"
     ]
    }
   ],
   "source": [
    "# copy()\n",
    "import numpy as np\n",
    "copy_array = np.arange(1,10)\n",
    "copy_array2 = copy_array[:4]\n",
    "copy_array2 += 1\n",
    "\n",
    "print( f'Copy1 {copy_array}\\nCopy2 {copy_array2}')"
   ]
  },
  {
   "cell_type": "code",
   "execution_count": 5,
   "metadata": {},
   "outputs": [
    {
     "name": "stdout",
     "output_type": "stream",
     "text": [
      "Copy1 [1 2 3 4 5 6 7 8 9]\n",
      "Copy2 [2 3 4 5]\n"
     ]
    }
   ],
   "source": [
    "copy_array = np.arange(1,10)\n",
    "copy_array2 = copy_array[:4].copy()\n",
    "copy_array2 += 1\n",
    "\n",
    "print( f'Copy1 {copy_array}\\nCopy2 {copy_array2}')"
   ]
  },
  {
   "cell_type": "markdown",
   "metadata": {},
   "source": [
    "##### Joining\n",
    "There are a number of ways of joining existing arrays:   \n",
    "   -> np.vstack - this stacks arrays in sequence vertically (row wise)\n",
    "   -> np.hstack - this stacks arrays in sequence Horizontally (column wise)    \n",
    "   -> np.block  - Assemble an nd-array from nested lists of blocks."
   ]
  },
  {
   "cell_type": "code",
   "execution_count": 13,
   "metadata": {},
   "outputs": [
    {
     "data": {
      "text/plain": [
       "array([[ 1.,  1.,  1.,  0.],\n",
       "       [ 1.,  1.,  0.,  1.],\n",
       "       [ 0.,  0., -3.,  0.],\n",
       "       [ 0.,  0.,  0., -4.]])"
      ]
     },
     "execution_count": 13,
     "metadata": {},
     "output_type": "execute_result"
    }
   ],
   "source": [
    "A = np.ones((2,2)) \n",
    "B = np.eye(2,2)\n",
    "C = np.zeros((2,2))\n",
    "D = np.diag((-3,-4))\n",
    "\n",
    "np.block([[A,B], [C, D]])"
   ]
  },
  {
   "cell_type": "code",
   "execution_count": 12,
   "metadata": {},
   "outputs": [
    {
     "data": {
      "text/plain": [
       "array([[1., 1., 1., 0., 0., 0.],\n",
       "       [1., 1., 0., 1., 0., 0.]])"
      ]
     },
     "execution_count": 12,
     "metadata": {},
     "output_type": "execute_result"
    }
   ],
   "source": [
    "np.vstack((A, B))\n",
    "\n",
    "np.hstack((A, B, C))"
   ]
  },
  {
   "cell_type": "markdown",
   "metadata": {},
   "source": [
    "### Basic indexing\n",
    "\n",
    "##### Single Element Indexing\n",
    "\n",
    ">> Single element indexing works exactly like that for other standard Python sequences. It is 0-based, and accepts negative indices for indexing from the end of the array.   \n",
    "\n"
   ]
  },
  {
   "cell_type": "code",
   "execution_count": 15,
   "metadata": {},
   "outputs": [
    {
     "data": {
      "text/plain": [
       "8"
      ]
     },
     "execution_count": 15,
     "metadata": {},
     "output_type": "execute_result"
    }
   ],
   "source": [
    "a = np.arange(10)\n",
    "a[2]\n",
    "a[-2]"
   ]
  },
  {
   "cell_type": "code",
   "execution_count": 21,
   "metadata": {},
   "outputs": [
    {
     "name": "stdout",
     "output_type": "stream",
     "text": [
      "[[0 1 2 3 4]\n",
      " [5 6 7 8 9]]\n",
      "8\n"
     ]
    },
    {
     "data": {
      "text/plain": [
       "2"
      ]
     },
     "execution_count": 21,
     "metadata": {},
     "output_type": "execute_result"
    }
   ],
   "source": [
    "a.shape = (2,5)\n",
    "print(f'{a}\\n{a[1,3]}')\n",
    "\n",
    "a[1,-1]\n",
    "\n",
    "a[0][2]"
   ]
  },
  {
   "cell_type": "code",
   "execution_count": 28,
   "metadata": {},
   "outputs": [
    {
     "data": {
      "text/plain": [
       "array([10, 35])"
      ]
     },
     "execution_count": 28,
     "metadata": {},
     "output_type": "execute_result"
    }
   ],
   "source": [
    "a.sum(1)"
   ]
  },
  {
   "cell_type": "code",
   "execution_count": 3,
   "metadata": {},
   "outputs": [
    {
     "data": {
      "text/plain": [
       "{'A': 1, 'B': 2, 'C': 3}"
      ]
     },
     "execution_count": 3,
     "metadata": {},
     "output_type": "execute_result"
    }
   ],
   "source": [
    "capitals = {'A': 1,\n",
    "            'B': 2}\n",
    "\n",
    "capitals['C'] = 3\n",
    "capitals"
   ]
  },
  {
   "cell_type": "code",
   "execution_count": 4,
   "metadata": {},
   "outputs": [
    {
     "data": {
      "text/plain": [
       "'read'"
      ]
     },
     "execution_count": 4,
     "metadata": {},
     "output_type": "execute_result"
    }
   ],
   "source": [
    "my_string = \"I'm ready\"\n",
    "my_string[4:8]"
   ]
  },
  {
   "cell_type": "code",
   "execution_count": null,
   "metadata": {},
   "outputs": [],
   "source": []
  },
  {
   "cell_type": "markdown",
   "metadata": {},
   "source": [
    "##### Slicing and Striding"
   ]
  }
 ],
 "metadata": {
  "kernelspec": {
   "display_name": "Python_Dev",
   "language": "python",
   "name": "python3"
  },
  "language_info": {
   "codemirror_mode": {
    "name": "ipython",
    "version": 3
   },
   "file_extension": ".py",
   "mimetype": "text/x-python",
   "name": "python",
   "nbconvert_exporter": "python",
   "pygments_lexer": "ipython3",
   "version": "3.10.13"
  }
 },
 "nbformat": 4,
 "nbformat_minor": 2
}
