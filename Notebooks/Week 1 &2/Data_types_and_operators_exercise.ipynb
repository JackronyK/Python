{
 "cells": [
  {
   "cell_type": "markdown",
   "id": "f8d7f20b",
   "metadata": {},
   "source": [
    "<div align=\"center\" style=\" font-size: 80%; text-align: center; margin: 0 auto\">\n",
    "<img src=\"https://raw.githubusercontent.com/Explore-AI/Pictures/master/Python-Notebook-Banners/Exercise.png\"  style=\"display: block; margin-left: auto; margin-right: auto;\";/>\n",
    "</div>"
   ]
  },
  {
   "cell_type": "markdown",
   "id": "f662d169",
   "metadata": {},
   "source": [
    "# Exercise: Data types and operators \n",
    "© ExploreAI Academy"
   ]
  },
  {
   "attachments": {},
   "cell_type": "markdown",
   "id": "26af890c",
   "metadata": {},
   "source": [
    "In this exercise, we'll get comfortable with using the different data types we've been introduced to as well as using the correct data types and operators to solve problems. \n",
    "\n"
   ]
  },
  {
   "cell_type": "markdown",
   "id": "2d230d14",
   "metadata": {
    "tags": []
   },
   "source": [
    "## Learning objectives\n",
    "\n",
    "In this train, we will practise:\n",
    "- How to declare variables, perform basic arithmetic operations, and print results using Python.\n",
    "- String manipulation, type casting, and solving practical problems. "
   ]
  },
  {
   "cell_type": "markdown",
   "id": "0b2505e1",
   "metadata": {},
   "source": [
    "## Outline\n",
    "\n",
    "1. [Exercises](#exercises)\n",
    "    * [Exercise 1](#exercise-1)\n",
    "    * [Exercise 2](#exercise-2)\n",
    "    * [Exercise 3](#exercise-3)\n",
    "    * [Exercise 4](#exercise-4)\n",
    "    * [Comprehensive exercise](#comprehensive-exercise)\n",
    "2. [Solutions](#solutions)\n",
    "    * [Exercise 1](#exercise-1)\n",
    "    * [Exercise 2](#exercise-2)\n",
    "    * [Exercise 3](#exercise-3)\n",
    "    * [Exercise 4](#exercise-4)\n",
    "    * [Comprehensive exercise](#comprehensive-exercise)"
   ]
  },
  {
   "cell_type": "markdown",
   "id": "b9b983c4",
   "metadata": {},
   "source": [
    "## Exercises"
   ]
  },
  {
   "attachments": {},
   "cell_type": "markdown",
   "id": "5a0b7683",
   "metadata": {
    "tags": []
   },
   "source": [
    "### Exercise 1\n",
    "\n",
    "Declare two variables, `num1` and `num2`, and assign them values of `15` and `7`, respectively. Calculate and store the result of their sum, difference, product, and division (as floating-point number), in separate variables. Print the newly created variables. "
   ]
  },
  {
   "cell_type": "code",
   "execution_count": 2,
   "id": "4ca9ccc0",
   "metadata": {},
   "outputs": [
    {
     "name": "stdout",
     "output_type": "stream",
     "text": [
      "Num1: 15\n",
      "Num2: 7\n"
     ]
    }
   ],
   "source": [
    "# Your solution here...\n",
    "num1=15\n",
    "num2=7\n",
    "\n",
    "#Printing them\n",
    "print(\"Num1: {}\\nNum2: {}\".format(num1,num2))\n"
   ]
  },
  {
   "cell_type": "markdown",
   "id": "5d0dd146",
   "metadata": {},
   "source": [
    "### Exercise 2\n",
    "\n",
    "Create two string variables, `first_name` and `last_name`, with your first and last names. Concatenate them to form a full name and assign it to a new variable `full_name`. Print the `full_name` in uppercase.\n"
   ]
  },
  {
   "cell_type": "code",
   "execution_count": 6,
   "id": "264ecac2",
   "metadata": {},
   "outputs": [
    {
     "name": "stdin",
     "output_type": "stream",
     "text": [
      "Enter Your First Name:  JaCKRONY\n",
      "Enter Your Last Name:  KARANI\n"
     ]
    },
    {
     "name": "stdout",
     "output_type": "stream",
     "text": [
      "My Full Name is: Jackrony karani\n"
     ]
    }
   ],
   "source": [
    "# Your solution here...\n",
    "F_Name=input(\"Enter Your First Name: \")\n",
    "L_Name=input(\"Enter Your Last Name: \")\n",
    "\n",
    "F_Name=F_Name+\" \"+L_Name\n",
    "\n",
    "print(\"My Full Name is: {}\".format(F_Name.capitalize()))"
   ]
  },
  {
   "cell_type": "markdown",
   "id": "8e287a17",
   "metadata": {},
   "source": [
    "### Exercise 3\n",
    "\n",
    "You have a variable `num_of_books` storing the number of books you have read this month, but it's currently in the form of a string. Create a new variable `books_read` by casting `num_of_books` to an integer. Then calculate the average number of books read per week, assuming there are four weeks in a month. "
   ]
  },
  {
   "cell_type": "code",
   "execution_count": 7,
   "id": "0a3d3f1f",
   "metadata": {},
   "outputs": [
    {
     "name": "stdin",
     "output_type": "stream",
     "text": [
      "How Many Books Have You Read This Month:  34\n"
     ]
    },
    {
     "name": "stdout",
     "output_type": "stream",
     "text": [
      "Average # of Books Read are: 8.5\n"
     ]
    }
   ],
   "source": [
    "# Your solution here...\n",
    "\n",
    "num_of_books = input(\"How Many Books Have You Read This Month: \")\n",
    "\n",
    "num_of_books=int(num_of_books)\n",
    "\n",
    "Average_Books=num_of_books/4\n",
    "\n",
    "print(\"Average # of Books Read are: {}\".format(Average_Books))\n"
   ]
  },
  {
   "cell_type": "markdown",
   "id": "787029e7",
   "metadata": {},
   "source": [
    "### Exercise 4\n",
    "\n",
    "We have been given the following information about a person:\n",
    "\n",
    "- Name: John Doe\n",
    "- Age: 25\n",
    "- Height: 1.75 metres\n",
    "- Weight: 68.5 kilograms\n",
    "\n",
    "Create variables of appropriate data types to store this information. Then calculate the Body Mass Index (BMI) using the formula:\n",
    "\n",
    "$BMI = \\frac{{\\text{{Weight}}}}{{\\text{{Height}}^2}}$\n",
    "\n",
    "Print the result."
   ]
  },
  {
   "cell_type": "code",
   "execution_count": 14,
   "id": "4d5b5aa4",
   "metadata": {},
   "outputs": [
    {
     "name": "stdout",
     "output_type": "stream",
     "text": [
      "John Doe is aged 25 years and has a BMI of 22.37\n"
     ]
    }
   ],
   "source": [
    "# Your solution here...\n",
    "Name=\"John Doe\"\n",
    "Age=25\n",
    "Height=1.75\n",
    "Weight=68.5\n",
    "\n",
    "BMI=Weight/pow(Height,2)\n",
    "\n",
    "print(\"{} is aged {} years and has a BMI of {:.2f}\".format(Name,Age,BMI))"
   ]
  },
  {
   "attachments": {},
   "cell_type": "markdown",
   "id": "8096ea22",
   "metadata": {},
   "source": [
    "### Comprehensive exercise\n",
    "\n",
    "You are tasked with creating a program to manage inventory for a store. The program should have the following features:\n",
    "\n",
    "1. Create variables to store the following information:\n",
    "   - Product name (string)\n",
    "   - Initial quantity in stock (integer)\n",
    "   - Price per unit (float)\n",
    "   - Discount percentage (float)\n",
    "\n",
    "2. Perform the following operations:\n",
    "   - Calculate the total value of the initial stock (quantity * price per unit).\n",
    "   - Apply the discount to the total value and calculate the discounted value of stock.\n",
    "   - Update the quantity in stock based on new stock received (assume a shipment of 30 units).\n",
    "\n",
    "3. Display the results:\n",
    "   - Print a summary message that includes the product name, initial quantity, price per unit, discount percentage, total value, discounted value, and the updated quantity in stock."
   ]
  },
  {
   "cell_type": "code",
   "execution_count": 19,
   "id": "447a9fb6",
   "metadata": {},
   "outputs": [
    {
     "name": "stdout",
     "output_type": "stream",
     "text": [
      "\t\t*********Summary Report******\t\t\n",
      " Product Name: Widget XYZ\n",
      "Initial Quantity:  100\n",
      "Price Per Unit: Ksh 12.50\n",
      "Discount: 15.00%\n",
      "Total Value: ksh 1250.00\n",
      "Value after Discount: ksh 1062.50\n",
      "Updated Stock: 130\n"
     ]
    }
   ],
   "source": [
    "# Given the variables\n",
    "product_name = \"Widget XYZ\"\n",
    "initial_quantity = 100\n",
    "price_per_unit = 12.50\n",
    "discount_percentage = 0.15\n",
    "\n",
    "# Your solution here...\n",
    "# Value of Initial Stock\n",
    "Value_initial_Stock=initial_quantity*price_per_unit\n",
    "\n",
    "#Applying the Discount\n",
    "Value_initial_Stock_after_discount=Value_initial_Stock*(1-discount_percentage)\n",
    "\n",
    "# Adding the New Stock\n",
    "updated_quantity=initial_quantity+30\n",
    "\n",
    "print(\"\\t\\t*********Summary Report******\\t\\t\\n \\\n",
    "Product Name: {}\\nInitial Quantity:  {}\\nPrice Per Unit: Ksh {:.2f}\\n\\\n",
    "Discount: {:.2f}%\\nTotal Value: ksh {:.2f}\\nValue after Discount: ksh {:.2f}\\nUpdated Stock: {}\".format(product_name,initial_quantity,\\\n",
    "                                                            price_per_unit,discount_percentage*100,Value_initial_Stock,\\\n",
    "                                                                                                       Value_initial_Stock_after_discount,updated_quantity))"
   ]
  },
  {
   "cell_type": "markdown",
   "id": "eedb9925",
   "metadata": {},
   "source": [
    "## Solutions"
   ]
  },
  {
   "cell_type": "markdown",
   "id": "326a43a7",
   "metadata": {},
   "source": [
    "### Exercise 1\n"
   ]
  },
  {
   "cell_type": "code",
   "execution_count": null,
   "id": "711d9b25",
   "metadata": {},
   "outputs": [],
   "source": [
    "num1 = 15\n",
    "num2 = 7\n",
    "\n",
    "# Perform operations\n",
    "sum_result = num1 + num2\n",
    "difference_result = num1 - num2\n",
    "product_result = num1 * num2\n",
    "division_result = float(num1) / num2\n",
    "\n",
    "# Print the variables\n",
    "print(\"Sum: \", sum_result)\n",
    "print(\"Difference: \", difference_result)\n",
    "print(\"Product: \", product_result)\n",
    "print(\"Division: \", division_result)"
   ]
  },
  {
   "cell_type": "markdown",
   "id": "6d3b1099",
   "metadata": {},
   "source": [
    "### Exercise 2"
   ]
  },
  {
   "cell_type": "code",
   "execution_count": null,
   "id": "773a0b4e",
   "metadata": {},
   "outputs": [],
   "source": [
    "# Variable creation\n",
    "first_name = \"Jane\"\n",
    "last_name = \"Doe\"\n",
    "\n",
    "# String manipulation and concatenation\n",
    "full_name = first_name + \" \" + last_name\n",
    "\n",
    "# Display result in uppercase\n",
    "print(\"Full name in uppercase:\", full_name.upper())"
   ]
  },
  {
   "cell_type": "markdown",
   "id": "828be414",
   "metadata": {},
   "source": [
    "### Exercise 3"
   ]
  },
  {
   "cell_type": "code",
   "execution_count": null,
   "id": "89045ed2",
   "metadata": {},
   "outputs": [],
   "source": [
    "num_of_books = \"15\"\n",
    "\n",
    "# Casting to integer\n",
    "books_read = int(num_of_books)\n",
    "\n",
    "# Calculate average books read per week\n",
    "weeks_in_month = 4\n",
    "average_books_per_week = books_read / weeks_in_month\n",
    "\n",
    "# Print result\n",
    "print(\"You have read an average of \" + str(average_books_per_week) + \" books per week.\")"
   ]
  },
  {
   "cell_type": "markdown",
   "id": "712e3f54",
   "metadata": {},
   "source": [
    "### Exercise 4"
   ]
  },
  {
   "cell_type": "code",
   "execution_count": null,
   "id": "5ced2131",
   "metadata": {},
   "outputs": [],
   "source": [
    "# Given information\n",
    "name = \"John Doe\"\n",
    "age = 25\n",
    "height = 1.75  # in metres\n",
    "weight = 68.5  # in kilograms\n",
    "\n",
    "# Calculate BMI\n",
    "bmi = weight / (height ** 2)\n",
    "\n",
    "# Print result\n",
    "print(str(name) + \"\\'s BMI is: \"+ str(bmi))"
   ]
  },
  {
   "attachments": {},
   "cell_type": "markdown",
   "id": "822933fb",
   "metadata": {},
   "source": [
    "### Comprehensive exercise\n",
    "\n",
    "This comprehensive exercise integrates the creation of variables with different data types, mathematical operations, and string manipulation. It simulates a real-world scenario of managing inventory for a store and requires us to apply various concepts in a practical context."
   ]
  },
  {
   "cell_type": "code",
   "execution_count": 15,
   "id": "a588d565",
   "metadata": {},
   "outputs": [
    {
     "name": "stdout",
     "output_type": "stream",
     "text": [
      "Product name: Widget XYZ\n",
      "Initial quantity: 100\n",
      "Price per unit: $ 12.5\n",
      "Discount percentage: 15.0 %\n",
      "\n",
      "--- Results ---\n",
      "Total value of initial stock: $ 1250.0\n",
      "Discounted value: $ 1062.5\n",
      "Updated quantity in stock: 130\n"
     ]
    }
   ],
   "source": [
    "# Given the variables\n",
    "product_name = \"Widget XYZ\"\n",
    "initial_quantity = 100\n",
    "price_per_unit = 12.50\n",
    "discount_percentage = 0.15\n",
    "\n",
    "# Calculate total value of initial stock\n",
    "total_value = initial_quantity * price_per_unit\n",
    "\n",
    "# Apply discount and calculate discounted price\n",
    "discounted_value = total_value - (total_value * discount_percentage)\n",
    "\n",
    "# Update quantity based on new shipment\n",
    "new_shipment = 30\n",
    "updated_quantity = initial_quantity + new_shipment\n",
    "\n",
    "# Display results\n",
    "print(\"Product name:\", product_name)\n",
    "print(\"Initial quantity:\", initial_quantity)\n",
    "print(\"Price per unit: $\", price_per_unit)\n",
    "print(\"Discount percentage:\", discount_percentage * 100, \"%\")\n",
    "\n",
    "print(\"\\n--- Results ---\")\n",
    "print(\"Total value of initial stock: $\", total_value)\n",
    "print(\"Discounted value: $\", discounted_value)\n",
    "print(\"Updated quantity in stock:\", updated_quantity)"
   ]
  },
  {
   "cell_type": "markdown",
   "id": "26fd094b-0fee-46f1-a4b8-73766813c42b",
   "metadata": {
    "tags": []
   },
   "source": [
    "#  \n",
    "\n",
    "<div align=\"center\" style=\" font-size: 80%; text-align: center; margin: 0 auto\">\n",
    "<img src=\"https://raw.githubusercontent.com/Explore-AI/Pictures/master/ExploreAI_logos/EAI_Blue_Dark.png\"  style=\"width:200px\";/>\n",
    "</div>"
   ]
  }
 ],
 "metadata": {
  "kernelspec": {
   "display_name": "Python 3 (ipykernel)",
   "language": "python",
   "name": "python3"
  },
  "language_info": {
   "codemirror_mode": {
    "name": "ipython",
    "version": 3
   },
   "file_extension": ".py",
   "mimetype": "text/x-python",
   "name": "python",
   "nbconvert_exporter": "python",
   "pygments_lexer": "ipython3",
   "version": "3.10.13"
  }
 },
 "nbformat": 4,
 "nbformat_minor": 5
}
