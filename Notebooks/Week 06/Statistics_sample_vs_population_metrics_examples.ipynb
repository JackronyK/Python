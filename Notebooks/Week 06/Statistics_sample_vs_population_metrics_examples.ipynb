{
 "cells": [
  {
   "cell_type": "markdown",
   "id": "032b8026",
   "metadata": {},
   "source": [
    "<div align=\"center\" style=\" font-size: 80%; text-align: center; margin: 0 auto\">\n",
    "<img src=\"https://raw.githubusercontent.com/Explore-AI/Pictures/master/Python-Notebook-Banners/Examples.png\"  style=\"display: block; margin-left: auto; margin-right: auto;\";/>\n",
    "</div>"
   ]
  },
  {
   "cell_type": "markdown",
   "id": "249ac5ff",
   "metadata": {},
   "source": [
    "# Examples: Statistics – sample vs population metrics\n",
    "© ExploreAI Academy"
   ]
  },
  {
   "cell_type": "markdown",
   "id": "94a3d1ed",
   "metadata": {},
   "source": [
    "In this notebook, we'll explore the concepts of sample and population mean and variance, delve into the *central limit theorem*, and examine the principles of confidence intervals.\n",
    "\n"
   ]
  },
  {
   "cell_type": "markdown",
   "id": "36df5b14",
   "metadata": {},
   "source": [
    "## Learning objectives\n",
    "\n",
    "By the end of this notebook, you should be able to:\n",
    "- Differentiate between sample and population metrics.\n",
    "- Understand where the central limit theorem is utilised.\n",
    "- Describe the function and measurement of confidence intervals."
   ]
  },
  {
   "cell_type": "markdown",
   "id": "561f1745",
   "metadata": {},
   "source": [
    "## Examples"
   ]
  },
  {
   "cell_type": "markdown",
   "id": "20e21314",
   "metadata": {},
   "source": [
    "### Sample vs population metrics\n",
    "\n",
    "In statistics, a **population** is the entire set of items or individuals that one is  interested in studying. Metrics calculated on this entire set give us the 'population metrics'.\n",
    "\n",
    "A **sample**, on the other hand, *is a subset of the population*, selected for analysis. Metrics calculated on this subset are known as 'sample metrics'.\n",
    "\n",
    "Understanding the difference between these two is crucial for correct data analysis, as the methods for calculating statistics can differ between a sample and a population.\n"
   ]
  },
  {
   "cell_type": "code",
   "execution_count": 31,
   "id": "a8e6ee54",
   "metadata": {},
   "outputs": [
    {
     "name": "stdout",
     "output_type": "stream",
     "text": [
      "Population Mean: 196.5\n",
      "Sample Mean: 231.67\n"
     ]
    }
   ],
   "source": [
    "# Example: Calculate the population and sample means.\n",
    "import pandas as pd\n",
    "import numpy as np\n",
    "\n",
    "# np.random.seed(4)  # for reproducibility\n",
    "species_counts = np.random.randint(100, 300, size=100)  # random counts between 100 and 300 for 100 different areas\n",
    "areas = ['Area ' + str(i) for i in range(1, 101)]\n",
    "data = {'Area': areas, 'Species_Count': species_counts}\n",
    "df = pd.DataFrame(data)\n",
    "\n",
    "# Population mean\n",
    "population_mean = df['Species_Count'].mean()\n",
    "\n",
    "# Sample mean (taking the first three areas as a sample)\n",
    "sample = df.head(3)\n",
    "sample_mean = sample['Species_Count'].mean()\n",
    "\n",
    "print(\"Population Mean:\",  round(population_mean,2))\n",
    "print(\"Sample Mean:\", round(sample_mean,2))\n"
   ]
  },
  {
   "cell_type": "markdown",
   "id": "d96898ac",
   "metadata": {},
   "source": [
    "The sample may or may not be representative of the entire population, depending on how it was chosen."
   ]
  },
  {
   "cell_type": "code",
   "execution_count": 27,
   "id": "0a2da9cd",
   "metadata": {},
   "outputs": [
    {
     "data": {
      "text/html": [
       "<div>\n",
       "<style scoped>\n",
       "    .dataframe tbody tr th:only-of-type {\n",
       "        vertical-align: middle;\n",
       "    }\n",
       "\n",
       "    .dataframe tbody tr th {\n",
       "        vertical-align: top;\n",
       "    }\n",
       "\n",
       "    .dataframe thead th {\n",
       "        text-align: right;\n",
       "    }\n",
       "</style>\n",
       "<table border=\"1\" class=\"dataframe\">\n",
       "  <thead>\n",
       "    <tr style=\"text-align: right;\">\n",
       "      <th></th>\n",
       "      <th>Area</th>\n",
       "      <th>Species_Count</th>\n",
       "    </tr>\n",
       "  </thead>\n",
       "  <tbody>\n",
       "    <tr>\n",
       "      <th>0</th>\n",
       "      <td>Area 1</td>\n",
       "      <td>222</td>\n",
       "    </tr>\n",
       "    <tr>\n",
       "      <th>1</th>\n",
       "      <td>Area 2</td>\n",
       "      <td>274</td>\n",
       "    </tr>\n",
       "    <tr>\n",
       "      <th>2</th>\n",
       "      <td>Area 3</td>\n",
       "      <td>283</td>\n",
       "    </tr>\n",
       "    <tr>\n",
       "      <th>3</th>\n",
       "      <td>Area 4</td>\n",
       "      <td>297</td>\n",
       "    </tr>\n",
       "    <tr>\n",
       "      <th>4</th>\n",
       "      <td>Area 5</td>\n",
       "      <td>229</td>\n",
       "    </tr>\n",
       "  </tbody>\n",
       "</table>\n",
       "</div>"
      ],
      "text/plain": [
       "     Area  Species_Count\n",
       "0  Area 1            222\n",
       "1  Area 2            274\n",
       "2  Area 3            283\n",
       "3  Area 4            297\n",
       "4  Area 5            229"
      ]
     },
     "execution_count": 27,
     "metadata": {},
     "output_type": "execute_result"
    }
   ],
   "source": [
    "df.head()"
   ]
  },
  {
   "cell_type": "markdown",
   "id": "16558897",
   "metadata": {},
   "source": [
    "### Mean and variance\n",
    "\n",
    "**Mean** refers to the average value of the dataset while **variance** measures how spread out the numbers in the dataset are from the mean. \n",
    "\n",
    "In a **population**, we divide by `N` (the number of values in the dataset), and in a **sample**, we divide by `n-1` (to correct for bias in estimation).\n"
   ]
  },
  {
   "cell_type": "code",
   "execution_count": 32,
   "id": "501e363f",
   "metadata": {},
   "outputs": [
    {
     "name": "stdout",
     "output_type": "stream",
     "text": [
      "Population Mean: 196.5\n",
      "Sample Mean: 231.66666666666666\n",
      "Population Variance: 3565.21\n",
      "Sample Variance: 2244.3333333333335\n"
     ]
    }
   ],
   "source": [
    "# Example: Calculating mean and variance for both population and sample.\n",
    "# Population mean\n",
    "population_mean = df['Species_Count'].mean()\n",
    "\n",
    "# Sample mean\n",
    "sample_mean = sample['Species_Count'].mean()\n",
    "\n",
    "# Population variance\n",
    "population_variance = df['Species_Count'].var(ddof=0)  #Delta degrees of freedom\n",
    "\n",
    "# Sample variance\n",
    "sample_variance = sample['Species_Count'].var(ddof=1)\n",
    "\n",
    "print(\"Population Mean:\", population_mean)\n",
    "print(\"Sample Mean:\", sample_mean)\n",
    "print(\"Population Variance:\", population_variance)\n",
    "print(\"Sample Variance:\", sample_variance)\n"
   ]
  },
  {
   "cell_type": "markdown",
   "id": "e6ea43c1",
   "metadata": {},
   "source": [
    "The sample variance, adjusted by `ddof=1`, is slightly higher as it corrects for the fact that a sample gives us less information than the entire population."
   ]
  },
  {
   "cell_type": "markdown",
   "id": "766330a7",
   "metadata": {},
   "source": [
    "### Central limit theorem (CLT)\n",
    "\n",
    "The CLT is a fundamental principle in statistics that explains why many distributions tend to be close to the normal distribution, especially when dealing with averages. This holds true even if the underlying distribution of the data is not normally distributed.\n",
    "\n",
    "<div align=\"center\" style=\" font-size: 80%; text-align: center; margin: 0 auto\">\n",
    "    <img src=\"https://raw.githubusercontent.com/Explore-AI/Pictures/master/normal-distribution.png\"  style=\"width:30%\";/>\n",
    "    <br>\n",
    "    <br>\n",
    "    <em>Figure 1: Normal distribution.</em>\n",
    "</div>\n",
    "\n"
   ]
  },
  {
   "cell_type": "markdown",
   "id": "f33bb127",
   "metadata": {},
   "source": [
    "The CLT states that as the **size of the sample increases**, the distribution of the sample means will increasingly approximate a normal distribution (bell curve), regardless of the population's distribution. This approximation improves with larger sample sizes. Typically, a sample size of 30 or more is considered sufficient for the CLT to hold\n",
    "\n",
    "Key aspects of CLT include:\n",
    "\n",
    "* **Independence**: Each random variable should be independent of each other.\n",
    "* **Identically distributed**: Each random variable should come from the same probability distribution.\n",
    "* **Large sample size**: The theorem holds better as the sample size increases. While there's no fixed number that defines a \"large\" sample, a common rule of thumb is a sample size of 30 or more."
   ]
  },
  {
   "cell_type": "markdown",
   "id": "f4f7fda6",
   "metadata": {},
   "source": [
    "Statistically, the CLT theorem:\n",
    "\n",
    "* Allows for making **predictions** about population parameters using sample statistics, which is crucial in fields where collecting data for the entire population is impractical or impossible.\n",
    "* Is the **foundation for many hypothesis tests** and confidence interval calculations, making it a key concept in inferential statistics.\n",
    "* Justifies using the normal distribution as an **approximation** for the distribution of various statistics, simplifying analysis."
   ]
  },
  {
   "cell_type": "code",
   "execution_count": 40,
   "id": "729b2c86",
   "metadata": {},
   "outputs": [
    {
     "data": {
      "image/png": "[encoded data removed]",
      "text/plain": [
       "<Figure size 640x480 with 1 Axes>"
      ]
     },
     "metadata": {},
     "output_type": "display_data"
    }
   ],
   "source": [
    "import matplotlib.pyplot as plt\n",
    "\n",
    "# Taking multiple samples and calculating their means\n",
    "# That is, take a random sample of 15 values. Repeat this process 100 times.\n",
    "sample_means = [np.mean(df['Species_Count'].sample(15)) for i in range(10000)]\n",
    "\n",
    "# Plotting the distribution of sample means\n",
    "plt.hist(sample_means, bins=10, edgecolor='black')\n",
    "plt.xlabel('Sample Mean')\n",
    "plt.ylabel('Frequency')\n",
    "plt.title('Distribution of Sample Means')\n",
    "plt.show()"
   ]
  },
  {
   "cell_type": "code",
   "execution_count": 33,
   "id": "f284cea2",
   "metadata": {},
   "outputs": [
    {
     "data": {
      "text/plain": [
       "27    138\n",
       "17    188\n",
       "71    142\n",
       "75    207\n",
       "31    169\n",
       "25    116\n",
       "3     190\n",
       "11    149\n",
       "15    212\n",
       "18    123\n",
       "44    110\n",
       "8     175\n",
       "59    179\n",
       "42    197\n",
       "2     286\n",
       "Name: Species_Count, dtype: int32"
      ]
     },
     "execution_count": 33,
     "metadata": {},
     "output_type": "execute_result"
    }
   ],
   "source": [
    "df['Species_Count'].sample(15)"
   ]
  },
  {
   "cell_type": "markdown",
   "id": "a78e68fa",
   "metadata": {},
   "source": [
    "The **histogram** plotted from the sample means provides a **visual representation of how these means are distributed**. Even though our original data might not be normally distributed, the distribution of these sample means tends to be normal.\n",
    "\n",
    "The bell shape of the histogram, even with a relatively small number of samples, begins to resemble a normal distribution. This pattern becomes more pronounced with larger sample sizes."
   ]
  },
  {
   "cell_type": "markdown",
   "id": "85bd6546",
   "metadata": {},
   "source": [
    "### Confidence intervals\n",
    "\n",
    "A confidence interval (CI) is a statistical tool that **estimates the range of values** within which a population parameter, such as the mean or proportion, is likely to lie. The CI has two bounds: a lower and an upper limit, and it is constructed around a sample statistic. \n",
    "\n",
    "The confidence level (commonly set at 95%) indicates the degree of certainty in the interval estimate. In essence, a 95% confidence interval means that if we were to take 100 different samples and compute a CI for each sample, we would expect about 95 of those intervals to contain the true population parameter.\n",
    "\n",
    "<div align=\"center\" style=\" font-size: 80%; text-align: center; margin: 0 auto\">\n",
    "    <img src=\"https://raw.githubusercontent.com/Explore-AI/Pictures/master/Confidence_interval.png\"  style=\"width:50%\";/>\n",
    "    <br>\n",
    "    <br>\n",
    "    <em>Figure 2: Confidence interval.</em>\n",
    "</div>"
   ]
  },
  {
   "cell_type": "markdown",
   "id": "4480697d",
   "metadata": {},
   "source": [
    "Confidence intervals are foundational in inferential statistics, providing a measure of precision for our estimates. Unlike a point estimate, which gives a single value for a parameter, a confidence interval offers a range of plausible values, thereby incorporating the uncertainty inherent in sampling.\n",
    "\n",
    "Confidence intervals are important because they:\n",
    "* Help in **assessing** whether a **statistical hypothesis test is significant**. For instance, if a 95% CI for a mean difference between two groups does not include zero, it suggests a statistically significant difference at the 0.05 level.\n",
    "* Provide valuable information for **decision-making** in business, healthcare, and policy-making by quantifying the uncertainty in estimates.\n",
    "* Can be used to **compare** the effect, sizes, or differences between groups in a visual and intuitive way."
   ]
  },
  {
   "cell_type": "markdown",
   "id": "732fe688",
   "metadata": {},
   "source": [
    "Let's calculate a 95% confidence interval for the sample mean from our dataset."
   ]
  },
  {
   "cell_type": "code",
   "execution_count": 41,
   "id": "19c5002b",
   "metadata": {},
   "outputs": [
    {
     "name": "stdout",
     "output_type": "stream",
     "text": [
      "95% Confidence Interval: (113.98214463981549, 349.3511886935178)\n"
     ]
    }
   ],
   "source": [
    "import scipy.stats as stats\n",
    "\n",
    "# Sample data: Number of a particular species in first three areas\n",
    "sample_data = sample['Species_Count']  # Sample values\n",
    "\n",
    "# Calculate mean and standard error of the mean (SEM)\n",
    "mean = np.mean(sample_data)\n",
    "standard_error = stats.sem(sample_data)\n",
    "\n",
    "# Degrees of freedom\n",
    "degrees_freedom = len(sample_data) - 1\n",
    "\n",
    "# Calculate 95% confidence interval for sample mean\n",
    "confidence_level = 0.95\n",
    "confidence_interval = stats.t.interval(confidence_level, degrees_freedom, mean, standard_error)\n",
    "\n",
    "print(f\"95% Confidence Interval: {confidence_interval}\")\n"
   ]
  },
  {
   "attachments": {
    "image.png": {
     "image/png": "[encoded data removed]"
    }
   },
   "cell_type": "markdown",
   "id": "8c2485f0",
   "metadata": {},
   "source": [
    "### Students t -distribution\n",
    "![image.png](attachment:image.png)"
   ]
  },
  {
   "cell_type": "markdown",
   "id": "8f1ecba3",
   "metadata": {},
   "source": [
    "In the code snippet above:\n",
    "\n",
    "* We use the `stats.t.interval` function from the `scipy.stats` module to calculate the confidence interval.\n",
    "* The `confidence_level` is set to `0.95`, indicating a 95% CI.\n",
    "* `degrees_freedom` is calculated as the sample size minus one.\n",
    "* `mean` and `standard_error` are computed from the sample data.\n",
    "* The result, `confidence_interval`, gives us the lower and upper bounds of the interval.\n",
    "\n",
    "\n",
    "The calculated confidence interval provides a range of values. We are **95% confident** that the true population mean of the species count falls within this interval. This range reflects the uncertainty of estimating the population mean from a sample. The wider the interval, the more uncertainty there is in the estimate.\n",
    "\n",
    " Confidence intervals are more informative than just point estimates because they give a range of plausible values for the parameter, highlighting the precision of the estimate and the variability of the data."
   ]
  },
  {
   "cell_type": "markdown",
   "id": "1795348e",
   "metadata": {},
   "source": [
    "## Summary\n",
    "\n",
    "In this notebook, we delved into vital statistical concepts such as understanding the distinction between population and sample metrics, calculating mean and variance, exploring the central limit theorem (CLT), and comprehending confidence intervals (CI). These fundamental principles are crucial for effective data analysis and statistical inference."
   ]
  },
  {
   "cell_type": "markdown",
   "id": "99ea6484",
   "metadata": {},
   "source": [
    "#  \n",
    "\n",
    "<div align=\"center\" style=\" font-size: 80%; text-align: center; margin: 0 auto\">\n",
    "<img src=\"https://raw.githubusercontent.com/Explore-AI/Pictures/master/ExploreAI_logos/EAI_Blue_Dark.png\"  style=\"width:200px\";/>\n",
    "</div>"
   ]
  }
 ],
 "metadata": {
  "kernelspec": {
   "display_name": "Python 3 (ipykernel)",
   "language": "python",
   "name": "python3"
  },
  "language_info": {
   "codemirror_mode": {
    "name": "ipython",
    "version": 3
   },
   "file_extension": ".py",
   "mimetype": "text/x-python",
   "name": "python",
   "nbconvert_exporter": "python",
   "pygments_lexer": "ipython3",
   "version": "3.10.13"
  }
 },
 "nbformat": 4,
 "nbformat_minor": 5
}
