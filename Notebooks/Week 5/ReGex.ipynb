{
 "cells": [
  {
   "cell_type": "code",
   "execution_count": 4,
   "metadata": {},
   "outputs": [
    {
     "name": "stdout",
     "output_type": "stream",
     "text": [
      "['quick', 'brown', 'jumps', 'over', 'lazy', 'dogs']\n"
     ]
    }
   ],
   "source": [
    "import re\n",
    "text = \"The quick brown fox jumps over 12 lazy dogs.\"\n",
    "\n",
    "# Finding any word of at leasr 4 characeters\n",
    "\n",
    "print(re.findall(r'\\b\\w{4,}\\b',text))"
   ]
  },
  {
   "cell_type": "markdown",
   "metadata": {},
   "source": [
    "This Python code snippet demonstrates the usage of regular expressions (regex) to find words in a given text that are at least 4 characters long. Let's break down the code:\n",
    "\n",
    "```python\n",
    "import re\n",
    "```\n",
    "This line imports the `re` module, which provides support for working with regular expressions in Python.\n",
    "\n",
    "```python\n",
    "text = \"The quick brown fox jumps over 12 lazy dogs.\"\n",
    "```\n",
    "This line initializes a string variable `text` containing the sample text.\n",
    "\n",
    "```python\n",
    "print(re.findall(r'\\b\\w{4,}\\b', text))\n",
    "```\n",
    "Here's the explanation of the `re.findall()` function call:\n",
    "\n",
    "- `re.findall()` is a function from the `re` module that returns a list of all non-overlapping matches of a pattern in a string.\n",
    "- The pattern `r'\\b\\w{4,}\\b'` is a regular expression pattern. Let's break it down:\n",
    "  - `\\b` matches a word boundary, ensuring that we're matching whole words.\n",
    "  - `\\w{4,}` matches four or more word characters. `\\w` represents any word character (letters, digits, or underscores), and `{4,}` indicates that it should match at least 4 occurrences of the preceding character.\n",
    "  - `\\b` again matches a word boundary, ensuring that we're matching whole words.\n",
    "\n",
    "Therefore, the regular expression pattern `\\b\\w{4,}\\b` matches any word in the text that has at least four characters.\n",
    "\n",
    "When `re.findall()` is called with this pattern and the input text, it returns a list containing all the words from the input text that have at least four characters. The `print()` function then displays this list.\n",
    "\n",
    "So, the output of this code will be a list of words from the input text that have at least four characters, which in this case would be:\n",
    "\n",
    "```\n",
    "['quick', 'brown', 'jumps', 'over', 'lazy', 'dogs']\n",
    "```"
   ]
  },
  {
   "cell_type": "markdown",
   "metadata": {},
   "source": [
    "The `r` before the string defining the regular expression (`r'\\b\\w{4,}\\b'`) denotes a raw string literal in Python. \n",
    "\n",
    "In Python, a raw string literal is written as a string literal prefixed with `r` or `R`, such as `r'string'`. The main purpose of using a raw string literal for regular expressions is to prevent Python from interpreting backslashes in the string as escape sequences. \n",
    "\n",
    "For example, in a regular string literal (`'string'`), a backslash (`\\`) is an escape character, which means that if you want to include a literal backslash in the string, you need to escape it with another backslash (`\\\\`). \n",
    "\n",
    "However, in a raw string literal (`r'string'`), backslashes are treated as literal characters, so you don't need to escape them. This can make regular expressions easier to read and write, as you often need to use backslashes for special characters (like `\\b` for word boundary) in regular expressions, and using raw string literals avoids the need for additional escaping. \n",
    "\n",
    "In summary, the `r` prefix before the regular expression string `'\\b\\w{4,}\\b'` indicates that it's a raw string literal, and Python should interpret backslashes in the string as literal characters rather than escape characters."
   ]
  },
  {
   "cell_type": "code",
   "execution_count": 5,
   "metadata": {},
   "outputs": [
    {
     "name": "stdout",
     "output_type": "stream",
     "text": [
      "['og']\n"
     ]
    }
   ],
   "source": [
    "# Find 'O' followed by one or more g \n",
    "print(re.findall(r'og+',text))"
   ]
  },
  {
   "cell_type": "code",
   "execution_count": 12,
   "metadata": {},
   "outputs": [
    {
     "data": {
      "text/plain": [
       "<re.Match object; span=(31, 33), match='12'>"
      ]
     },
     "execution_count": 12,
     "metadata": {},
     "output_type": "execute_result"
    }
   ],
   "source": [
    "import re\n",
    "#the string \n",
    "text2 = \"abc123\"\n",
    "\n",
    "pattern = r\"(\\d+)\"\n",
    "\n",
    "match = re.search(pattern, text)\n",
    "\n",
    "match.group(1)\n",
    "\n",
    "match"
   ]
  },
  {
   "cell_type": "code",
   "execution_count": 2,
   "metadata": {},
   "outputs": [
    {
     "name": "stdout",
     "output_type": "stream",
     "text": [
      "['quick', 'brown', 'jumps', 'over', 'lazy', 'dogs']\n"
     ]
    }
   ],
   "source": [
    "import re\n",
    "text = \"The quick brown fox jumps over 12 lazy dogs.\"\n",
    "\n",
    "# Finding any word of at leasr 4 characeters\n",
    "\n",
    "print(re.findall(r'\\b\\w{4,}\\b',text))"
   ]
  },
  {
   "cell_type": "code",
   "execution_count": 4,
   "metadata": {},
   "outputs": [
    {
     "name": "stdout",
     "output_type": "stream",
     "text": [
      "['og']\n"
     ]
    }
   ],
   "source": [
    "print(re.findall(r'og+',text))"
   ]
  },
  {
   "cell_type": "code",
   "execution_count": 10,
   "metadata": {},
   "outputs": [
    {
     "name": "stdout",
     "output_type": "stream",
     "text": [
      "Captured Group: 123889\n"
     ]
    }
   ],
   "source": [
    "import re\n",
    "# The string to be searched\n",
    "text = \"abc123889\"\n",
    "# Regex pattern with a capturing group for one or more digits\n",
    "pattern = r\"(\\d+)\"\n",
    "# Searching the text for the pattern\n",
    "match = re.search(pattern, text)\n",
    "# Checking if a match is found\n",
    "if match:\n",
    "# Retrieving the first captured group\n",
    "    captured_group = match.group(0)\n",
    "    print(\"Captured Group:\", captured_group)\n",
    "else:\n",
    "    print(\"No match found.\")"
   ]
  },
  {
   "cell_type": "code",
   "execution_count": 13,
   "metadata": {},
   "outputs": [
    {
     "data": {
      "text/plain": [
       "'123889'"
      ]
     },
     "execution_count": 13,
     "metadata": {},
     "output_type": "execute_result"
    }
   ],
   "source": [
    "match.group(1)"
   ]
  },
  {
   "cell_type": "code",
   "execution_count": 20,
   "metadata": {},
   "outputs": [
    {
     "name": "stdout",
     "output_type": "stream",
     "text": [
      "<re.Match object; span=(0, 2), match='Py'>\n"
     ]
    }
   ],
   "source": [
    "import re\n",
    "\n",
    "text = \"Python is an amazing language\"\n",
    "pattern = \"Py\"\n",
    "\n",
    "print(re.search(pattern, text))"
   ]
  }
 ],
 "metadata": {
  "kernelspec": {
   "display_name": "Python_Dev",
   "language": "python",
   "name": "python3"
  },
  "language_info": {
   "codemirror_mode": {
    "name": "ipython",
    "version": 3
   },
   "file_extension": ".py",
   "mimetype": "text/x-python",
   "name": "python",
   "nbconvert_exporter": "python",
   "pygments_lexer": "ipython3",
   "version": "3.10.13"
  }
 },
 "nbformat": 4,
 "nbformat_minor": 2
}
