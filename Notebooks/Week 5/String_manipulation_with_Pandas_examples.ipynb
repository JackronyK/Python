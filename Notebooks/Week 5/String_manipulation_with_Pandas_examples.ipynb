{
 "cells": [
  {
   "cell_type": "markdown",
   "metadata": {},
   "source": [
    "<div align=\"center\" style=\" font-size: 80%; text-align: center; margin: 0 auto\">\n",
    "<img src=\"https://raw.githubusercontent.com/Explore-AI/Pictures/master/Python-Notebook-Banners/Examples.png\"  style=\"display: block; margin-left: auto; margin-right: auto;\";/>\n",
    "</div>"
   ]
  },
  {
   "cell_type": "markdown",
   "id": "f662d169",
   "metadata": {},
   "source": [
    "# Examples: String manipulation with Pandas\n",
    "© ExploreAI Academy"
   ]
  },
  {
   "cell_type": "markdown",
   "id": "26af890c",
   "metadata": {},
   "source": [
    "In this notebook, we return to the Pandas library, this time looking specifically at functionality aimed at string manipulation."
   ]
  },
  {
   "cell_type": "markdown",
   "id": "2d230d14",
   "metadata": {
    "tags": []
   },
   "source": [
    "## Learning objectives\n",
    "\n",
    "By the end of this notebook, you should be able to:\n",
    "- Understand how to apply Pandas to manipulate strings in Python."
   ]
  },
  {
   "cell_type": "markdown",
   "id": "661bad04",
   "metadata": {},
   "source": [
    "## Examples\n",
    "\n",
    "Let's explore how Pandas, a powerful Python library, can be used for manipulating strings within DataFrames and series. This builds upon our knowledge of Python regex, introducing how these concepts can be applied using Pandas."
   ]
  },
  {
   "cell_type": "markdown",
   "id": "42dba616",
   "metadata": {},
   "source": [
    "### Example 1\n",
    "\n",
    "**Scenario**: Suppose we have been given a dataset of different plant species recorded in a national park. The species names are inconsistently formatted with leading/trailing spaces and varying case letters. \n",
    "\n",
    "**Question**: Clean the 'species' column by removing leading/trailing spaces and converting all names to lowercase.\n",
    "\n",
    "**Solution**:\n"
   ]
  },
  {
   "cell_type": "code",
   "execution_count": 20,
   "id": "d8572045",
   "metadata": {},
   "outputs": [
    {
     "data": {
      "text/plain": [
       "'lowercase '"
      ]
     },
     "execution_count": 20,
     "metadata": {},
     "output_type": "execute_result"
    }
   ],
   "source": [
    "i = \" LowerCase \"\n",
    "import re \n",
    "x = (re.findall(r'[A-Za-z]+',i))\n",
    "\n",
    "y=x[0]\n",
    "i.lstrip().lower()"
   ]
  },
  {
   "cell_type": "code",
   "execution_count": 35,
   "id": "0314b514",
   "metadata": {},
   "outputs": [
    {
     "data": {
      "text/html": [
       "<div>\n",
       "<style scoped>\n",
       "    .dataframe tbody tr th:only-of-type {\n",
       "        vertical-align: middle;\n",
       "    }\n",
       "\n",
       "    .dataframe tbody tr th {\n",
       "        vertical-align: top;\n",
       "    }\n",
       "\n",
       "    .dataframe thead th {\n",
       "        text-align: right;\n",
       "    }\n",
       "</style>\n",
       "<table border=\"1\" class=\"dataframe\">\n",
       "  <thead>\n",
       "    <tr style=\"text-align: right;\">\n",
       "      <th></th>\n",
       "      <th>species</th>\n",
       "    </tr>\n",
       "  </thead>\n",
       "  <tbody>\n",
       "    <tr>\n",
       "      <th>0</th>\n",
       "      <td>None</td>\n",
       "    </tr>\n",
       "    <tr>\n",
       "      <th>1</th>\n",
       "      <td>None</td>\n",
       "    </tr>\n",
       "    <tr>\n",
       "      <th>2</th>\n",
       "      <td>None</td>\n",
       "    </tr>\n",
       "    <tr>\n",
       "      <th>3</th>\n",
       "      <td>None</td>\n",
       "    </tr>\n",
       "    <tr>\n",
       "      <th>4</th>\n",
       "      <td>None</td>\n",
       "    </tr>\n",
       "  </tbody>\n",
       "</table>\n",
       "</div>"
      ],
      "text/plain": [
       "  species\n",
       "0    None\n",
       "1    None\n",
       "2    None\n",
       "3    None\n",
       "4    None"
      ]
     },
     "execution_count": 35,
     "metadata": {},
     "output_type": "execute_result"
    }
   ],
   "source": [
    "def col_cleaner(Animals):\n",
    "    import re\n",
    "    import pandas as pd\n",
    "    \n",
    "    # Apply lowercase to all entries and extract the first alphabetic character\n",
    "    Animals['species'] = [re.findall(r'\\b[A-Za-z]\\b', i.lower())[0].lower() if re.findall(r'\\b[A-Za-z]\\b', i.lower()) else None for i in Animals['species']]\n",
    "    \n",
    "    return Animals\n",
    "\n",
    "import pandas as pd\n",
    "data = {'species': [' Maple (10 years) ', 'oak', 'Pine(3 years)', 'maple ', ' Oak (1.5 Years)']}\n",
    "df = pd.DataFrame(data)\n",
    "\n",
    "col_cleaner(df)\n"
   ]
  },
  {
   "cell_type": "code",
   "execution_count": 32,
   "metadata": {},
   "outputs": [
    {
     "name": "stdout",
     "output_type": "stream",
     "text": [
      " Maple (10 years) \n",
      "oak\n",
      "Pine(3 years)\n",
      "maple \n",
      " Oak (1.5 Years)\n"
     ]
    }
   ],
   "source": [
    "for i in list(df['species']):\n",
    "    print(i)"
   ]
  },
  {
   "cell_type": "code",
   "execution_count": 36,
   "id": "d2836ab4",
   "metadata": {},
   "outputs": [],
   "source": [
    "import pandas as pd\n",
    "\n",
    "# Sample data\n",
    "data = {'species': [' Maple (10 years) ', 'oak', 'Pine(3 years)', 'maple ', ' Oak (1.5 Years)']}\n",
    "df = pd.DataFrame(data)\n",
    "\n",
    "# Cleaning the 'species' column\n",
    "df['species'] = df['species']"
   ]
  },
  {
   "cell_type": "code",
   "execution_count": 49,
   "id": "08effad9",
   "metadata": {},
   "outputs": [
    {
     "name": "stdout",
     "output_type": "stream",
     "text": [
      "maple\n",
      "oak\n",
      "pine\n",
      "maple\n",
      "oak\n"
     ]
    },
    {
     "data": {
      "text/html": [
       "<div>\n",
       "<style scoped>\n",
       "    .dataframe tbody tr th:only-of-type {\n",
       "        vertical-align: middle;\n",
       "    }\n",
       "\n",
       "    .dataframe tbody tr th {\n",
       "        vertical-align: top;\n",
       "    }\n",
       "\n",
       "    .dataframe thead th {\n",
       "        text-align: right;\n",
       "    }\n",
       "</style>\n",
       "<table border=\"1\" class=\"dataframe\">\n",
       "  <thead>\n",
       "    <tr style=\"text-align: right;\">\n",
       "      <th></th>\n",
       "      <th>species</th>\n",
       "    </tr>\n",
       "  </thead>\n",
       "  <tbody>\n",
       "    <tr>\n",
       "      <th>0</th>\n",
       "      <td>maple</td>\n",
       "    </tr>\n",
       "    <tr>\n",
       "      <th>1</th>\n",
       "      <td>oak</td>\n",
       "    </tr>\n",
       "    <tr>\n",
       "      <th>2</th>\n",
       "      <td>pine</td>\n",
       "    </tr>\n",
       "    <tr>\n",
       "      <th>3</th>\n",
       "      <td>maple</td>\n",
       "    </tr>\n",
       "    <tr>\n",
       "      <th>4</th>\n",
       "      <td>oak</td>\n",
       "    </tr>\n",
       "  </tbody>\n",
       "</table>\n",
       "</div>"
      ],
      "text/plain": [
       "  species\n",
       "0   maple\n",
       "1     oak\n",
       "2    pine\n",
       "3   maple\n",
       "4     oak"
      ]
     },
     "execution_count": 49,
     "metadata": {},
     "output_type": "execute_result"
    }
   ],
   "source": [
    "## Creating regex to extract the word\n",
    "for word in df['species']:\n",
    "    import re\n",
    "    pattern = re.compile(r'\\w+')\n",
    "    print(pattern.findall(word)[0].lower())\n",
    "\n",
    "# forming a list from the result\n",
    "df['species'] = [pattern.findall(word)[0].lower() for word in df['species']]\n",
    "\n",
    "df\n"
   ]
  },
  {
   "cell_type": "code",
   "execution_count": null,
   "id": "2aa68429",
   "metadata": {},
   "outputs": [],
   "source": []
  },
  {
   "cell_type": "code",
   "execution_count": null,
   "id": "854fc872",
   "metadata": {},
   "outputs": [],
   "source": [
    "def col_cleaner(df):\n",
    "    import re\n",
    "    pattern = re.compile(r'\\w+')\n",
    "    df['species'] = [pattern.findall(word)[0].lower() for word in df['species']]\n",
    "    \n",
    "    return df\n",
    "\n",
    "\n",
    "import pandas as pd\n",
    "\n",
    "# Sample data\n",
    "data = {'species': [' Maple (10 years) ', 'oak', 'Pine(3 years)', 'maple ', ' Oak (1.5 Years)']}\n",
    "df = pd.DataFrame(data)    \n",
    "\n",
    "col_cleaner(df)\n",
    "    "
   ]
  },
  {
   "cell_type": "code",
   "execution_count": 58,
   "id": "b7f8e3b4",
   "metadata": {},
   "outputs": [
    {
     "name": "stdout",
     "output_type": "stream",
     "text": [
      "none\n",
      "none\n",
      "none\n",
      "none\n",
      "none\n"
     ]
    }
   ],
   "source": [
    "pattern = re.compile(r'\\d+')\n",
    "for dig in df['species']:\n",
    "    if pattern.findall(dig):\n",
    "        print(float(pattern.findall(dig)[0]))\n",
    "    else:\n",
    "        print('none')"
   ]
  },
  {
   "cell_type": "code",
   "execution_count": 59,
   "id": "d2b2b211",
   "metadata": {},
   "outputs": [
    {
     "name": "stdout",
     "output_type": "stream",
     "text": [
      "none\n",
      "none\n",
      "none\n",
      "none\n",
      "none\n"
     ]
    }
   ],
   "source": [
    "import re\n",
    "\n",
    "pattern = re.compile(r'\\d+')\n",
    "\n",
    "for dig in df['species']:\n",
    "    matches = pattern.findall(dig)\n",
    "    if matches:\n",
    "        print(float(matches[0]))\n",
    "    else:\n",
    "        print('none')\n"
   ]
  },
  {
   "cell_type": "code",
   "execution_count": 63,
   "id": "62341cd8",
   "metadata": {},
   "outputs": [
    {
     "name": "stdout",
     "output_type": "stream",
     "text": [
      "            species\n",
      "0  maple (10 years)\n",
      "1               oak\n",
      "2     pine(3 years)\n",
      "3             maple\n",
      "4   oak (1.5 years)\n"
     ]
    },
    {
     "data": {
      "text/html": [
       "<div>\n",
       "<style scoped>\n",
       "    .dataframe tbody tr th:only-of-type {\n",
       "        vertical-align: middle;\n",
       "    }\n",
       "\n",
       "    .dataframe tbody tr th {\n",
       "        vertical-align: top;\n",
       "    }\n",
       "\n",
       "    .dataframe thead th {\n",
       "        text-align: right;\n",
       "    }\n",
       "</style>\n",
       "<table border=\"1\" class=\"dataframe\">\n",
       "  <thead>\n",
       "    <tr style=\"text-align: right;\">\n",
       "      <th></th>\n",
       "      <th>species</th>\n",
       "    </tr>\n",
       "  </thead>\n",
       "  <tbody>\n",
       "    <tr>\n",
       "      <th>0</th>\n",
       "      <td>maple (10 years)</td>\n",
       "    </tr>\n",
       "    <tr>\n",
       "      <th>1</th>\n",
       "      <td>oak</td>\n",
       "    </tr>\n",
       "    <tr>\n",
       "      <th>2</th>\n",
       "      <td>pine(3 years)</td>\n",
       "    </tr>\n",
       "    <tr>\n",
       "      <th>3</th>\n",
       "      <td>maple</td>\n",
       "    </tr>\n",
       "    <tr>\n",
       "      <th>4</th>\n",
       "      <td>oak (1.5 years)</td>\n",
       "    </tr>\n",
       "  </tbody>\n",
       "</table>\n",
       "</div>"
      ],
      "text/plain": [
       "            species\n",
       "0  maple (10 years)\n",
       "1               oak\n",
       "2     pine(3 years)\n",
       "3             maple\n",
       "4   oak (1.5 years)"
      ]
     },
     "execution_count": 63,
     "metadata": {},
     "output_type": "execute_result"
    }
   ],
   "source": [
    "import pandas as pd\n",
    "\n",
    "# Sample data\n",
    "data = {'species': [' Maple (10 years) ', 'oak', 'Pine(3 years)', 'maple ', ' Oak (1.5 Years)']}\n",
    "df = pd.DataFrame(data)\n",
    "\n",
    "# Cleaning the 'species' column\n",
    "df['species'] = df['species'].str.strip().str.lower()\n",
    "print(df)\n",
    "df.head()"
   ]
  },
  {
   "cell_type": "markdown",
   "id": "073f0609",
   "metadata": {},
   "source": [
    "**Explanation**: We first isolate the column that needs to be formatted, `species`. The `strip()` function is used to remove any leading and trailing spaces from the string. `lower()` converts all the characters in the string to lowercase. These methods are chained to perform both operations in a single line. The output is returned as the same column in the DataFrame."
   ]
  },
  {
   "cell_type": "markdown",
   "id": "7d892fee",
   "metadata": {},
   "source": [
    "### Example 2\n",
    "\n",
    "**Scenario**: In our dataset, some species have their age mentioned in years within the name in parentheses (e.g. \"Maple (10 years)\"). \n",
    "\n",
    "**Question**: Use a regex to extract the age in years from the species name and create a new column 'age'. Fill with 'Unknown' if there is no age present.\n"
   ]
  },
  {
   "cell_type": "code",
   "execution_count": 76,
   "id": "6477dc99",
   "metadata": {},
   "outputs": [
    {
     "name": "stdout",
     "output_type": "stream",
     "text": [
      "            species      age\n",
      "0  maple (10 years)       10\n",
      "1               oak  Unknown\n",
      "2     pine(3 years)        3\n",
      "3             maple  Unknown\n",
      "4   oak (1.5 years)      1.5\n"
     ]
    }
   ],
   "source": [
    "\n",
    "# Extracting age using regular expression\n",
    "df['age'] = df['species'].str.extract('(\\d+\\.\\d+|\\d+)').fillna(\"Unknown\")\n",
    "print(df)\n"
   ]
  },
  {
   "cell_type": "code",
   "execution_count": 75,
   "id": "6bb1d134",
   "metadata": {},
   "outputs": [
    {
     "ename": "AttributeError",
     "evalue": "module 'pandas' has no attribute 'fillna'",
     "output_type": "error",
     "traceback": [
      "\u001b[1;31m---------------------------------------------------------------------------\u001b[0m",
      "\u001b[1;31mAttributeError\u001b[0m                            Traceback (most recent call last)",
      "Cell \u001b[1;32mIn[75], line 4\u001b[0m\n\u001b[0;32m      2\u001b[0m y\n\u001b[0;32m      3\u001b[0m s \u001b[38;5;241m=\u001b[39m \u001b[38;5;124m'\u001b[39m\u001b[38;5;124m'\u001b[39m\n\u001b[1;32m----> 4\u001b[0m \u001b[43mpd\u001b[49m\u001b[38;5;241;43m.\u001b[39;49m\u001b[43mfillna\u001b[49m(s,\u001b[38;5;124m\"\u001b[39m\u001b[38;5;124msss\u001b[39m\u001b[38;5;124m\"\u001b[39m)\n",
      "\u001b[1;31mAttributeError\u001b[0m: module 'pandas' has no attribute 'fillna'"
     ]
    }
   ],
   "source": [
    "x = 'jack'\n",
    "y\n",
    "s = ''\n",
    "pd.fillna(s,\"sss\")"
   ]
  },
  {
   "cell_type": "code",
   "execution_count": 71,
   "id": "dac5492c",
   "metadata": {},
   "outputs": [
    {
     "ename": "AttributeError",
     "evalue": "'list' object has no attribute 'str'",
     "output_type": "error",
     "traceback": [
      "\u001b[1;31m---------------------------------------------------------------------------\u001b[0m",
      "\u001b[1;31mAttributeError\u001b[0m                            Traceback (most recent call last)",
      "Cell \u001b[1;32mIn[71], line 3\u001b[0m\n\u001b[0;32m      1\u001b[0m pattern \u001b[38;5;241m=\u001b[39m re\u001b[38;5;241m.\u001b[39mcompile(\u001b[38;5;124mr\u001b[39m\u001b[38;5;124m'\u001b[39m\u001b[38;5;124m\\\u001b[39m\u001b[38;5;124md+.\u001b[39m\u001b[38;5;124m\\\u001b[39m\u001b[38;5;124md+|\u001b[39m\u001b[38;5;124m\\\u001b[39m\u001b[38;5;124md+\u001b[39m\u001b[38;5;124m'\u001b[39m)\n\u001b[0;32m      2\u001b[0m \u001b[38;5;28;01mfor\u001b[39;00m dig \u001b[38;5;129;01min\u001b[39;00m df[\u001b[38;5;124m'\u001b[39m\u001b[38;5;124mspecies\u001b[39m\u001b[38;5;124m'\u001b[39m]:\n\u001b[1;32m----> 3\u001b[0m     \u001b[38;5;28mprint\u001b[39m(\u001b[43mpattern\u001b[49m\u001b[38;5;241;43m.\u001b[39;49m\u001b[43mfindall\u001b[49m\u001b[43m(\u001b[49m\u001b[43mdig\u001b[49m\u001b[43m)\u001b[49m\u001b[38;5;241;43m.\u001b[39;49m\u001b[43mstr\u001b[49m\u001b[38;5;241m.\u001b[39mfillna(\u001b[38;5;124m'\u001b[39m\u001b[38;5;124mUnknown\u001b[39m\u001b[38;5;124m'\u001b[39m))\n",
      "\u001b[1;31mAttributeError\u001b[0m: 'list' object has no attribute 'str'"
     ]
    }
   ],
   "source": [
    "pattern = re.compile(r'\\d+.\\d+|\\d+')\n",
    "for dig in df['species']:\n",
    "    print(pattern.findall(dig).str.fillna('Unknown'))"
   ]
  },
  {
   "cell_type": "markdown",
   "id": "2d18deca",
   "metadata": {},
   "source": [
    "**Explanation**:\n",
    "\n",
    "The regular expression `(\\d+\\.\\d+|\\d+)` is used here. This regex has two parts:\n",
    "* `\\d+\\.\\d+` matches a sequence of digits followed by a decimal point and then another sequence of digits, capturing decimal numbers.\n",
    "* `\\d+` matches a sequence of digits, capturing whole numbers.\n",
    "\n",
    "The `|` operator in the regex means \"or\", so the expression looks for either a decimal number or a whole number.\n",
    "`fillna(\"Unknown\")` is used to handle cases where no age information is found in the species name."
   ]
  },
  {
   "cell_type": "markdown",
   "id": "474a1865",
   "metadata": {},
   "source": [
    "### Example 3\n",
    "\n",
    "**Scenario**: After cleaning the dataset, we want to know how many unique species are recorded and their respective counts.\n",
    "\n",
    "**Question**: Aggregate the data to count the number of occurrences of each unique species."
   ]
  },
  {
   "cell_type": "code",
   "execution_count": 77,
   "id": "b0076e42",
   "metadata": {},
   "outputs": [
    {
     "name": "stdout",
     "output_type": "stream",
     "text": [
      "species\n",
      "maple    2\n",
      "oak      2\n",
      "pine     1\n",
      "Name: count, dtype: int64\n"
     ]
    }
   ],
   "source": [
    "# Clean and standardise species names\n",
    "df['species'] = df['species'].str.extract('([a-zA-Z]+)', expand=False).fillna('').str.strip().str.lower()\n",
    "\n",
    "# Counting occurrences of each species\n",
    "species_counts = df['species'].value_counts()\n",
    "print(species_counts)\n"
   ]
  },
  {
   "cell_type": "markdown",
   "id": "494d0991",
   "metadata": {},
   "source": [
    "**Explanation**: \n",
    "1. `df['species']` is used to access the 'species' column as a Series.\n",
    "2. `.str.extract('([a-zA-Z]+)', expand=False)` is applied directly to the 'species' column to extract alphabetic characters, and `expand=False` is used to ensure it remains a Series.\n",
    "3. The subsequent string operations `(fillna('').str.strip().str.lower())` are applied directly to the 'species' Series.\n",
    "4. Finally, `value_counts()` is used to count the occurrences of each unique species in the 'species' Series."
   ]
  },
  {
   "cell_type": "markdown",
   "id": "dfeac942",
   "metadata": {},
   "source": [
    "### Example 4\n",
    "\n",
    "**Scenario**: The park authorities are interested in grouping species by their first letter to design different zones in the park.\n",
    "\n",
    "**Question**: Create a new column 'zone' based on the first letter of each species name and group the DataFrame by this new column."
   ]
  },
  {
   "cell_type": "code",
   "execution_count": 78,
   "id": "4c75408d",
   "metadata": {},
   "outputs": [
    {
     "name": "stdout",
     "output_type": "stream",
     "text": [
      "zone\n",
      "m    2\n",
      "o    2\n",
      "p    1\n",
      "dtype: int64\n"
     ]
    }
   ],
   "source": [
    "# Creating a 'zone' column based on the first letter\n",
    "df['zone'] = df['species'].str[0]\n",
    "grouped_data = df.groupby('zone').size()\n",
    "print(grouped_data)"
   ]
  },
  {
   "cell_type": "markdown",
   "id": "9165aaea",
   "metadata": {},
   "source": [
    "The `zone` column is created by extracting the first letter of each species name using `str[0]`. Then, the `groupby` function is used to group the DataFrame by the 'zone' column, and `size()` is used to count the number of entries in each group. The function `count()` would return a similar answer, but both the `species` and `age` columns would be returned in the form of a DataFrame."
   ]
  },
  {
   "cell_type": "markdown",
   "id": "e9956efe",
   "metadata": {
    "tags": []
   },
   "source": [
    "## Summary\n",
    "\n",
    "And with that, we've been introduced to key concepts related to manipulating and analysing text data using the Pandas library in Python. We've covered techniques such as cleaning and standardising text data, extracting information using regular expressions, and aggregating data based on text patterns. These concepts will enable us to effectively process and gain insights from textual information within DataFrames."
   ]
  },
  {
   "cell_type": "markdown",
   "id": "26fd094b-0fee-46f1-a4b8-73766813c42b",
   "metadata": {
    "tags": []
   },
   "source": [
    "#  \n",
    "\n",
    "<div align=\"center\" style=\" font-size: 80%; text-align: center; margin: 0 auto\">\n",
    "<img src=\"https://raw.githubusercontent.com/Explore-AI/Pictures/master/ExploreAI_logos/EAI_Blue_Dark.png\"  style=\"width:200px\";/>\n",
    "</div>"
   ]
  }
 ],
 "metadata": {
  "kernelspec": {
   "display_name": "Python 3 (ipykernel)",
   "language": "python",
   "name": "python3"
  },
  "language_info": {
   "codemirror_mode": {
    "name": "ipython",
    "version": 3
   },
   "file_extension": ".py",
   "mimetype": "text/x-python",
   "name": "python",
   "nbconvert_exporter": "python",
   "pygments_lexer": "ipython3",
   "version": "3.10.13"
  }
 },
 "nbformat": 4,
 "nbformat_minor": 5
}
