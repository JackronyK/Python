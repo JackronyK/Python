{
 "cells": [
  {
   "attachments": {},
   "cell_type": "markdown",
   "metadata": {
    "colab_type": "text",
    "id": "FJ70WVi-NjSV"
   },
   "source": [
    "<div align=\"center\" style=\" font-size: 80%; text-align: center; margin: 0 auto\">\n",
    "<img src=\"https://raw.githubusercontent.com/Explore-AI/Pictures/master/Python-Notebook-Banners/Examples.png\"  style=\"display: block; margin-left: auto; margin-right: auto;\";/>\n",
    "</div>\n",
    "\n",
    "# Examples: Interactive visualisation in Python \n",
    "\n",
    "© ExploreAI Academy\n",
    "\n",
    "In this train, we will focus on creating unique and interactive visualisations. We will learn how to make our code block outputs interactive for the end user.\n",
    "\n",
    "> ⚠️ **Note:** An active internet connection is needed to complete the exercises within this notebook. \n",
    "\n",
    "> ⚠️ **Note:** This exercise works best when executed in a Jupyter notebook."
   ]
  },
  {
   "attachments": {},
   "cell_type": "markdown",
   "metadata": {},
   "source": [
    "## Learning objectives\n",
    "By the end of this train, you should be able to:\n",
    "* Create advanced custom visualisations in Python.\n",
    "* Create interactive visualisations in a Jupyter notebook.\n"
   ]
  },
  {
   "attachments": {},
   "cell_type": "markdown",
   "metadata": {
    "colab_type": "text",
    "id": "hTEztyAvNjSh"
   },
   "source": [
    "## Introduction\n",
    "\n",
    "Sometimes we require interaction in our Jupyter notebooks rather than a PowerBI dashboard. A potential reason would be to employ more sophisticated technology to meet typical business intelligence use cases. Traditional BI tools are ideal for creating dashboards created from SQL or CSV data. However, when we try to display information created by more sophisticated logic, we often fall short.\n",
    "\n",
    "With interactive widgets in a notebook, we can leverage the full power of Python to express calculations and build visualisations while exposing \"our logic\" to the end user, allowing them to modify aspects of the visualisation. We may either add a few interactive controls and plots to notebooks or build completely functional applications and interactive dashboards. Both can be created with components from the built-in core widgets, such as `buttons`, `sliders`, and `dropdowns`, or with the rich ecosystem of custom widget libraries based on the Jupyter widgets framework, such as interactive maps with `ipyleaflet` or `2-D plots` with `bqplot`."
   ]
  },
  {
   "attachments": {},
   "cell_type": "markdown",
   "metadata": {
    "colab_type": "text",
    "id": "swNz-w4xNjSl"
   },
   "source": [
    "## Getting the notebook ready\n",
    "Let's ensure we have the relevant packages installed.\n",
    "\n",
    "### Step 1: Install the relevant packages"
   ]
  },
  {
   "cell_type": "code",
   "execution_count": 1,
   "metadata": {},
   "outputs": [
    {
     "name": "stdout",
     "output_type": "stream",
     "text": [
      "Requirement already satisfied: scipy in c:\\users\\user\\anaconda3\\envs\\python_dev\\lib\\site-packages (1.11.4)\n",
      "Requirement already satisfied: numpy<1.28.0,>=1.21.6 in c:\\users\\user\\anaconda3\\envs\\python_dev\\lib\\site-packages (from scipy) (1.26.3)\n",
      "Note: you may need to restart the kernel to use updated packages.\n"
     ]
    }
   ],
   "source": [
    "pip install scipy"
   ]
  },
  {
   "cell_type": "code",
   "execution_count": 2,
   "metadata": {},
   "outputs": [
    {
     "name": "stdout",
     "output_type": "stream",
     "text": [
      "Requirement already satisfied: ipywidgets in c:\\users\\user\\anaconda3\\envs\\python_dev\\lib\\site-packages (8.0.4)\n",
      "Requirement already satisfied: ipykernel>=4.5.1 in c:\\users\\user\\anaconda3\\envs\\python_dev\\lib\\site-packages (from ipywidgets) (6.25.0)\n",
      "Requirement already satisfied: ipython>=6.1.0 in c:\\users\\user\\anaconda3\\envs\\python_dev\\lib\\site-packages (from ipywidgets) (8.15.0)\n",
      "Requirement already satisfied: traitlets>=4.3.1 in c:\\users\\user\\anaconda3\\envs\\python_dev\\lib\\site-packages (from ipywidgets) (5.7.1)\n",
      "Requirement already satisfied: widgetsnbextension~=4.0 in c:\\users\\user\\anaconda3\\envs\\python_dev\\lib\\site-packages (from ipywidgets) (4.0.5)\n",
      "Requirement already satisfied: jupyterlab-widgets~=3.0 in c:\\users\\user\\anaconda3\\envs\\python_dev\\lib\\site-packages (from ipywidgets) (3.0.9)\n",
      "Requirement already satisfied: comm>=0.1.1 in c:\\users\\user\\anaconda3\\envs\\python_dev\\lib\\site-packages (from ipykernel>=4.5.1->ipywidgets) (0.1.2)\n",
      "Requirement already satisfied: debugpy>=1.6.5 in c:\\users\\user\\anaconda3\\envs\\python_dev\\lib\\site-packages (from ipykernel>=4.5.1->ipywidgets) (1.6.7)\n",
      "Requirement already satisfied: jupyter-client>=6.1.12 in c:\\users\\user\\anaconda3\\envs\\python_dev\\lib\\site-packages (from ipykernel>=4.5.1->ipywidgets) (8.6.0)\n",
      "Requirement already satisfied: jupyter-core!=5.0.*,>=4.12 in c:\\users\\user\\anaconda3\\envs\\python_dev\\lib\\site-packages (from ipykernel>=4.5.1->ipywidgets) (5.5.0)\n",
      "Requirement already satisfied: matplotlib-inline>=0.1 in c:\\users\\user\\anaconda3\\envs\\python_dev\\lib\\site-packages (from ipykernel>=4.5.1->ipywidgets) (0.1.6)\n",
      "Requirement already satisfied: nest-asyncio in c:\\users\\user\\anaconda3\\envs\\python_dev\\lib\\site-packages (from ipykernel>=4.5.1->ipywidgets) (1.5.6)\n",
      "Requirement already satisfied: packaging in c:\\users\\user\\anaconda3\\envs\\python_dev\\lib\\site-packages (from ipykernel>=4.5.1->ipywidgets) (23.1)\n",
      "Requirement already satisfied: psutil in c:\\users\\user\\anaconda3\\envs\\python_dev\\lib\\site-packages (from ipykernel>=4.5.1->ipywidgets) (5.9.0)\n",
      "Requirement already satisfied: pyzmq>=20 in c:\\users\\user\\anaconda3\\envs\\python_dev\\lib\\site-packages (from ipykernel>=4.5.1->ipywidgets) (25.1.0)\n",
      "Requirement already satisfied: tornado>=6.1 in c:\\users\\user\\anaconda3\\envs\\python_dev\\lib\\site-packages (from ipykernel>=4.5.1->ipywidgets) (6.3.3)\n",
      "Requirement already satisfied: backcall in c:\\users\\user\\anaconda3\\envs\\python_dev\\lib\\site-packages (from ipython>=6.1.0->ipywidgets) (0.2.0)\n",
      "Requirement already satisfied: decorator in c:\\users\\user\\anaconda3\\envs\\python_dev\\lib\\site-packages (from ipython>=6.1.0->ipywidgets) (5.1.1)\n",
      "Requirement already satisfied: jedi>=0.16 in c:\\users\\user\\anaconda3\\envs\\python_dev\\lib\\site-packages (from ipython>=6.1.0->ipywidgets) (0.18.1)\n",
      "Requirement already satisfied: pickleshare in c:\\users\\user\\anaconda3\\envs\\python_dev\\lib\\site-packages (from ipython>=6.1.0->ipywidgets) (0.7.5)\n",
      "Requirement already satisfied: prompt-toolkit!=3.0.37,<3.1.0,>=3.0.30 in c:\\users\\user\\anaconda3\\envs\\python_dev\\lib\\site-packages (from ipython>=6.1.0->ipywidgets) (3.0.43)\n",
      "Requirement already satisfied: pygments>=2.4.0 in c:\\users\\user\\anaconda3\\envs\\python_dev\\lib\\site-packages (from ipython>=6.1.0->ipywidgets) (2.15.1)\n",
      "Requirement already satisfied: stack-data in c:\\users\\user\\anaconda3\\envs\\python_dev\\lib\\site-packages (from ipython>=6.1.0->ipywidgets) (0.2.0)\n",
      "Requirement already satisfied: exceptiongroup in c:\\users\\user\\anaconda3\\envs\\python_dev\\lib\\site-packages (from ipython>=6.1.0->ipywidgets) (1.0.4)\n",
      "Requirement already satisfied: colorama in c:\\users\\user\\anaconda3\\envs\\python_dev\\lib\\site-packages (from ipython>=6.1.0->ipywidgets) (0.4.6)\n",
      "Requirement already satisfied: parso<0.9.0,>=0.8.0 in c:\\users\\user\\anaconda3\\envs\\python_dev\\lib\\site-packages (from jedi>=0.16->ipython>=6.1.0->ipywidgets) (0.8.3)\n",
      "Requirement already satisfied: python-dateutil>=2.8.2 in c:\\users\\user\\anaconda3\\envs\\python_dev\\lib\\site-packages (from jupyter-client>=6.1.12->ipykernel>=4.5.1->ipywidgets) (2.8.2)\n",
      "Requirement already satisfied: platformdirs>=2.5 in c:\\users\\user\\anaconda3\\envs\\python_dev\\lib\\site-packages (from jupyter-core!=5.0.*,>=4.12->ipykernel>=4.5.1->ipywidgets) (3.10.0)\n",
      "Requirement already satisfied: pywin32>=300 in c:\\users\\user\\anaconda3\\envs\\python_dev\\lib\\site-packages (from jupyter-core!=5.0.*,>=4.12->ipykernel>=4.5.1->ipywidgets) (305.1)\n",
      "Requirement already satisfied: wcwidth in c:\\users\\user\\anaconda3\\envs\\python_dev\\lib\\site-packages (from prompt-toolkit!=3.0.37,<3.1.0,>=3.0.30->ipython>=6.1.0->ipywidgets) (0.2.5)\n",
      "Requirement already satisfied: executing in c:\\users\\user\\anaconda3\\envs\\python_dev\\lib\\site-packages (from stack-data->ipython>=6.1.0->ipywidgets) (0.8.3)\n",
      "Requirement already satisfied: asttokens in c:\\users\\user\\anaconda3\\envs\\python_dev\\lib\\site-packages (from stack-data->ipython>=6.1.0->ipywidgets) (2.0.5)\n",
      "Requirement already satisfied: pure-eval in c:\\users\\user\\anaconda3\\envs\\python_dev\\lib\\site-packages (from stack-data->ipython>=6.1.0->ipywidgets) (0.2.2)\n",
      "Requirement already satisfied: six>=1.5 in c:\\users\\user\\anaconda3\\envs\\python_dev\\lib\\site-packages (from python-dateutil>=2.8.2->jupyter-client>=6.1.12->ipykernel>=4.5.1->ipywidgets) (1.16.0)\n",
      "Note: you may need to restart the kernel to use updated packages.\n"
     ]
    }
   ],
   "source": [
    "pip install ipywidgets \n"
   ]
  },
  {
   "cell_type": "code",
   "execution_count": 3,
   "metadata": {},
   "outputs": [
    {
     "name": "stdout",
     "output_type": "stream",
     "text": [
      "Collecting chart-studio\n",
      "  Downloading chart_studio-1.1.0-py3-none-any.whl (64 kB)\n",
      "     ---------------------------------------- 0.0/64.4 kB ? eta -:--:--\n",
      "     ------ --------------------------------- 10.2/64.4 kB ? eta -:--:--\n",
      "     ------ --------------------------------- 10.2/64.4 kB ? eta -:--:--\n",
      "     ------ --------------------------------- 10.2/64.4 kB ? eta -:--:--\n",
      "     ------------------ ------------------- 30.7/64.4 kB 187.9 kB/s eta 0:00:01\n",
      "     ------------------------ ------------- 41.0/64.4 kB 178.6 kB/s eta 0:00:01\n",
      "     ------------------------------------ - 61.4/64.4 kB 233.8 kB/s eta 0:00:01\n",
      "     -------------------------------------- 64.4/64.4 kB 231.5 kB/s eta 0:00:00\n",
      "Requirement already satisfied: plotly in c:\\users\\user\\anaconda3\\envs\\python_dev\\lib\\site-packages (from chart-studio) (5.9.0)\n",
      "Requirement already satisfied: requests in c:\\users\\user\\anaconda3\\envs\\python_dev\\lib\\site-packages (from chart-studio) (2.31.0)\n",
      "Requirement already satisfied: retrying>=1.3.3 in c:\\users\\user\\anaconda3\\envs\\python_dev\\lib\\site-packages (from chart-studio) (1.3.3)\n",
      "Requirement already satisfied: six in c:\\users\\user\\anaconda3\\envs\\python_dev\\lib\\site-packages (from chart-studio) (1.16.0)\n",
      "Requirement already satisfied: tenacity>=6.2.0 in c:\\users\\user\\anaconda3\\envs\\python_dev\\lib\\site-packages (from plotly->chart-studio) (8.2.2)\n",
      "Requirement already satisfied: charset-normalizer<4,>=2 in c:\\users\\user\\anaconda3\\envs\\python_dev\\lib\\site-packages (from requests->chart-studio) (2.0.4)\n",
      "Requirement already satisfied: idna<4,>=2.5 in c:\\users\\user\\anaconda3\\envs\\python_dev\\lib\\site-packages (from requests->chart-studio) (3.4)\n",
      "Requirement already satisfied: urllib3<3,>=1.21.1 in c:\\users\\user\\anaconda3\\envs\\python_dev\\lib\\site-packages (from requests->chart-studio) (1.26.18)\n",
      "Requirement already satisfied: certifi>=2017.4.17 in c:\\users\\user\\anaconda3\\envs\\python_dev\\lib\\site-packages (from requests->chart-studio) (2023.11.17)\n",
      "Installing collected packages: chart-studio\n",
      "Successfully installed chart-studio-1.1.0\n",
      "Note: you may need to restart the kernel to use updated packages.\n"
     ]
    },
    {
     "name": "stderr",
     "output_type": "stream",
     "text": [
      "  WARNING: Retrying (Retry(total=4, connect=None, read=None, redirect=None, status=None)) after connection broken by 'NewConnectionError('<pip._vendor.urllib3.connection.HTTPSConnection object at 0x000001DBAA0D91E0>: Failed to establish a new connection: [Errno 11001] getaddrinfo failed')': /packages/ca/ce/330794a6b6ca4b9182c38fc69dd2a9cbff60fd49421cb8648ee5fee352dc/chart_studio-1.1.0-py3-none-any.whl\n"
     ]
    }
   ],
   "source": [
    "pip install chart-studio "
   ]
  },
  {
   "cell_type": "code",
   "execution_count": 4,
   "metadata": {},
   "outputs": [
    {
     "name": "stdout",
     "output_type": "stream",
     "text": [
      "Collecting pyarrow\n",
      "  Downloading pyarrow-15.0.0-cp310-cp310-win_amd64.whl.metadata (3.1 kB)\n",
      "Requirement already satisfied: numpy<2,>=1.16.6 in c:\\users\\user\\anaconda3\\envs\\python_dev\\lib\\site-packages (from pyarrow) (1.26.3)\n",
      "Downloading pyarrow-15.0.0-cp310-cp310-win_amd64.whl (24.8 MB)\n",
      "   ---------------------------------------- 0.0/24.8 MB ? eta -:--:--\n",
      "   ---------------------------------------- 0.0/24.8 MB 660.6 kB/s eta 0:00:38\n",
      "   ---------------------------------------- 0.1/24.8 MB 825.8 kB/s eta 0:00:30\n",
      "   ---------------------------------------- 0.1/24.8 MB 655.4 kB/s eta 0:00:38\n",
      "   ---------------------------------------- 0.2/24.8 MB 1.0 MB/s eta 0:00:24\n",
      "   ---------------------------------------- 0.2/24.8 MB 986.4 kB/s eta 0:00:25\n",
      "   ---------------------------------------- 0.2/24.8 MB 986.4 kB/s eta 0:00:25\n",
      "    --------------------------------------- 0.3/24.8 MB 984.6 kB/s eta 0:00:25\n",
      "    --------------------------------------- 0.4/24.8 MB 1.1 MB/s eta 0:00:22\n",
      "    --------------------------------------- 0.6/24.8 MB 1.4 MB/s eta 0:00:18\n",
      "   - -------------------------------------- 0.6/24.8 MB 1.5 MB/s eta 0:00:17\n",
      "   - -------------------------------------- 0.6/24.8 MB 1.5 MB/s eta 0:00:17\n",
      "   - -------------------------------------- 0.8/24.8 MB 1.5 MB/s eta 0:00:16\n",
      "   - -------------------------------------- 0.9/24.8 MB 1.5 MB/s eta 0:00:16\n",
      "   - -------------------------------------- 0.9/24.8 MB 1.5 MB/s eta 0:00:16\n",
      "   - -------------------------------------- 1.0/24.8 MB 1.5 MB/s eta 0:00:16\n",
      "   - -------------------------------------- 1.0/24.8 MB 1.5 MB/s eta 0:00:16\n",
      "   - -------------------------------------- 1.0/24.8 MB 1.5 MB/s eta 0:00:16\n",
      "   - -------------------------------------- 1.0/24.8 MB 1.5 MB/s eta 0:00:16\n",
      "   - -------------------------------------- 1.0/24.8 MB 1.5 MB/s eta 0:00:16\n",
      "   - -------------------------------------- 1.0/24.8 MB 1.5 MB/s eta 0:00:16\n",
      "   - -------------------------------------- 1.0/24.8 MB 1.5 MB/s eta 0:00:16\n",
      "   - -------------------------------------- 1.2/24.8 MB 1.2 MB/s eta 0:00:20\n",
      "   -- ------------------------------------- 1.4/24.8 MB 1.3 MB/s eta 0:00:19\n",
      "   -- ------------------------------------- 1.4/24.8 MB 1.3 MB/s eta 0:00:19\n",
      "   -- ------------------------------------- 1.4/24.8 MB 1.2 MB/s eta 0:00:20\n",
      "   -- ------------------------------------- 1.4/24.8 MB 1.2 MB/s eta 0:00:20\n",
      "   -- ------------------------------------- 1.5/24.8 MB 1.2 MB/s eta 0:00:20\n",
      "   -- ------------------------------------- 1.6/24.8 MB 1.3 MB/s eta 0:00:19\n",
      "   -- ------------------------------------- 1.8/24.8 MB 1.3 MB/s eta 0:00:18\n",
      "   -- ------------------------------------- 1.8/24.8 MB 1.3 MB/s eta 0:00:18\n",
      "   --- ------------------------------------ 1.9/24.8 MB 1.3 MB/s eta 0:00:18\n",
      "   --- ------------------------------------ 2.0/24.8 MB 1.4 MB/s eta 0:00:17\n",
      "   --- ------------------------------------ 2.0/24.8 MB 1.4 MB/s eta 0:00:17\n",
      "   --- ------------------------------------ 2.0/24.8 MB 1.4 MB/s eta 0:00:17\n",
      "   --- ------------------------------------ 2.0/24.8 MB 1.4 MB/s eta 0:00:17\n",
      "   --- ------------------------------------ 2.2/24.8 MB 1.4 MB/s eta 0:00:17\n",
      "   --- ------------------------------------ 2.2/24.8 MB 1.4 MB/s eta 0:00:17\n",
      "   --- ------------------------------------ 2.4/24.8 MB 1.4 MB/s eta 0:00:17\n",
      "   --- ------------------------------------ 2.5/24.8 MB 1.4 MB/s eta 0:00:17\n",
      "   ---- ----------------------------------- 2.5/24.8 MB 1.3 MB/s eta 0:00:17\n",
      "   ---- ----------------------------------- 2.5/24.8 MB 1.4 MB/s eta 0:00:17\n",
      "   ---- ----------------------------------- 2.6/24.8 MB 1.3 MB/s eta 0:00:17\n",
      "   ---- ----------------------------------- 2.7/24.8 MB 1.3 MB/s eta 0:00:17\n",
      "   ---- ----------------------------------- 2.7/24.8 MB 1.3 MB/s eta 0:00:17\n",
      "   ---- ----------------------------------- 2.7/24.8 MB 1.3 MB/s eta 0:00:17\n",
      "   ---- ----------------------------------- 2.7/24.8 MB 1.3 MB/s eta 0:00:17\n",
      "   ---- ----------------------------------- 2.8/24.8 MB 1.3 MB/s eta 0:00:17\n",
      "   ---- ----------------------------------- 2.8/24.8 MB 1.3 MB/s eta 0:00:17\n",
      "   ---- ----------------------------------- 2.8/24.8 MB 1.3 MB/s eta 0:00:17\n",
      "   ---- ----------------------------------- 2.8/24.8 MB 1.3 MB/s eta 0:00:17\n",
      "   ---- ----------------------------------- 2.8/24.8 MB 1.3 MB/s eta 0:00:17\n",
      "   ---- ----------------------------------- 2.8/24.8 MB 1.3 MB/s eta 0:00:17\n",
      "   ---- ----------------------------------- 2.9/24.8 MB 1.2 MB/s eta 0:00:19\n",
      "   ---- ----------------------------------- 3.0/24.8 MB 1.2 MB/s eta 0:00:19\n",
      "   ---- ----------------------------------- 3.0/24.8 MB 1.2 MB/s eta 0:00:19\n",
      "   ---- ----------------------------------- 3.1/24.8 MB 1.2 MB/s eta 0:00:19\n",
      "   ----- ---------------------------------- 3.1/24.8 MB 1.2 MB/s eta 0:00:19\n",
      "   ----- ---------------------------------- 3.2/24.8 MB 1.2 MB/s eta 0:00:19\n",
      "   ----- ---------------------------------- 3.3/24.8 MB 1.2 MB/s eta 0:00:19\n",
      "   ----- ---------------------------------- 3.3/24.8 MB 1.2 MB/s eta 0:00:18\n",
      "   ----- ---------------------------------- 3.4/24.8 MB 1.2 MB/s eta 0:00:18\n",
      "   ----- ---------------------------------- 3.5/24.8 MB 1.2 MB/s eta 0:00:18\n",
      "   ----- ---------------------------------- 3.5/24.8 MB 1.2 MB/s eta 0:00:18\n",
      "   ----- ---------------------------------- 3.6/24.8 MB 1.2 MB/s eta 0:00:18\n",
      "   ----- ---------------------------------- 3.6/24.8 MB 1.2 MB/s eta 0:00:18\n",
      "   ----- ---------------------------------- 3.6/24.8 MB 1.2 MB/s eta 0:00:18\n",
      "   ----- ---------------------------------- 3.7/24.8 MB 1.2 MB/s eta 0:00:18\n",
      "   ----- ---------------------------------- 3.7/24.8 MB 1.2 MB/s eta 0:00:18\n",
      "   ------ --------------------------------- 3.8/24.8 MB 1.2 MB/s eta 0:00:18\n",
      "   ------ --------------------------------- 3.8/24.8 MB 1.2 MB/s eta 0:00:18\n",
      "   ------ --------------------------------- 3.8/24.8 MB 1.2 MB/s eta 0:00:18\n",
      "   ------ --------------------------------- 3.9/24.8 MB 1.2 MB/s eta 0:00:18\n",
      "   ------ --------------------------------- 4.0/24.8 MB 1.2 MB/s eta 0:00:18\n",
      "   ------ --------------------------------- 4.0/24.8 MB 1.2 MB/s eta 0:00:18\n",
      "   ------ --------------------------------- 4.1/24.8 MB 1.2 MB/s eta 0:00:18\n",
      "   ------ --------------------------------- 4.1/24.8 MB 1.2 MB/s eta 0:00:18\n",
      "   ------ --------------------------------- 4.1/24.8 MB 1.2 MB/s eta 0:00:18\n",
      "   ------ --------------------------------- 4.1/24.8 MB 1.1 MB/s eta 0:00:18\n",
      "   ------ --------------------------------- 4.2/24.8 MB 1.1 MB/s eta 0:00:19\n",
      "   ------ --------------------------------- 4.2/24.8 MB 1.1 MB/s eta 0:00:19\n",
      "   ------ --------------------------------- 4.3/24.8 MB 1.1 MB/s eta 0:00:18\n",
      "   ------ --------------------------------- 4.3/24.8 MB 1.1 MB/s eta 0:00:18\n",
      "   ------- -------------------------------- 4.3/24.8 MB 1.1 MB/s eta 0:00:19\n",
      "   ------- -------------------------------- 4.4/24.8 MB 1.1 MB/s eta 0:00:19\n",
      "   ------- -------------------------------- 4.4/24.8 MB 1.1 MB/s eta 0:00:19\n",
      "   ------- -------------------------------- 4.5/24.8 MB 1.1 MB/s eta 0:00:18\n",
      "   ------- -------------------------------- 4.5/24.8 MB 1.1 MB/s eta 0:00:18\n",
      "   ------- -------------------------------- 4.5/24.8 MB 1.1 MB/s eta 0:00:18\n",
      "   ------- -------------------------------- 4.5/24.8 MB 1.1 MB/s eta 0:00:18\n",
      "   ------- -------------------------------- 4.6/24.8 MB 1.1 MB/s eta 0:00:19\n",
      "   ------- -------------------------------- 4.6/24.8 MB 1.1 MB/s eta 0:00:19\n",
      "   ------- -------------------------------- 4.6/24.8 MB 1.1 MB/s eta 0:00:19\n",
      "   ------- -------------------------------- 4.6/24.8 MB 1.1 MB/s eta 0:00:19\n",
      "   ------- -------------------------------- 4.6/24.8 MB 1.1 MB/s eta 0:00:19\n",
      "   ------- -------------------------------- 4.6/24.8 MB 1.1 MB/s eta 0:00:19\n",
      "   ------- -------------------------------- 4.6/24.8 MB 1.1 MB/s eta 0:00:19\n",
      "   ------- -------------------------------- 4.6/24.8 MB 1.0 MB/s eta 0:00:20\n",
      "   ------- -------------------------------- 4.6/24.8 MB 1.0 MB/s eta 0:00:20\n",
      "   ------- -------------------------------- 4.6/24.8 MB 1.0 MB/s eta 0:00:20\n",
      "   ------- -------------------------------- 4.7/24.8 MB 1.0 MB/s eta 0:00:20\n",
      "   ------- -------------------------------- 4.7/24.8 MB 1.0 MB/s eta 0:00:20\n",
      "   ------- -------------------------------- 4.7/24.8 MB 1.0 MB/s eta 0:00:20\n",
      "   ------- -------------------------------- 4.7/24.8 MB 1.0 MB/s eta 0:00:20\n",
      "   ------- -------------------------------- 4.7/24.8 MB 1.0 MB/s eta 0:00:20\n",
      "   ------- -------------------------------- 4.7/24.8 MB 1.0 MB/s eta 0:00:20\n",
      "   ------- -------------------------------- 4.7/24.8 MB 968.3 kB/s eta 0:00:21\n",
      "   ------- -------------------------------- 4.7/24.8 MB 968.3 kB/s eta 0:00:21\n",
      "   ------- -------------------------------- 4.7/24.8 MB 968.3 kB/s eta 0:00:21\n",
      "   ------- -------------------------------- 4.7/24.8 MB 968.3 kB/s eta 0:00:21\n",
      "   ------- -------------------------------- 4.7/24.8 MB 968.3 kB/s eta 0:00:21\n",
      "   ------- -------------------------------- 4.7/24.8 MB 968.3 kB/s eta 0:00:21\n",
      "   ------- -------------------------------- 4.7/24.8 MB 968.3 kB/s eta 0:00:21\n",
      "   ------- -------------------------------- 4.7/24.8 MB 968.3 kB/s eta 0:00:21\n",
      "   ------- -------------------------------- 4.7/24.8 MB 968.3 kB/s eta 0:00:21\n",
      "   ------- -------------------------------- 4.7/24.8 MB 968.3 kB/s eta 0:00:21\n",
      "   ------- -------------------------------- 4.7/24.8 MB 968.3 kB/s eta 0:00:21\n",
      "   ------- -------------------------------- 4.7/24.8 MB 968.3 kB/s eta 0:00:21\n",
      "   ------- -------------------------------- 4.7/24.8 MB 968.3 kB/s eta 0:00:21\n",
      "   ------- -------------------------------- 4.7/24.8 MB 968.3 kB/s eta 0:00:21\n",
      "   ------- -------------------------------- 4.7/24.8 MB 968.3 kB/s eta 0:00:21\n",
      "   ------- -------------------------------- 4.7/24.8 MB 968.3 kB/s eta 0:00:21\n",
      "   ------- -------------------------------- 4.7/24.8 MB 968.3 kB/s eta 0:00:21\n",
      "   ------- -------------------------------- 4.7/24.8 MB 968.3 kB/s eta 0:00:21\n",
      "   ------- -------------------------------- 4.7/24.8 MB 968.3 kB/s eta 0:00:21\n",
      "   ------- -------------------------------- 4.7/24.8 MB 968.3 kB/s eta 0:00:21\n",
      "   ------- -------------------------------- 4.7/24.8 MB 968.3 kB/s eta 0:00:21\n",
      "   ------- -------------------------------- 4.7/24.8 MB 968.3 kB/s eta 0:00:21\n",
      "   ------- -------------------------------- 4.7/24.8 MB 968.3 kB/s eta 0:00:21\n",
      "   ------- -------------------------------- 4.7/24.8 MB 968.3 kB/s eta 0:00:21\n",
      "   ------- -------------------------------- 4.8/24.8 MB 788.2 kB/s eta 0:00:26\n",
      "   ------- -------------------------------- 4.8/24.8 MB 788.2 kB/s eta 0:00:26\n",
      "   ------- -------------------------------- 4.8/24.8 MB 788.2 kB/s eta 0:00:26\n",
      "   ------- -------------------------------- 4.8/24.8 MB 771.8 kB/s eta 0:00:26\n",
      "   ------- -------------------------------- 4.8/24.8 MB 767.4 kB/s eta 0:00:27\n",
      "   ------- -------------------------------- 4.8/24.8 MB 767.4 kB/s eta 0:00:27\n",
      "   ------- -------------------------------- 4.8/24.8 MB 763.0 kB/s eta 0:00:27\n",
      "   ------- -------------------------------- 4.8/24.8 MB 755.2 kB/s eta 0:00:27\n",
      "   ------- -------------------------------- 4.8/24.8 MB 755.2 kB/s eta 0:00:27\n",
      "   ------- -------------------------------- 4.8/24.8 MB 755.2 kB/s eta 0:00:27\n",
      "   ------- -------------------------------- 4.8/24.8 MB 745.7 kB/s eta 0:00:27\n",
      "   ------- -------------------------------- 4.8/24.8 MB 738.2 kB/s eta 0:00:28\n",
      "   ------- -------------------------------- 4.8/24.8 MB 738.2 kB/s eta 0:00:28\n",
      "   ------- -------------------------------- 4.9/24.8 MB 731.0 kB/s eta 0:00:28\n",
      "   ------- -------------------------------- 4.9/24.8 MB 730.6 kB/s eta 0:00:28\n",
      "   ------- -------------------------------- 4.9/24.8 MB 727.1 kB/s eta 0:00:28\n",
      "   ------- -------------------------------- 4.9/24.8 MB 724.8 kB/s eta 0:00:28\n",
      "   ------- -------------------------------- 4.9/24.8 MB 726.2 kB/s eta 0:00:28\n",
      "   ------- -------------------------------- 4.9/24.8 MB 726.2 kB/s eta 0:00:28\n",
      "   -------- ------------------------------- 5.0/24.8 MB 720.4 kB/s eta 0:00:28\n",
      "   -------- ------------------------------- 5.0/24.8 MB 720.4 kB/s eta 0:00:28\n",
      "   -------- ------------------------------- 5.1/24.8 MB 723.6 kB/s eta 0:00:28\n",
      "   -------- ------------------------------- 5.1/24.8 MB 723.4 kB/s eta 0:00:28\n",
      "   -------- ------------------------------- 5.2/24.8 MB 721.4 kB/s eta 0:00:28\n",
      "   -------- ------------------------------- 5.2/24.8 MB 722.5 kB/s eta 0:00:28\n",
      "   -------- ------------------------------- 5.2/24.8 MB 722.2 kB/s eta 0:00:28\n",
      "   -------- ------------------------------- 5.2/24.8 MB 721.7 kB/s eta 0:00:28\n",
      "   -------- ------------------------------- 5.3/24.8 MB 719.8 kB/s eta 0:00:28\n",
      "   -------- ------------------------------- 5.3/24.8 MB 722.2 kB/s eta 0:00:27\n",
      "   -------- ------------------------------- 5.3/24.8 MB 720.5 kB/s eta 0:00:28\n",
      "   -------- ------------------------------- 5.4/24.8 MB 720.2 kB/s eta 0:00:28\n",
      "   -------- ------------------------------- 5.4/24.8 MB 719.9 kB/s eta 0:00:27\n",
      "   -------- ------------------------------- 5.4/24.8 MB 715.0 kB/s eta 0:00:28\n",
      "   -------- ------------------------------- 5.5/24.8 MB 717.5 kB/s eta 0:00:27\n",
      "   -------- ------------------------------- 5.5/24.8 MB 715.8 kB/s eta 0:00:28\n",
      "   -------- ------------------------------- 5.5/24.8 MB 716.5 kB/s eta 0:00:27\n",
      "   -------- ------------------------------- 5.6/24.8 MB 716.1 kB/s eta 0:00:27\n",
      "   --------- ------------------------------ 5.6/24.8 MB 715.7 kB/s eta 0:00:27\n",
      "   --------- ------------------------------ 5.7/24.8 MB 716.5 kB/s eta 0:00:27\n",
      "   --------- ------------------------------ 5.7/24.8 MB 717.3 kB/s eta 0:00:27\n",
      "   --------- ------------------------------ 5.7/24.8 MB 718.4 kB/s eta 0:00:27\n",
      "   --------- ------------------------------ 5.8/24.8 MB 718.0 kB/s eta 0:00:27\n",
      "   --------- ------------------------------ 5.8/24.8 MB 718.8 kB/s eta 0:00:27\n",
      "   --------- ------------------------------ 5.8/24.8 MB 721.2 kB/s eta 0:00:27\n",
      "   --------- ------------------------------ 5.9/24.8 MB 720.8 kB/s eta 0:00:27\n",
      "   --------- ------------------------------ 5.9/24.8 MB 724.0 kB/s eta 0:00:27\n",
      "   --------- ------------------------------ 5.9/24.8 MB 724.0 kB/s eta 0:00:27\n",
      "   --------- ------------------------------ 6.0/24.8 MB 720.7 kB/s eta 0:00:27\n",
      "   --------- ------------------------------ 6.0/24.8 MB 720.7 kB/s eta 0:00:27\n",
      "   --------- ------------------------------ 6.1/24.8 MB 721.2 kB/s eta 0:00:26\n",
      "   --------- ------------------------------ 6.1/24.8 MB 719.7 kB/s eta 0:00:27\n",
      "   --------- ------------------------------ 6.1/24.8 MB 721.8 kB/s eta 0:00:26\n",
      "   ---------- ----------------------------- 6.2/24.8 MB 723.4 kB/s eta 0:00:26\n",
      "   ---------- ----------------------------- 6.3/24.8 MB 722.8 kB/s eta 0:00:26\n",
      "   ---------- ----------------------------- 6.3/24.8 MB 722.8 kB/s eta 0:00:26\n",
      "   ---------- ----------------------------- 6.3/24.8 MB 721.8 kB/s eta 0:00:26\n",
      "   ---------- ----------------------------- 6.4/24.8 MB 721.5 kB/s eta 0:00:26\n",
      "   ---------- ----------------------------- 6.4/24.8 MB 721.5 kB/s eta 0:00:26\n",
      "   ---------- ----------------------------- 6.4/24.8 MB 719.6 kB/s eta 0:00:26\n",
      "   ---------- ----------------------------- 6.5/24.8 MB 718.2 kB/s eta 0:00:26\n",
      "   ---------- ----------------------------- 6.5/24.8 MB 718.1 kB/s eta 0:00:26\n",
      "   ---------- ----------------------------- 6.5/24.8 MB 717.5 kB/s eta 0:00:26\n",
      "   ---------- ----------------------------- 6.5/24.8 MB 717.5 kB/s eta 0:00:26\n",
      "   ---------- ----------------------------- 6.5/24.8 MB 713.5 kB/s eta 0:00:26\n",
      "   ---------- ----------------------------- 6.6/24.8 MB 712.1 kB/s eta 0:00:26\n",
      "   ---------- ----------------------------- 6.6/24.8 MB 712.1 kB/s eta 0:00:26\n",
      "   ---------- ----------------------------- 6.6/24.8 MB 708.2 kB/s eta 0:00:26\n",
      "   ---------- ----------------------------- 6.6/24.8 MB 709.3 kB/s eta 0:00:26\n",
      "   ---------- ----------------------------- 6.6/24.8 MB 707.8 kB/s eta 0:00:26\n",
      "   ---------- ----------------------------- 6.7/24.8 MB 705.3 kB/s eta 0:00:26\n",
      "   ---------- ----------------------------- 6.7/24.8 MB 706.2 kB/s eta 0:00:26\n",
      "   ---------- ----------------------------- 6.7/24.8 MB 705.9 kB/s eta 0:00:26\n",
      "   ---------- ----------------------------- 6.7/24.8 MB 705.9 kB/s eta 0:00:26\n",
      "   ---------- ----------------------------- 6.7/24.8 MB 705.9 kB/s eta 0:00:26\n",
      "   ---------- ----------------------------- 6.7/24.8 MB 705.9 kB/s eta 0:00:26\n",
      "   ----------- ---------------------------- 6.8/24.8 MB 701.7 kB/s eta 0:00:26\n",
      "   ----------- ---------------------------- 6.9/24.8 MB 702.6 kB/s eta 0:00:26\n",
      "   ----------- ---------------------------- 6.9/24.8 MB 699.2 kB/s eta 0:00:26\n",
      "   ----------- ---------------------------- 6.9/24.8 MB 699.1 kB/s eta 0:00:26\n",
      "   ----------- ---------------------------- 6.9/24.8 MB 697.8 kB/s eta 0:00:26\n",
      "   ----------- ---------------------------- 6.9/24.8 MB 697.6 kB/s eta 0:00:26\n",
      "   ----------- ---------------------------- 7.0/24.8 MB 695.4 kB/s eta 0:00:26\n",
      "   ----------- ---------------------------- 7.0/24.8 MB 695.2 kB/s eta 0:00:26\n",
      "   ----------- ---------------------------- 7.0/24.8 MB 693.0 kB/s eta 0:00:26\n",
      "   ----------- ---------------------------- 7.0/24.8 MB 693.0 kB/s eta 0:00:26\n",
      "   ----------- ---------------------------- 7.0/24.8 MB 693.0 kB/s eta 0:00:26\n",
      "   ----------- ---------------------------- 7.0/24.8 MB 693.0 kB/s eta 0:00:26\n",
      "   ----------- ---------------------------- 7.0/24.8 MB 682.3 kB/s eta 0:00:27\n",
      "   ----------- ---------------------------- 7.0/24.8 MB 680.2 kB/s eta 0:00:27\n",
      "   ----------- ---------------------------- 7.0/24.8 MB 679.1 kB/s eta 0:00:27\n",
      "   ----------- ---------------------------- 7.1/24.8 MB 678.0 kB/s eta 0:00:27\n",
      "   ----------- ---------------------------- 7.1/24.8 MB 675.9 kB/s eta 0:00:27\n",
      "   ----------- ---------------------------- 7.1/24.8 MB 676.8 kB/s eta 0:00:27\n",
      "   ----------- ---------------------------- 7.1/24.8 MB 675.8 kB/s eta 0:00:27\n",
      "   ----------- ---------------------------- 7.2/24.8 MB 675.7 kB/s eta 0:00:27\n",
      "   ----------- ---------------------------- 7.2/24.8 MB 674.6 kB/s eta 0:00:27\n",
      "   ----------- ---------------------------- 7.2/24.8 MB 674.6 kB/s eta 0:00:27\n",
      "   ----------- ---------------------------- 7.2/24.8 MB 672.5 kB/s eta 0:00:27\n",
      "   ----------- ---------------------------- 7.3/24.8 MB 671.5 kB/s eta 0:00:27\n",
      "   ----------- ---------------------------- 7.3/24.8 MB 670.5 kB/s eta 0:00:27\n",
      "   ----------- ---------------------------- 7.3/24.8 MB 670.5 kB/s eta 0:00:27\n",
      "   ----------- ---------------------------- 7.3/24.8 MB 670.5 kB/s eta 0:00:27\n",
      "   ----------- ---------------------------- 7.3/24.8 MB 670.5 kB/s eta 0:00:27\n",
      "   ----------- ---------------------------- 7.3/24.8 MB 661.9 kB/s eta 0:00:27\n",
      "   ----------- ---------------------------- 7.3/24.8 MB 660.9 kB/s eta 0:00:27\n",
      "   ----------- ---------------------------- 7.4/24.8 MB 661.8 kB/s eta 0:00:27\n",
      "   ----------- ---------------------------- 7.4/24.8 MB 659.0 kB/s eta 0:00:27\n",
      "   ----------- ---------------------------- 7.4/24.8 MB 659.1 kB/s eta 0:00:27\n",
      "   ------------ --------------------------- 7.4/24.8 MB 659.9 kB/s eta 0:00:27\n",
      "   ------------ --------------------------- 7.5/24.8 MB 659.9 kB/s eta 0:00:27\n",
      "   ------------ --------------------------- 7.5/24.8 MB 659.0 kB/s eta 0:00:27\n",
      "   ------------ --------------------------- 7.5/24.8 MB 659.0 kB/s eta 0:00:27\n",
      "   ------------ --------------------------- 7.5/24.8 MB 658.1 kB/s eta 0:00:27\n",
      "   ------------ --------------------------- 7.6/24.8 MB 658.1 kB/s eta 0:00:27\n",
      "   ------------ --------------------------- 7.6/24.8 MB 658.9 kB/s eta 0:00:27\n",
      "   ------------ --------------------------- 7.6/24.8 MB 658.9 kB/s eta 0:00:27\n",
      "   ------------ --------------------------- 7.6/24.8 MB 657.1 kB/s eta 0:00:27\n",
      "   ------------ --------------------------- 7.6/24.8 MB 657.1 kB/s eta 0:00:27\n",
      "   ------------ --------------------------- 7.6/24.8 MB 657.1 kB/s eta 0:00:27\n",
      "   ------------ --------------------------- 7.7/24.8 MB 651.9 kB/s eta 0:00:27\n",
      "   ------------ --------------------------- 7.7/24.8 MB 651.9 kB/s eta 0:00:27\n",
      "   ------------ --------------------------- 7.7/24.8 MB 651.9 kB/s eta 0:00:27\n",
      "   ------------ --------------------------- 7.7/24.8 MB 648.5 kB/s eta 0:00:27\n",
      "   ------------ --------------------------- 7.7/24.8 MB 647.6 kB/s eta 0:00:27\n",
      "   ------------ --------------------------- 7.7/24.8 MB 647.6 kB/s eta 0:00:27\n",
      "   ------------ --------------------------- 7.7/24.8 MB 647.6 kB/s eta 0:00:27\n",
      "   ------------ --------------------------- 7.7/24.8 MB 647.6 kB/s eta 0:00:27\n",
      "   ------------ --------------------------- 7.7/24.8 MB 647.6 kB/s eta 0:00:27\n",
      "   ------------ --------------------------- 7.7/24.8 MB 647.6 kB/s eta 0:00:27\n",
      "   ------------ --------------------------- 7.7/24.8 MB 647.6 kB/s eta 0:00:27\n",
      "   ------------ --------------------------- 7.7/24.8 MB 647.6 kB/s eta 0:00:27\n",
      "   ------------ --------------------------- 7.8/24.8 MB 628.8 kB/s eta 0:00:28\n",
      "   ------------ --------------------------- 7.8/24.8 MB 628.9 kB/s eta 0:00:28\n",
      "   ------------ --------------------------- 7.8/24.8 MB 628.9 kB/s eta 0:00:28\n",
      "   ------------ --------------------------- 7.8/24.8 MB 628.9 kB/s eta 0:00:28\n",
      "   ------------ --------------------------- 7.8/24.8 MB 628.9 kB/s eta 0:00:28\n",
      "   ------------ --------------------------- 7.8/24.8 MB 628.9 kB/s eta 0:00:28\n",
      "   ------------ --------------------------- 7.8/24.8 MB 628.9 kB/s eta 0:00:28\n",
      "   ------------ --------------------------- 7.8/24.8 MB 614.1 kB/s eta 0:00:28\n",
      "   ------------ --------------------------- 7.8/24.8 MB 613.4 kB/s eta 0:00:28\n",
      "   ------------ --------------------------- 7.8/24.8 MB 613.4 kB/s eta 0:00:28\n",
      "   ------------ --------------------------- 7.8/24.8 MB 613.4 kB/s eta 0:00:28\n",
      "   ------------ --------------------------- 7.8/24.8 MB 609.0 kB/s eta 0:00:28\n",
      "   ------------ --------------------------- 7.8/24.8 MB 606.9 kB/s eta 0:00:28\n",
      "   ------------ --------------------------- 7.8/24.8 MB 606.9 kB/s eta 0:00:28\n",
      "   ------------ --------------------------- 7.8/24.8 MB 606.9 kB/s eta 0:00:28\n",
      "   ------------ --------------------------- 7.8/24.8 MB 606.9 kB/s eta 0:00:28\n",
      "   ------------ --------------------------- 7.8/24.8 MB 606.9 kB/s eta 0:00:28\n",
      "   ------------ --------------------------- 7.9/24.8 MB 599.1 kB/s eta 0:00:29\n",
      "   ------------ --------------------------- 7.9/24.8 MB 597.0 kB/s eta 0:00:29\n",
      "   ------------ --------------------------- 7.9/24.8 MB 597.0 kB/s eta 0:00:29\n",
      "   ------------ --------------------------- 7.9/24.8 MB 597.0 kB/s eta 0:00:29\n",
      "   ------------ --------------------------- 7.9/24.8 MB 597.0 kB/s eta 0:00:29\n",
      "   ------------ --------------------------- 7.9/24.8 MB 597.0 kB/s eta 0:00:29\n",
      "   ------------ --------------------------- 7.9/24.8 MB 597.0 kB/s eta 0:00:29\n",
      "   ------------ --------------------------- 7.9/24.8 MB 585.4 kB/s eta 0:00:29\n",
      "   ------------ --------------------------- 7.9/24.8 MB 585.6 kB/s eta 0:00:29\n",
      "   ------------ --------------------------- 7.9/24.8 MB 585.6 kB/s eta 0:00:29\n",
      "   ------------ --------------------------- 7.9/24.8 MB 583.1 kB/s eta 0:00:29\n",
      "   ------------ --------------------------- 7.9/24.8 MB 581.8 kB/s eta 0:00:29\n",
      "   ------------ --------------------------- 8.0/24.8 MB 581.2 kB/s eta 0:00:29\n",
      "   ------------ --------------------------- 8.0/24.8 MB 580.7 kB/s eta 0:00:29\n",
      "   ------------ --------------------------- 8.0/24.8 MB 579.5 kB/s eta 0:00:30\n",
      "   ------------ --------------------------- 8.0/24.8 MB 578.4 kB/s eta 0:00:30\n",
      "   ------------ --------------------------- 8.0/24.8 MB 577.1 kB/s eta 0:00:30\n",
      "   ------------ --------------------------- 8.0/24.8 MB 576.7 kB/s eta 0:00:30\n",
      "   ------------ --------------------------- 8.1/24.8 MB 576.8 kB/s eta 0:00:30\n",
      "   ------------ --------------------------- 8.1/24.8 MB 576.8 kB/s eta 0:00:30\n",
      "   ------------- -------------------------- 8.1/24.8 MB 573.7 kB/s eta 0:00:30\n",
      "   ------------- -------------------------- 8.1/24.8 MB 573.4 kB/s eta 0:00:30\n",
      "   ------------- -------------------------- 8.1/24.8 MB 573.4 kB/s eta 0:00:30\n",
      "   ------------- -------------------------- 8.1/24.8 MB 572.5 kB/s eta 0:00:30\n",
      "   ------------- -------------------------- 8.1/24.8 MB 572.5 kB/s eta 0:00:30\n",
      "   ------------- -------------------------- 8.1/24.8 MB 572.5 kB/s eta 0:00:30\n",
      "   ------------- -------------------------- 8.1/24.8 MB 572.5 kB/s eta 0:00:30\n",
      "   ------------- -------------------------- 8.1/24.8 MB 572.5 kB/s eta 0:00:30\n",
      "   ------------- -------------------------- 8.2/24.8 MB 566.0 kB/s eta 0:00:30\n",
      "   ------------- -------------------------- 8.2/24.8 MB 566.0 kB/s eta 0:00:30\n",
      "   ------------- -------------------------- 8.2/24.8 MB 563.8 kB/s eta 0:00:30\n",
      "   ------------- -------------------------- 8.2/24.8 MB 563.8 kB/s eta 0:00:30\n",
      "   ------------- -------------------------- 8.2/24.8 MB 561.0 kB/s eta 0:00:30\n",
      "   ------------- -------------------------- 8.2/24.8 MB 561.0 kB/s eta 0:00:30\n",
      "   ------------- -------------------------- 8.3/24.8 MB 560.1 kB/s eta 0:00:30\n",
      "   ------------- -------------------------- 8.3/24.8 MB 558.4 kB/s eta 0:00:30\n",
      "   ------------- -------------------------- 8.3/24.8 MB 558.2 kB/s eta 0:00:30\n",
      "   ------------- -------------------------- 8.3/24.8 MB 558.2 kB/s eta 0:00:30\n",
      "   ------------- -------------------------- 8.3/24.8 MB 556.5 kB/s eta 0:00:30\n",
      "   ------------- -------------------------- 8.3/24.8 MB 556.8 kB/s eta 0:00:30\n",
      "   ------------- -------------------------- 8.4/24.8 MB 555.9 kB/s eta 0:00:30\n",
      "   ------------- -------------------------- 8.4/24.8 MB 555.9 kB/s eta 0:00:30\n",
      "   ------------- -------------------------- 8.4/24.8 MB 553.8 kB/s eta 0:00:30\n",
      "   ------------- -------------------------- 8.4/24.8 MB 552.8 kB/s eta 0:00:30\n",
      "   ------------- -------------------------- 8.4/24.8 MB 553.0 kB/s eta 0:00:30\n",
      "   ------------- -------------------------- 8.4/24.8 MB 552.0 kB/s eta 0:00:30\n",
      "   ------------- -------------------------- 8.4/24.8 MB 552.2 kB/s eta 0:00:30\n",
      "   ------------- -------------------------- 8.4/24.8 MB 552.2 kB/s eta 0:00:30\n",
      "   ------------- -------------------------- 8.5/24.8 MB 549.6 kB/s eta 0:00:30\n",
      "   ------------- -------------------------- 8.5/24.8 MB 548.0 kB/s eta 0:00:30\n",
      "   ------------- -------------------------- 8.5/24.8 MB 548.2 kB/s eta 0:00:30\n",
      "   ------------- -------------------------- 8.5/24.8 MB 547.5 kB/s eta 0:00:30\n",
      "   ------------- -------------------------- 8.6/24.8 MB 547.7 kB/s eta 0:00:30\n",
      "   ------------- -------------------------- 8.6/24.8 MB 547.7 kB/s eta 0:00:30\n",
      "   ------------- -------------------------- 8.6/24.8 MB 546.1 kB/s eta 0:00:30\n",
      "   ------------- -------------------------- 8.6/24.8 MB 545.8 kB/s eta 0:00:30\n",
      "   ------------- -------------------------- 8.6/24.8 MB 544.8 kB/s eta 0:00:30\n",
      "   ------------- -------------------------- 8.6/24.8 MB 544.8 kB/s eta 0:00:30\n",
      "   ------------- -------------------------- 8.6/24.8 MB 544.8 kB/s eta 0:00:30\n",
      "   ------------- -------------------------- 8.6/24.8 MB 544.8 kB/s eta 0:00:30\n",
      "   ------------- -------------------------- 8.6/24.8 MB 544.8 kB/s eta 0:00:30\n",
      "   ------------- -------------------------- 8.6/24.8 MB 544.8 kB/s eta 0:00:30\n",
      "   ------------- -------------------------- 8.6/24.8 MB 544.8 kB/s eta 0:00:30\n",
      "   ------------- -------------------------- 8.6/24.8 MB 534.7 kB/s eta 0:00:31\n",
      "   ------------- -------------------------- 8.6/24.8 MB 534.7 kB/s eta 0:00:31\n",
      "   ------------- -------------------------- 8.7/24.8 MB 534.0 kB/s eta 0:00:31\n",
      "   ------------- -------------------------- 8.7/24.8 MB 533.1 kB/s eta 0:00:31\n",
      "   -------------- ------------------------- 8.7/24.8 MB 533.4 kB/s eta 0:00:31\n",
      "   -------------- ------------------------- 8.7/24.8 MB 533.2 kB/s eta 0:00:31\n",
      "   -------------- ------------------------- 8.7/24.8 MB 533.2 kB/s eta 0:00:31\n",
      "   -------------- ------------------------- 8.8/24.8 MB 532.0 kB/s eta 0:00:31\n",
      "   -------------- ------------------------- 8.8/24.8 MB 532.0 kB/s eta 0:00:31\n",
      "   -------------- ------------------------- 8.8/24.8 MB 531.5 kB/s eta 0:00:31\n",
      "   -------------- ------------------------- 8.8/24.8 MB 531.5 kB/s eta 0:00:31\n",
      "   -------------- ------------------------- 8.8/24.8 MB 531.5 kB/s eta 0:00:31\n",
      "   -------------- ------------------------- 8.8/24.8 MB 529.3 kB/s eta 0:00:31\n",
      "   -------------- ------------------------- 8.8/24.8 MB 529.3 kB/s eta 0:00:31\n",
      "   -------------- ------------------------- 8.8/24.8 MB 527.0 kB/s eta 0:00:31\n",
      "   -------------- ------------------------- 8.8/24.8 MB 527.0 kB/s eta 0:00:31\n",
      "   -------------- ------------------------- 8.9/24.8 MB 526.3 kB/s eta 0:00:31\n",
      "   -------------- ------------------------- 8.9/24.8 MB 525.0 kB/s eta 0:00:31\n",
      "   -------------- ------------------------- 8.9/24.8 MB 524.6 kB/s eta 0:00:31\n",
      "   -------------- ------------------------- 8.9/24.8 MB 524.4 kB/s eta 0:00:31\n",
      "   -------------- ------------------------- 8.9/24.8 MB 524.4 kB/s eta 0:00:31\n",
      "   -------------- ------------------------- 8.9/24.8 MB 524.4 kB/s eta 0:00:31\n",
      "   -------------- ------------------------- 9.0/24.8 MB 523.8 kB/s eta 0:00:31\n",
      "   -------------- ------------------------- 9.0/24.8 MB 523.8 kB/s eta 0:00:31\n",
      "   -------------- ------------------------- 9.0/24.8 MB 523.5 kB/s eta 0:00:31\n",
      "   -------------- ------------------------- 9.0/24.8 MB 522.6 kB/s eta 0:00:31\n",
      "   -------------- ------------------------- 9.0/24.8 MB 522.6 kB/s eta 0:00:31\n",
      "   -------------- ------------------------- 9.1/24.8 MB 521.5 kB/s eta 0:00:31\n",
      "   -------------- ------------------------- 9.1/24.8 MB 521.8 kB/s eta 0:00:31\n",
      "   -------------- ------------------------- 9.1/24.8 MB 521.6 kB/s eta 0:00:31\n",
      "   -------------- ------------------------- 9.1/24.8 MB 521.9 kB/s eta 0:00:31\n",
      "   -------------- ------------------------- 9.2/24.8 MB 522.2 kB/s eta 0:00:30\n",
      "   -------------- ------------------------- 9.2/24.8 MB 522.1 kB/s eta 0:00:30\n",
      "   -------------- ------------------------- 9.2/24.8 MB 521.7 kB/s eta 0:00:30\n",
      "   -------------- ------------------------- 9.2/24.8 MB 521.5 kB/s eta 0:00:30\n",
      "   -------------- ------------------------- 9.3/24.8 MB 521.9 kB/s eta 0:00:30\n",
      "   -------------- ------------------------- 9.3/24.8 MB 521.9 kB/s eta 0:00:30\n",
      "   -------------- ------------------------- 9.3/24.8 MB 520.4 kB/s eta 0:00:30\n",
      "   --------------- ------------------------ 9.3/24.8 MB 520.6 kB/s eta 0:00:30\n",
      "   --------------- ------------------------ 9.3/24.8 MB 520.5 kB/s eta 0:00:30\n",
      "   --------------- ------------------------ 9.4/24.8 MB 520.8 kB/s eta 0:00:30\n",
      "   --------------- ------------------------ 9.4/24.8 MB 520.7 kB/s eta 0:00:30\n",
      "   --------------- ------------------------ 9.4/24.8 MB 520.6 kB/s eta 0:00:30\n",
      "   --------------- ------------------------ 9.4/24.8 MB 520.3 kB/s eta 0:00:30\n",
      "   --------------- ------------------------ 9.5/24.8 MB 520.5 kB/s eta 0:00:30\n",
      "   --------------- ------------------------ 9.5/24.8 MB 520.5 kB/s eta 0:00:30\n",
      "   --------------- ------------------------ 9.5/24.8 MB 520.6 kB/s eta 0:00:30\n",
      "   --------------- ------------------------ 9.5/24.8 MB 520.1 kB/s eta 0:00:30\n",
      "   --------------- ------------------------ 9.6/24.8 MB 520.8 kB/s eta 0:00:30\n",
      "   --------------- ------------------------ 9.6/24.8 MB 520.8 kB/s eta 0:00:30\n",
      "   --------------- ------------------------ 9.6/24.8 MB 521.0 kB/s eta 0:00:30\n",
      "   --------------- ------------------------ 9.6/24.8 MB 521.0 kB/s eta 0:00:30\n",
      "   --------------- ------------------------ 9.7/24.8 MB 520.5 kB/s eta 0:00:30\n",
      "   --------------- ------------------------ 9.7/24.8 MB 519.9 kB/s eta 0:00:30\n",
      "   --------------- ------------------------ 9.7/24.8 MB 520.6 kB/s eta 0:00:30\n",
      "   --------------- ------------------------ 9.7/24.8 MB 520.9 kB/s eta 0:00:29\n",
      "   --------------- ------------------------ 9.8/24.8 MB 521.2 kB/s eta 0:00:29\n",
      "   --------------- ------------------------ 9.8/24.8 MB 520.2 kB/s eta 0:00:29\n",
      "   --------------- ------------------------ 9.8/24.8 MB 520.3 kB/s eta 0:00:29\n",
      "   --------------- ------------------------ 9.8/24.8 MB 520.3 kB/s eta 0:00:29\n",
      "   --------------- ------------------------ 9.8/24.8 MB 520.3 kB/s eta 0:00:29\n",
      "   --------------- ------------------------ 9.8/24.8 MB 520.3 kB/s eta 0:00:29\n",
      "   --------------- ------------------------ 9.8/24.8 MB 517.8 kB/s eta 0:00:29\n",
      "   --------------- ------------------------ 9.8/24.8 MB 517.8 kB/s eta 0:00:29\n",
      "   --------------- ------------------------ 9.9/24.8 MB 517.3 kB/s eta 0:00:29\n",
      "   --------------- ------------------------ 9.9/24.8 MB 517.2 kB/s eta 0:00:29\n",
      "   ---------------- ----------------------- 9.9/24.8 MB 517.7 kB/s eta 0:00:29\n",
      "   ---------------- ----------------------- 9.9/24.8 MB 517.7 kB/s eta 0:00:29\n",
      "   ---------------- ----------------------- 10.0/24.8 MB 517.7 kB/s eta 0:00:29\n",
      "   ---------------- ----------------------- 10.0/24.8 MB 517.7 kB/s eta 0:00:29\n",
      "   ---------------- ----------------------- 10.0/24.8 MB 517.8 kB/s eta 0:00:29\n",
      "   ---------------- ----------------------- 10.1/24.8 MB 517.2 kB/s eta 0:00:29\n",
      "   ---------------- ----------------------- 10.1/24.8 MB 518.0 kB/s eta 0:00:29\n",
      "   ---------------- ----------------------- 10.1/24.8 MB 517.8 kB/s eta 0:00:29\n",
      "   ---------------- ----------------------- 10.1/24.8 MB 518.6 kB/s eta 0:00:29\n",
      "   ---------------- ----------------------- 10.2/24.8 MB 519.5 kB/s eta 0:00:29\n",
      "   ---------------- ----------------------- 10.2/24.8 MB 519.9 kB/s eta 0:00:29\n",
      "   ---------------- ----------------------- 10.3/24.8 MB 520.8 kB/s eta 0:00:28\n",
      "   ---------------- ----------------------- 10.3/24.8 MB 519.6 kB/s eta 0:00:28\n",
      "   ---------------- ----------------------- 10.3/24.8 MB 520.4 kB/s eta 0:00:28\n",
      "   ---------------- ----------------------- 10.4/24.8 MB 519.6 kB/s eta 0:00:28\n",
      "   ---------------- ----------------------- 10.4/24.8 MB 519.2 kB/s eta 0:00:28\n",
      "   ---------------- ----------------------- 10.4/24.8 MB 518.0 kB/s eta 0:00:28\n",
      "   ---------------- ----------------------- 10.4/24.8 MB 517.5 kB/s eta 0:00:28\n",
      "   ---------------- ----------------------- 10.5/24.8 MB 519.6 kB/s eta 0:00:28\n",
      "   ---------------- ----------------------- 10.5/24.8 MB 517.5 kB/s eta 0:00:28\n",
      "   ---------------- ----------------------- 10.5/24.8 MB 517.5 kB/s eta 0:00:28\n",
      "   ----------------- ---------------------- 10.5/24.8 MB 515.1 kB/s eta 0:00:28\n",
      "   ----------------- ---------------------- 10.6/24.8 MB 514.7 kB/s eta 0:00:28\n",
      "   ----------------- ---------------------- 10.6/24.8 MB 513.5 kB/s eta 0:00:28\n",
      "   ----------------- ---------------------- 10.6/24.8 MB 513.9 kB/s eta 0:00:28\n",
      "   ----------------- ---------------------- 10.7/24.8 MB 512.7 kB/s eta 0:00:28\n",
      "   ----------------- ---------------------- 10.7/24.8 MB 511.1 kB/s eta 0:00:28\n",
      "   ----------------- ---------------------- 10.7/24.8 MB 510.7 kB/s eta 0:00:28\n",
      "   ----------------- ---------------------- 10.8/24.8 MB 509.5 kB/s eta 0:00:28\n",
      "   ----------------- ---------------------- 10.8/24.8 MB 509.5 kB/s eta 0:00:28\n",
      "   ----------------- ---------------------- 10.8/24.8 MB 509.5 kB/s eta 0:00:28\n",
      "   ----------------- ---------------------- 10.8/24.8 MB 509.5 kB/s eta 0:00:28\n",
      "   ----------------- ---------------------- 10.8/24.8 MB 509.5 kB/s eta 0:00:28\n",
      "   ----------------- ---------------------- 10.8/24.8 MB 509.5 kB/s eta 0:00:28\n",
      "   ----------------- ---------------------- 10.8/24.8 MB 509.5 kB/s eta 0:00:28\n",
      "   ----------------- ---------------------- 10.8/24.8 MB 509.5 kB/s eta 0:00:28\n",
      "   ----------------- ---------------------- 10.9/24.8 MB 502.8 kB/s eta 0:00:28\n",
      "   ----------------- ---------------------- 10.9/24.8 MB 502.5 kB/s eta 0:00:28\n",
      "   ----------------- ---------------------- 11.0/24.8 MB 500.9 kB/s eta 0:00:28\n",
      "   ----------------- ---------------------- 11.0/24.8 MB 499.8 kB/s eta 0:00:28\n",
      "   ----------------- ---------------------- 11.0/24.8 MB 499.0 kB/s eta 0:00:28\n",
      "   ----------------- ---------------------- 11.0/24.8 MB 497.9 kB/s eta 0:00:28\n",
      "   ----------------- ---------------------- 11.0/24.8 MB 497.9 kB/s eta 0:00:28\n",
      "   ----------------- ---------------------- 11.0/24.8 MB 497.9 kB/s eta 0:00:28\n",
      "   ----------------- ---------------------- 11.0/24.8 MB 497.9 kB/s eta 0:00:28\n",
      "   ----------------- ---------------------- 11.0/24.8 MB 497.9 kB/s eta 0:00:28\n",
      "   ----------------- ---------------------- 11.0/24.8 MB 497.9 kB/s eta 0:00:28\n",
      "   ----------------- ---------------------- 11.0/24.8 MB 497.9 kB/s eta 0:00:28\n",
      "   ----------------- ---------------------- 11.0/24.8 MB 497.9 kB/s eta 0:00:28\n",
      "   ----------------- ---------------------- 11.0/24.8 MB 497.9 kB/s eta 0:00:28\n",
      "   ----------------- ---------------------- 11.0/24.8 MB 497.9 kB/s eta 0:00:28\n",
      "   ----------------- ---------------------- 11.0/24.8 MB 497.9 kB/s eta 0:00:28\n",
      "   ----------------- ---------------------- 11.0/24.8 MB 497.9 kB/s eta 0:00:28\n",
      "   ----------------- ---------------------- 11.0/24.8 MB 497.9 kB/s eta 0:00:28\n",
      "   ----------------- ---------------------- 11.0/24.8 MB 497.9 kB/s eta 0:00:28\n",
      "   ----------------- ---------------------- 11.0/24.8 MB 497.9 kB/s eta 0:00:28\n",
      "   ----------------- ---------------------- 11.2/24.8 MB 484.6 kB/s eta 0:00:29\n",
      "   ----------------- ---------------------- 11.2/24.8 MB 484.6 kB/s eta 0:00:29\n",
      "   ----------------- ---------------------- 11.2/24.8 MB 484.6 kB/s eta 0:00:29\n",
      "   ----------------- ---------------------- 11.2/24.8 MB 484.6 kB/s eta 0:00:29\n",
      "   ----------------- ---------------------- 11.2/24.8 MB 484.6 kB/s eta 0:00:29\n",
      "   ----------------- ---------------------- 11.2/24.8 MB 484.6 kB/s eta 0:00:29\n",
      "   ----------------- ---------------------- 11.2/24.8 MB 484.6 kB/s eta 0:00:29\n",
      "   ----------------- ---------------------- 11.2/24.8 MB 484.6 kB/s eta 0:00:29\n",
      "   ----------------- ---------------------- 11.2/24.8 MB 484.6 kB/s eta 0:00:29\n",
      "   ----------------- ---------------------- 11.2/24.8 MB 484.6 kB/s eta 0:00:29\n",
      "   ----------------- ---------------------- 11.2/24.8 MB 484.6 kB/s eta 0:00:29\n",
      "   ----------------- ---------------------- 11.2/24.8 MB 484.6 kB/s eta 0:00:29\n",
      "   ----------------- ---------------------- 11.2/24.8 MB 484.6 kB/s eta 0:00:29\n",
      "   ----------------- ---------------------- 11.2/24.8 MB 484.6 kB/s eta 0:00:29\n",
      "   ----------------- ---------------------- 11.2/24.8 MB 484.6 kB/s eta 0:00:29\n",
      "   ----------------- ---------------------- 11.2/24.8 MB 484.6 kB/s eta 0:00:29\n",
      "   ------------------ --------------------- 11.2/24.8 MB 468.0 kB/s eta 0:00:30\n",
      "   ------------------ --------------------- 11.2/24.8 MB 467.0 kB/s eta 0:00:30\n",
      "   ------------------ --------------------- 11.2/24.8 MB 466.3 kB/s eta 0:00:30\n",
      "   ------------------ --------------------- 11.2/24.8 MB 465.7 kB/s eta 0:00:30\n",
      "   ------------------ --------------------- 11.3/24.8 MB 464.7 kB/s eta 0:00:30\n",
      "   ------------------ --------------------- 11.3/24.8 MB 464.7 kB/s eta 0:00:30\n",
      "   ------------------ --------------------- 11.3/24.8 MB 469.3 kB/s eta 0:00:29\n",
      "   ------------------ --------------------- 11.3/24.8 MB 467.6 kB/s eta 0:00:29\n",
      "   ------------------ --------------------- 11.3/24.8 MB 467.6 kB/s eta 0:00:29\n",
      "   ------------------ --------------------- 11.3/24.8 MB 467.6 kB/s eta 0:00:29\n",
      "   ------------------ --------------------- 11.3/24.8 MB 467.6 kB/s eta 0:00:29\n",
      "   ------------------ --------------------- 11.3/24.8 MB 463.7 kB/s eta 0:00:30\n",
      "   ------------------ --------------------- 11.3/24.8 MB 463.0 kB/s eta 0:00:30\n",
      "   ------------------ --------------------- 11.4/24.8 MB 462.4 kB/s eta 0:00:30\n",
      "   ------------------ --------------------- 11.4/24.8 MB 460.7 kB/s eta 0:00:30\n",
      "   ------------------ --------------------- 11.4/24.8 MB 460.1 kB/s eta 0:00:30\n",
      "   ------------------ --------------------- 11.4/24.8 MB 459.1 kB/s eta 0:00:30\n",
      "   ------------------ --------------------- 11.5/24.8 MB 459.5 kB/s eta 0:00:30\n",
      "   ------------------ --------------------- 11.5/24.8 MB 458.5 kB/s eta 0:00:30\n",
      "   ------------------ --------------------- 11.5/24.8 MB 457.9 kB/s eta 0:00:29\n",
      "   ------------------ --------------------- 11.6/24.8 MB 456.6 kB/s eta 0:00:30\n",
      "   ------------------ --------------------- 11.6/24.8 MB 455.9 kB/s eta 0:00:29\n",
      "   ------------------ --------------------- 11.6/24.8 MB 456.9 kB/s eta 0:00:29\n",
      "   ------------------ --------------------- 11.7/24.8 MB 457.2 kB/s eta 0:00:29\n",
      "   ------------------ --------------------- 11.7/24.8 MB 456.6 kB/s eta 0:00:29\n",
      "   ------------------ --------------------- 11.7/24.8 MB 456.2 kB/s eta 0:00:29\n",
      "   ------------------ --------------------- 11.7/24.8 MB 455.0 kB/s eta 0:00:29\n",
      "   ------------------- -------------------- 11.8/24.8 MB 454.7 kB/s eta 0:00:29\n",
      "   ------------------- -------------------- 11.8/24.8 MB 454.0 kB/s eta 0:00:29\n",
      "   ------------------- -------------------- 11.9/24.8 MB 453.1 kB/s eta 0:00:29\n",
      "   ------------------- -------------------- 11.9/24.8 MB 453.1 kB/s eta 0:00:29\n",
      "   ------------------- -------------------- 11.9/24.8 MB 452.5 kB/s eta 0:00:29\n",
      "   ------------------- -------------------- 11.9/24.8 MB 452.5 kB/s eta 0:00:29\n",
      "   ------------------- -------------------- 12.1/24.8 MB 450.9 kB/s eta 0:00:29\n",
      "   ------------------- -------------------- 12.1/24.8 MB 451.5 kB/s eta 0:00:29\n",
      "   ------------------- -------------------- 12.1/24.8 MB 450.6 kB/s eta 0:00:29\n",
      "   ------------------- -------------------- 12.1/24.8 MB 450.0 kB/s eta 0:00:29\n",
      "   ------------------- -------------------- 12.2/24.8 MB 448.7 kB/s eta 0:00:29\n",
      "   ------------------- -------------------- 12.2/24.8 MB 447.5 kB/s eta 0:00:29\n",
      "   ------------------- -------------------- 12.3/24.8 MB 447.8 kB/s eta 0:00:29\n",
      "   ------------------- -------------------- 12.3/24.8 MB 449.7 kB/s eta 0:00:28\n",
      "   ------------------- -------------------- 12.3/24.8 MB 449.4 kB/s eta 0:00:28\n",
      "   ------------------- -------------------- 12.4/24.8 MB 447.8 kB/s eta 0:00:28\n",
      "   ------------------- -------------------- 12.4/24.8 MB 446.9 kB/s eta 0:00:28\n",
      "   -------------------- ------------------- 12.4/24.8 MB 446.3 kB/s eta 0:00:28\n",
      "   -------------------- ------------------- 12.4/24.8 MB 446.3 kB/s eta 0:00:28\n",
      "   -------------------- ------------------- 12.4/24.8 MB 446.3 kB/s eta 0:00:28\n",
      "   -------------------- ------------------- 12.4/24.8 MB 446.3 kB/s eta 0:00:28\n",
      "   -------------------- ------------------- 12.4/24.8 MB 446.3 kB/s eta 0:00:28\n",
      "   -------------------- ------------------- 12.4/24.8 MB 446.3 kB/s eta 0:00:28\n",
      "   -------------------- ------------------- 12.4/24.8 MB 446.3 kB/s eta 0:00:28\n",
      "   -------------------- ------------------- 12.4/24.8 MB 446.3 kB/s eta 0:00:28\n",
      "   -------------------- ------------------- 12.5/24.8 MB 441.2 kB/s eta 0:00:28\n",
      "   -------------------- ------------------- 12.6/24.8 MB 440.6 kB/s eta 0:00:28\n",
      "   -------------------- ------------------- 12.6/24.8 MB 439.1 kB/s eta 0:00:28\n",
      "   -------------------- ------------------- 12.6/24.8 MB 438.5 kB/s eta 0:00:28\n",
      "   -------------------- ------------------- 12.6/24.8 MB 437.4 kB/s eta 0:00:28\n",
      "   -------------------- ------------------- 12.7/24.8 MB 437.6 kB/s eta 0:00:28\n",
      "   -------------------- ------------------- 12.7/24.8 MB 437.3 kB/s eta 0:00:28\n",
      "   -------------------- ------------------- 12.7/24.8 MB 437.3 kB/s eta 0:00:28\n",
      "   -------------------- ------------------- 12.8/24.8 MB 436.2 kB/s eta 0:00:28\n",
      "   -------------------- ------------------- 12.8/24.8 MB 436.2 kB/s eta 0:00:28\n",
      "   -------------------- ------------------- 12.8/24.8 MB 435.6 kB/s eta 0:00:28\n",
      "   -------------------- ------------------- 12.8/24.8 MB 435.0 kB/s eta 0:00:28\n",
      "   -------------------- ------------------- 12.9/24.8 MB 434.7 kB/s eta 0:00:28\n",
      "   -------------------- ------------------- 12.9/24.8 MB 434.4 kB/s eta 0:00:28\n",
      "   -------------------- ------------------- 12.9/24.8 MB 434.4 kB/s eta 0:00:28\n",
      "   -------------------- ------------------- 13.0/24.8 MB 433.3 kB/s eta 0:00:28\n",
      "   -------------------- ------------------- 13.0/24.8 MB 434.7 kB/s eta 0:00:28\n",
      "   -------------------- ------------------- 13.0/24.8 MB 433.6 kB/s eta 0:00:28\n",
      "   --------------------- ------------------ 13.0/24.8 MB 432.4 kB/s eta 0:00:28\n",
      "   --------------------- ------------------ 13.1/24.8 MB 432.4 kB/s eta 0:00:28\n",
      "   --------------------- ------------------ 13.1/24.8 MB 436.5 kB/s eta 0:00:27\n",
      "   --------------------- ------------------ 13.1/24.8 MB 436.5 kB/s eta 0:00:27\n",
      "   --------------------- ------------------ 13.1/24.8 MB 435.3 kB/s eta 0:00:27\n",
      "   --------------------- ------------------ 13.2/24.8 MB 435.0 kB/s eta 0:00:27\n",
      "   --------------------- ------------------ 13.2/24.8 MB 434.4 kB/s eta 0:00:27\n",
      "   --------------------- ------------------ 13.3/24.8 MB 434.1 kB/s eta 0:00:27\n",
      "   --------------------- ------------------ 13.3/24.8 MB 433.6 kB/s eta 0:00:27\n",
      "   --------------------- ------------------ 13.3/24.8 MB 433.6 kB/s eta 0:00:27\n",
      "   --------------------- ------------------ 13.4/24.8 MB 433.0 kB/s eta 0:00:27\n",
      "   --------------------- ------------------ 13.4/24.8 MB 432.1 kB/s eta 0:00:27\n",
      "   --------------------- ------------------ 13.4/24.8 MB 432.4 kB/s eta 0:00:27\n",
      "   --------------------- ------------------ 13.4/24.8 MB 431.9 kB/s eta 0:00:27\n",
      "   --------------------- ------------------ 13.5/24.8 MB 431.6 kB/s eta 0:00:27\n",
      "   --------------------- ------------------ 13.5/24.8 MB 431.0 kB/s eta 0:00:27\n",
      "   --------------------- ------------------ 13.6/24.8 MB 430.7 kB/s eta 0:00:27\n",
      "   --------------------- ------------------ 13.6/24.8 MB 429.6 kB/s eta 0:00:27\n",
      "   --------------------- ------------------ 13.6/24.8 MB 429.9 kB/s eta 0:00:26\n",
      "   ---------------------- ----------------- 13.7/24.8 MB 429.3 kB/s eta 0:00:26\n",
      "   ---------------------- ----------------- 13.7/24.8 MB 428.5 kB/s eta 0:00:26\n",
      "   ---------------------- ----------------- 13.7/24.8 MB 428.8 kB/s eta 0:00:26\n",
      "   ---------------------- ----------------- 13.8/24.8 MB 428.2 kB/s eta 0:00:26\n",
      "   ---------------------- ----------------- 13.8/24.8 MB 427.6 kB/s eta 0:00:26\n",
      "   ---------------------- ----------------- 13.8/24.8 MB 429.3 kB/s eta 0:00:26\n",
      "   ---------------------- ----------------- 13.9/24.8 MB 427.9 kB/s eta 0:00:26\n",
      "   ---------------------- ----------------- 13.9/24.8 MB 429.0 kB/s eta 0:00:26\n",
      "   ---------------------- ----------------- 13.9/24.8 MB 427.9 kB/s eta 0:00:26\n",
      "   ---------------------- ----------------- 14.0/24.8 MB 427.3 kB/s eta 0:00:26\n",
      "   ---------------------- ----------------- 14.0/24.8 MB 428.7 kB/s eta 0:00:26\n",
      "   ---------------------- ----------------- 14.0/24.8 MB 428.2 kB/s eta 0:00:26\n",
      "   ---------------------- ----------------- 14.0/24.8 MB 428.2 kB/s eta 0:00:26\n",
      "   ---------------------- ----------------- 14.0/24.8 MB 428.2 kB/s eta 0:00:26\n",
      "   ---------------------- ----------------- 14.2/24.8 MB 426.2 kB/s eta 0:00:25\n",
      "   ---------------------- ----------------- 14.2/24.8 MB 426.2 kB/s eta 0:00:25\n",
      "   ---------------------- ----------------- 14.2/24.8 MB 425.4 kB/s eta 0:00:25\n",
      "   ----------------------- ---------------- 14.3/24.8 MB 425.4 kB/s eta 0:00:25\n",
      "   ----------------------- ---------------- 14.3/24.8 MB 425.1 kB/s eta 0:00:25\n",
      "   ----------------------- ---------------- 14.3/24.8 MB 424.9 kB/s eta 0:00:25\n",
      "   ----------------------- ---------------- 14.4/24.8 MB 425.7 kB/s eta 0:00:25\n",
      "   ----------------------- ---------------- 14.4/24.8 MB 425.7 kB/s eta 0:00:25\n",
      "   ----------------------- ---------------- 14.4/24.8 MB 424.6 kB/s eta 0:00:25\n",
      "   ----------------------- ---------------- 14.4/24.8 MB 424.3 kB/s eta 0:00:25\n",
      "   ----------------------- ---------------- 14.4/24.8 MB 424.3 kB/s eta 0:00:25\n",
      "   ----------------------- ---------------- 14.4/24.8 MB 424.3 kB/s eta 0:00:25\n",
      "   ----------------------- ---------------- 14.4/24.8 MB 424.3 kB/s eta 0:00:25\n",
      "   ----------------------- ---------------- 14.5/24.8 MB 423.5 kB/s eta 0:00:25\n",
      "   ----------------------- ---------------- 14.5/24.8 MB 423.5 kB/s eta 0:00:25\n",
      "   ----------------------- ---------------- 14.5/24.8 MB 422.1 kB/s eta 0:00:25\n",
      "   ----------------------- ---------------- 14.6/24.8 MB 420.8 kB/s eta 0:00:25\n",
      "   ----------------------- ---------------- 14.6/24.8 MB 420.5 kB/s eta 0:00:25\n",
      "   ----------------------- ---------------- 14.6/24.8 MB 421.0 kB/s eta 0:00:25\n",
      "   ----------------------- ---------------- 14.6/24.8 MB 421.0 kB/s eta 0:00:25\n",
      "   ----------------------- ---------------- 14.6/24.8 MB 421.0 kB/s eta 0:00:25\n",
      "   ----------------------- ---------------- 14.6/24.8 MB 421.0 kB/s eta 0:00:25\n",
      "   ----------------------- ---------------- 14.6/24.8 MB 421.0 kB/s eta 0:00:25\n",
      "   ----------------------- ---------------- 14.7/24.8 MB 417.8 kB/s eta 0:00:25\n",
      "   ----------------------- ---------------- 14.7/24.8 MB 417.8 kB/s eta 0:00:25\n",
      "   ----------------------- ---------------- 14.7/24.8 MB 416.5 kB/s eta 0:00:25\n",
      "   ----------------------- ---------------- 14.7/24.8 MB 416.2 kB/s eta 0:00:25\n",
      "   ----------------------- ---------------- 14.7/24.8 MB 415.7 kB/s eta 0:00:25\n",
      "   ----------------------- ---------------- 14.7/24.8 MB 414.9 kB/s eta 0:00:25\n",
      "   ----------------------- ---------------- 14.8/24.8 MB 414.6 kB/s eta 0:00:25\n",
      "   ----------------------- ---------------- 14.8/24.8 MB 413.3 kB/s eta 0:00:25\n",
      "   ----------------------- ---------------- 14.8/24.8 MB 413.3 kB/s eta 0:00:25\n",
      "   ----------------------- ---------------- 14.8/24.8 MB 413.8 kB/s eta 0:00:25\n",
      "   ----------------------- ---------------- 14.8/24.8 MB 413.8 kB/s eta 0:00:25\n",
      "   ----------------------- ---------------- 14.8/24.8 MB 417.8 kB/s eta 0:00:24\n",
      "   ----------------------- ---------------- 14.9/24.8 MB 417.0 kB/s eta 0:00:24\n",
      "   ----------------------- ---------------- 14.9/24.8 MB 416.2 kB/s eta 0:00:24\n",
      "   ------------------------ --------------- 14.9/24.8 MB 418.1 kB/s eta 0:00:24\n",
      "   ------------------------ --------------- 14.9/24.8 MB 421.8 kB/s eta 0:00:24\n",
      "   ------------------------ --------------- 14.9/24.8 MB 421.3 kB/s eta 0:00:24\n",
      "   ------------------------ --------------- 15.0/24.8 MB 420.0 kB/s eta 0:00:24\n",
      "   ------------------------ --------------- 15.0/24.8 MB 439.7 kB/s eta 0:00:23\n",
      "   ------------------------ --------------- 15.0/24.8 MB 441.8 kB/s eta 0:00:23\n",
      "   ------------------------ --------------- 15.0/24.8 MB 443.0 kB/s eta 0:00:23\n",
      "   ------------------------ --------------- 15.0/24.8 MB 442.4 kB/s eta 0:00:23\n",
      "   ------------------------ --------------- 15.0/24.8 MB 442.4 kB/s eta 0:00:23\n",
      "   ------------------------ --------------- 15.0/24.8 MB 442.4 kB/s eta 0:00:23\n",
      "   ------------------------ --------------- 15.1/24.8 MB 446.9 kB/s eta 0:00:22\n",
      "   ------------------------ --------------- 15.1/24.8 MB 446.9 kB/s eta 0:00:22\n",
      "   ------------------------ --------------- 15.1/24.8 MB 446.6 kB/s eta 0:00:22\n",
      "   ------------------------ --------------- 15.2/24.8 MB 446.3 kB/s eta 0:00:22\n",
      "   ------------------------ --------------- 15.2/24.8 MB 446.0 kB/s eta 0:00:22\n",
      "   ------------------------ --------------- 15.2/24.8 MB 446.0 kB/s eta 0:00:22\n",
      "   ------------------------ --------------- 15.2/24.8 MB 446.6 kB/s eta 0:00:22\n",
      "   ------------------------ --------------- 15.2/24.8 MB 446.0 kB/s eta 0:00:22\n",
      "   ------------------------ --------------- 15.2/24.8 MB 445.1 kB/s eta 0:00:22\n",
      "   ------------------------ --------------- 15.2/24.8 MB 445.1 kB/s eta 0:00:22\n",
      "   ------------------------ --------------- 15.2/24.8 MB 445.1 kB/s eta 0:00:22\n",
      "   ------------------------ --------------- 15.2/24.8 MB 445.1 kB/s eta 0:00:22\n",
      "   ------------------------ --------------- 15.2/24.8 MB 445.1 kB/s eta 0:00:22\n",
      "   ------------------------ --------------- 15.2/24.8 MB 445.1 kB/s eta 0:00:22\n",
      "   ------------------------ --------------- 15.2/24.8 MB 445.1 kB/s eta 0:00:22\n",
      "   ------------------------ --------------- 15.2/24.8 MB 440.0 kB/s eta 0:00:22\n",
      "   ------------------------ --------------- 15.2/24.8 MB 440.0 kB/s eta 0:00:22\n",
      "   ------------------------ --------------- 15.2/24.8 MB 440.0 kB/s eta 0:00:22\n",
      "   ------------------------ --------------- 15.2/24.8 MB 440.0 kB/s eta 0:00:22\n",
      "   ------------------------ --------------- 15.2/24.8 MB 440.0 kB/s eta 0:00:22\n",
      "   ------------------------ --------------- 15.2/24.8 MB 440.0 kB/s eta 0:00:22\n",
      "   ------------------------ --------------- 15.2/24.8 MB 440.0 kB/s eta 0:00:22\n",
      "   ------------------------ --------------- 15.2/24.8 MB 440.0 kB/s eta 0:00:22\n",
      "   ------------------------ --------------- 15.2/24.8 MB 440.0 kB/s eta 0:00:22\n",
      "   ------------------------ --------------- 15.3/24.8 MB 432.4 kB/s eta 0:00:23\n",
      "   ------------------------ --------------- 15.3/24.8 MB 432.4 kB/s eta 0:00:23\n",
      "   ------------------------ --------------- 15.3/24.8 MB 432.4 kB/s eta 0:00:23\n",
      "   ------------------------ --------------- 15.3/24.8 MB 432.4 kB/s eta 0:00:23\n",
      "   ------------------------ --------------- 15.3/24.8 MB 428.8 kB/s eta 0:00:23\n",
      "   ------------------------ --------------- 15.3/24.8 MB 428.8 kB/s eta 0:00:23\n",
      "   ------------------------ --------------- 15.3/24.8 MB 428.8 kB/s eta 0:00:23\n",
      "   ------------------------ --------------- 15.3/24.8 MB 426.2 kB/s eta 0:00:23\n",
      "   ------------------------ --------------- 15.3/24.8 MB 426.2 kB/s eta 0:00:23\n",
      "   ------------------------ --------------- 15.3/24.8 MB 425.7 kB/s eta 0:00:23\n",
      "   ------------------------ --------------- 15.3/24.8 MB 424.9 kB/s eta 0:00:23\n",
      "   ------------------------ --------------- 15.3/24.8 MB 424.9 kB/s eta 0:00:23\n",
      "   ------------------------ --------------- 15.4/24.8 MB 423.5 kB/s eta 0:00:23\n",
      "   ------------------------ --------------- 15.4/24.8 MB 423.5 kB/s eta 0:00:23\n",
      "   ------------------------ --------------- 15.4/24.8 MB 422.4 kB/s eta 0:00:23\n",
      "   ------------------------ --------------- 15.4/24.8 MB 421.8 kB/s eta 0:00:23\n",
      "   ------------------------ --------------- 15.4/24.8 MB 421.8 kB/s eta 0:00:23\n",
      "   ------------------------ --------------- 15.4/24.8 MB 421.6 kB/s eta 0:00:23\n",
      "   ------------------------ --------------- 15.4/24.8 MB 420.5 kB/s eta 0:00:23\n",
      "   ------------------------ --------------- 15.4/24.8 MB 420.2 kB/s eta 0:00:23\n",
      "   ------------------------ --------------- 15.5/24.8 MB 420.0 kB/s eta 0:00:23\n",
      "   ------------------------ --------------- 15.5/24.8 MB 419.4 kB/s eta 0:00:23\n",
      "   ------------------------ --------------- 15.5/24.8 MB 419.9 kB/s eta 0:00:23\n",
      "   ------------------------ --------------- 15.5/24.8 MB 418.6 kB/s eta 0:00:23\n",
      "   ------------------------- -------------- 15.5/24.8 MB 418.9 kB/s eta 0:00:23\n",
      "   ------------------------- -------------- 15.5/24.8 MB 418.1 kB/s eta 0:00:23\n",
      "   ------------------------- -------------- 15.6/24.8 MB 417.3 kB/s eta 0:00:23\n",
      "   ------------------------- -------------- 15.6/24.8 MB 417.8 kB/s eta 0:00:23\n",
      "   ------------------------- -------------- 15.6/24.8 MB 417.8 kB/s eta 0:00:23\n",
      "   ------------------------- -------------- 15.6/24.8 MB 417.8 kB/s eta 0:00:23\n",
      "   ------------------------- -------------- 15.6/24.8 MB 417.8 kB/s eta 0:00:23\n",
      "   ------------------------- -------------- 15.6/24.8 MB 414.9 kB/s eta 0:00:23\n",
      "   ------------------------- -------------- 15.6/24.8 MB 415.4 kB/s eta 0:00:23\n",
      "   ------------------------- -------------- 15.6/24.8 MB 415.4 kB/s eta 0:00:23\n",
      "   ------------------------- -------------- 15.6/24.8 MB 415.4 kB/s eta 0:00:23\n",
      "   ------------------------- -------------- 15.7/24.8 MB 414.6 kB/s eta 0:00:23\n",
      "   ------------------------- -------------- 15.7/24.8 MB 414.6 kB/s eta 0:00:23\n",
      "   ------------------------- -------------- 15.7/24.8 MB 412.8 kB/s eta 0:00:23\n",
      "   ------------------------- -------------- 15.7/24.8 MB 412.0 kB/s eta 0:00:23\n",
      "   ------------------------- -------------- 15.7/24.8 MB 411.5 kB/s eta 0:00:23\n",
      "   ------------------------- -------------- 15.7/24.8 MB 411.5 kB/s eta 0:00:23\n",
      "   ------------------------- -------------- 15.7/24.8 MB 411.2 kB/s eta 0:00:23\n",
      "   ------------------------- -------------- 15.7/24.8 MB 411.2 kB/s eta 0:00:23\n",
      "   ------------------------- -------------- 15.7/24.8 MB 410.2 kB/s eta 0:00:23\n",
      "   ------------------------- -------------- 15.8/24.8 MB 409.4 kB/s eta 0:00:23\n",
      "   ------------------------- -------------- 15.8/24.8 MB 409.4 kB/s eta 0:00:23\n",
      "   ------------------------- -------------- 15.8/24.8 MB 409.4 kB/s eta 0:00:23\n",
      "   ------------------------- -------------- 15.8/24.8 MB 408.4 kB/s eta 0:00:23\n",
      "   ------------------------- -------------- 15.8/24.8 MB 408.4 kB/s eta 0:00:23\n",
      "   ------------------------- -------------- 15.8/24.8 MB 407.2 kB/s eta 0:00:23\n",
      "   ------------------------- -------------- 15.8/24.8 MB 407.2 kB/s eta 0:00:23\n",
      "   ------------------------- -------------- 15.8/24.8 MB 407.2 kB/s eta 0:00:23\n",
      "   ------------------------- -------------- 15.9/24.8 MB 405.1 kB/s eta 0:00:23\n",
      "   ------------------------- -------------- 15.9/24.8 MB 405.1 kB/s eta 0:00:23\n",
      "   ------------------------- -------------- 15.9/24.8 MB 404.1 kB/s eta 0:00:23\n",
      "   ------------------------- -------------- 15.9/24.8 MB 403.7 kB/s eta 0:00:23\n",
      "   ------------------------- -------------- 15.9/24.8 MB 403.1 kB/s eta 0:00:23\n",
      "   ------------------------- -------------- 15.9/24.8 MB 403.1 kB/s eta 0:00:23\n",
      "   ------------------------- -------------- 15.9/24.8 MB 401.9 kB/s eta 0:00:23\n",
      "   ------------------------- -------------- 15.9/24.8 MB 401.9 kB/s eta 0:00:23\n",
      "   ------------------------- -------------- 15.9/24.8 MB 401.9 kB/s eta 0:00:23\n",
      "   ------------------------- -------------- 15.9/24.8 MB 399.9 kB/s eta 0:00:23\n",
      "   ------------------------- -------------- 15.9/24.8 MB 399.5 kB/s eta 0:00:23\n",
      "   ------------------------- -------------- 16.0/24.8 MB 399.0 kB/s eta 0:00:23\n",
      "   ------------------------- -------------- 16.0/24.8 MB 399.0 kB/s eta 0:00:23\n",
      "   ------------------------- -------------- 16.0/24.8 MB 398.5 kB/s eta 0:00:23\n",
      "   ------------------------- -------------- 16.0/24.8 MB 397.8 kB/s eta 0:00:23\n",
      "   ------------------------- -------------- 16.0/24.8 MB 397.0 kB/s eta 0:00:23\n",
      "   ------------------------- -------------- 16.0/24.8 MB 397.0 kB/s eta 0:00:23\n",
      "   ------------------------- -------------- 16.0/24.8 MB 396.1 kB/s eta 0:00:23\n",
      "   ------------------------- -------------- 16.0/24.8 MB 395.6 kB/s eta 0:00:23\n",
      "   ------------------------- -------------- 16.0/24.8 MB 395.6 kB/s eta 0:00:23\n",
      "   ------------------------- -------------- 16.0/24.8 MB 395.6 kB/s eta 0:00:23\n",
      "   ------------------------- -------------- 16.0/24.8 MB 395.6 kB/s eta 0:00:23\n",
      "   ------------------------- -------------- 16.0/24.8 MB 395.6 kB/s eta 0:00:23\n",
      "   ------------------------- -------------- 16.0/24.8 MB 395.6 kB/s eta 0:00:23\n",
      "   ------------------------- -------------- 16.0/24.8 MB 395.6 kB/s eta 0:00:23\n",
      "   ------------------------- -------------- 16.0/24.8 MB 395.6 kB/s eta 0:00:23\n",
      "   ------------------------- -------------- 16.1/24.8 MB 390.6 kB/s eta 0:00:23\n",
      "   ------------------------- -------------- 16.1/24.8 MB 389.0 kB/s eta 0:00:23\n",
      "   ------------------------- -------------- 16.1/24.8 MB 389.0 kB/s eta 0:00:23\n",
      "   ------------------------- -------------- 16.1/24.8 MB 389.0 kB/s eta 0:00:23\n",
      "   ------------------------- -------------- 16.1/24.8 MB 387.6 kB/s eta 0:00:23\n",
      "   ------------------------- -------------- 16.1/24.8 MB 387.6 kB/s eta 0:00:23\n",
      "   ------------------------- -------------- 16.1/24.8 MB 386.7 kB/s eta 0:00:23\n",
      "   ------------------------- -------------- 16.1/24.8 MB 386.7 kB/s eta 0:00:23\n",
      "   ------------------------- -------------- 16.1/24.8 MB 386.7 kB/s eta 0:00:23\n",
      "   -------------------------- ------------- 16.1/24.8 MB 385.6 kB/s eta 0:00:23\n",
      "   -------------------------- ------------- 16.1/24.8 MB 385.6 kB/s eta 0:00:23\n",
      "   -------------------------- ------------- 16.1/24.8 MB 385.6 kB/s eta 0:00:23\n",
      "   -------------------------- ------------- 16.1/24.8 MB 385.6 kB/s eta 0:00:23\n",
      "   -------------------------- ------------- 16.1/24.8 MB 385.6 kB/s eta 0:00:23\n",
      "   -------------------------- ------------- 16.1/24.8 MB 385.6 kB/s eta 0:00:23\n",
      "   -------------------------- ------------- 16.1/24.8 MB 385.6 kB/s eta 0:00:23\n",
      "   -------------------------- ------------- 16.1/24.8 MB 385.6 kB/s eta 0:00:23\n",
      "   -------------------------- ------------- 16.1/24.8 MB 385.6 kB/s eta 0:00:23\n",
      "   -------------------------- ------------- 16.1/24.8 MB 379.8 kB/s eta 0:00:23\n",
      "   -------------------------- ------------- 16.2/24.8 MB 378.7 kB/s eta 0:00:23\n",
      "   -------------------------- ------------- 16.2/24.8 MB 378.7 kB/s eta 0:00:23\n",
      "   -------------------------- ------------- 16.2/24.8 MB 377.8 kB/s eta 0:00:23\n",
      "   -------------------------- ------------- 16.2/24.8 MB 378.2 kB/s eta 0:00:23\n",
      "   -------------------------- ------------- 16.2/24.8 MB 377.4 kB/s eta 0:00:23\n",
      "   -------------------------- ------------- 16.2/24.8 MB 377.1 kB/s eta 0:00:23\n",
      "   -------------------------- ------------- 16.2/24.8 MB 377.1 kB/s eta 0:00:23\n",
      "   -------------------------- ------------- 16.3/24.8 MB 376.7 kB/s eta 0:00:23\n",
      "   -------------------------- ------------- 16.3/24.8 MB 376.1 kB/s eta 0:00:23\n",
      "   -------------------------- ------------- 16.3/24.8 MB 375.8 kB/s eta 0:00:23\n",
      "   -------------------------- ------------- 16.3/24.8 MB 375.4 kB/s eta 0:00:23\n",
      "   -------------------------- ------------- 16.3/24.8 MB 375.4 kB/s eta 0:00:23\n",
      "   -------------------------- ------------- 16.3/24.8 MB 374.8 kB/s eta 0:00:23\n",
      "   -------------------------- ------------- 16.3/24.8 MB 374.3 kB/s eta 0:00:23\n",
      "   -------------------------- ------------- 16.3/24.8 MB 374.3 kB/s eta 0:00:23\n",
      "   -------------------------- ------------- 16.3/24.8 MB 374.3 kB/s eta 0:00:23\n",
      "   -------------------------- ------------- 16.3/24.8 MB 374.3 kB/s eta 0:00:23\n",
      "   -------------------------- ------------- 16.4/24.8 MB 372.4 kB/s eta 0:00:23\n",
      "   -------------------------- ------------- 16.4/24.8 MB 372.2 kB/s eta 0:00:23\n",
      "   -------------------------- ------------- 16.4/24.8 MB 371.8 kB/s eta 0:00:23\n",
      "   -------------------------- ------------- 16.4/24.8 MB 371.2 kB/s eta 0:00:23\n",
      "   -------------------------- ------------- 16.4/24.8 MB 371.2 kB/s eta 0:00:23\n",
      "   -------------------------- ------------- 16.4/24.8 MB 371.2 kB/s eta 0:00:23\n",
      "   -------------------------- ------------- 16.4/24.8 MB 371.2 kB/s eta 0:00:23\n",
      "   -------------------------- ------------- 16.5/24.8 MB 369.7 kB/s eta 0:00:23\n",
      "   -------------------------- ------------- 16.5/24.8 MB 370.7 kB/s eta 0:00:23\n",
      "   -------------------------- ------------- 16.5/24.8 MB 370.7 kB/s eta 0:00:23\n",
      "   -------------------------- ------------- 16.5/24.8 MB 369.3 kB/s eta 0:00:23\n",
      "   -------------------------- ------------- 16.5/24.8 MB 369.3 kB/s eta 0:00:23\n",
      "   -------------------------- ------------- 16.5/24.8 MB 368.2 kB/s eta 0:00:23\n",
      "   -------------------------- ------------- 16.6/24.8 MB 367.2 kB/s eta 0:00:23\n",
      "   -------------------------- ------------- 16.6/24.8 MB 367.2 kB/s eta 0:00:23\n",
      "   -------------------------- ------------- 16.6/24.8 MB 366.6 kB/s eta 0:00:23\n",
      "   -------------------------- ------------- 16.6/24.8 MB 366.6 kB/s eta 0:00:23\n",
      "   -------------------------- ------------- 16.6/24.8 MB 366.6 kB/s eta 0:00:23\n",
      "   -------------------------- ------------- 16.6/24.8 MB 365.2 kB/s eta 0:00:23\n",
      "   -------------------------- ------------- 16.6/24.8 MB 365.1 kB/s eta 0:00:23\n",
      "   -------------------------- ------------- 16.6/24.8 MB 365.1 kB/s eta 0:00:23\n",
      "   -------------------------- ------------- 16.6/24.8 MB 364.3 kB/s eta 0:00:23\n",
      "   -------------------------- ------------- 16.6/24.8 MB 364.3 kB/s eta 0:00:23\n",
      "   -------------------------- ------------- 16.6/24.8 MB 364.3 kB/s eta 0:00:23\n",
      "   -------------------------- ------------- 16.7/24.8 MB 362.9 kB/s eta 0:00:23\n",
      "   -------------------------- ------------- 16.7/24.8 MB 362.9 kB/s eta 0:00:23\n",
      "   -------------------------- ------------- 16.7/24.8 MB 362.9 kB/s eta 0:00:23\n",
      "   -------------------------- ------------- 16.7/24.8 MB 362.9 kB/s eta 0:00:23\n",
      "   -------------------------- ------------- 16.7/24.8 MB 362.9 kB/s eta 0:00:23\n",
      "   -------------------------- ------------- 16.7/24.8 MB 360.5 kB/s eta 0:00:23\n",
      "   -------------------------- ------------- 16.7/24.8 MB 360.5 kB/s eta 0:00:23\n",
      "   -------------------------- ------------- 16.7/24.8 MB 360.5 kB/s eta 0:00:23\n",
      "   -------------------------- ------------- 16.7/24.8 MB 360.5 kB/s eta 0:00:23\n",
      "   -------------------------- ------------- 16.7/24.8 MB 360.5 kB/s eta 0:00:23\n",
      "   -------------------------- ------------- 16.7/24.8 MB 360.5 kB/s eta 0:00:23\n",
      "   -------------------------- ------------- 16.7/24.8 MB 360.5 kB/s eta 0:00:23\n",
      "   -------------------------- ------------- 16.7/24.8 MB 360.5 kB/s eta 0:00:23\n",
      "   -------------------------- ------------- 16.7/24.8 MB 360.5 kB/s eta 0:00:23\n",
      "   -------------------------- ------------- 16.7/24.8 MB 360.5 kB/s eta 0:00:23\n",
      "   -------------------------- ------------- 16.7/24.8 MB 354.9 kB/s eta 0:00:23\n",
      "   -------------------------- ------------- 16.7/24.8 MB 354.9 kB/s eta 0:00:23\n",
      "   -------------------------- ------------- 16.7/24.8 MB 354.5 kB/s eta 0:00:23\n",
      "   -------------------------- ------------- 16.7/24.8 MB 354.5 kB/s eta 0:00:23\n",
      "   -------------------------- ------------- 16.7/24.8 MB 353.3 kB/s eta 0:00:23\n",
      "   -------------------------- ------------- 16.7/24.8 MB 352.8 kB/s eta 0:00:23\n",
      "   -------------------------- ------------- 16.7/24.8 MB 352.8 kB/s eta 0:00:23\n",
      "   --------------------------- ------------ 16.8/24.8 MB 353.1 kB/s eta 0:00:23\n",
      "   --------------------------- ------------ 16.8/24.8 MB 353.1 kB/s eta 0:00:23\n",
      "   --------------------------- ------------ 16.8/24.8 MB 352.0 kB/s eta 0:00:23\n",
      "   --------------------------- ------------ 16.8/24.8 MB 351.8 kB/s eta 0:00:23\n",
      "   --------------------------- ------------ 16.8/24.8 MB 351.8 kB/s eta 0:00:23\n",
      "   --------------------------- ------------ 16.8/24.8 MB 351.8 kB/s eta 0:00:23\n",
      "   --------------------------- ------------ 16.8/24.8 MB 351.4 kB/s eta 0:00:23\n",
      "   --------------------------- ------------ 16.8/24.8 MB 351.0 kB/s eta 0:00:23\n",
      "   --------------------------- ------------ 16.9/24.8 MB 350.9 kB/s eta 0:00:23\n",
      "   --------------------------- ------------ 16.9/24.8 MB 350.3 kB/s eta 0:00:23\n",
      "   --------------------------- ------------ 16.9/24.8 MB 350.3 kB/s eta 0:00:23\n",
      "   --------------------------- ------------ 16.9/24.8 MB 350.3 kB/s eta 0:00:23\n",
      "   --------------------------- ------------ 16.9/24.8 MB 350.3 kB/s eta 0:00:23\n",
      "   --------------------------- ------------ 16.9/24.8 MB 349.7 kB/s eta 0:00:23\n",
      "   --------------------------- ------------ 16.9/24.8 MB 349.7 kB/s eta 0:00:23\n",
      "   --------------------------- ------------ 16.9/24.8 MB 349.0 kB/s eta 0:00:23\n",
      "   --------------------------- ------------ 17.0/24.8 MB 348.2 kB/s eta 0:00:23\n",
      "   --------------------------- ------------ 17.0/24.8 MB 348.2 kB/s eta 0:00:23\n",
      "   --------------------------- ------------ 17.0/24.8 MB 349.4 kB/s eta 0:00:23\n",
      "   --------------------------- ------------ 17.0/24.8 MB 349.0 kB/s eta 0:00:23\n",
      "   --------------------------- ------------ 17.0/24.8 MB 349.0 kB/s eta 0:00:23\n",
      "   --------------------------- ------------ 17.0/24.8 MB 348.1 kB/s eta 0:00:23\n",
      "   --------------------------- ------------ 17.0/24.8 MB 347.1 kB/s eta 0:00:23\n",
      "   --------------------------- ------------ 17.0/24.8 MB 347.1 kB/s eta 0:00:23\n",
      "   --------------------------- ------------ 17.1/24.8 MB 346.8 kB/s eta 0:00:23\n",
      "   --------------------------- ------------ 17.1/24.8 MB 346.8 kB/s eta 0:00:23\n",
      "   --------------------------- ------------ 17.1/24.8 MB 346.8 kB/s eta 0:00:23\n",
      "   --------------------------- ------------ 17.1/24.8 MB 346.4 kB/s eta 0:00:23\n",
      "   --------------------------- ------------ 17.2/24.8 MB 346.6 kB/s eta 0:00:23\n",
      "   --------------------------- ------------ 17.2/24.8 MB 346.2 kB/s eta 0:00:23\n",
      "   --------------------------- ------------ 17.2/24.8 MB 346.2 kB/s eta 0:00:23\n",
      "   --------------------------- ------------ 17.2/24.8 MB 346.4 kB/s eta 0:00:22\n",
      "   --------------------------- ------------ 17.2/24.8 MB 345.7 kB/s eta 0:00:22\n",
      "   --------------------------- ------------ 17.2/24.8 MB 345.7 kB/s eta 0:00:22\n",
      "   --------------------------- ------------ 17.2/24.8 MB 345.7 kB/s eta 0:00:22\n",
      "   --------------------------- ------------ 17.2/24.8 MB 345.7 kB/s eta 0:00:22\n",
      "   --------------------------- ------------ 17.2/24.8 MB 345.7 kB/s eta 0:00:22\n",
      "   --------------------------- ------------ 17.3/24.8 MB 346.4 kB/s eta 0:00:22\n",
      "   --------------------------- ------------ 17.3/24.8 MB 346.2 kB/s eta 0:00:22\n",
      "   --------------------------- ------------ 17.3/24.8 MB 346.4 kB/s eta 0:00:22\n",
      "   --------------------------- ------------ 17.3/24.8 MB 346.4 kB/s eta 0:00:22\n",
      "   --------------------------- ------------ 17.3/24.8 MB 345.7 kB/s eta 0:00:22\n",
      "   --------------------------- ------------ 17.3/24.8 MB 345.7 kB/s eta 0:00:22\n",
      "   --------------------------- ------------ 17.3/24.8 MB 344.9 kB/s eta 0:00:22\n",
      "   --------------------------- ------------ 17.3/24.8 MB 344.9 kB/s eta 0:00:22\n",
      "   --------------------------- ------------ 17.3/24.8 MB 344.2 kB/s eta 0:00:22\n",
      "   --------------------------- ------------ 17.3/24.8 MB 344.2 kB/s eta 0:00:22\n",
      "   --------------------------- ------------ 17.4/24.8 MB 343.7 kB/s eta 0:00:22\n",
      "   ---------------------------- ----------- 17.4/24.8 MB 343.0 kB/s eta 0:00:22\n",
      "   ---------------------------- ----------- 17.4/24.8 MB 343.0 kB/s eta 0:00:22\n",
      "   ---------------------------- ----------- 17.4/24.8 MB 342.4 kB/s eta 0:00:22\n",
      "   ---------------------------- ----------- 17.4/24.8 MB 342.4 kB/s eta 0:00:22\n",
      "   ---------------------------- ----------- 17.4/24.8 MB 342.4 kB/s eta 0:00:22\n",
      "   ---------------------------- ----------- 17.4/24.8 MB 342.4 kB/s eta 0:00:22\n",
      "   ---------------------------- ----------- 17.4/24.8 MB 342.4 kB/s eta 0:00:22\n",
      "   ---------------------------- ----------- 17.5/24.8 MB 341.5 kB/s eta 0:00:22\n",
      "   ---------------------------- ----------- 17.5/24.8 MB 341.5 kB/s eta 0:00:22\n",
      "   ---------------------------- ----------- 17.5/24.8 MB 341.4 kB/s eta 0:00:22\n",
      "   ---------------------------- ----------- 17.5/24.8 MB 341.0 kB/s eta 0:00:22\n",
      "   ---------------------------- ----------- 17.5/24.8 MB 341.0 kB/s eta 0:00:22\n",
      "   ---------------------------- ----------- 17.5/24.8 MB 341.9 kB/s eta 0:00:22\n",
      "   ---------------------------- ----------- 17.5/24.8 MB 341.9 kB/s eta 0:00:22\n",
      "   ---------------------------- ----------- 17.5/24.8 MB 341.2 kB/s eta 0:00:22\n",
      "   ---------------------------- ----------- 17.5/24.8 MB 341.2 kB/s eta 0:00:22\n",
      "   ---------------------------- ----------- 17.6/24.8 MB 339.8 kB/s eta 0:00:22\n",
      "   ---------------------------- ----------- 17.6/24.8 MB 339.8 kB/s eta 0:00:22\n",
      "   ---------------------------- ----------- 17.6/24.8 MB 339.1 kB/s eta 0:00:22\n",
      "   ---------------------------- ----------- 17.6/24.8 MB 339.1 kB/s eta 0:00:22\n",
      "   ---------------------------- ----------- 17.6/24.8 MB 337.9 kB/s eta 0:00:22\n",
      "   ---------------------------- ----------- 17.6/24.8 MB 338.1 kB/s eta 0:00:22\n",
      "   ---------------------------- ----------- 17.6/24.8 MB 338.1 kB/s eta 0:00:22\n",
      "   ---------------------------- ----------- 17.6/24.8 MB 338.1 kB/s eta 0:00:22\n",
      "   ---------------------------- ----------- 17.6/24.8 MB 338.1 kB/s eta 0:00:22\n",
      "   ---------------------------- ----------- 17.6/24.8 MB 334.2 kB/s eta 0:00:22\n",
      "   ---------------------------- ----------- 17.6/24.8 MB 334.2 kB/s eta 0:00:22\n",
      "   ---------------------------- ----------- 17.6/24.8 MB 334.2 kB/s eta 0:00:22\n",
      "   ---------------------------- ----------- 17.6/24.8 MB 334.2 kB/s eta 0:00:22\n",
      "   ---------------------------- ----------- 17.6/24.8 MB 334.2 kB/s eta 0:00:22\n",
      "   ---------------------------- ----------- 17.7/24.8 MB 334.5 kB/s eta 0:00:22\n",
      "   ---------------------------- ----------- 17.7/24.8 MB 334.5 kB/s eta 0:00:22\n",
      "   ---------------------------- ----------- 17.7/24.8 MB 334.0 kB/s eta 0:00:22\n",
      "   ---------------------------- ----------- 17.7/24.8 MB 334.0 kB/s eta 0:00:22\n",
      "   ---------------------------- ----------- 17.7/24.8 MB 336.3 kB/s eta 0:00:22\n",
      "   ---------------------------- ----------- 17.7/24.8 MB 336.3 kB/s eta 0:00:22\n",
      "   ---------------------------- ----------- 17.7/24.8 MB 336.3 kB/s eta 0:00:22\n",
      "   ---------------------------- ----------- 17.7/24.8 MB 336.3 kB/s eta 0:00:22\n",
      "   ---------------------------- ----------- 17.7/24.8 MB 336.3 kB/s eta 0:00:22\n",
      "   ---------------------------- ----------- 17.7/24.8 MB 334.9 kB/s eta 0:00:22\n",
      "   ---------------------------- ----------- 17.8/24.8 MB 335.0 kB/s eta 0:00:22\n",
      "   ---------------------------- ----------- 17.8/24.8 MB 334.5 kB/s eta 0:00:22\n",
      "   ---------------------------- ----------- 17.8/24.8 MB 334.5 kB/s eta 0:00:22\n",
      "   ---------------------------- ----------- 17.8/24.8 MB 334.5 kB/s eta 0:00:22\n",
      "   ---------------------------- ----------- 17.8/24.8 MB 336.5 kB/s eta 0:00:21\n",
      "   ---------------------------- ----------- 17.8/24.8 MB 335.9 kB/s eta 0:00:21\n",
      "   ---------------------------- ----------- 17.8/24.8 MB 335.9 kB/s eta 0:00:21\n",
      "   ---------------------------- ----------- 17.8/24.8 MB 335.9 kB/s eta 0:00:21\n",
      "   ---------------------------- ----------- 17.8/24.8 MB 334.7 kB/s eta 0:00:21\n",
      "   ---------------------------- ----------- 17.8/24.8 MB 334.7 kB/s eta 0:00:21\n",
      "   ---------------------------- ----------- 17.8/24.8 MB 334.9 kB/s eta 0:00:21\n",
      "   ---------------------------- ----------- 17.8/24.8 MB 334.9 kB/s eta 0:00:21\n",
      "   ---------------------------- ----------- 17.8/24.8 MB 334.9 kB/s eta 0:00:21\n",
      "   ---------------------------- ----------- 17.8/24.8 MB 334.9 kB/s eta 0:00:21\n",
      "   ---------------------------- ----------- 17.8/24.8 MB 334.9 kB/s eta 0:00:21\n",
      "   ---------------------------- ----------- 17.9/24.8 MB 334.5 kB/s eta 0:00:21\n",
      "   ---------------------------- ----------- 17.9/24.8 MB 335.6 kB/s eta 0:00:21\n",
      "   ---------------------------- ----------- 17.9/24.8 MB 335.6 kB/s eta 0:00:21\n",
      "   ---------------------------- ----------- 17.9/24.8 MB 335.6 kB/s eta 0:00:21\n",
      "   ---------------------------- ----------- 17.9/24.8 MB 335.6 kB/s eta 0:00:21\n",
      "   ---------------------------- ----------- 17.9/24.8 MB 335.6 kB/s eta 0:00:21\n",
      "   ---------------------------- ----------- 17.9/24.8 MB 337.1 kB/s eta 0:00:21\n",
      "   ---------------------------- ----------- 17.9/24.8 MB 337.1 kB/s eta 0:00:21\n",
      "   ---------------------------- ----------- 17.9/24.8 MB 337.1 kB/s eta 0:00:21\n",
      "   ---------------------------- ----------- 17.9/24.8 MB 337.1 kB/s eta 0:00:21\n",
      "   ---------------------------- ----------- 17.9/24.8 MB 337.1 kB/s eta 0:00:21\n",
      "   ---------------------------- ----------- 17.9/24.8 MB 335.0 kB/s eta 0:00:21\n",
      "   ---------------------------- ----------- 17.9/24.8 MB 335.0 kB/s eta 0:00:21\n",
      "   ---------------------------- ----------- 17.9/24.8 MB 334.4 kB/s eta 0:00:21\n",
      "   ---------------------------- ----------- 17.9/24.8 MB 334.4 kB/s eta 0:00:21\n",
      "   ---------------------------- ----------- 17.9/24.8 MB 334.4 kB/s eta 0:00:21\n",
      "   ---------------------------- ----------- 17.9/24.8 MB 334.4 kB/s eta 0:00:21\n",
      "   ---------------------------- ----------- 17.9/24.8 MB 332.8 kB/s eta 0:00:21\n",
      "   ---------------------------- ----------- 17.9/24.8 MB 332.8 kB/s eta 0:00:21\n",
      "   ---------------------------- ----------- 18.0/24.8 MB 332.3 kB/s eta 0:00:21\n",
      "   ---------------------------- ----------- 18.0/24.8 MB 332.3 kB/s eta 0:00:21\n",
      "   ---------------------------- ----------- 18.0/24.8 MB 332.3 kB/s eta 0:00:21\n",
      "   ---------------------------- ----------- 18.0/24.8 MB 332.3 kB/s eta 0:00:21\n",
      "   ---------------------------- ----------- 18.0/24.8 MB 332.3 kB/s eta 0:00:21\n",
      "   ---------------------------- ----------- 18.0/24.8 MB 332.3 kB/s eta 0:00:21\n",
      "   ---------------------------- ----------- 18.0/24.8 MB 332.3 kB/s eta 0:00:21\n",
      "   ---------------------------- ----------- 18.0/24.8 MB 329.6 kB/s eta 0:00:21\n",
      "   ---------------------------- ----------- 18.0/24.8 MB 329.6 kB/s eta 0:00:21\n",
      "   ---------------------------- ----------- 18.0/24.8 MB 329.6 kB/s eta 0:00:21\n",
      "   ----------------------------- ---------- 18.0/24.8 MB 328.9 kB/s eta 0:00:21\n",
      "   ----------------------------- ---------- 18.0/24.8 MB 328.9 kB/s eta 0:00:21\n",
      "   ----------------------------- ---------- 18.0/24.8 MB 328.9 kB/s eta 0:00:21\n",
      "   ----------------------------- ---------- 18.0/24.8 MB 328.9 kB/s eta 0:00:21\n",
      "   ----------------------------- ---------- 18.0/24.8 MB 328.9 kB/s eta 0:00:21\n",
      "   ----------------------------- ---------- 18.0/24.8 MB 327.2 kB/s eta 0:00:21\n",
      "   ----------------------------- ---------- 18.0/24.8 MB 327.2 kB/s eta 0:00:21\n",
      "   ----------------------------- ---------- 18.0/24.8 MB 327.2 kB/s eta 0:00:21\n",
      "   ----------------------------- ---------- 18.0/24.8 MB 326.1 kB/s eta 0:00:21\n",
      "   ----------------------------- ---------- 18.0/24.8 MB 326.1 kB/s eta 0:00:21\n",
      "   ----------------------------- ---------- 18.0/24.8 MB 326.1 kB/s eta 0:00:21\n",
      "   ----------------------------- ---------- 18.0/24.8 MB 324.9 kB/s eta 0:00:21\n",
      "   ----------------------------- ---------- 18.1/24.8 MB 324.6 kB/s eta 0:00:21\n",
      "   ----------------------------- ---------- 18.1/24.8 MB 324.6 kB/s eta 0:00:21\n",
      "   ----------------------------- ---------- 18.1/24.8 MB 324.6 kB/s eta 0:00:21\n",
      "   ----------------------------- ---------- 18.1/24.8 MB 324.6 kB/s eta 0:00:21\n",
      "   ----------------------------- ---------- 18.1/24.8 MB 323.6 kB/s eta 0:00:21\n",
      "   ----------------------------- ---------- 18.1/24.8 MB 323.6 kB/s eta 0:00:21\n",
      "   ----------------------------- ---------- 18.1/24.8 MB 323.1 kB/s eta 0:00:21\n",
      "   ----------------------------- ---------- 18.1/24.8 MB 323.1 kB/s eta 0:00:21\n",
      "   ----------------------------- ---------- 18.1/24.8 MB 323.1 kB/s eta 0:00:21\n",
      "   ----------------------------- ---------- 18.1/24.8 MB 323.1 kB/s eta 0:00:21\n",
      "   ----------------------------- ---------- 18.1/24.8 MB 321.7 kB/s eta 0:00:21\n",
      "   ----------------------------- ---------- 18.1/24.8 MB 321.7 kB/s eta 0:00:21\n",
      "   ----------------------------- ---------- 18.1/24.8 MB 321.7 kB/s eta 0:00:21\n",
      "   ----------------------------- ---------- 18.1/24.8 MB 321.7 kB/s eta 0:00:21\n",
      "   ----------------------------- ---------- 18.1/24.8 MB 321.7 kB/s eta 0:00:21\n",
      "   ----------------------------- ---------- 18.1/24.8 MB 321.7 kB/s eta 0:00:21\n",
      "   ----------------------------- ---------- 18.1/24.8 MB 321.7 kB/s eta 0:00:21\n",
      "   ----------------------------- ---------- 18.1/24.8 MB 321.7 kB/s eta 0:00:21\n",
      "   ----------------------------- ---------- 18.1/24.8 MB 321.7 kB/s eta 0:00:21\n",
      "   ----------------------------- ---------- 18.1/24.8 MB 321.7 kB/s eta 0:00:21\n",
      "   ----------------------------- ---------- 18.1/24.8 MB 320.5 kB/s eta 0:00:21\n",
      "   ----------------------------- ---------- 18.2/24.8 MB 320.8 kB/s eta 0:00:21\n",
      "   ----------------------------- ---------- 18.2/24.8 MB 320.8 kB/s eta 0:00:21\n",
      "   ----------------------------- ---------- 18.2/24.8 MB 320.0 kB/s eta 0:00:21\n",
      "   ----------------------------- ---------- 18.2/24.8 MB 320.0 kB/s eta 0:00:21\n",
      "   ----------------------------- ---------- 18.2/24.8 MB 319.7 kB/s eta 0:00:21\n",
      "   ----------------------------- ---------- 18.2/24.8 MB 319.7 kB/s eta 0:00:21\n",
      "   ----------------------------- ---------- 18.2/24.8 MB 319.7 kB/s eta 0:00:21\n",
      "   ----------------------------- ---------- 18.2/24.8 MB 319.7 kB/s eta 0:00:21\n",
      "   ----------------------------- ---------- 18.2/24.8 MB 319.7 kB/s eta 0:00:21\n",
      "   ----------------------------- ---------- 18.2/24.8 MB 319.7 kB/s eta 0:00:21\n",
      "   ----------------------------- ---------- 18.2/24.8 MB 316.8 kB/s eta 0:00:21\n",
      "   ----------------------------- ---------- 18.2/24.8 MB 316.4 kB/s eta 0:00:21\n",
      "   ----------------------------- ---------- 18.2/24.8 MB 316.4 kB/s eta 0:00:21\n",
      "   ----------------------------- ---------- 18.2/24.8 MB 316.4 kB/s eta 0:00:21\n",
      "   ----------------------------- ---------- 18.2/24.8 MB 315.2 kB/s eta 0:00:21\n",
      "   ----------------------------- ---------- 18.2/24.8 MB 315.2 kB/s eta 0:00:21\n",
      "   ----------------------------- ---------- 18.3/24.8 MB 315.4 kB/s eta 0:00:21\n",
      "   ----------------------------- ---------- 18.3/24.8 MB 315.4 kB/s eta 0:00:21\n",
      "   ----------------------------- ---------- 18.3/24.8 MB 314.7 kB/s eta 0:00:21\n",
      "   ----------------------------- ---------- 18.3/24.8 MB 315.2 kB/s eta 0:00:21\n",
      "   ----------------------------- ---------- 18.3/24.8 MB 315.2 kB/s eta 0:00:21\n",
      "   ----------------------------- ---------- 18.3/24.8 MB 315.2 kB/s eta 0:00:21\n",
      "   ----------------------------- ---------- 18.3/24.8 MB 314.9 kB/s eta 0:00:21\n",
      "   ----------------------------- ---------- 18.3/24.8 MB 314.9 kB/s eta 0:00:21\n",
      "   ----------------------------- ---------- 18.3/24.8 MB 314.4 kB/s eta 0:00:21\n",
      "   ----------------------------- ---------- 18.3/24.8 MB 314.4 kB/s eta 0:00:21\n",
      "   ----------------------------- ---------- 18.4/24.8 MB 313.5 kB/s eta 0:00:21\n",
      "   ----------------------------- ---------- 18.4/24.8 MB 313.5 kB/s eta 0:00:21\n",
      "   ----------------------------- ---------- 18.4/24.8 MB 312.3 kB/s eta 0:00:21\n",
      "   ----------------------------- ---------- 18.4/24.8 MB 312.3 kB/s eta 0:00:21\n",
      "   ----------------------------- ---------- 18.4/24.8 MB 311.8 kB/s eta 0:00:21\n",
      "   ----------------------------- ---------- 18.4/24.8 MB 311.8 kB/s eta 0:00:21\n",
      "   ----------------------------- ---------- 18.4/24.8 MB 311.8 kB/s eta 0:00:21\n",
      "   ----------------------------- ---------- 18.4/24.8 MB 311.8 kB/s eta 0:00:21\n",
      "   ----------------------------- ---------- 18.4/24.8 MB 310.8 kB/s eta 0:00:21\n",
      "   ----------------------------- ---------- 18.5/24.8 MB 311.0 kB/s eta 0:00:21\n",
      "   ----------------------------- ---------- 18.5/24.8 MB 311.0 kB/s eta 0:00:21\n",
      "   ----------------------------- ---------- 18.5/24.8 MB 309.8 kB/s eta 0:00:21\n",
      "   ----------------------------- ---------- 18.5/24.8 MB 309.8 kB/s eta 0:00:21\n",
      "   ----------------------------- ---------- 18.5/24.8 MB 308.9 kB/s eta 0:00:21\n",
      "   ----------------------------- ---------- 18.5/24.8 MB 308.9 kB/s eta 0:00:21\n",
      "   ----------------------------- ---------- 18.5/24.8 MB 308.9 kB/s eta 0:00:21\n",
      "   ----------------------------- ---------- 18.5/24.8 MB 308.6 kB/s eta 0:00:21\n",
      "   ----------------------------- ---------- 18.5/24.8 MB 308.6 kB/s eta 0:00:21\n",
      "   ----------------------------- ---------- 18.6/24.8 MB 307.9 kB/s eta 0:00:21\n",
      "   ----------------------------- ---------- 18.6/24.8 MB 307.9 kB/s eta 0:00:21\n",
      "   ----------------------------- ---------- 18.6/24.8 MB 307.2 kB/s eta 0:00:21\n",
      "   ----------------------------- ---------- 18.6/24.8 MB 307.2 kB/s eta 0:00:21\n",
      "   ----------------------------- ---------- 18.6/24.8 MB 304.8 kB/s eta 0:00:21\n",
      "   ------------------------------ --------- 18.6/24.8 MB 305.5 kB/s eta 0:00:21\n",
      "   ------------------------------ --------- 18.6/24.8 MB 305.5 kB/s eta 0:00:21\n",
      "   ------------------------------ --------- 18.6/24.8 MB 304.8 kB/s eta 0:00:21\n",
      "   ------------------------------ --------- 18.6/24.8 MB 304.8 kB/s eta 0:00:21\n",
      "   ------------------------------ --------- 18.7/24.8 MB 303.9 kB/s eta 0:00:21\n",
      "   ------------------------------ --------- 18.7/24.8 MB 303.9 kB/s eta 0:00:21\n",
      "   ------------------------------ --------- 18.7/24.8 MB 303.8 kB/s eta 0:00:21\n",
      "   ------------------------------ --------- 18.7/24.8 MB 303.8 kB/s eta 0:00:21\n",
      "   ------------------------------ --------- 18.7/24.8 MB 303.2 kB/s eta 0:00:20\n",
      "   ------------------------------ --------- 18.8/24.8 MB 303.1 kB/s eta 0:00:20\n",
      "   ------------------------------ --------- 18.8/24.8 MB 302.6 kB/s eta 0:00:20\n",
      "   ------------------------------ --------- 18.8/24.8 MB 302.2 kB/s eta 0:00:20\n",
      "   ------------------------------ --------- 18.8/24.8 MB 301.9 kB/s eta 0:00:20\n",
      "   ------------------------------ --------- 18.8/24.8 MB 302.1 kB/s eta 0:00:20\n",
      "   ------------------------------ --------- 18.9/24.8 MB 304.0 kB/s eta 0:00:20\n",
      "   ------------------------------ --------- 18.9/24.8 MB 303.9 kB/s eta 0:00:20\n",
      "   ------------------------------ --------- 18.9/24.8 MB 304.2 kB/s eta 0:00:20\n",
      "   ------------------------------ --------- 18.9/24.8 MB 304.6 kB/s eta 0:00:20\n",
      "   ------------------------------ --------- 18.9/24.8 MB 304.6 kB/s eta 0:00:20\n",
      "   ------------------------------ --------- 19.0/24.8 MB 303.8 kB/s eta 0:00:20\n",
      "   ------------------------------ --------- 19.0/24.8 MB 303.6 kB/s eta 0:00:20\n",
      "   ------------------------------ --------- 19.0/24.8 MB 303.6 kB/s eta 0:00:20\n",
      "   ------------------------------ --------- 19.0/24.8 MB 303.7 kB/s eta 0:00:19\n",
      "   ------------------------------ --------- 19.1/24.8 MB 304.5 kB/s eta 0:00:19\n",
      "   ------------------------------ --------- 19.1/24.8 MB 304.4 kB/s eta 0:00:19\n",
      "   ------------------------------ --------- 19.1/24.8 MB 304.5 kB/s eta 0:00:19\n",
      "   ------------------------------ --------- 19.1/24.8 MB 303.8 kB/s eta 0:00:19\n",
      "   ------------------------------ --------- 19.2/24.8 MB 302.7 kB/s eta 0:00:19\n",
      "   ------------------------------ --------- 19.2/24.8 MB 302.8 kB/s eta 0:00:19\n",
      "   ------------------------------ --------- 19.2/24.8 MB 301.7 kB/s eta 0:00:19\n",
      "   ------------------------------ --------- 19.2/24.8 MB 301.7 kB/s eta 0:00:19\n",
      "   ------------------------------ --------- 19.2/24.8 MB 301.7 kB/s eta 0:00:19\n",
      "   ------------------------------ --------- 19.2/24.8 MB 301.7 kB/s eta 0:00:19\n",
      "   ------------------------------- -------- 19.3/24.8 MB 301.7 kB/s eta 0:00:19\n",
      "   ------------------------------- -------- 19.3/24.8 MB 300.7 kB/s eta 0:00:19\n",
      "   ------------------------------- -------- 19.3/24.8 MB 300.9 kB/s eta 0:00:19\n",
      "   ------------------------------- -------- 19.4/24.8 MB 300.2 kB/s eta 0:00:19\n",
      "   ------------------------------- -------- 19.4/24.8 MB 299.7 kB/s eta 0:00:18\n",
      "   ------------------------------- -------- 19.4/24.8 MB 299.3 kB/s eta 0:00:18\n",
      "   ------------------------------- -------- 19.5/24.8 MB 299.3 kB/s eta 0:00:18\n",
      "   ------------------------------- -------- 19.5/24.8 MB 298.7 kB/s eta 0:00:18\n",
      "   ------------------------------- -------- 19.5/24.8 MB 299.5 kB/s eta 0:00:18\n",
      "   ------------------------------- -------- 19.5/24.8 MB 299.3 kB/s eta 0:00:18\n",
      "   ------------------------------- -------- 19.5/24.8 MB 298.5 kB/s eta 0:00:18\n",
      "   ------------------------------- -------- 19.5/24.8 MB 297.8 kB/s eta 0:00:18\n",
      "   ------------------------------- -------- 19.5/24.8 MB 297.8 kB/s eta 0:00:18\n",
      "   ------------------------------- -------- 19.6/24.8 MB 296.9 kB/s eta 0:00:18\n",
      "   ------------------------------- -------- 19.6/24.8 MB 297.0 kB/s eta 0:00:18\n",
      "   ------------------------------- -------- 19.6/24.8 MB 297.0 kB/s eta 0:00:18\n",
      "   ------------------------------- -------- 19.6/24.8 MB 298.2 kB/s eta 0:00:18\n",
      "   ------------------------------- -------- 19.6/24.8 MB 298.2 kB/s eta 0:00:18\n",
      "   ------------------------------- -------- 19.7/24.8 MB 298.5 kB/s eta 0:00:18\n",
      "   ------------------------------- -------- 19.7/24.8 MB 298.5 kB/s eta 0:00:18\n",
      "   ------------------------------- -------- 19.7/24.8 MB 298.7 kB/s eta 0:00:18\n",
      "   ------------------------------- -------- 19.7/24.8 MB 299.3 kB/s eta 0:00:17\n",
      "   ------------------------------- -------- 19.8/24.8 MB 299.7 kB/s eta 0:00:17\n",
      "   ------------------------------- -------- 19.8/24.8 MB 296.6 kB/s eta 0:00:17\n",
      "   ------------------------------- -------- 19.8/24.8 MB 296.8 kB/s eta 0:00:17\n",
      "   ------------------------------- -------- 19.8/24.8 MB 295.9 kB/s eta 0:00:17\n",
      "   -------------------------------- ------- 19.9/24.8 MB 296.4 kB/s eta 0:00:17\n",
      "   -------------------------------- ------- 19.9/24.8 MB 296.1 kB/s eta 0:00:17\n",
      "   -------------------------------- ------- 19.9/24.8 MB 296.1 kB/s eta 0:00:17\n",
      "   -------------------------------- ------- 19.9/24.8 MB 302.7 kB/s eta 0:00:17\n",
      "   -------------------------------- ------- 19.9/24.8 MB 302.9 kB/s eta 0:00:17\n",
      "   -------------------------------- ------- 20.0/24.8 MB 303.3 kB/s eta 0:00:16\n",
      "   -------------------------------- ------- 20.0/24.8 MB 304.1 kB/s eta 0:00:16\n",
      "   -------------------------------- ------- 20.0/24.8 MB 304.3 kB/s eta 0:00:16\n",
      "   -------------------------------- ------- 20.0/24.8 MB 304.3 kB/s eta 0:00:16\n",
      "   -------------------------------- ------- 20.1/24.8 MB 304.9 kB/s eta 0:00:16\n",
      "   -------------------------------- ------- 20.1/24.8 MB 304.9 kB/s eta 0:00:16\n",
      "   -------------------------------- ------- 20.1/24.8 MB 304.6 kB/s eta 0:00:16\n",
      "   -------------------------------- ------- 20.1/24.8 MB 304.6 kB/s eta 0:00:16\n",
      "   -------------------------------- ------- 20.2/24.8 MB 305.7 kB/s eta 0:00:16\n",
      "   -------------------------------- ------- 20.2/24.8 MB 305.7 kB/s eta 0:00:16\n",
      "   -------------------------------- ------- 20.2/24.8 MB 305.8 kB/s eta 0:00:16\n",
      "   -------------------------------- ------- 20.2/24.8 MB 306.3 kB/s eta 0:00:15\n",
      "   -------------------------------- ------- 20.2/24.8 MB 306.5 kB/s eta 0:00:15\n",
      "   -------------------------------- ------- 20.3/24.8 MB 310.9 kB/s eta 0:00:15\n",
      "   -------------------------------- ------- 20.3/24.8 MB 311.1 kB/s eta 0:00:15\n",
      "   -------------------------------- ------- 20.3/24.8 MB 311.6 kB/s eta 0:00:15\n",
      "   -------------------------------- ------- 20.3/24.8 MB 311.6 kB/s eta 0:00:15\n",
      "   -------------------------------- ------- 20.3/24.8 MB 310.8 kB/s eta 0:00:15\n",
      "   -------------------------------- ------- 20.4/24.8 MB 311.2 kB/s eta 0:00:15\n",
      "   -------------------------------- ------- 20.4/24.8 MB 312.1 kB/s eta 0:00:15\n",
      "   -------------------------------- ------- 20.4/24.8 MB 312.1 kB/s eta 0:00:15\n",
      "   -------------------------------- ------- 20.4/24.8 MB 312.5 kB/s eta 0:00:14\n",
      "   -------------------------------- ------- 20.5/24.8 MB 313.0 kB/s eta 0:00:14\n",
      "   --------------------------------- ------ 20.5/24.8 MB 313.9 kB/s eta 0:00:14\n",
      "   --------------------------------- ------ 20.5/24.8 MB 313.9 kB/s eta 0:00:14\n",
      "   --------------------------------- ------ 20.5/24.8 MB 313.6 kB/s eta 0:00:14\n",
      "   --------------------------------- ------ 20.6/24.8 MB 314.2 kB/s eta 0:00:14\n",
      "   --------------------------------- ------ 20.6/24.8 MB 314.5 kB/s eta 0:00:14\n",
      "   --------------------------------- ------ 20.6/24.8 MB 314.5 kB/s eta 0:00:14\n",
      "   --------------------------------- ------ 20.6/24.8 MB 314.5 kB/s eta 0:00:14\n",
      "   --------------------------------- ------ 20.6/24.8 MB 314.5 kB/s eta 0:00:14\n",
      "   --------------------------------- ------ 20.7/24.8 MB 315.9 kB/s eta 0:00:14\n",
      "   --------------------------------- ------ 20.7/24.8 MB 316.4 kB/s eta 0:00:13\n",
      "   --------------------------------- ------ 20.7/24.8 MB 316.6 kB/s eta 0:00:13\n",
      "   --------------------------------- ------ 20.8/24.8 MB 316.9 kB/s eta 0:00:13\n",
      "   --------------------------------- ------ 20.8/24.8 MB 317.4 kB/s eta 0:00:13\n",
      "   --------------------------------- ------ 20.8/24.8 MB 317.4 kB/s eta 0:00:13\n",
      "   --------------------------------- ------ 20.8/24.8 MB 318.4 kB/s eta 0:00:13\n",
      "   --------------------------------- ------ 20.9/24.8 MB 319.0 kB/s eta 0:00:13\n",
      "   --------------------------------- ------ 20.9/24.8 MB 319.3 kB/s eta 0:00:13\n",
      "   --------------------------------- ------ 20.9/24.8 MB 319.0 kB/s eta 0:00:13\n",
      "   --------------------------------- ------ 20.9/24.8 MB 319.5 kB/s eta 0:00:13\n",
      "   --------------------------------- ------ 21.0/24.8 MB 320.0 kB/s eta 0:00:13\n",
      "   --------------------------------- ------ 21.0/24.8 MB 320.3 kB/s eta 0:00:12\n",
      "   --------------------------------- ------ 21.0/24.8 MB 320.3 kB/s eta 0:00:12\n",
      "   --------------------------------- ------ 21.0/24.8 MB 319.8 kB/s eta 0:00:12\n",
      "   --------------------------------- ------ 21.1/24.8 MB 319.8 kB/s eta 0:00:12\n",
      "   ---------------------------------- ----- 21.1/24.8 MB 319.5 kB/s eta 0:00:12\n",
      "   ---------------------------------- ----- 21.1/24.8 MB 319.6 kB/s eta 0:00:12\n",
      "   ---------------------------------- ----- 21.2/24.8 MB 319.7 kB/s eta 0:00:12\n",
      "   ---------------------------------- ----- 21.2/24.8 MB 318.8 kB/s eta 0:00:12\n",
      "   ---------------------------------- ----- 21.2/24.8 MB 318.8 kB/s eta 0:00:12\n",
      "   ---------------------------------- ----- 21.2/24.8 MB 318.8 kB/s eta 0:00:12\n",
      "   ---------------------------------- ----- 21.3/24.8 MB 318.8 kB/s eta 0:00:12\n",
      "   ---------------------------------- ----- 21.3/24.8 MB 319.3 kB/s eta 0:00:11\n",
      "   ---------------------------------- ----- 21.3/24.8 MB 317.6 kB/s eta 0:00:11\n",
      "   ---------------------------------- ----- 21.3/24.8 MB 318.1 kB/s eta 0:00:11\n",
      "   ---------------------------------- ----- 21.4/24.8 MB 317.9 kB/s eta 0:00:11\n",
      "   ---------------------------------- ----- 21.4/24.8 MB 317.8 kB/s eta 0:00:11\n",
      "   ---------------------------------- ----- 21.4/24.8 MB 317.4 kB/s eta 0:00:11\n",
      "   ---------------------------------- ----- 21.5/24.8 MB 318.6 kB/s eta 0:00:11\n",
      "   ---------------------------------- ----- 21.5/24.8 MB 319.5 kB/s eta 0:00:11\n",
      "   ---------------------------------- ----- 21.5/24.8 MB 314.4 kB/s eta 0:00:11\n",
      "   ---------------------------------- ----- 21.6/24.8 MB 315.1 kB/s eta 0:00:11\n",
      "   ---------------------------------- ----- 21.6/24.8 MB 315.4 kB/s eta 0:00:11\n",
      "   ---------------------------------- ----- 21.6/24.8 MB 315.0 kB/s eta 0:00:11\n",
      "   ---------------------------------- ----- 21.7/24.8 MB 315.6 kB/s eta 0:00:10\n",
      "   ----------------------------------- ---- 21.7/24.8 MB 315.4 kB/s eta 0:00:10\n",
      "   ----------------------------------- ---- 21.7/24.8 MB 314.4 kB/s eta 0:00:10\n",
      "   ----------------------------------- ---- 21.8/24.8 MB 315.2 kB/s eta 0:00:10\n",
      "   ----------------------------------- ---- 21.8/24.8 MB 314.7 kB/s eta 0:00:10\n",
      "   ----------------------------------- ---- 21.8/24.8 MB 315.1 kB/s eta 0:00:10\n",
      "   ----------------------------------- ---- 21.9/24.8 MB 318.5 kB/s eta 0:00:10\n",
      "   ----------------------------------- ---- 21.9/24.8 MB 319.1 kB/s eta 0:00:10\n",
      "   ----------------------------------- ---- 21.9/24.8 MB 320.1 kB/s eta 0:00:09\n",
      "   ----------------------------------- ---- 21.9/24.8 MB 320.1 kB/s eta 0:00:09\n",
      "   ----------------------------------- ---- 22.0/24.8 MB 320.3 kB/s eta 0:00:09\n",
      "   ----------------------------------- ---- 22.0/24.8 MB 321.3 kB/s eta 0:00:09\n",
      "   ----------------------------------- ---- 22.0/24.8 MB 321.3 kB/s eta 0:00:09\n",
      "   ----------------------------------- ---- 22.1/24.8 MB 322.0 kB/s eta 0:00:09\n",
      "   ----------------------------------- ---- 22.1/24.8 MB 322.6 kB/s eta 0:00:09\n",
      "   ----------------------------------- ---- 22.1/24.8 MB 319.1 kB/s eta 0:00:09\n",
      "   ----------------------------------- ---- 22.1/24.8 MB 319.5 kB/s eta 0:00:09\n",
      "   ----------------------------------- ---- 22.1/24.8 MB 319.5 kB/s eta 0:00:09\n",
      "   ----------------------------------- ---- 22.2/24.8 MB 318.5 kB/s eta 0:00:09\n",
      "   ----------------------------------- ---- 22.2/24.8 MB 319.1 kB/s eta 0:00:09\n",
      "   ----------------------------------- ---- 22.2/24.8 MB 319.1 kB/s eta 0:00:09\n",
      "   ----------------------------------- ---- 22.3/24.8 MB 318.8 kB/s eta 0:00:08\n",
      "   ----------------------------------- ---- 22.3/24.8 MB 318.8 kB/s eta 0:00:08\n",
      "   ----------------------------------- ---- 22.3/24.8 MB 318.6 kB/s eta 0:00:08\n",
      "   ------------------------------------ --- 22.3/24.8 MB 319.1 kB/s eta 0:00:08\n",
      "   ------------------------------------ --- 22.4/24.8 MB 318.8 kB/s eta 0:00:08\n",
      "   ------------------------------------ --- 22.4/24.8 MB 319.1 kB/s eta 0:00:08\n",
      "   ------------------------------------ --- 22.5/24.8 MB 319.1 kB/s eta 0:00:08\n",
      "   ------------------------------------ --- 22.5/24.8 MB 319.8 kB/s eta 0:00:08\n",
      "   ------------------------------------ --- 22.5/24.8 MB 320.2 kB/s eta 0:00:08\n",
      "   ------------------------------------ --- 22.6/24.8 MB 319.5 kB/s eta 0:00:08\n",
      "   ------------------------------------ --- 22.6/24.8 MB 320.2 kB/s eta 0:00:07\n",
      "   ------------------------------------ --- 22.7/24.8 MB 321.5 kB/s eta 0:00:07\n",
      "   ------------------------------------ --- 22.7/24.8 MB 320.5 kB/s eta 0:00:07\n",
      "   ------------------------------------ --- 22.7/24.8 MB 321.0 kB/s eta 0:00:07\n",
      "   ------------------------------------ --- 22.8/24.8 MB 321.9 kB/s eta 0:00:07\n",
      "   ------------------------------------ --- 22.8/24.8 MB 322.2 kB/s eta 0:00:07\n",
      "   ------------------------------------ --- 22.8/24.8 MB 322.2 kB/s eta 0:00:07\n",
      "   ------------------------------------ --- 22.8/24.8 MB 322.2 kB/s eta 0:00:07\n",
      "   ------------------------------------ --- 22.9/24.8 MB 322.9 kB/s eta 0:00:06\n",
      "   ------------------------------------- -- 22.9/24.8 MB 322.7 kB/s eta 0:00:06\n",
      "   ------------------------------------- -- 22.9/24.8 MB 322.7 kB/s eta 0:00:06\n",
      "   ------------------------------------- -- 23.0/24.8 MB 321.4 kB/s eta 0:00:06\n",
      "   ------------------------------------- -- 23.0/24.8 MB 321.4 kB/s eta 0:00:06\n",
      "   ------------------------------------- -- 23.0/24.8 MB 321.4 kB/s eta 0:00:06\n",
      "   ------------------------------------- -- 23.0/24.8 MB 320.3 kB/s eta 0:00:06\n",
      "   ------------------------------------- -- 23.0/24.8 MB 320.3 kB/s eta 0:00:06\n",
      "   ------------------------------------- -- 23.0/24.8 MB 320.3 kB/s eta 0:00:06\n",
      "   ------------------------------------- -- 23.0/24.8 MB 317.1 kB/s eta 0:00:06\n",
      "   ------------------------------------- -- 23.1/24.8 MB 316.8 kB/s eta 0:00:06\n",
      "   ------------------------------------- -- 23.1/24.8 MB 316.8 kB/s eta 0:00:06\n",
      "   ------------------------------------- -- 23.1/24.8 MB 315.1 kB/s eta 0:00:06\n",
      "   ------------------------------------- -- 23.1/24.8 MB 314.7 kB/s eta 0:00:06\n",
      "   ------------------------------------- -- 23.2/24.8 MB 314.4 kB/s eta 0:00:06\n",
      "   ------------------------------------- -- 23.2/24.8 MB 314.4 kB/s eta 0:00:06\n",
      "   ------------------------------------- -- 23.2/24.8 MB 314.4 kB/s eta 0:00:06\n",
      "   ------------------------------------- -- 23.2/24.8 MB 314.4 kB/s eta 0:00:06\n",
      "   ------------------------------------- -- 23.3/24.8 MB 314.4 kB/s eta 0:00:05\n",
      "   ------------------------------------- -- 23.3/24.8 MB 313.9 kB/s eta 0:00:05\n",
      "   ------------------------------------- -- 23.3/24.8 MB 313.9 kB/s eta 0:00:05\n",
      "   ------------------------------------- -- 23.3/24.8 MB 312.1 kB/s eta 0:00:05\n",
      "   ------------------------------------- -- 23.3/24.8 MB 312.3 kB/s eta 0:00:05\n",
      "   ------------------------------------- -- 23.3/24.8 MB 311.0 kB/s eta 0:00:05\n",
      "   ------------------------------------- -- 23.4/24.8 MB 311.3 kB/s eta 0:00:05\n",
      "   ------------------------------------- -- 23.4/24.8 MB 312.4 kB/s eta 0:00:05\n",
      "   ------------------------------------- -- 23.4/24.8 MB 312.8 kB/s eta 0:00:05\n",
      "   ------------------------------------- -- 23.4/24.8 MB 313.3 kB/s eta 0:00:05\n",
      "   ------------------------------------- -- 23.5/24.8 MB 308.2 kB/s eta 0:00:05\n",
      "   ------------------------------------- -- 23.5/24.8 MB 309.2 kB/s eta 0:00:05\n",
      "   ------------------------------------- -- 23.5/24.8 MB 308.7 kB/s eta 0:00:05\n",
      "   ------------------------------------- -- 23.5/24.8 MB 308.9 kB/s eta 0:00:05\n",
      "   -------------------------------------- - 23.6/24.8 MB 308.4 kB/s eta 0:00:04\n",
      "   -------------------------------------- - 23.6/24.8 MB 309.4 kB/s eta 0:00:04\n",
      "   -------------------------------------- - 23.7/24.8 MB 309.8 kB/s eta 0:00:04\n",
      "   -------------------------------------- - 23.7/24.8 MB 309.2 kB/s eta 0:00:04\n",
      "   -------------------------------------- - 23.7/24.8 MB 310.5 kB/s eta 0:00:04\n",
      "   -------------------------------------- - 23.7/24.8 MB 311.3 kB/s eta 0:00:04\n",
      "   -------------------------------------- - 23.7/24.8 MB 311.3 kB/s eta 0:00:04\n",
      "   -------------------------------------- - 23.8/24.8 MB 310.3 kB/s eta 0:00:04\n",
      "   -------------------------------------- - 23.8/24.8 MB 309.4 kB/s eta 0:00:04\n",
      "   -------------------------------------- - 23.8/24.8 MB 309.5 kB/s eta 0:00:04\n",
      "   -------------------------------------- - 23.8/24.8 MB 309.9 kB/s eta 0:00:04\n",
      "   -------------------------------------- - 23.9/24.8 MB 310.6 kB/s eta 0:00:04\n",
      "   -------------------------------------- - 23.9/24.8 MB 312.7 kB/s eta 0:00:03\n",
      "   -------------------------------------- - 23.9/24.8 MB 312.7 kB/s eta 0:00:03\n",
      "   -------------------------------------- - 24.0/24.8 MB 313.6 kB/s eta 0:00:03\n",
      "   -------------------------------------- - 24.0/24.8 MB 313.8 kB/s eta 0:00:03\n",
      "   -------------------------------------- - 24.0/24.8 MB 314.9 kB/s eta 0:00:03\n",
      "   -------------------------------------- - 24.1/24.8 MB 313.5 kB/s eta 0:00:03\n",
      "   -------------------------------------- - 24.1/24.8 MB 314.2 kB/s eta 0:00:03\n",
      "   -------------------------------------- - 24.1/24.8 MB 314.5 kB/s eta 0:00:03\n",
      "   -------------------------------------- - 24.1/24.8 MB 314.7 kB/s eta 0:00:03\n",
      "   -------------------------------------- - 24.2/24.8 MB 314.9 kB/s eta 0:00:03\n",
      "   -------------------------------------- - 24.2/24.8 MB 314.9 kB/s eta 0:00:03\n",
      "   -------------------------------------- - 24.2/24.8 MB 314.9 kB/s eta 0:00:03\n",
      "   -------------------------------------- - 24.2/24.8 MB 314.9 kB/s eta 0:00:03\n",
      "   ---------------------------------------  24.3/24.8 MB 316.1 kB/s eta 0:00:02\n",
      "   ---------------------------------------  24.3/24.8 MB 316.8 kB/s eta 0:00:02\n",
      "   ---------------------------------------  24.3/24.8 MB 316.8 kB/s eta 0:00:02\n",
      "   ---------------------------------------  24.3/24.8 MB 316.6 kB/s eta 0:00:02\n",
      "   ---------------------------------------  24.3/24.8 MB 316.1 kB/s eta 0:00:02\n",
      "   ---------------------------------------  24.3/24.8 MB 316.1 kB/s eta 0:00:02\n",
      "   ---------------------------------------  24.4/24.8 MB 316.6 kB/s eta 0:00:02\n",
      "   ---------------------------------------  24.4/24.8 MB 316.8 kB/s eta 0:00:02\n",
      "   ---------------------------------------  24.4/24.8 MB 316.8 kB/s eta 0:00:02\n",
      "   ---------------------------------------  24.4/24.8 MB 317.3 kB/s eta 0:00:02\n",
      "   ---------------------------------------  24.4/24.8 MB 317.3 kB/s eta 0:00:02\n",
      "   ---------------------------------------  24.5/24.8 MB 316.4 kB/s eta 0:00:02\n",
      "   ---------------------------------------  24.5/24.8 MB 316.4 kB/s eta 0:00:02\n",
      "   ---------------------------------------  24.5/24.8 MB 315.2 kB/s eta 0:00:02\n",
      "   ---------------------------------------  24.5/24.8 MB 317.1 kB/s eta 0:00:01\n",
      "   ---------------------------------------  24.5/24.8 MB 317.2 kB/s eta 0:00:01\n",
      "   ---------------------------------------  24.6/24.8 MB 317.6 kB/s eta 0:00:01\n",
      "   ---------------------------------------  24.6/24.8 MB 315.9 kB/s eta 0:00:01\n",
      "   ---------------------------------------  24.6/24.8 MB 315.9 kB/s eta 0:00:01\n",
      "   ---------------------------------------  24.6/24.8 MB 315.9 kB/s eta 0:00:01\n",
      "   ---------------------------------------  24.6/24.8 MB 315.9 kB/s eta 0:00:01\n",
      "   ---------------------------------------  24.6/24.8 MB 316.2 kB/s eta 0:00:01\n",
      "   ---------------------------------------  24.6/24.8 MB 316.2 kB/s eta 0:00:01\n",
      "   ---------------------------------------  24.6/24.8 MB 316.2 kB/s eta 0:00:01\n",
      "   ---------------------------------------  24.6/24.8 MB 316.2 kB/s eta 0:00:01\n",
      "   ---------------------------------------  24.6/24.8 MB 316.2 kB/s eta 0:00:01\n",
      "   ---------------------------------------  24.6/24.8 MB 316.2 kB/s eta 0:00:01\n",
      "   ---------------------------------------  24.6/24.8 MB 316.2 kB/s eta 0:00:01\n",
      "   ---------------------------------------  24.6/24.8 MB 316.2 kB/s eta 0:00:01\n",
      "   ---------------------------------------  24.6/24.8 MB 316.2 kB/s eta 0:00:01\n",
      "   ---------------------------------------  24.7/24.8 MB 315.2 kB/s eta 0:00:01\n",
      "   ---------------------------------------  24.7/24.8 MB 319.2 kB/s eta 0:00:01\n",
      "   ---------------------------------------  24.7/24.8 MB 319.2 kB/s eta 0:00:01\n",
      "   ---------------------------------------  24.7/24.8 MB 319.8 kB/s eta 0:00:01\n",
      "   ---------------------------------------  24.8/24.8 MB 319.8 kB/s eta 0:00:01\n",
      "   ---------------------------------------  24.8/24.8 MB 320.5 kB/s eta 0:00:01\n",
      "   ---------------------------------------  24.8/24.8 MB 320.5 kB/s eta 0:00:01\n",
      "   ---------------------------------------  24.8/24.8 MB 320.5 kB/s eta 0:00:01\n",
      "   ---------------------------------------  24.8/24.8 MB 320.5 kB/s eta 0:00:01\n",
      "   ---------------------------------------  24.8/24.8 MB 319.1 kB/s eta 0:00:01\n",
      "   ---------------------------------------  24.8/24.8 MB 319.1 kB/s eta 0:00:01\n",
      "   ---------------------------------------  24.8/24.8 MB 319.1 kB/s eta 0:00:01\n",
      "   ---------------------------------------  24.8/24.8 MB 319.1 kB/s eta 0:00:01\n",
      "   ---------------------------------------  24.8/24.8 MB 319.1 kB/s eta 0:00:01\n",
      "   ---------------------------------------- 24.8/24.8 MB 317.5 kB/s eta 0:00:00\n",
      "Installing collected packages: pyarrow\n",
      "Successfully installed pyarrow-15.0.0\n",
      "Note: you may need to restart the kernel to use updated packages.\n"
     ]
    }
   ],
   "source": [
    "pip install pyarrow "
   ]
  },
  {
   "cell_type": "code",
   "execution_count": 5,
   "metadata": {},
   "outputs": [
    {
     "name": "stdout",
     "output_type": "stream",
     "text": [
      "Collecting cufflinks\n",
      "  Downloading cufflinks-0.17.3.tar.gz (81 kB)\n",
      "     ---------------------------------------- 0.0/81.7 kB ? eta -:--:--\n",
      "     ----- ---------------------------------- 10.2/81.7 kB ? eta -:--:--\n",
      "     ----- ---------------------------------- 10.2/81.7 kB ? eta -:--:--\n",
      "     ----- ---------------------------------- 10.2/81.7 kB ? eta -:--:--\n",
      "     -------------- ----------------------- 30.7/81.7 kB 145.2 kB/s eta 0:00:01\n",
      "     ------------------- ------------------ 41.0/81.7 kB 163.4 kB/s eta 0:00:01\n",
      "     ---------------------------- --------- 61.4/81.7 kB 217.9 kB/s eta 0:00:01\n",
      "     -------------------------------------- 81.7/81.7 kB 253.5 kB/s eta 0:00:00\n",
      "  Preparing metadata (setup.py): started\n",
      "  Preparing metadata (setup.py): finished with status 'done'\n",
      "Requirement already satisfied: numpy>=1.9.2 in c:\\users\\user\\anaconda3\\envs\\python_dev\\lib\\site-packages (from cufflinks) (1.26.3)\n",
      "Requirement already satisfied: pandas>=0.19.2 in c:\\users\\user\\anaconda3\\envs\\python_dev\\lib\\site-packages (from cufflinks) (2.1.4)\n",
      "Requirement already satisfied: plotly>=4.1.1 in c:\\users\\user\\anaconda3\\envs\\python_dev\\lib\\site-packages (from cufflinks) (5.9.0)\n",
      "Requirement already satisfied: six>=1.9.0 in c:\\users\\user\\anaconda3\\envs\\python_dev\\lib\\site-packages (from cufflinks) (1.16.0)\n",
      "Collecting colorlover>=0.2.1 (from cufflinks)\n",
      "  Downloading colorlover-0.3.0-py3-none-any.whl (8.9 kB)\n",
      "Requirement already satisfied: setuptools>=34.4.1 in c:\\users\\user\\anaconda3\\envs\\python_dev\\lib\\site-packages (from cufflinks) (68.2.2)\n",
      "Requirement already satisfied: ipython>=5.3.0 in c:\\users\\user\\anaconda3\\envs\\python_dev\\lib\\site-packages (from cufflinks) (8.15.0)\n",
      "Requirement already satisfied: ipywidgets>=7.0.0 in c:\\users\\user\\anaconda3\\envs\\python_dev\\lib\\site-packages (from cufflinks) (8.0.4)\n",
      "Requirement already satisfied: backcall in c:\\users\\user\\anaconda3\\envs\\python_dev\\lib\\site-packages (from ipython>=5.3.0->cufflinks) (0.2.0)\n",
      "Requirement already satisfied: decorator in c:\\users\\user\\anaconda3\\envs\\python_dev\\lib\\site-packages (from ipython>=5.3.0->cufflinks) (5.1.1)\n",
      "Requirement already satisfied: jedi>=0.16 in c:\\users\\user\\anaconda3\\envs\\python_dev\\lib\\site-packages (from ipython>=5.3.0->cufflinks) (0.18.1)\n",
      "Requirement already satisfied: matplotlib-inline in c:\\users\\user\\anaconda3\\envs\\python_dev\\lib\\site-packages (from ipython>=5.3.0->cufflinks) (0.1.6)\n",
      "Requirement already satisfied: pickleshare in c:\\users\\user\\anaconda3\\envs\\python_dev\\lib\\site-packages (from ipython>=5.3.0->cufflinks) (0.7.5)\n",
      "Requirement already satisfied: prompt-toolkit!=3.0.37,<3.1.0,>=3.0.30 in c:\\users\\user\\anaconda3\\envs\\python_dev\\lib\\site-packages (from ipython>=5.3.0->cufflinks) (3.0.43)\n",
      "Requirement already satisfied: pygments>=2.4.0 in c:\\users\\user\\anaconda3\\envs\\python_dev\\lib\\site-packages (from ipython>=5.3.0->cufflinks) (2.15.1)\n",
      "Requirement already satisfied: stack-data in c:\\users\\user\\anaconda3\\envs\\python_dev\\lib\\site-packages (from ipython>=5.3.0->cufflinks) (0.2.0)\n",
      "Requirement already satisfied: traitlets>=5 in c:\\users\\user\\anaconda3\\envs\\python_dev\\lib\\site-packages (from ipython>=5.3.0->cufflinks) (5.7.1)\n",
      "Requirement already satisfied: exceptiongroup in c:\\users\\user\\anaconda3\\envs\\python_dev\\lib\\site-packages (from ipython>=5.3.0->cufflinks) (1.0.4)\n",
      "Requirement already satisfied: colorama in c:\\users\\user\\anaconda3\\envs\\python_dev\\lib\\site-packages (from ipython>=5.3.0->cufflinks) (0.4.6)\n",
      "Requirement already satisfied: ipykernel>=4.5.1 in c:\\users\\user\\anaconda3\\envs\\python_dev\\lib\\site-packages (from ipywidgets>=7.0.0->cufflinks) (6.25.0)\n",
      "Requirement already satisfied: widgetsnbextension~=4.0 in c:\\users\\user\\anaconda3\\envs\\python_dev\\lib\\site-packages (from ipywidgets>=7.0.0->cufflinks) (4.0.5)\n",
      "Requirement already satisfied: jupyterlab-widgets~=3.0 in c:\\users\\user\\anaconda3\\envs\\python_dev\\lib\\site-packages (from ipywidgets>=7.0.0->cufflinks) (3.0.9)\n",
      "Requirement already satisfied: python-dateutil>=2.8.2 in c:\\users\\user\\anaconda3\\envs\\python_dev\\lib\\site-packages (from pandas>=0.19.2->cufflinks) (2.8.2)\n",
      "Requirement already satisfied: pytz>=2020.1 in c:\\users\\user\\anaconda3\\envs\\python_dev\\lib\\site-packages (from pandas>=0.19.2->cufflinks) (2023.3.post1)\n",
      "Requirement already satisfied: tzdata>=2022.1 in c:\\users\\user\\anaconda3\\envs\\python_dev\\lib\\site-packages (from pandas>=0.19.2->cufflinks) (2023.3)\n",
      "Requirement already satisfied: tenacity>=6.2.0 in c:\\users\\user\\anaconda3\\envs\\python_dev\\lib\\site-packages (from plotly>=4.1.1->cufflinks) (8.2.2)\n",
      "Requirement already satisfied: comm>=0.1.1 in c:\\users\\user\\anaconda3\\envs\\python_dev\\lib\\site-packages (from ipykernel>=4.5.1->ipywidgets>=7.0.0->cufflinks) (0.1.2)\n",
      "Requirement already satisfied: debugpy>=1.6.5 in c:\\users\\user\\anaconda3\\envs\\python_dev\\lib\\site-packages (from ipykernel>=4.5.1->ipywidgets>=7.0.0->cufflinks) (1.6.7)\n",
      "Requirement already satisfied: jupyter-client>=6.1.12 in c:\\users\\user\\anaconda3\\envs\\python_dev\\lib\\site-packages (from ipykernel>=4.5.1->ipywidgets>=7.0.0->cufflinks) (8.6.0)\n",
      "Requirement already satisfied: jupyter-core!=5.0.*,>=4.12 in c:\\users\\user\\anaconda3\\envs\\python_dev\\lib\\site-packages (from ipykernel>=4.5.1->ipywidgets>=7.0.0->cufflinks) (5.5.0)\n",
      "Requirement already satisfied: nest-asyncio in c:\\users\\user\\anaconda3\\envs\\python_dev\\lib\\site-packages (from ipykernel>=4.5.1->ipywidgets>=7.0.0->cufflinks) (1.5.6)\n",
      "Requirement already satisfied: packaging in c:\\users\\user\\anaconda3\\envs\\python_dev\\lib\\site-packages (from ipykernel>=4.5.1->ipywidgets>=7.0.0->cufflinks) (23.1)\n",
      "Requirement already satisfied: psutil in c:\\users\\user\\anaconda3\\envs\\python_dev\\lib\\site-packages (from ipykernel>=4.5.1->ipywidgets>=7.0.0->cufflinks) (5.9.0)\n",
      "Requirement already satisfied: pyzmq>=20 in c:\\users\\user\\anaconda3\\envs\\python_dev\\lib\\site-packages (from ipykernel>=4.5.1->ipywidgets>=7.0.0->cufflinks) (25.1.0)\n",
      "Requirement already satisfied: tornado>=6.1 in c:\\users\\user\\anaconda3\\envs\\python_dev\\lib\\site-packages (from ipykernel>=4.5.1->ipywidgets>=7.0.0->cufflinks) (6.3.3)\n",
      "Requirement already satisfied: parso<0.9.0,>=0.8.0 in c:\\users\\user\\anaconda3\\envs\\python_dev\\lib\\site-packages (from jedi>=0.16->ipython>=5.3.0->cufflinks) (0.8.3)\n",
      "Requirement already satisfied: wcwidth in c:\\users\\user\\anaconda3\\envs\\python_dev\\lib\\site-packages (from prompt-toolkit!=3.0.37,<3.1.0,>=3.0.30->ipython>=5.3.0->cufflinks) (0.2.5)\n",
      "Requirement already satisfied: executing in c:\\users\\user\\anaconda3\\envs\\python_dev\\lib\\site-packages (from stack-data->ipython>=5.3.0->cufflinks) (0.8.3)\n",
      "Requirement already satisfied: asttokens in c:\\users\\user\\anaconda3\\envs\\python_dev\\lib\\site-packages (from stack-data->ipython>=5.3.0->cufflinks) (2.0.5)\n",
      "Requirement already satisfied: pure-eval in c:\\users\\user\\anaconda3\\envs\\python_dev\\lib\\site-packages (from stack-data->ipython>=5.3.0->cufflinks) (0.2.2)\n",
      "Requirement already satisfied: platformdirs>=2.5 in c:\\users\\user\\anaconda3\\envs\\python_dev\\lib\\site-packages (from jupyter-core!=5.0.*,>=4.12->ipykernel>=4.5.1->ipywidgets>=7.0.0->cufflinks) (3.10.0)\n",
      "Requirement already satisfied: pywin32>=300 in c:\\users\\user\\anaconda3\\envs\\python_dev\\lib\\site-packages (from jupyter-core!=5.0.*,>=4.12->ipykernel>=4.5.1->ipywidgets>=7.0.0->cufflinks) (305.1)\n",
      "Building wheels for collected packages: cufflinks\n",
      "  Building wheel for cufflinks (setup.py): started\n",
      "  Building wheel for cufflinks (setup.py): finished with status 'done'\n",
      "  Created wheel for cufflinks: filename=cufflinks-0.17.3-py3-none-any.whl size=68724 sha256=6772f79107bbd1d179ee6bdae70fe8e85b7e7d10225135d1dcd14bfcce28d28c\n",
      "  Stored in directory: c:\\users\\user\\appdata\\local\\pip\\cache\\wheels\\09\\8a\\6b\\cbe3e87b2e59bb5f90b49b034ce36b80b46a4d6e38444c34de\n",
      "Successfully built cufflinks\n",
      "Installing collected packages: colorlover, cufflinks\n",
      "Successfully installed colorlover-0.3.0 cufflinks-0.17.3\n",
      "Note: you may need to restart the kernel to use updated packages.\n"
     ]
    }
   ],
   "source": [
    "pip install cufflinks"
   ]
  },
  {
   "cell_type": "markdown",
   "metadata": {
    "colab_type": "text",
    "id": "NQVmxuCeNjS2"
   },
   "source": [
    "### Step 2: Enable interactive visualisations in Jupyter"
   ]
  },
  {
   "cell_type": "code",
   "execution_count": 6,
   "metadata": {
    "colab": {
     "base_uri": "https://localhost:8080/",
     "height": 53
    },
    "colab_type": "code",
    "executionInfo": {
     "elapsed": 33307,
     "status": "ok",
     "timestamp": 1574753234479,
     "user": {
      "displayName": "Jonathan Botha",
      "photoUrl": "",
      "userId": "05591136402895135214"
     },
     "user_tz": -120
    },
    "id": "-jAPU3kHNjS6",
    "outputId": "a259eb5f-dd7f-4893-b607-4dd00957e2a2"
   },
   "outputs": [
    {
     "name": "stderr",
     "output_type": "stream",
     "text": [
      "usage: jupyter [-h] [--version] [--config-dir] [--data-dir] [--runtime-dir]\n",
      "               [--paths] [--json] [--debug]\n",
      "               [subcommand]\n",
      "\n",
      "Jupyter: Interactive Computing\n",
      "\n",
      "positional arguments:\n",
      "  subcommand     the subcommand to launch\n",
      "\n",
      "options:\n",
      "  -h, --help     show this help message and exit\n",
      "  --version      show the versions of core jupyter packages and exit\n",
      "  --config-dir   show Jupyter config dir\n",
      "  --data-dir     show Jupyter data dir\n",
      "  --runtime-dir  show Jupyter runtime dir\n",
      "  --paths        show all Jupyter paths. Add --json for machine-readable\n",
      "                 format.\n",
      "  --json         output paths as machine-readable json\n",
      "  --debug        output debug information about paths\n",
      "\n",
      "Available subcommands: console dejavu events execute kernel kernelspec lab\n",
      "labextension labhub migrate nbconvert notebook qtconsole run script server\n",
      "troubleshoot trust\n",
      "\n",
      "Jupyter command `jupyter-nbextension` not found.\n"
     ]
    }
   ],
   "source": [
    "!jupyter nbextension enable --py widgetsnbextension"
   ]
  },
  {
   "attachments": {},
   "cell_type": "markdown",
   "metadata": {
    "colab_type": "text",
    "id": "4ngYm3JQNjTD"
   },
   "source": [
    "### Step 3: Import the required packages"
   ]
  },
  {
   "cell_type": "code",
   "execution_count": 8,
   "metadata": {
    "colab": {
     "base_uri": "https://localhost:8080/",
     "height": 17
    },
    "colab_type": "code",
    "executionInfo": {
     "elapsed": 35841,
     "status": "ok",
     "timestamp": 1574753237023,
     "user": {
      "displayName": "Jonathan Botha",
      "photoUrl": "",
      "userId": "05591136402895135214"
     },
     "user_tz": -120
    },
    "id": "nqU_FtjhNjTF",
    "outputId": "af2407a6-ebd0-41de-bb12-3a018b933aac"
   },
   "outputs": [
    {
     "data": {
      "text/html": [
       "        <script type=\"text/javascript\">\n",
       "        window.PlotlyConfig = {MathJaxConfig: 'local'};\n",
       "        if (window.MathJax && window.MathJax.Hub && window.MathJax.Hub.Config) {window.MathJax.Hub.Config({SVG: {font: \"STIX-Web\"}});}\n",
       "        if (typeof require !== 'undefined') {\n",
       "        require.undef(\"plotly\");\n",
       "        requirejs.config({\n",
       "            paths: {\n",
       "                'plotly': ['https://cdn.plot.ly/plotly-2.12.1.min']\n",
       "            }\n",
       "        });\n",
       "        require(['plotly'], function(Plotly) {\n",
       "            window._Plotly = Plotly;\n",
       "        });\n",
       "        }\n",
       "        </script>\n",
       "        "
      ]
     },
     "metadata": {},
     "output_type": "display_data"
    },
    {
     "data": {
      "text/html": [
       "        <script type=\"text/javascript\">\n",
       "        window.PlotlyConfig = {MathJaxConfig: 'local'};\n",
       "        if (window.MathJax && window.MathJax.Hub && window.MathJax.Hub.Config) {window.MathJax.Hub.Config({SVG: {font: \"STIX-Web\"}});}\n",
       "        if (typeof require !== 'undefined') {\n",
       "        require.undef(\"plotly\");\n",
       "        requirejs.config({\n",
       "            paths: {\n",
       "                'plotly': ['https://cdn.plot.ly/plotly-2.12.1.min']\n",
       "            }\n",
       "        });\n",
       "        require(['plotly'], function(Plotly) {\n",
       "            window._Plotly = Plotly;\n",
       "        });\n",
       "        }\n",
       "        </script>\n",
       "        "
      ]
     },
     "metadata": {},
     "output_type": "display_data"
    }
   ],
   "source": [
    "# Standard data science helpers\n",
    "import numpy as np\n",
    "import pandas as pd\n",
    "import scipy\n",
    "\n",
    "# Instantiate the Plotly charting library.\n",
    "import chart_studio.plotly as py\n",
    "import plotly.graph_objs as go\n",
    "import plotly.express as px\n",
    "# We use plotly.offline as this allows us to create interactive \n",
    "# visualisations without the use of an internet connection, \n",
    "# making our notebook more distributable to others. \n",
    "from plotly.offline import iplot, init_notebook_mode\n",
    "init_notebook_mode(connected=True)\n",
    "\n",
    "# The Cufflinks library allows us to directly bind \n",
    "# Pandas DataFrames to Plotly charts. \n",
    "import cufflinks as cf\n",
    "# Once again, we use the Cufflinks library in offline mode. \n",
    "cf.go_offline(connected=True)\n",
    "cf.set_config_file(colorscale='plotly', world_readable=True)\n",
    "\n",
    "# Extra options. We use these to make our interactive \n",
    "# visualisations more aesthetically appealing. \n",
    "from IPython.core.display import HTML\n",
    "pd.options.display.max_rows = 30\n",
    "pd.options.display.max_columns = 25\n",
    "\n",
    "# Show all code cells outputs.\n",
    "from IPython.core.interactiveshell import InteractiveShell\n",
    "InteractiveShell.ast_node_interactivity = 'all'"
   ]
  },
  {
   "attachments": {},
   "cell_type": "markdown",
   "metadata": {
    "colab_type": "text",
    "id": "Cqc5MtRRNjTR"
   },
   "source": [
    "### Step 4: Read in the data"
   ]
  },
  {
   "attachments": {},
   "cell_type": "markdown",
   "metadata": {
    "colab_type": "text",
    "id": "I37DIgd5NjTT"
   },
   "source": [
    "For this project, we'll work with some stats data from `medium.com`."
   ]
  },
  {
   "cell_type": "code",
   "execution_count": 10,
   "metadata": {
    "colab": {
     "base_uri": "https://localhost:8080/",
     "height": 608
    },
    "colab_type": "code",
    "executionInfo": {
     "elapsed": 38180,
     "status": "ok",
     "timestamp": 1574753239371,
     "user": {
      "displayName": "Jonathan Botha",
      "photoUrl": "",
      "userId": "05591136402895135214"
     },
     "user_tz": -120
    },
    "id": "xXI8yjCNNjTX",
    "outputId": "3290b505-c197-40d2-fc15-fce1b0351b8e"
   },
   "outputs": [
    {
     "data": {
      "text/html": [
       "<div>\n",
       "<style scoped>\n",
       "    .dataframe tbody tr th:only-of-type {\n",
       "        vertical-align: middle;\n",
       "    }\n",
       "\n",
       "    .dataframe tbody tr th {\n",
       "        vertical-align: top;\n",
       "    }\n",
       "\n",
       "    .dataframe thead th {\n",
       "        text-align: right;\n",
       "    }\n",
       "</style>\n",
       "<table border=\"1\" class=\"dataframe\">\n",
       "  <thead>\n",
       "    <tr style=\"text-align: right;\">\n",
       "      <th></th>\n",
       "      <th>claps</th>\n",
       "      <th>days_since_publication</th>\n",
       "      <th>fans</th>\n",
       "      <th>link</th>\n",
       "      <th>num_responses</th>\n",
       "      <th>publication</th>\n",
       "      <th>published_date</th>\n",
       "      <th>read_ratio</th>\n",
       "      <th>read_time</th>\n",
       "      <th>reads</th>\n",
       "      <th>started_date</th>\n",
       "      <th>tags</th>\n",
       "      <th>text</th>\n",
       "      <th>title</th>\n",
       "      <th>title_word_count</th>\n",
       "      <th>type</th>\n",
       "      <th>views</th>\n",
       "      <th>word_count</th>\n",
       "      <th>claps_per_word</th>\n",
       "      <th>editing_days</th>\n",
       "      <th>&lt;tag&gt;Education</th>\n",
       "      <th>&lt;tag&gt;Data Science</th>\n",
       "      <th>&lt;tag&gt;Towards Data Science</th>\n",
       "      <th>&lt;tag&gt;Machine Learning</th>\n",
       "      <th>&lt;tag&gt;Python</th>\n",
       "    </tr>\n",
       "  </thead>\n",
       "  <tbody>\n",
       "    <tr>\n",
       "      <th>129</th>\n",
       "      <td>2</td>\n",
       "      <td>597.301123</td>\n",
       "      <td>2</td>\n",
       "      <td>https://medium.com/p/screw-the-environment-but...</td>\n",
       "      <td>0</td>\n",
       "      <td>None</td>\n",
       "      <td>2017-06-10 14:25:00</td>\n",
       "      <td>42.17</td>\n",
       "      <td>7</td>\n",
       "      <td>70</td>\n",
       "      <td>2017-06-10 14:24:00</td>\n",
       "      <td>[Climate Change, Economics]</td>\n",
       "      <td>Screw the Environment, but Consider Your Walle...</td>\n",
       "      <td>Screw the Environment, but Consider Your Wallet</td>\n",
       "      <td>8</td>\n",
       "      <td>published</td>\n",
       "      <td>166</td>\n",
       "      <td>1859</td>\n",
       "      <td>0.001076</td>\n",
       "      <td>0</td>\n",
       "      <td>0</td>\n",
       "      <td>0</td>\n",
       "      <td>0</td>\n",
       "      <td>0</td>\n",
       "      <td>0</td>\n",
       "    </tr>\n",
       "    <tr>\n",
       "      <th>125</th>\n",
       "      <td>18</td>\n",
       "      <td>589.983168</td>\n",
       "      <td>3</td>\n",
       "      <td>https://medium.com/p/the-vanquishing-of-war-pl...</td>\n",
       "      <td>0</td>\n",
       "      <td>None</td>\n",
       "      <td>2017-06-17 22:02:00</td>\n",
       "      <td>30.34</td>\n",
       "      <td>14</td>\n",
       "      <td>54</td>\n",
       "      <td>2017-06-17 22:02:00</td>\n",
       "      <td>[Climate Change, Humanity, Optimism, History]</td>\n",
       "      <td>The Vanquishing of War, Plague and Famine Part...</td>\n",
       "      <td>The Vanquishing of War, Plague and Famine</td>\n",
       "      <td>8</td>\n",
       "      <td>published</td>\n",
       "      <td>178</td>\n",
       "      <td>3891</td>\n",
       "      <td>0.004626</td>\n",
       "      <td>0</td>\n",
       "      <td>0</td>\n",
       "      <td>0</td>\n",
       "      <td>0</td>\n",
       "      <td>0</td>\n",
       "      <td>0</td>\n",
       "    </tr>\n",
       "    <tr>\n",
       "      <th>132</th>\n",
       "      <td>51</td>\n",
       "      <td>577.363292</td>\n",
       "      <td>20</td>\n",
       "      <td>https://medium.com/p/capstone-project-mercedes...</td>\n",
       "      <td>0</td>\n",
       "      <td>None</td>\n",
       "      <td>2017-06-30 12:55:00</td>\n",
       "      <td>20.02</td>\n",
       "      <td>42</td>\n",
       "      <td>222</td>\n",
       "      <td>2017-06-30 12:00:00</td>\n",
       "      <td>[Machine Learning, Python, Udacity, Kaggle]</td>\n",
       "      <td>Capstone Project: Mercedes-Benz Greener Manufa...</td>\n",
       "      <td>Capstone Project: Mercedes-Benz Greener Manufa...</td>\n",
       "      <td>7</td>\n",
       "      <td>published</td>\n",
       "      <td>1109</td>\n",
       "      <td>12025</td>\n",
       "      <td>0.004241</td>\n",
       "      <td>0</td>\n",
       "      <td>0</td>\n",
       "      <td>0</td>\n",
       "      <td>0</td>\n",
       "      <td>1</td>\n",
       "      <td>1</td>\n",
       "    </tr>\n",
       "    <tr>\n",
       "      <th>126</th>\n",
       "      <td>0</td>\n",
       "      <td>576.520688</td>\n",
       "      <td>0</td>\n",
       "      <td>https://medium.com/p/home-of-the-scared-5af0fe...</td>\n",
       "      <td>0</td>\n",
       "      <td>None</td>\n",
       "      <td>2017-07-01 09:08:00</td>\n",
       "      <td>35.85</td>\n",
       "      <td>9</td>\n",
       "      <td>19</td>\n",
       "      <td>2017-06-30 18:21:00</td>\n",
       "      <td>[Politics, Books, News, Media Criticism]</td>\n",
       "      <td>Home of the Scared A review of A Culture of Fe...</td>\n",
       "      <td>Home of the Scared</td>\n",
       "      <td>4</td>\n",
       "      <td>published</td>\n",
       "      <td>53</td>\n",
       "      <td>2533</td>\n",
       "      <td>0.000000</td>\n",
       "      <td>0</td>\n",
       "      <td>0</td>\n",
       "      <td>0</td>\n",
       "      <td>0</td>\n",
       "      <td>0</td>\n",
       "      <td>0</td>\n",
       "    </tr>\n",
       "    <tr>\n",
       "      <th>121</th>\n",
       "      <td>0</td>\n",
       "      <td>572.533035</td>\n",
       "      <td>0</td>\n",
       "      <td>https://medium.com/p/the-triumph-of-peace-f485...</td>\n",
       "      <td>0</td>\n",
       "      <td>None</td>\n",
       "      <td>2017-07-05 08:51:00</td>\n",
       "      <td>8.47</td>\n",
       "      <td>14</td>\n",
       "      <td>5</td>\n",
       "      <td>2017-07-03 20:18:00</td>\n",
       "      <td>[Books, Psychology, History, Humanism]</td>\n",
       "      <td>The Triumph of Peace A review of The Better An...</td>\n",
       "      <td>The Triumph of Peace</td>\n",
       "      <td>4</td>\n",
       "      <td>published</td>\n",
       "      <td>59</td>\n",
       "      <td>3892</td>\n",
       "      <td>0.000000</td>\n",
       "      <td>1</td>\n",
       "      <td>0</td>\n",
       "      <td>0</td>\n",
       "      <td>0</td>\n",
       "      <td>0</td>\n",
       "      <td>0</td>\n",
       "    </tr>\n",
       "  </tbody>\n",
       "</table>\n",
       "</div>"
      ],
      "text/plain": [
       "     claps  days_since_publication  fans  \\\n",
       "129      2              597.301123     2   \n",
       "125     18              589.983168     3   \n",
       "132     51              577.363292    20   \n",
       "126      0              576.520688     0   \n",
       "121      0              572.533035     0   \n",
       "\n",
       "                                                  link  num_responses  \\\n",
       "129  https://medium.com/p/screw-the-environment-but...              0   \n",
       "125  https://medium.com/p/the-vanquishing-of-war-pl...              0   \n",
       "132  https://medium.com/p/capstone-project-mercedes...              0   \n",
       "126  https://medium.com/p/home-of-the-scared-5af0fe...              0   \n",
       "121  https://medium.com/p/the-triumph-of-peace-f485...              0   \n",
       "\n",
       "    publication      published_date  read_ratio  read_time  reads  \\\n",
       "129        None 2017-06-10 14:25:00       42.17          7     70   \n",
       "125        None 2017-06-17 22:02:00       30.34         14     54   \n",
       "132        None 2017-06-30 12:55:00       20.02         42    222   \n",
       "126        None 2017-07-01 09:08:00       35.85          9     19   \n",
       "121        None 2017-07-05 08:51:00        8.47         14      5   \n",
       "\n",
       "           started_date                                           tags  \\\n",
       "129 2017-06-10 14:24:00                    [Climate Change, Economics]   \n",
       "125 2017-06-17 22:02:00  [Climate Change, Humanity, Optimism, History]   \n",
       "132 2017-06-30 12:00:00    [Machine Learning, Python, Udacity, Kaggle]   \n",
       "126 2017-06-30 18:21:00       [Politics, Books, News, Media Criticism]   \n",
       "121 2017-07-03 20:18:00         [Books, Psychology, History, Humanism]   \n",
       "\n",
       "                                                  text  \\\n",
       "129  Screw the Environment, but Consider Your Walle...   \n",
       "125  The Vanquishing of War, Plague and Famine Part...   \n",
       "132  Capstone Project: Mercedes-Benz Greener Manufa...   \n",
       "126  Home of the Scared A review of A Culture of Fe...   \n",
       "121  The Triumph of Peace A review of The Better An...   \n",
       "\n",
       "                                                 title  title_word_count  \\\n",
       "129    Screw the Environment, but Consider Your Wallet                 8   \n",
       "125          The Vanquishing of War, Plague and Famine                 8   \n",
       "132  Capstone Project: Mercedes-Benz Greener Manufa...                 7   \n",
       "126                                 Home of the Scared                 4   \n",
       "121                               The Triumph of Peace                 4   \n",
       "\n",
       "          type  views  word_count  claps_per_word  editing_days  \\\n",
       "129  published    166        1859        0.001076             0   \n",
       "125  published    178        3891        0.004626             0   \n",
       "132  published   1109       12025        0.004241             0   \n",
       "126  published     53        2533        0.000000             0   \n",
       "121  published     59        3892        0.000000             1   \n",
       "\n",
       "     <tag>Education  <tag>Data Science  <tag>Towards Data Science  \\\n",
       "129               0                  0                          0   \n",
       "125               0                  0                          0   \n",
       "132               0                  0                          0   \n",
       "126               0                  0                          0   \n",
       "121               0                  0                          0   \n",
       "\n",
       "     <tag>Machine Learning  <tag>Python  \n",
       "129                      0            0  \n",
       "125                      0            0  \n",
       "132                      1            1  \n",
       "126                      0            0  \n",
       "121                      0            0  "
      ]
     },
     "execution_count": 10,
     "metadata": {},
     "output_type": "execute_result"
    },
    {
     "data": {
      "text/plain": [
       "pandas.core.frame.DataFrame"
      ]
     },
     "execution_count": 10,
     "metadata": {},
     "output_type": "execute_result"
    }
   ],
   "source": [
    "df = pd.read_parquet('https://github.com/WillKoehrsen/Data-Analysis/blob/master/medium/data/medium_data_2019_01_26?raw=true')\n",
    "df.head()\n",
    "type(df)"
   ]
  },
  {
   "cell_type": "markdown",
   "metadata": {},
   "source": [
    "Let's have a quick descriptive look at the data we've just pulled: "
   ]
  },
  {
   "cell_type": "code",
   "execution_count": 11,
   "metadata": {
    "colab": {
     "base_uri": "https://localhost:8080/",
     "height": 337
    },
    "colab_type": "code",
    "executionInfo": {
     "elapsed": 38174,
     "status": "ok",
     "timestamp": 1574753239373,
     "user": {
      "displayName": "Jonathan Botha",
      "photoUrl": "",
      "userId": "05591136402895135214"
     },
     "user_tz": -120
    },
    "id": "Zi9VnROCNjTd",
    "outputId": "44d3f941-9b39-482d-95c9-95f96edde35b",
    "scrolled": true
   },
   "outputs": [
    {
     "data": {
      "text/html": [
       "<div>\n",
       "<style scoped>\n",
       "    .dataframe tbody tr th:only-of-type {\n",
       "        vertical-align: middle;\n",
       "    }\n",
       "\n",
       "    .dataframe tbody tr th {\n",
       "        vertical-align: top;\n",
       "    }\n",
       "\n",
       "    .dataframe thead th {\n",
       "        text-align: right;\n",
       "    }\n",
       "</style>\n",
       "<table border=\"1\" class=\"dataframe\">\n",
       "  <thead>\n",
       "    <tr style=\"text-align: right;\">\n",
       "      <th></th>\n",
       "      <th>claps</th>\n",
       "      <th>days_since_publication</th>\n",
       "      <th>fans</th>\n",
       "      <th>num_responses</th>\n",
       "      <th>published_date</th>\n",
       "      <th>read_ratio</th>\n",
       "      <th>read_time</th>\n",
       "      <th>reads</th>\n",
       "      <th>started_date</th>\n",
       "      <th>title_word_count</th>\n",
       "      <th>views</th>\n",
       "      <th>word_count</th>\n",
       "      <th>claps_per_word</th>\n",
       "      <th>editing_days</th>\n",
       "      <th>&lt;tag&gt;Education</th>\n",
       "      <th>&lt;tag&gt;Data Science</th>\n",
       "      <th>&lt;tag&gt;Towards Data Science</th>\n",
       "      <th>&lt;tag&gt;Machine Learning</th>\n",
       "      <th>&lt;tag&gt;Python</th>\n",
       "    </tr>\n",
       "  </thead>\n",
       "  <tbody>\n",
       "    <tr>\n",
       "      <th>count</th>\n",
       "      <td>133.000000</td>\n",
       "      <td>133.000000</td>\n",
       "      <td>133.000000</td>\n",
       "      <td>133.000000</td>\n",
       "      <td>133</td>\n",
       "      <td>133.000000</td>\n",
       "      <td>133.000000</td>\n",
       "      <td>133.000000</td>\n",
       "      <td>133</td>\n",
       "      <td>133.000000</td>\n",
       "      <td>133.000000</td>\n",
       "      <td>133.000000</td>\n",
       "      <td>133.000000</td>\n",
       "      <td>133.000000</td>\n",
       "      <td>133.000000</td>\n",
       "      <td>133.000000</td>\n",
       "      <td>133.000000</td>\n",
       "      <td>133.000000</td>\n",
       "      <td>133.000000</td>\n",
       "    </tr>\n",
       "    <tr>\n",
       "      <th>mean</th>\n",
       "      <td>1815.263158</td>\n",
       "      <td>248.407273</td>\n",
       "      <td>352.052632</td>\n",
       "      <td>7.045113</td>\n",
       "      <td>2018-05-25 11:51:41.954000</td>\n",
       "      <td>29.074662</td>\n",
       "      <td>12.917293</td>\n",
       "      <td>6336.300752</td>\n",
       "      <td>2018-05-04 16:41:25.714000</td>\n",
       "      <td>7.127820</td>\n",
       "      <td>23404.030075</td>\n",
       "      <td>3029.120301</td>\n",
       "      <td>0.957638</td>\n",
       "      <td>20.330827</td>\n",
       "      <td>0.729323</td>\n",
       "      <td>0.609023</td>\n",
       "      <td>0.436090</td>\n",
       "      <td>0.383459</td>\n",
       "      <td>0.315789</td>\n",
       "    </tr>\n",
       "    <tr>\n",
       "      <th>min</th>\n",
       "      <td>0.000000</td>\n",
       "      <td>1.218629</td>\n",
       "      <td>0.000000</td>\n",
       "      <td>0.000000</td>\n",
       "      <td>2017-06-10 14:25:00</td>\n",
       "      <td>8.110000</td>\n",
       "      <td>1.000000</td>\n",
       "      <td>1.000000</td>\n",
       "      <td>2017-06-10 14:24:00</td>\n",
       "      <td>2.000000</td>\n",
       "      <td>3.000000</td>\n",
       "      <td>163.000000</td>\n",
       "      <td>0.000000</td>\n",
       "      <td>-13.000000</td>\n",
       "      <td>0.000000</td>\n",
       "      <td>0.000000</td>\n",
       "      <td>0.000000</td>\n",
       "      <td>0.000000</td>\n",
       "      <td>0.000000</td>\n",
       "    </tr>\n",
       "    <tr>\n",
       "      <th>25%</th>\n",
       "      <td>121.000000</td>\n",
       "      <td>74.543822</td>\n",
       "      <td>23.000000</td>\n",
       "      <td>0.000000</td>\n",
       "      <td>2018-01-17 19:42:00</td>\n",
       "      <td>20.020000</td>\n",
       "      <td>8.000000</td>\n",
       "      <td>363.000000</td>\n",
       "      <td>2018-01-10 08:20:00</td>\n",
       "      <td>5.000000</td>\n",
       "      <td>1375.000000</td>\n",
       "      <td>1653.000000</td>\n",
       "      <td>0.052115</td>\n",
       "      <td>0.000000</td>\n",
       "      <td>0.000000</td>\n",
       "      <td>0.000000</td>\n",
       "      <td>0.000000</td>\n",
       "      <td>0.000000</td>\n",
       "      <td>0.000000</td>\n",
       "    </tr>\n",
       "    <tr>\n",
       "      <th>50%</th>\n",
       "      <td>815.000000</td>\n",
       "      <td>245.416130</td>\n",
       "      <td>136.000000</td>\n",
       "      <td>4.000000</td>\n",
       "      <td>2018-05-28 11:39:00</td>\n",
       "      <td>27.060000</td>\n",
       "      <td>10.000000</td>\n",
       "      <td>2049.000000</td>\n",
       "      <td>2018-04-28 13:02:00</td>\n",
       "      <td>7.000000</td>\n",
       "      <td>7608.000000</td>\n",
       "      <td>2456.000000</td>\n",
       "      <td>0.421525</td>\n",
       "      <td>1.000000</td>\n",
       "      <td>1.000000</td>\n",
       "      <td>1.000000</td>\n",
       "      <td>0.000000</td>\n",
       "      <td>0.000000</td>\n",
       "      <td>0.000000</td>\n",
       "    </tr>\n",
       "    <tr>\n",
       "      <th>75%</th>\n",
       "      <td>2700.000000</td>\n",
       "      <td>376.080598</td>\n",
       "      <td>528.000000</td>\n",
       "      <td>12.000000</td>\n",
       "      <td>2018-11-15 08:35:00</td>\n",
       "      <td>34.910000</td>\n",
       "      <td>14.000000</td>\n",
       "      <td>7815.000000</td>\n",
       "      <td>2018-10-14 08:24:00</td>\n",
       "      <td>8.000000</td>\n",
       "      <td>30141.000000</td>\n",
       "      <td>3553.000000</td>\n",
       "      <td>1.099366</td>\n",
       "      <td>5.000000</td>\n",
       "      <td>1.000000</td>\n",
       "      <td>1.000000</td>\n",
       "      <td>1.000000</td>\n",
       "      <td>1.000000</td>\n",
       "      <td>1.000000</td>\n",
       "    </tr>\n",
       "    <tr>\n",
       "      <th>max</th>\n",
       "      <td>13600.000000</td>\n",
       "      <td>597.301123</td>\n",
       "      <td>2588.000000</td>\n",
       "      <td>59.000000</td>\n",
       "      <td>2019-01-27 16:23:00</td>\n",
       "      <td>74.370000</td>\n",
       "      <td>54.000000</td>\n",
       "      <td>41978.000000</td>\n",
       "      <td>2019-01-27 06:26:00</td>\n",
       "      <td>16.000000</td>\n",
       "      <td>173714.000000</td>\n",
       "      <td>15063.000000</td>\n",
       "      <td>17.891817</td>\n",
       "      <td>349.000000</td>\n",
       "      <td>1.000000</td>\n",
       "      <td>1.000000</td>\n",
       "      <td>1.000000</td>\n",
       "      <td>1.000000</td>\n",
       "      <td>1.000000</td>\n",
       "    </tr>\n",
       "    <tr>\n",
       "      <th>std</th>\n",
       "      <td>2449.074661</td>\n",
       "      <td>179.370879</td>\n",
       "      <td>479.060117</td>\n",
       "      <td>9.056108</td>\n",
       "      <td>NaN</td>\n",
       "      <td>12.417670</td>\n",
       "      <td>9.510795</td>\n",
       "      <td>9007.284726</td>\n",
       "      <td>NaN</td>\n",
       "      <td>3.158475</td>\n",
       "      <td>33995.636496</td>\n",
       "      <td>2393.414456</td>\n",
       "      <td>1.846756</td>\n",
       "      <td>74.111579</td>\n",
       "      <td>0.445989</td>\n",
       "      <td>0.489814</td>\n",
       "      <td>0.497774</td>\n",
       "      <td>0.488067</td>\n",
       "      <td>0.466587</td>\n",
       "    </tr>\n",
       "  </tbody>\n",
       "</table>\n",
       "</div>"
      ],
      "text/plain": [
       "              claps  days_since_publication         fans  num_responses  \\\n",
       "count    133.000000              133.000000   133.000000     133.000000   \n",
       "mean    1815.263158              248.407273   352.052632       7.045113   \n",
       "min        0.000000                1.218629     0.000000       0.000000   \n",
       "25%      121.000000               74.543822    23.000000       0.000000   \n",
       "50%      815.000000              245.416130   136.000000       4.000000   \n",
       "75%     2700.000000              376.080598   528.000000      12.000000   \n",
       "max    13600.000000              597.301123  2588.000000      59.000000   \n",
       "std     2449.074661              179.370879   479.060117       9.056108   \n",
       "\n",
       "                   published_date  read_ratio   read_time         reads  \\\n",
       "count                         133  133.000000  133.000000    133.000000   \n",
       "mean   2018-05-25 11:51:41.954000   29.074662   12.917293   6336.300752   \n",
       "min           2017-06-10 14:25:00    8.110000    1.000000      1.000000   \n",
       "25%           2018-01-17 19:42:00   20.020000    8.000000    363.000000   \n",
       "50%           2018-05-28 11:39:00   27.060000   10.000000   2049.000000   \n",
       "75%           2018-11-15 08:35:00   34.910000   14.000000   7815.000000   \n",
       "max           2019-01-27 16:23:00   74.370000   54.000000  41978.000000   \n",
       "std                           NaN   12.417670    9.510795   9007.284726   \n",
       "\n",
       "                     started_date  title_word_count          views  \\\n",
       "count                         133        133.000000     133.000000   \n",
       "mean   2018-05-04 16:41:25.714000          7.127820   23404.030075   \n",
       "min           2017-06-10 14:24:00          2.000000       3.000000   \n",
       "25%           2018-01-10 08:20:00          5.000000    1375.000000   \n",
       "50%           2018-04-28 13:02:00          7.000000    7608.000000   \n",
       "75%           2018-10-14 08:24:00          8.000000   30141.000000   \n",
       "max           2019-01-27 06:26:00         16.000000  173714.000000   \n",
       "std                           NaN          3.158475   33995.636496   \n",
       "\n",
       "         word_count  claps_per_word  editing_days  <tag>Education  \\\n",
       "count    133.000000      133.000000    133.000000      133.000000   \n",
       "mean    3029.120301        0.957638     20.330827        0.729323   \n",
       "min      163.000000        0.000000    -13.000000        0.000000   \n",
       "25%     1653.000000        0.052115      0.000000        0.000000   \n",
       "50%     2456.000000        0.421525      1.000000        1.000000   \n",
       "75%     3553.000000        1.099366      5.000000        1.000000   \n",
       "max    15063.000000       17.891817    349.000000        1.000000   \n",
       "std     2393.414456        1.846756     74.111579        0.445989   \n",
       "\n",
       "       <tag>Data Science  <tag>Towards Data Science  <tag>Machine Learning  \\\n",
       "count         133.000000                 133.000000             133.000000   \n",
       "mean            0.609023                   0.436090               0.383459   \n",
       "min             0.000000                   0.000000               0.000000   \n",
       "25%             0.000000                   0.000000               0.000000   \n",
       "50%             1.000000                   0.000000               0.000000   \n",
       "75%             1.000000                   1.000000               1.000000   \n",
       "max             1.000000                   1.000000               1.000000   \n",
       "std             0.489814                   0.497774               0.488067   \n",
       "\n",
       "       <tag>Python  \n",
       "count   133.000000  \n",
       "mean      0.315789  \n",
       "min       0.000000  \n",
       "25%       0.000000  \n",
       "50%       0.000000  \n",
       "75%       1.000000  \n",
       "max       1.000000  \n",
       "std       0.466587  "
      ]
     },
     "execution_count": 11,
     "metadata": {},
     "output_type": "execute_result"
    }
   ],
   "source": [
    "df.describe()"
   ]
  },
  {
   "cell_type": "markdown",
   "metadata": {
    "colab_type": "text",
    "id": "sioLwvDDNjTm"
   },
   "source": [
    "## Interactive visualisations\n",
    "We'll now work through a few examples of interactive visualisations. We'll start with a simple filter to see how the interface works."
   ]
  },
  {
   "cell_type": "markdown",
   "metadata": {
    "colab_type": "text",
    "id": "jDXpCHzkKm08"
   },
   "source": [
    "### Example 1"
   ]
  },
  {
   "cell_type": "code",
   "execution_count": 12,
   "metadata": {
    "colab": {},
    "colab_type": "code",
    "id": "27JyA1OeNjTp"
   },
   "outputs": [],
   "source": [
    "from ipywidgets import interact, interact_manual, widgets"
   ]
  },
  {
   "attachments": {},
   "cell_type": "markdown",
   "metadata": {
    "colab_type": "text",
    "id": "ctd60lPhNjTx"
   },
   "source": [
    "To make a function interactive, we need to use the ```@interact``` decorator. \n",
    "\n",
    "But wait, what's a decorator? \n",
    "\n",
    "Simply put, a decorator is a Python function that wraps around another declared function to enhance or augment its behaviour, like putting a ribbon around a present to make it look prettier as a gift. We won't go into the semantics of how to _create_ a decorator, but you can easily spot them above a function with the form ``@decorator_name``. \n",
    "For more information, see: https://realpython.com/primer-on-python-decorators/\n",
    "\n",
    "Consider the code below."
   ]
  },
  {
   "cell_type": "code",
   "execution_count": 16,
   "metadata": {
    "colab": {
     "base_uri": "https://localhost:8080/",
     "height": 17
    },
    "colab_type": "code",
    "executionInfo": {
     "elapsed": 38162,
     "status": "ok",
     "timestamp": 1574753239376,
     "user": {
      "displayName": "Jonathan Botha",
      "photoUrl": "",
      "userId": "05591136402895135214"
     },
     "user_tz": -120
    },
    "id": "PianhhDsNjT0",
    "outputId": "d89e9c9f-2db0-47be-9e5c-4e0b3ae9b3a4"
   },
   "outputs": [
    {
     "data": {
      "application/vnd.jupyter.widget-view+json": {
       "model_id": "48f7a6a60c884997896ff03411d59d50",
       "version_major": 2,
       "version_minor": 0
      },
      "text/plain": [
       "interactive(children=(Text(value='claps', description='column'), IntSlider(value=5000, description='x', max=15…"
      ]
     },
     "metadata": {},
     "output_type": "display_data"
    }
   ],
   "source": [
    "@interact\n",
    "def show_articles_more_than(column='claps', x=5000):\n",
    "    display(HTML(f'<h4>Showing articles with more than {x} {column}<h4>'))\n",
    "    display(df.loc[df[column] > x, ['title', 'claps', 'published_date', 'read_time', 'tags', 'views', 'reads']])"
   ]
  },
  {
   "attachments": {},
   "cell_type": "markdown",
   "metadata": {
    "colab_type": "text",
    "id": "qxCG6ow4NjT8"
   },
   "source": [
    "The ```@interact``` decorator automatically inferred that we wanted a text box for the column and an interactive slider. This decorator makes it incredibly simple to add interactivity. "
   ]
  },
  {
   "cell_type": "markdown",
   "metadata": {
    "colab_type": "text",
    "id": "A6hQ7E40Ky4j"
   },
   "source": [
    "### Example 2"
   ]
  },
  {
   "attachments": {},
   "cell_type": "markdown",
   "metadata": {
    "colab_type": "text",
    "id": "ntkHAlu4NjUG"
   },
   "source": [
    "Now we will add a dropdown menu to select which column to filter on while simultaneously adding limits for x. \n",
    "\n",
    "A dropdown menu can be useful when we need to enforce constraints on the interaction."
   ]
  },
  {
   "cell_type": "code",
   "execution_count": 19,
   "metadata": {
    "colab": {
     "base_uri": "https://localhost:8080/",
     "height": 17
    },
    "colab_type": "code",
    "executionInfo": {
     "elapsed": 38157,
     "status": "ok",
     "timestamp": 1574753239377,
     "user": {
      "displayName": "Jonathan Botha",
      "photoUrl": "",
      "userId": "05591136402895135214"
     },
     "user_tz": -120
    },
    "id": "-qOvFkvJNjT-",
    "outputId": "c3aaa575-54a2-4d1c-c414-6ae483aaba8e",
    "scrolled": true
   },
   "outputs": [
    {
     "data": {
      "application/vnd.jupyter.widget-view+json": {
       "model_id": "89a125fe2ea544e999398c6d7fd716a2",
       "version_major": 2,
       "version_minor": 0
      },
      "text/plain": [
       "interactive(children=(IntSlider(value=25000, description='x', max=50000, min=10, step=10), Dropdown(descriptio…"
      ]
     },
     "metadata": {},
     "output_type": "display_data"
    }
   ],
   "source": [
    "@interact\n",
    "def show_titles_more_than(x=(10, 50000, 10),\n",
    "                          column=['read_time', 'views', 'reads']):\n",
    "    display(HTML(f'<h4>Showing articles with more than {x} {column}<h4>'))\n",
    "    display(df.loc[df[column] > x, ['title', 'published_date', 'read_time', 'tags', 'views', 'reads']])"
   ]
  },
  {
   "cell_type": "code",
   "execution_count": 18,
   "metadata": {},
   "outputs": [
    {
     "data": {
      "text/plain": [
       "tuple"
      ]
     },
     "execution_count": 18,
     "metadata": {},
     "output_type": "execute_result"
    }
   ],
   "source": [
    "x=(10, 50000, 10)\n",
    "type(x)"
   ]
  },
  {
   "cell_type": "markdown",
   "metadata": {
    "colab_type": "text",
    "id": "WyQ7V3hDK4O9"
   },
   "source": [
    "### Example 3"
   ]
  },
  {
   "attachments": {},
   "cell_type": "markdown",
   "metadata": {
    "colab_type": "text",
    "id": "oUyIhWZ4NjUP"
   },
   "source": [
    "Moving on to more sophisticated data relationships that may be interactively represented, we construct a widget that quickly finds the correlation between two columns in the dataset."
   ]
  },
  {
   "cell_type": "code",
   "execution_count": 20,
   "metadata": {
    "colab": {
     "base_uri": "https://localhost:8080/",
     "height": 17
    },
    "colab_type": "code",
    "executionInfo": {
     "elapsed": 38149,
     "status": "ok",
     "timestamp": 1574753239379,
     "user": {
      "displayName": "Jonathan Botha",
      "photoUrl": "",
      "userId": "05591136402895135214"
     },
     "user_tz": -120
    },
    "id": "WMBFt-PpNjUR",
    "outputId": "4d250364-e5d4-4eb9-db4b-256a8e6ea47c"
   },
   "outputs": [
    {
     "data": {
      "application/vnd.jupyter.widget-view+json": {
       "model_id": "b6e1dfc38208410d87c10c260dd74cab",
       "version_major": 2,
       "version_minor": 0
      },
      "text/plain": [
       "interactive(children=(Dropdown(description='column1', options=('claps', 'days_since_publication', 'fans', 'num…"
      ]
     },
     "metadata": {},
     "output_type": "display_data"
    }
   ],
   "source": [
    "@interact\n",
    "def correlations(column1=list(df.select_dtypes('number').columns), \n",
    "                 column2=list(df.select_dtypes('number').columns)):\n",
    "    print(f\"Correlation: {df[column1].corr(df[column2])}\")"
   ]
  },
  {
   "attachments": {},
   "cell_type": "markdown",
   "metadata": {},
   "source": [
    "Within the above code example, we need to specify Pandas columns that are of a numeric type using the code `df.select_dtypes('number')` because the correlation statistic is only defined between numeric values. "
   ]
  },
  {
   "cell_type": "markdown",
   "metadata": {
    "colab_type": "text",
    "id": "mZmS-8NJQSfY"
   },
   "source": [
    "### Example 4"
   ]
  },
  {
   "cell_type": "markdown",
   "metadata": {
    "colab_type": "text",
    "id": "VoO_HdhzNjUX"
   },
   "source": [
    "We can use the same basic approach to create interactive widgets for plots. This approach allows us to expand the capabilities of the powerful `plotly` visualisation library."
   ]
  },
  {
   "cell_type": "code",
   "execution_count": 24,
   "metadata": {
    "colab": {
     "base_uri": "https://localhost:8080/",
     "height": 17
    },
    "colab_type": "code",
    "executionInfo": {
     "elapsed": 38141,
     "status": "ok",
     "timestamp": 1574753239379,
     "user": {
      "displayName": "Jonathan Botha",
      "photoUrl": "",
      "userId": "05591136402895135214"
     },
     "user_tz": -120
    },
    "id": "C4WtQa8rNjUa",
    "outputId": "a828ff27-e974-44eb-969d-6f839d2a1eab"
   },
   "outputs": [
    {
     "data": {
      "application/vnd.plotly.v1+json": {
       "config": {
        "linkText": "Export to plot.ly",
        "plotlyServerURL": "https://plot.ly",
        "showLink": true
       },
       "data": [
        {
         "line": {
          "color": "rgba(31, 119, 180, 1.0)",
          "dash": "solid",
          "shape": "linear",
          "width": 1.3
         },
         "marker": {
          "size": 12,
          "symbol": "circle"
         },
         "mode": "markers",
         "name": "days_since_publication",
         "text": "",
         "type": "scatter",
         "x": [
          2,
          18,
          51,
          0,
          0,
          0,
          73,
          240,
          2,
          0,
          704,
          58,
          5,
          7,
          87,
          23,
          5,
          167,
          8,
          17,
          9,
          4900,
          3000,
          72,
          123,
          865,
          186,
          11,
          120,
          2100,
          4100,
          59,
          2800,
          82,
          21,
          7300,
          1200,
          285,
          1600,
          1600,
          1100,
          4300,
          4970,
          12900,
          225,
          5100,
          101,
          6000,
          647,
          977,
          7000,
          7000,
          2700,
          1100,
          3000,
          2600,
          2900,
          5500,
          1300,
          1000,
          8000,
          363,
          13600,
          4100,
          2200,
          3900,
          6400,
          8500,
          1300,
          5500,
          2400,
          2800,
          2400,
          715,
          717,
          3300,
          4400,
          844,
          906,
          3800,
          662,
          658,
          1100,
          2900,
          3100,
          797,
          246,
          3400,
          347,
          2600,
          981,
          2100,
          966,
          3300,
          710,
          2500,
          815,
          755,
          603,
          940,
          2300,
          1400,
          787,
          2800,
          2100,
          3800,
          547,
          856,
          1000,
          205,
          730,
          121,
          418,
          31,
          0,
          24,
          5,
          0,
          6,
          0,
          539,
          730,
          582,
          453,
          626,
          386,
          7600,
          1800,
          370,
          315,
          2000,
          53,
          901
         ],
         "y": [
          597.3011234928935,
          589.9831678934722,
          577.3632923185879,
          576.5206880427894,
          572.5330352605787,
          558.0200849386921,
          552.1556248098611,
          550.0150101095486,
          547.1585928973843,
          545.3034809904862,
          539.3015251376505,
          538.3616333815626,
          538.3616308881944,
          536.0693024557986,
          534.2649433761227,
          534.1913703218287,
          531.3165667823959,
          526.1891594631713,
          524.2700156780787,
          493.27377432550924,
          408.4711316033102,
          397.4293953507986,
          397.4277877258797,
          395.11609148437503,
          392.3287214495833,
          387.0576305824537,
          386.0425008728935,
          385.4954133210764,
          385.1945411716667,
          383.9926222874884,
          381.0352299594097,
          380.49090689327545,
          376.26001103743056,
          376.08059837900464,
          375.5302295332639,
          374.25597562319444,
          374.057076269838,
          371.30287774083337,
          369.1330005642593,
          366.05627657653935,
          365.5400972110185,
          362.41502231988426,
          360.50850330781253,
          358.51825893546294,
          355.52055696855325,
          352.9647862130903,
          351.1118723947454,
          348.4246294948727,
          342.3672663808449,
          338.5035495385648,
          331.4365996720949,
          324.2237845179977,
          317.4644109924653,
          314.49385861916664,
          311.37095904774304,
          303.5431680369791,
          297.31014599925925,
          290.0418619020949,
          283.33863078045135,
          283.33590105774306,
          275.2574436720486,
          273.4401389939236,
          257.37869697715274,
          256.5031338793634,
          255.49303694083335,
          252.30707613392363,
          245.41612982315974,
          240.48394241055556,
          223.04379871745368,
          220.4763571140278,
          218.55013955496528,
          214.54560088826392,
          209.44029542083334,
          192.52871201636574,
          186.50202452077545,
          172.5235798258449,
          170.65633337769677,
          165.28853490334492,
          163.07584995606481,
          161.4928592507176,
          161.4909019917708,
          152.1039705243287,
          151.37068348711804,
          147.1741579396412,
          140.50823078605325,
          134.46337733312498,
          134.1546791284375,
          127.46704148513888,
          124.33105608341435,
          119.0234442440625,
          116.35277775572916,
          108.38023233480325,
          103.46704841506943,
          94.25432953921296,
          88.03775204251157,
          85.00553926068287,
          82.47490355932871,
          82.47320225390047,
          77.52644544283565,
          74.5438217130787,
          71.98887388260417,
          71.06999180240742,
          63.34277000334491,
          61.469023250590276,
          58.40827168365741,
          52.2235387972801,
          51.289980235289356,
          50.015705424664354,
          44.37431741674769,
          43.02407055767361,
          42.06569560732639,
          35.0521156375,
          34.25713649174769,
          34.01111164185185,
          34.00981653321759,
          34.009006550671295,
          34.00856147113426,
          34.00809835439815,
          34.007692483854164,
          32.568144913657406,
          32.38009209974537,
          30.417934632164354,
          28.156351569837963,
          26.557568693715275,
          26.506609918437498,
          23.02377654986111,
          19.978734082060186,
          18.266623060266202,
          16.337141827581018,
          12.204313545636573,
          8.215424677094907,
          3.547005433310185,
          1.2186292689930556
         ]
        }
       ],
       "layout": {
        "legend": {
         "bgcolor": "#F5F6F9",
         "font": {
          "color": "#4D5663"
         }
        },
        "paper_bgcolor": "#F5F6F9",
        "plot_bgcolor": "#F5F6F9",
        "template": {
         "data": {
          "bar": [
           {
            "error_x": {
             "color": "#2a3f5f"
            },
            "error_y": {
             "color": "#2a3f5f"
            },
            "marker": {
             "line": {
              "color": "#E5ECF6",
              "width": 0.5
             },
             "pattern": {
              "fillmode": "overlay",
              "size": 10,
              "solidity": 0.2
             }
            },
            "type": "bar"
           }
          ],
          "barpolar": [
           {
            "marker": {
             "line": {
              "color": "#E5ECF6",
              "width": 0.5
             },
             "pattern": {
              "fillmode": "overlay",
              "size": 10,
              "solidity": 0.2
             }
            },
            "type": "barpolar"
           }
          ],
          "carpet": [
           {
            "aaxis": {
             "endlinecolor": "#2a3f5f",
             "gridcolor": "white",
             "linecolor": "white",
             "minorgridcolor": "white",
             "startlinecolor": "#2a3f5f"
            },
            "baxis": {
             "endlinecolor": "#2a3f5f",
             "gridcolor": "white",
             "linecolor": "white",
             "minorgridcolor": "white",
             "startlinecolor": "#2a3f5f"
            },
            "type": "carpet"
           }
          ],
          "choropleth": [
           {
            "colorbar": {
             "outlinewidth": 0,
             "ticks": ""
            },
            "type": "choropleth"
           }
          ],
          "contour": [
           {
            "colorbar": {
             "outlinewidth": 0,
             "ticks": ""
            },
            "colorscale": [
             [
              0,
              "#0d0887"
             ],
             [
              0.1111111111111111,
              "#46039f"
             ],
             [
              0.2222222222222222,
              "#7201a8"
             ],
             [
              0.3333333333333333,
              "#9c179e"
             ],
             [
              0.4444444444444444,
              "#bd3786"
             ],
             [
              0.5555555555555556,
              "#d8576b"
             ],
             [
              0.6666666666666666,
              "#ed7953"
             ],
             [
              0.7777777777777778,
              "#fb9f3a"
             ],
             [
              0.8888888888888888,
              "#fdca26"
             ],
             [
              1,
              "#f0f921"
             ]
            ],
            "type": "contour"
           }
          ],
          "contourcarpet": [
           {
            "colorbar": {
             "outlinewidth": 0,
             "ticks": ""
            },
            "type": "contourcarpet"
           }
          ],
          "heatmap": [
           {
            "colorbar": {
             "outlinewidth": 0,
             "ticks": ""
            },
            "colorscale": [
             [
              0,
              "#0d0887"
             ],
             [
              0.1111111111111111,
              "#46039f"
             ],
             [
              0.2222222222222222,
              "#7201a8"
             ],
             [
              0.3333333333333333,
              "#9c179e"
             ],
             [
              0.4444444444444444,
              "#bd3786"
             ],
             [
              0.5555555555555556,
              "#d8576b"
             ],
             [
              0.6666666666666666,
              "#ed7953"
             ],
             [
              0.7777777777777778,
              "#fb9f3a"
             ],
             [
              0.8888888888888888,
              "#fdca26"
             ],
             [
              1,
              "#f0f921"
             ]
            ],
            "type": "heatmap"
           }
          ],
          "heatmapgl": [
           {
            "colorbar": {
             "outlinewidth": 0,
             "ticks": ""
            },
            "colorscale": [
             [
              0,
              "#0d0887"
             ],
             [
              0.1111111111111111,
              "#46039f"
             ],
             [
              0.2222222222222222,
              "#7201a8"
             ],
             [
              0.3333333333333333,
              "#9c179e"
             ],
             [
              0.4444444444444444,
              "#bd3786"
             ],
             [
              0.5555555555555556,
              "#d8576b"
             ],
             [
              0.6666666666666666,
              "#ed7953"
             ],
             [
              0.7777777777777778,
              "#fb9f3a"
             ],
             [
              0.8888888888888888,
              "#fdca26"
             ],
             [
              1,
              "#f0f921"
             ]
            ],
            "type": "heatmapgl"
           }
          ],
          "histogram": [
           {
            "marker": {
             "pattern": {
              "fillmode": "overlay",
              "size": 10,
              "solidity": 0.2
             }
            },
            "type": "histogram"
           }
          ],
          "histogram2d": [
           {
            "colorbar": {
             "outlinewidth": 0,
             "ticks": ""
            },
            "colorscale": [
             [
              0,
              "#0d0887"
             ],
             [
              0.1111111111111111,
              "#46039f"
             ],
             [
              0.2222222222222222,
              "#7201a8"
             ],
             [
              0.3333333333333333,
              "#9c179e"
             ],
             [
              0.4444444444444444,
              "#bd3786"
             ],
             [
              0.5555555555555556,
              "#d8576b"
             ],
             [
              0.6666666666666666,
              "#ed7953"
             ],
             [
              0.7777777777777778,
              "#fb9f3a"
             ],
             [
              0.8888888888888888,
              "#fdca26"
             ],
             [
              1,
              "#f0f921"
             ]
            ],
            "type": "histogram2d"
           }
          ],
          "histogram2dcontour": [
           {
            "colorbar": {
             "outlinewidth": 0,
             "ticks": ""
            },
            "colorscale": [
             [
              0,
              "#0d0887"
             ],
             [
              0.1111111111111111,
              "#46039f"
             ],
             [
              0.2222222222222222,
              "#7201a8"
             ],
             [
              0.3333333333333333,
              "#9c179e"
             ],
             [
              0.4444444444444444,
              "#bd3786"
             ],
             [
              0.5555555555555556,
              "#d8576b"
             ],
             [
              0.6666666666666666,
              "#ed7953"
             ],
             [
              0.7777777777777778,
              "#fb9f3a"
             ],
             [
              0.8888888888888888,
              "#fdca26"
             ],
             [
              1,
              "#f0f921"
             ]
            ],
            "type": "histogram2dcontour"
           }
          ],
          "mesh3d": [
           {
            "colorbar": {
             "outlinewidth": 0,
             "ticks": ""
            },
            "type": "mesh3d"
           }
          ],
          "parcoords": [
           {
            "line": {
             "colorbar": {
              "outlinewidth": 0,
              "ticks": ""
             }
            },
            "type": "parcoords"
           }
          ],
          "pie": [
           {
            "automargin": true,
            "type": "pie"
           }
          ],
          "scatter": [
           {
            "fillpattern": {
             "fillmode": "overlay",
             "size": 10,
             "solidity": 0.2
            },
            "type": "scatter"
           }
          ],
          "scatter3d": [
           {
            "line": {
             "colorbar": {
              "outlinewidth": 0,
              "ticks": ""
             }
            },
            "marker": {
             "colorbar": {
              "outlinewidth": 0,
              "ticks": ""
             }
            },
            "type": "scatter3d"
           }
          ],
          "scattercarpet": [
           {
            "marker": {
             "colorbar": {
              "outlinewidth": 0,
              "ticks": ""
             }
            },
            "type": "scattercarpet"
           }
          ],
          "scattergeo": [
           {
            "marker": {
             "colorbar": {
              "outlinewidth": 0,
              "ticks": ""
             }
            },
            "type": "scattergeo"
           }
          ],
          "scattergl": [
           {
            "marker": {
             "colorbar": {
              "outlinewidth": 0,
              "ticks": ""
             }
            },
            "type": "scattergl"
           }
          ],
          "scattermapbox": [
           {
            "marker": {
             "colorbar": {
              "outlinewidth": 0,
              "ticks": ""
             }
            },
            "type": "scattermapbox"
           }
          ],
          "scatterpolar": [
           {
            "marker": {
             "colorbar": {
              "outlinewidth": 0,
              "ticks": ""
             }
            },
            "type": "scatterpolar"
           }
          ],
          "scatterpolargl": [
           {
            "marker": {
             "colorbar": {
              "outlinewidth": 0,
              "ticks": ""
             }
            },
            "type": "scatterpolargl"
           }
          ],
          "scatterternary": [
           {
            "marker": {
             "colorbar": {
              "outlinewidth": 0,
              "ticks": ""
             }
            },
            "type": "scatterternary"
           }
          ],
          "surface": [
           {
            "colorbar": {
             "outlinewidth": 0,
             "ticks": ""
            },
            "colorscale": [
             [
              0,
              "#0d0887"
             ],
             [
              0.1111111111111111,
              "#46039f"
             ],
             [
              0.2222222222222222,
              "#7201a8"
             ],
             [
              0.3333333333333333,
              "#9c179e"
             ],
             [
              0.4444444444444444,
              "#bd3786"
             ],
             [
              0.5555555555555556,
              "#d8576b"
             ],
             [
              0.6666666666666666,
              "#ed7953"
             ],
             [
              0.7777777777777778,
              "#fb9f3a"
             ],
             [
              0.8888888888888888,
              "#fdca26"
             ],
             [
              1,
              "#f0f921"
             ]
            ],
            "type": "surface"
           }
          ],
          "table": [
           {
            "cells": {
             "fill": {
              "color": "#EBF0F8"
             },
             "line": {
              "color": "white"
             }
            },
            "header": {
             "fill": {
              "color": "#C8D4E3"
             },
             "line": {
              "color": "white"
             }
            },
            "type": "table"
           }
          ]
         },
         "layout": {
          "annotationdefaults": {
           "arrowcolor": "#2a3f5f",
           "arrowhead": 0,
           "arrowwidth": 1
          },
          "autotypenumbers": "strict",
          "coloraxis": {
           "colorbar": {
            "outlinewidth": 0,
            "ticks": ""
           }
          },
          "colorscale": {
           "diverging": [
            [
             0,
             "#8e0152"
            ],
            [
             0.1,
             "#c51b7d"
            ],
            [
             0.2,
             "#de77ae"
            ],
            [
             0.3,
             "#f1b6da"
            ],
            [
             0.4,
             "#fde0ef"
            ],
            [
             0.5,
             "#f7f7f7"
            ],
            [
             0.6,
             "#e6f5d0"
            ],
            [
             0.7,
             "#b8e186"
            ],
            [
             0.8,
             "#7fbc41"
            ],
            [
             0.9,
             "#4d9221"
            ],
            [
             1,
             "#276419"
            ]
           ],
           "sequential": [
            [
             0,
             "#0d0887"
            ],
            [
             0.1111111111111111,
             "#46039f"
            ],
            [
             0.2222222222222222,
             "#7201a8"
            ],
            [
             0.3333333333333333,
             "#9c179e"
            ],
            [
             0.4444444444444444,
             "#bd3786"
            ],
            [
             0.5555555555555556,
             "#d8576b"
            ],
            [
             0.6666666666666666,
             "#ed7953"
            ],
            [
             0.7777777777777778,
             "#fb9f3a"
            ],
            [
             0.8888888888888888,
             "#fdca26"
            ],
            [
             1,
             "#f0f921"
            ]
           ],
           "sequentialminus": [
            [
             0,
             "#0d0887"
            ],
            [
             0.1111111111111111,
             "#46039f"
            ],
            [
             0.2222222222222222,
             "#7201a8"
            ],
            [
             0.3333333333333333,
             "#9c179e"
            ],
            [
             0.4444444444444444,
             "#bd3786"
            ],
            [
             0.5555555555555556,
             "#d8576b"
            ],
            [
             0.6666666666666666,
             "#ed7953"
            ],
            [
             0.7777777777777778,
             "#fb9f3a"
            ],
            [
             0.8888888888888888,
             "#fdca26"
            ],
            [
             1,
             "#f0f921"
            ]
           ]
          },
          "colorway": [
           "#636efa",
           "#EF553B",
           "#00cc96",
           "#ab63fa",
           "#FFA15A",
           "#19d3f3",
           "#FF6692",
           "#B6E880",
           "#FF97FF",
           "#FECB52"
          ],
          "font": {
           "color": "#2a3f5f"
          },
          "geo": {
           "bgcolor": "white",
           "lakecolor": "white",
           "landcolor": "#E5ECF6",
           "showlakes": true,
           "showland": true,
           "subunitcolor": "white"
          },
          "hoverlabel": {
           "align": "left"
          },
          "hovermode": "closest",
          "mapbox": {
           "style": "light"
          },
          "paper_bgcolor": "white",
          "plot_bgcolor": "#E5ECF6",
          "polar": {
           "angularaxis": {
            "gridcolor": "white",
            "linecolor": "white",
            "ticks": ""
           },
           "bgcolor": "#E5ECF6",
           "radialaxis": {
            "gridcolor": "white",
            "linecolor": "white",
            "ticks": ""
           }
          },
          "scene": {
           "xaxis": {
            "backgroundcolor": "#E5ECF6",
            "gridcolor": "white",
            "gridwidth": 2,
            "linecolor": "white",
            "showbackground": true,
            "ticks": "",
            "zerolinecolor": "white"
           },
           "yaxis": {
            "backgroundcolor": "#E5ECF6",
            "gridcolor": "white",
            "gridwidth": 2,
            "linecolor": "white",
            "showbackground": true,
            "ticks": "",
            "zerolinecolor": "white"
           },
           "zaxis": {
            "backgroundcolor": "#E5ECF6",
            "gridcolor": "white",
            "gridwidth": 2,
            "linecolor": "white",
            "showbackground": true,
            "ticks": "",
            "zerolinecolor": "white"
           }
          },
          "shapedefaults": {
           "line": {
            "color": "#2a3f5f"
           }
          },
          "ternary": {
           "aaxis": {
            "gridcolor": "white",
            "linecolor": "white",
            "ticks": ""
           },
           "baxis": {
            "gridcolor": "white",
            "linecolor": "white",
            "ticks": ""
           },
           "bgcolor": "#E5ECF6",
           "caxis": {
            "gridcolor": "white",
            "linecolor": "white",
            "ticks": ""
           }
          },
          "title": {
           "x": 0.05
          },
          "xaxis": {
           "automargin": true,
           "gridcolor": "white",
           "linecolor": "white",
           "ticks": "",
           "title": {
            "standoff": 15
           },
           "zerolinecolor": "white",
           "zerolinewidth": 2
          },
          "yaxis": {
           "automargin": true,
           "gridcolor": "white",
           "linecolor": "white",
           "ticks": "",
           "title": {
            "standoff": 15
           },
           "zerolinecolor": "white",
           "zerolinewidth": 2
          }
         }
        },
        "title": {
         "font": {
          "color": "#4D5663"
         },
         "text": "Days_Since_Publication vs Claps"
        },
        "xaxis": {
         "gridcolor": "#E1E5ED",
         "showgrid": true,
         "tickfont": {
          "color": "#4D5663"
         },
         "title": {
          "font": {
           "color": "#4D5663"
          },
          "text": "Claps"
         },
         "zerolinecolor": "#E1E5ED"
        },
        "yaxis": {
         "gridcolor": "#E1E5ED",
         "showgrid": true,
         "tickfont": {
          "color": "#4D5663"
         },
         "title": {
          "font": {
           "color": "#4D5663"
          },
          "text": "Days_Since_Publication"
         },
         "zerolinecolor": "#E1E5ED"
        }
       }
      },
      "text/html": [
       "<div>                            <div id=\"689341f2-fa41-4186-9b2d-a9e335355761\" class=\"plotly-graph-div\" style=\"height:525px; width:100%;\"></div>            <script type=\"text/javascript\">                require([\"plotly\"], function(Plotly) {                    window.PLOTLYENV=window.PLOTLYENV || {};\n",
       "                    window.PLOTLYENV.BASE_URL='https://plot.ly';                                    if (document.getElementById(\"689341f2-fa41-4186-9b2d-a9e335355761\")) {                    Plotly.newPlot(                        \"689341f2-fa41-4186-9b2d-a9e335355761\",                        [{\"line\":{\"color\":\"rgba(31, 119, 180, 1.0)\",\"dash\":\"solid\",\"shape\":\"linear\",\"width\":1.3},\"marker\":{\"size\":12,\"symbol\":\"circle\"},\"mode\":\"markers\",\"name\":\"days_since_publication\",\"text\":\"\",\"x\":[2,18,51,0,0,0,73,240,2,0,704,58,5,7,87,23,5,167,8,17,9,4900,3000,72,123,865,186,11,120,2100,4100,59,2800,82,21,7300,1200,285,1600,1600,1100,4300,4970,12900,225,5100,101,6000,647,977,7000,7000,2700,1100,3000,2600,2900,5500,1300,1000,8000,363,13600,4100,2200,3900,6400,8500,1300,5500,2400,2800,2400,715,717,3300,4400,844,906,3800,662,658,1100,2900,3100,797,246,3400,347,2600,981,2100,966,3300,710,2500,815,755,603,940,2300,1400,787,2800,2100,3800,547,856,1000,205,730,121,418,31,0,24,5,0,6,0,539,730,582,453,626,386,7600,1800,370,315,2000,53,901],\"y\":[597.3011234928935,589.9831678934722,577.3632923185879,576.5206880427894,572.5330352605787,558.0200849386921,552.1556248098611,550.0150101095486,547.1585928973843,545.3034809904862,539.3015251376505,538.3616333815626,538.3616308881944,536.0693024557986,534.2649433761227,534.1913703218287,531.3165667823959,526.1891594631713,524.2700156780787,493.27377432550924,408.4711316033102,397.4293953507986,397.4277877258797,395.11609148437503,392.3287214495833,387.0576305824537,386.0425008728935,385.4954133210764,385.1945411716667,383.9926222874884,381.0352299594097,380.49090689327545,376.26001103743056,376.08059837900464,375.5302295332639,374.25597562319444,374.057076269838,371.30287774083337,369.1330005642593,366.05627657653935,365.5400972110185,362.41502231988426,360.50850330781253,358.51825893546294,355.52055696855325,352.9647862130903,351.1118723947454,348.4246294948727,342.3672663808449,338.5035495385648,331.4365996720949,324.2237845179977,317.4644109924653,314.49385861916664,311.37095904774304,303.5431680369791,297.31014599925925,290.0418619020949,283.33863078045135,283.33590105774306,275.2574436720486,273.4401389939236,257.37869697715274,256.5031338793634,255.49303694083335,252.30707613392363,245.41612982315974,240.48394241055556,223.04379871745368,220.4763571140278,218.55013955496528,214.54560088826392,209.44029542083334,192.52871201636574,186.50202452077545,172.5235798258449,170.65633337769677,165.28853490334492,163.07584995606481,161.4928592507176,161.4909019917708,152.1039705243287,151.37068348711804,147.1741579396412,140.50823078605325,134.46337733312498,134.1546791284375,127.46704148513888,124.33105608341435,119.0234442440625,116.35277775572916,108.38023233480325,103.46704841506943,94.25432953921296,88.03775204251157,85.00553926068287,82.47490355932871,82.47320225390047,77.52644544283565,74.5438217130787,71.98887388260417,71.06999180240742,63.34277000334491,61.469023250590276,58.40827168365741,52.2235387972801,51.289980235289356,50.015705424664354,44.37431741674769,43.02407055767361,42.06569560732639,35.0521156375,34.25713649174769,34.01111164185185,34.00981653321759,34.009006550671295,34.00856147113426,34.00809835439815,34.007692483854164,32.568144913657406,32.38009209974537,30.417934632164354,28.156351569837963,26.557568693715275,26.506609918437498,23.02377654986111,19.978734082060186,18.266623060266202,16.337141827581018,12.204313545636573,8.215424677094907,3.547005433310185,1.2186292689930556],\"type\":\"scatter\"}],                        {\"legend\":{\"bgcolor\":\"#F5F6F9\",\"font\":{\"color\":\"#4D5663\"}},\"paper_bgcolor\":\"#F5F6F9\",\"plot_bgcolor\":\"#F5F6F9\",\"template\":{\"data\":{\"barpolar\":[{\"marker\":{\"line\":{\"color\":\"#E5ECF6\",\"width\":0.5},\"pattern\":{\"fillmode\":\"overlay\",\"size\":10,\"solidity\":0.2}},\"type\":\"barpolar\"}],\"bar\":[{\"error_x\":{\"color\":\"#2a3f5f\"},\"error_y\":{\"color\":\"#2a3f5f\"},\"marker\":{\"line\":{\"color\":\"#E5ECF6\",\"width\":0.5},\"pattern\":{\"fillmode\":\"overlay\",\"size\":10,\"solidity\":0.2}},\"type\":\"bar\"}],\"carpet\":[{\"aaxis\":{\"endlinecolor\":\"#2a3f5f\",\"gridcolor\":\"white\",\"linecolor\":\"white\",\"minorgridcolor\":\"white\",\"startlinecolor\":\"#2a3f5f\"},\"baxis\":{\"endlinecolor\":\"#2a3f5f\",\"gridcolor\":\"white\",\"linecolor\":\"white\",\"minorgridcolor\":\"white\",\"startlinecolor\":\"#2a3f5f\"},\"type\":\"carpet\"}],\"choropleth\":[{\"colorbar\":{\"outlinewidth\":0,\"ticks\":\"\"},\"type\":\"choropleth\"}],\"contourcarpet\":[{\"colorbar\":{\"outlinewidth\":0,\"ticks\":\"\"},\"type\":\"contourcarpet\"}],\"contour\":[{\"colorbar\":{\"outlinewidth\":0,\"ticks\":\"\"},\"colorscale\":[[0.0,\"#0d0887\"],[0.1111111111111111,\"#46039f\"],[0.2222222222222222,\"#7201a8\"],[0.3333333333333333,\"#9c179e\"],[0.4444444444444444,\"#bd3786\"],[0.5555555555555556,\"#d8576b\"],[0.6666666666666666,\"#ed7953\"],[0.7777777777777778,\"#fb9f3a\"],[0.8888888888888888,\"#fdca26\"],[1.0,\"#f0f921\"]],\"type\":\"contour\"}],\"heatmapgl\":[{\"colorbar\":{\"outlinewidth\":0,\"ticks\":\"\"},\"colorscale\":[[0.0,\"#0d0887\"],[0.1111111111111111,\"#46039f\"],[0.2222222222222222,\"#7201a8\"],[0.3333333333333333,\"#9c179e\"],[0.4444444444444444,\"#bd3786\"],[0.5555555555555556,\"#d8576b\"],[0.6666666666666666,\"#ed7953\"],[0.7777777777777778,\"#fb9f3a\"],[0.8888888888888888,\"#fdca26\"],[1.0,\"#f0f921\"]],\"type\":\"heatmapgl\"}],\"heatmap\":[{\"colorbar\":{\"outlinewidth\":0,\"ticks\":\"\"},\"colorscale\":[[0.0,\"#0d0887\"],[0.1111111111111111,\"#46039f\"],[0.2222222222222222,\"#7201a8\"],[0.3333333333333333,\"#9c179e\"],[0.4444444444444444,\"#bd3786\"],[0.5555555555555556,\"#d8576b\"],[0.6666666666666666,\"#ed7953\"],[0.7777777777777778,\"#fb9f3a\"],[0.8888888888888888,\"#fdca26\"],[1.0,\"#f0f921\"]],\"type\":\"heatmap\"}],\"histogram2dcontour\":[{\"colorbar\":{\"outlinewidth\":0,\"ticks\":\"\"},\"colorscale\":[[0.0,\"#0d0887\"],[0.1111111111111111,\"#46039f\"],[0.2222222222222222,\"#7201a8\"],[0.3333333333333333,\"#9c179e\"],[0.4444444444444444,\"#bd3786\"],[0.5555555555555556,\"#d8576b\"],[0.6666666666666666,\"#ed7953\"],[0.7777777777777778,\"#fb9f3a\"],[0.8888888888888888,\"#fdca26\"],[1.0,\"#f0f921\"]],\"type\":\"histogram2dcontour\"}],\"histogram2d\":[{\"colorbar\":{\"outlinewidth\":0,\"ticks\":\"\"},\"colorscale\":[[0.0,\"#0d0887\"],[0.1111111111111111,\"#46039f\"],[0.2222222222222222,\"#7201a8\"],[0.3333333333333333,\"#9c179e\"],[0.4444444444444444,\"#bd3786\"],[0.5555555555555556,\"#d8576b\"],[0.6666666666666666,\"#ed7953\"],[0.7777777777777778,\"#fb9f3a\"],[0.8888888888888888,\"#fdca26\"],[1.0,\"#f0f921\"]],\"type\":\"histogram2d\"}],\"histogram\":[{\"marker\":{\"pattern\":{\"fillmode\":\"overlay\",\"size\":10,\"solidity\":0.2}},\"type\":\"histogram\"}],\"mesh3d\":[{\"colorbar\":{\"outlinewidth\":0,\"ticks\":\"\"},\"type\":\"mesh3d\"}],\"parcoords\":[{\"line\":{\"colorbar\":{\"outlinewidth\":0,\"ticks\":\"\"}},\"type\":\"parcoords\"}],\"pie\":[{\"automargin\":true,\"type\":\"pie\"}],\"scatter3d\":[{\"line\":{\"colorbar\":{\"outlinewidth\":0,\"ticks\":\"\"}},\"marker\":{\"colorbar\":{\"outlinewidth\":0,\"ticks\":\"\"}},\"type\":\"scatter3d\"}],\"scattercarpet\":[{\"marker\":{\"colorbar\":{\"outlinewidth\":0,\"ticks\":\"\"}},\"type\":\"scattercarpet\"}],\"scattergeo\":[{\"marker\":{\"colorbar\":{\"outlinewidth\":0,\"ticks\":\"\"}},\"type\":\"scattergeo\"}],\"scattergl\":[{\"marker\":{\"colorbar\":{\"outlinewidth\":0,\"ticks\":\"\"}},\"type\":\"scattergl\"}],\"scattermapbox\":[{\"marker\":{\"colorbar\":{\"outlinewidth\":0,\"ticks\":\"\"}},\"type\":\"scattermapbox\"}],\"scatterpolargl\":[{\"marker\":{\"colorbar\":{\"outlinewidth\":0,\"ticks\":\"\"}},\"type\":\"scatterpolargl\"}],\"scatterpolar\":[{\"marker\":{\"colorbar\":{\"outlinewidth\":0,\"ticks\":\"\"}},\"type\":\"scatterpolar\"}],\"scatter\":[{\"fillpattern\":{\"fillmode\":\"overlay\",\"size\":10,\"solidity\":0.2},\"type\":\"scatter\"}],\"scatterternary\":[{\"marker\":{\"colorbar\":{\"outlinewidth\":0,\"ticks\":\"\"}},\"type\":\"scatterternary\"}],\"surface\":[{\"colorbar\":{\"outlinewidth\":0,\"ticks\":\"\"},\"colorscale\":[[0.0,\"#0d0887\"],[0.1111111111111111,\"#46039f\"],[0.2222222222222222,\"#7201a8\"],[0.3333333333333333,\"#9c179e\"],[0.4444444444444444,\"#bd3786\"],[0.5555555555555556,\"#d8576b\"],[0.6666666666666666,\"#ed7953\"],[0.7777777777777778,\"#fb9f3a\"],[0.8888888888888888,\"#fdca26\"],[1.0,\"#f0f921\"]],\"type\":\"surface\"}],\"table\":[{\"cells\":{\"fill\":{\"color\":\"#EBF0F8\"},\"line\":{\"color\":\"white\"}},\"header\":{\"fill\":{\"color\":\"#C8D4E3\"},\"line\":{\"color\":\"white\"}},\"type\":\"table\"}]},\"layout\":{\"annotationdefaults\":{\"arrowcolor\":\"#2a3f5f\",\"arrowhead\":0,\"arrowwidth\":1},\"autotypenumbers\":\"strict\",\"coloraxis\":{\"colorbar\":{\"outlinewidth\":0,\"ticks\":\"\"}},\"colorscale\":{\"diverging\":[[0,\"#8e0152\"],[0.1,\"#c51b7d\"],[0.2,\"#de77ae\"],[0.3,\"#f1b6da\"],[0.4,\"#fde0ef\"],[0.5,\"#f7f7f7\"],[0.6,\"#e6f5d0\"],[0.7,\"#b8e186\"],[0.8,\"#7fbc41\"],[0.9,\"#4d9221\"],[1,\"#276419\"]],\"sequential\":[[0.0,\"#0d0887\"],[0.1111111111111111,\"#46039f\"],[0.2222222222222222,\"#7201a8\"],[0.3333333333333333,\"#9c179e\"],[0.4444444444444444,\"#bd3786\"],[0.5555555555555556,\"#d8576b\"],[0.6666666666666666,\"#ed7953\"],[0.7777777777777778,\"#fb9f3a\"],[0.8888888888888888,\"#fdca26\"],[1.0,\"#f0f921\"]],\"sequentialminus\":[[0.0,\"#0d0887\"],[0.1111111111111111,\"#46039f\"],[0.2222222222222222,\"#7201a8\"],[0.3333333333333333,\"#9c179e\"],[0.4444444444444444,\"#bd3786\"],[0.5555555555555556,\"#d8576b\"],[0.6666666666666666,\"#ed7953\"],[0.7777777777777778,\"#fb9f3a\"],[0.8888888888888888,\"#fdca26\"],[1.0,\"#f0f921\"]]},\"colorway\":[\"#636efa\",\"#EF553B\",\"#00cc96\",\"#ab63fa\",\"#FFA15A\",\"#19d3f3\",\"#FF6692\",\"#B6E880\",\"#FF97FF\",\"#FECB52\"],\"font\":{\"color\":\"#2a3f5f\"},\"geo\":{\"bgcolor\":\"white\",\"lakecolor\":\"white\",\"landcolor\":\"#E5ECF6\",\"showlakes\":true,\"showland\":true,\"subunitcolor\":\"white\"},\"hoverlabel\":{\"align\":\"left\"},\"hovermode\":\"closest\",\"mapbox\":{\"style\":\"light\"},\"paper_bgcolor\":\"white\",\"plot_bgcolor\":\"#E5ECF6\",\"polar\":{\"angularaxis\":{\"gridcolor\":\"white\",\"linecolor\":\"white\",\"ticks\":\"\"},\"bgcolor\":\"#E5ECF6\",\"radialaxis\":{\"gridcolor\":\"white\",\"linecolor\":\"white\",\"ticks\":\"\"}},\"scene\":{\"xaxis\":{\"backgroundcolor\":\"#E5ECF6\",\"gridcolor\":\"white\",\"gridwidth\":2,\"linecolor\":\"white\",\"showbackground\":true,\"ticks\":\"\",\"zerolinecolor\":\"white\"},\"yaxis\":{\"backgroundcolor\":\"#E5ECF6\",\"gridcolor\":\"white\",\"gridwidth\":2,\"linecolor\":\"white\",\"showbackground\":true,\"ticks\":\"\",\"zerolinecolor\":\"white\"},\"zaxis\":{\"backgroundcolor\":\"#E5ECF6\",\"gridcolor\":\"white\",\"gridwidth\":2,\"linecolor\":\"white\",\"showbackground\":true,\"ticks\":\"\",\"zerolinecolor\":\"white\"}},\"shapedefaults\":{\"line\":{\"color\":\"#2a3f5f\"}},\"ternary\":{\"aaxis\":{\"gridcolor\":\"white\",\"linecolor\":\"white\",\"ticks\":\"\"},\"baxis\":{\"gridcolor\":\"white\",\"linecolor\":\"white\",\"ticks\":\"\"},\"bgcolor\":\"#E5ECF6\",\"caxis\":{\"gridcolor\":\"white\",\"linecolor\":\"white\",\"ticks\":\"\"}},\"title\":{\"x\":0.05},\"xaxis\":{\"automargin\":true,\"gridcolor\":\"white\",\"linecolor\":\"white\",\"ticks\":\"\",\"title\":{\"standoff\":15},\"zerolinecolor\":\"white\",\"zerolinewidth\":2},\"yaxis\":{\"automargin\":true,\"gridcolor\":\"white\",\"linecolor\":\"white\",\"ticks\":\"\",\"title\":{\"standoff\":15},\"zerolinecolor\":\"white\",\"zerolinewidth\":2}}},\"title\":{\"font\":{\"color\":\"#4D5663\"},\"text\":\"Days_Since_Publication vs Claps\"},\"xaxis\":{\"gridcolor\":\"#E1E5ED\",\"showgrid\":true,\"tickfont\":{\"color\":\"#4D5663\"},\"title\":{\"font\":{\"color\":\"#4D5663\"},\"text\":\"Claps\"},\"zerolinecolor\":\"#E1E5ED\"},\"yaxis\":{\"gridcolor\":\"#E1E5ED\",\"showgrid\":true,\"tickfont\":{\"color\":\"#4D5663\"},\"title\":{\"font\":{\"color\":\"#4D5663\"},\"text\":\"Days_Since_Publication\"},\"zerolinecolor\":\"#E1E5ED\"}},                        {\"showLink\": true, \"linkText\": \"Export to plot.ly\", \"plotlyServerURL\": \"https://plot.ly\", \"responsive\": true}                    ).then(function(){\n",
       "                            \n",
       "var gd = document.getElementById('689341f2-fa41-4186-9b2d-a9e335355761');\n",
       "var x = new MutationObserver(function (mutations, observer) {{\n",
       "        var display = window.getComputedStyle(gd).display;\n",
       "        if (!display || display === 'none') {{\n",
       "            console.log([gd, 'removed!']);\n",
       "            Plotly.purge(gd);\n",
       "            observer.disconnect();\n",
       "        }}\n",
       "}});\n",
       "\n",
       "// Listen for the removal of the full notebook cells\n",
       "var notebookContainer = gd.closest('#notebook-container');\n",
       "if (notebookContainer) {{\n",
       "    x.observe(notebookContainer, {childList: true});\n",
       "}}\n",
       "\n",
       "// Listen for the clearing of the current output cell\n",
       "var outputEl = gd.closest('.output');\n",
       "if (outputEl) {{\n",
       "    x.observe(outputEl, {childList: true});\n",
       "}}\n",
       "\n",
       "                        })                };                });            </script>        </div>"
      ]
     },
     "metadata": {},
     "output_type": "display_data"
    },
    {
     "data": {
      "application/vnd.jupyter.widget-view+json": {
       "model_id": "1a39e749bb3a44cab37a5ba2671cd510",
       "version_major": 2,
       "version_minor": 0
      },
      "text/plain": [
       "interactive(children=(Dropdown(description='x', options=('claps', 'days_since_publication', 'fans', 'num_respo…"
      ]
     },
     "metadata": {},
     "output_type": "display_data"
    },
    {
     "data": {
      "application/vnd.plotly.v1+json": {
       "config": {
        "linkText": "Export to plot.ly",
        "plotlyServerURL": "https://plot.ly",
        "showLink": true
       },
       "data": [
        {
         "line": {
          "color": "rgba(31, 119, 180, 1.0)",
          "dash": "solid",
          "shape": "linear",
          "width": 1.3
         },
         "marker": {
          "size": 12,
          "symbol": "circle"
         },
         "mode": "markers",
         "name": "days_since_publication",
         "text": "",
         "type": "scatter",
         "x": [
          0.0010758472296933835,
          0.004626060138781804,
          0.004241164241164241,
          0,
          0,
          0,
          0.04105736782902137,
          0.1023454157782516,
          0.0010554089709762533,
          0,
          0.10561056105610561,
          0.007672972615425321,
          0.0006528267397832616,
          0.0020951810835079317,
          0.01579520697167756,
          0.004819782062028499,
          0.004118616144975288,
          0.024558823529411765,
          0.0056657223796034,
          0.004354508196721311,
          0.003975265017667844,
          1.0903426791277258,
          1.0526315789473684,
          0.02869669190912714,
          0.023837209302325583,
          0.2468607305936073,
          0.05211543849817876,
          0.010251630941286114,
          0.042598509052183174,
          0.8550488599348535,
          1.378614660390047,
          0.04490106544901065,
          1.1691022964509394,
          0.07014542343883662,
          0.01348747591522158,
          2.8876582278481013,
          0.881704628949302,
          0.1724137931034483,
          1.5779092702169626,
          1.0243277848911652,
          0.4435483870967742,
          3.356752537080406,
          2.0285714285714285,
          17.891816920943135,
          0.16363636363636364,
          1.8398268398268398,
          0.15930599369085174,
          3.0864197530864197,
          0.3541324575807334,
          1.0471596998928188,
          2.729044834307992,
          3.6726128016789086,
          1.1278195488721805,
          0.4954954954954955,
          1.1476664116296864,
          1.0993657505285412,
          1.8389346861128726,
          2.2974101921470345,
          0.483271375464684,
          0.3816793893129771,
          5.405405405405405,
          0.4745098039215686,
          3.827751196172249,
          1.3200257566001288,
          0.8390541571319603,
          1.6680923866552608,
          2.1512605042016806,
          3.2099697885196377,
          0.2486610558530987,
          2.7527527527527527,
          0.7073386383731212,
          1.430761369443025,
          0.5583992554676593,
          0.19230769230769232,
          0.5749799518845229,
          1.2528473804100229,
          2.1558059774620286,
          0.36022193768672645,
          2.428954423592493,
          0.950950950950951,
          0.17266562336984873,
          4.03680981595092,
          0.27214250371103416,
          1.09104589917231,
          0.825346112886049,
          0.6800341296928327,
          0.15569620253164557,
          0.9052183173588925,
          0.16626736942980355,
          1.437258153676064,
          0.32710903634544847,
          0.8457511075312123,
          0.4447513812154696,
          1.1251278554381179,
          0.5274888558692422,
          0.6584145377929944,
          0.41182415361293584,
          0.5870917573872473,
          0.3463526708788053,
          0.42152466367713004,
          1.4734144778987828,
          1.033210332103321,
          0.23160682754561507,
          0.9915014164305949,
          1.5032211882605584,
          4.3329532497149374,
          0.41755725190839693,
          0.6070921985815603,
          0.5537098560354374,
          0.09633458646616541,
          0.6790697674418604,
          0.06308654848800835,
          0.19130434782608696,
          0.002058022970191861,
          0,
          0.002474737059187461,
          0.0005877512636652169,
          0,
          0.001955671447196871,
          0,
          0.07564912280701755,
          0.38461538461538464,
          0.20689655172413793,
          0.2667844522968198,
          0.27480245829675154,
          0.10494834148994019,
          5.216197666437886,
          0.4845222072678331,
          0.13237924865831843,
          0.12440758293838862,
          0.5932957579353307,
          0.014933784164553396,
          0.7565071368597817
         ],
         "y": [
          597.3011234928935,
          589.9831678934722,
          577.3632923185879,
          576.5206880427894,
          572.5330352605787,
          558.0200849386921,
          552.1556248098611,
          550.0150101095486,
          547.1585928973843,
          545.3034809904862,
          539.3015251376505,
          538.3616333815626,
          538.3616308881944,
          536.0693024557986,
          534.2649433761227,
          534.1913703218287,
          531.3165667823959,
          526.1891594631713,
          524.2700156780787,
          493.27377432550924,
          408.4711316033102,
          397.4293953507986,
          397.4277877258797,
          395.11609148437503,
          392.3287214495833,
          387.0576305824537,
          386.0425008728935,
          385.4954133210764,
          385.1945411716667,
          383.9926222874884,
          381.0352299594097,
          380.49090689327545,
          376.26001103743056,
          376.08059837900464,
          375.5302295332639,
          374.25597562319444,
          374.057076269838,
          371.30287774083337,
          369.1330005642593,
          366.05627657653935,
          365.5400972110185,
          362.41502231988426,
          360.50850330781253,
          358.51825893546294,
          355.52055696855325,
          352.9647862130903,
          351.1118723947454,
          348.4246294948727,
          342.3672663808449,
          338.5035495385648,
          331.4365996720949,
          324.2237845179977,
          317.4644109924653,
          314.49385861916664,
          311.37095904774304,
          303.5431680369791,
          297.31014599925925,
          290.0418619020949,
          283.33863078045135,
          283.33590105774306,
          275.2574436720486,
          273.4401389939236,
          257.37869697715274,
          256.5031338793634,
          255.49303694083335,
          252.30707613392363,
          245.41612982315974,
          240.48394241055556,
          223.04379871745368,
          220.4763571140278,
          218.55013955496528,
          214.54560088826392,
          209.44029542083334,
          192.52871201636574,
          186.50202452077545,
          172.5235798258449,
          170.65633337769677,
          165.28853490334492,
          163.07584995606481,
          161.4928592507176,
          161.4909019917708,
          152.1039705243287,
          151.37068348711804,
          147.1741579396412,
          140.50823078605325,
          134.46337733312498,
          134.1546791284375,
          127.46704148513888,
          124.33105608341435,
          119.0234442440625,
          116.35277775572916,
          108.38023233480325,
          103.46704841506943,
          94.25432953921296,
          88.03775204251157,
          85.00553926068287,
          82.47490355932871,
          82.47320225390047,
          77.52644544283565,
          74.5438217130787,
          71.98887388260417,
          71.06999180240742,
          63.34277000334491,
          61.469023250590276,
          58.40827168365741,
          52.2235387972801,
          51.289980235289356,
          50.015705424664354,
          44.37431741674769,
          43.02407055767361,
          42.06569560732639,
          35.0521156375,
          34.25713649174769,
          34.01111164185185,
          34.00981653321759,
          34.009006550671295,
          34.00856147113426,
          34.00809835439815,
          34.007692483854164,
          32.568144913657406,
          32.38009209974537,
          30.417934632164354,
          28.156351569837963,
          26.557568693715275,
          26.506609918437498,
          23.02377654986111,
          19.978734082060186,
          18.266623060266202,
          16.337141827581018,
          12.204313545636573,
          8.215424677094907,
          3.547005433310185,
          1.2186292689930556
         ]
        }
       ],
       "layout": {
        "legend": {
         "bgcolor": "#F5F6F9",
         "font": {
          "color": "#4D5663"
         }
        },
        "paper_bgcolor": "#F5F6F9",
        "plot_bgcolor": "#F5F6F9",
        "template": {
         "data": {
          "bar": [
           {
            "error_x": {
             "color": "#2a3f5f"
            },
            "error_y": {
             "color": "#2a3f5f"
            },
            "marker": {
             "line": {
              "color": "#E5ECF6",
              "width": 0.5
             },
             "pattern": {
              "fillmode": "overlay",
              "size": 10,
              "solidity": 0.2
             }
            },
            "type": "bar"
           }
          ],
          "barpolar": [
           {
            "marker": {
             "line": {
              "color": "#E5ECF6",
              "width": 0.5
             },
             "pattern": {
              "fillmode": "overlay",
              "size": 10,
              "solidity": 0.2
             }
            },
            "type": "barpolar"
           }
          ],
          "carpet": [
           {
            "aaxis": {
             "endlinecolor": "#2a3f5f",
             "gridcolor": "white",
             "linecolor": "white",
             "minorgridcolor": "white",
             "startlinecolor": "#2a3f5f"
            },
            "baxis": {
             "endlinecolor": "#2a3f5f",
             "gridcolor": "white",
             "linecolor": "white",
             "minorgridcolor": "white",
             "startlinecolor": "#2a3f5f"
            },
            "type": "carpet"
           }
          ],
          "choropleth": [
           {
            "colorbar": {
             "outlinewidth": 0,
             "ticks": ""
            },
            "type": "choropleth"
           }
          ],
          "contour": [
           {
            "colorbar": {
             "outlinewidth": 0,
             "ticks": ""
            },
            "colorscale": [
             [
              0,
              "#0d0887"
             ],
             [
              0.1111111111111111,
              "#46039f"
             ],
             [
              0.2222222222222222,
              "#7201a8"
             ],
             [
              0.3333333333333333,
              "#9c179e"
             ],
             [
              0.4444444444444444,
              "#bd3786"
             ],
             [
              0.5555555555555556,
              "#d8576b"
             ],
             [
              0.6666666666666666,
              "#ed7953"
             ],
             [
              0.7777777777777778,
              "#fb9f3a"
             ],
             [
              0.8888888888888888,
              "#fdca26"
             ],
             [
              1,
              "#f0f921"
             ]
            ],
            "type": "contour"
           }
          ],
          "contourcarpet": [
           {
            "colorbar": {
             "outlinewidth": 0,
             "ticks": ""
            },
            "type": "contourcarpet"
           }
          ],
          "heatmap": [
           {
            "colorbar": {
             "outlinewidth": 0,
             "ticks": ""
            },
            "colorscale": [
             [
              0,
              "#0d0887"
             ],
             [
              0.1111111111111111,
              "#46039f"
             ],
             [
              0.2222222222222222,
              "#7201a8"
             ],
             [
              0.3333333333333333,
              "#9c179e"
             ],
             [
              0.4444444444444444,
              "#bd3786"
             ],
             [
              0.5555555555555556,
              "#d8576b"
             ],
             [
              0.6666666666666666,
              "#ed7953"
             ],
             [
              0.7777777777777778,
              "#fb9f3a"
             ],
             [
              0.8888888888888888,
              "#fdca26"
             ],
             [
              1,
              "#f0f921"
             ]
            ],
            "type": "heatmap"
           }
          ],
          "heatmapgl": [
           {
            "colorbar": {
             "outlinewidth": 0,
             "ticks": ""
            },
            "colorscale": [
             [
              0,
              "#0d0887"
             ],
             [
              0.1111111111111111,
              "#46039f"
             ],
             [
              0.2222222222222222,
              "#7201a8"
             ],
             [
              0.3333333333333333,
              "#9c179e"
             ],
             [
              0.4444444444444444,
              "#bd3786"
             ],
             [
              0.5555555555555556,
              "#d8576b"
             ],
             [
              0.6666666666666666,
              "#ed7953"
             ],
             [
              0.7777777777777778,
              "#fb9f3a"
             ],
             [
              0.8888888888888888,
              "#fdca26"
             ],
             [
              1,
              "#f0f921"
             ]
            ],
            "type": "heatmapgl"
           }
          ],
          "histogram": [
           {
            "marker": {
             "pattern": {
              "fillmode": "overlay",
              "size": 10,
              "solidity": 0.2
             }
            },
            "type": "histogram"
           }
          ],
          "histogram2d": [
           {
            "colorbar": {
             "outlinewidth": 0,
             "ticks": ""
            },
            "colorscale": [
             [
              0,
              "#0d0887"
             ],
             [
              0.1111111111111111,
              "#46039f"
             ],
             [
              0.2222222222222222,
              "#7201a8"
             ],
             [
              0.3333333333333333,
              "#9c179e"
             ],
             [
              0.4444444444444444,
              "#bd3786"
             ],
             [
              0.5555555555555556,
              "#d8576b"
             ],
             [
              0.6666666666666666,
              "#ed7953"
             ],
             [
              0.7777777777777778,
              "#fb9f3a"
             ],
             [
              0.8888888888888888,
              "#fdca26"
             ],
             [
              1,
              "#f0f921"
             ]
            ],
            "type": "histogram2d"
           }
          ],
          "histogram2dcontour": [
           {
            "colorbar": {
             "outlinewidth": 0,
             "ticks": ""
            },
            "colorscale": [
             [
              0,
              "#0d0887"
             ],
             [
              0.1111111111111111,
              "#46039f"
             ],
             [
              0.2222222222222222,
              "#7201a8"
             ],
             [
              0.3333333333333333,
              "#9c179e"
             ],
             [
              0.4444444444444444,
              "#bd3786"
             ],
             [
              0.5555555555555556,
              "#d8576b"
             ],
             [
              0.6666666666666666,
              "#ed7953"
             ],
             [
              0.7777777777777778,
              "#fb9f3a"
             ],
             [
              0.8888888888888888,
              "#fdca26"
             ],
             [
              1,
              "#f0f921"
             ]
            ],
            "type": "histogram2dcontour"
           }
          ],
          "mesh3d": [
           {
            "colorbar": {
             "outlinewidth": 0,
             "ticks": ""
            },
            "type": "mesh3d"
           }
          ],
          "parcoords": [
           {
            "line": {
             "colorbar": {
              "outlinewidth": 0,
              "ticks": ""
             }
            },
            "type": "parcoords"
           }
          ],
          "pie": [
           {
            "automargin": true,
            "type": "pie"
           }
          ],
          "scatter": [
           {
            "fillpattern": {
             "fillmode": "overlay",
             "size": 10,
             "solidity": 0.2
            },
            "type": "scatter"
           }
          ],
          "scatter3d": [
           {
            "line": {
             "colorbar": {
              "outlinewidth": 0,
              "ticks": ""
             }
            },
            "marker": {
             "colorbar": {
              "outlinewidth": 0,
              "ticks": ""
             }
            },
            "type": "scatter3d"
           }
          ],
          "scattercarpet": [
           {
            "marker": {
             "colorbar": {
              "outlinewidth": 0,
              "ticks": ""
             }
            },
            "type": "scattercarpet"
           }
          ],
          "scattergeo": [
           {
            "marker": {
             "colorbar": {
              "outlinewidth": 0,
              "ticks": ""
             }
            },
            "type": "scattergeo"
           }
          ],
          "scattergl": [
           {
            "marker": {
             "colorbar": {
              "outlinewidth": 0,
              "ticks": ""
             }
            },
            "type": "scattergl"
           }
          ],
          "scattermapbox": [
           {
            "marker": {
             "colorbar": {
              "outlinewidth": 0,
              "ticks": ""
             }
            },
            "type": "scattermapbox"
           }
          ],
          "scatterpolar": [
           {
            "marker": {
             "colorbar": {
              "outlinewidth": 0,
              "ticks": ""
             }
            },
            "type": "scatterpolar"
           }
          ],
          "scatterpolargl": [
           {
            "marker": {
             "colorbar": {
              "outlinewidth": 0,
              "ticks": ""
             }
            },
            "type": "scatterpolargl"
           }
          ],
          "scatterternary": [
           {
            "marker": {
             "colorbar": {
              "outlinewidth": 0,
              "ticks": ""
             }
            },
            "type": "scatterternary"
           }
          ],
          "surface": [
           {
            "colorbar": {
             "outlinewidth": 0,
             "ticks": ""
            },
            "colorscale": [
             [
              0,
              "#0d0887"
             ],
             [
              0.1111111111111111,
              "#46039f"
             ],
             [
              0.2222222222222222,
              "#7201a8"
             ],
             [
              0.3333333333333333,
              "#9c179e"
             ],
             [
              0.4444444444444444,
              "#bd3786"
             ],
             [
              0.5555555555555556,
              "#d8576b"
             ],
             [
              0.6666666666666666,
              "#ed7953"
             ],
             [
              0.7777777777777778,
              "#fb9f3a"
             ],
             [
              0.8888888888888888,
              "#fdca26"
             ],
             [
              1,
              "#f0f921"
             ]
            ],
            "type": "surface"
           }
          ],
          "table": [
           {
            "cells": {
             "fill": {
              "color": "#EBF0F8"
             },
             "line": {
              "color": "white"
             }
            },
            "header": {
             "fill": {
              "color": "#C8D4E3"
             },
             "line": {
              "color": "white"
             }
            },
            "type": "table"
           }
          ]
         },
         "layout": {
          "annotationdefaults": {
           "arrowcolor": "#2a3f5f",
           "arrowhead": 0,
           "arrowwidth": 1
          },
          "autotypenumbers": "strict",
          "coloraxis": {
           "colorbar": {
            "outlinewidth": 0,
            "ticks": ""
           }
          },
          "colorscale": {
           "diverging": [
            [
             0,
             "#8e0152"
            ],
            [
             0.1,
             "#c51b7d"
            ],
            [
             0.2,
             "#de77ae"
            ],
            [
             0.3,
             "#f1b6da"
            ],
            [
             0.4,
             "#fde0ef"
            ],
            [
             0.5,
             "#f7f7f7"
            ],
            [
             0.6,
             "#e6f5d0"
            ],
            [
             0.7,
             "#b8e186"
            ],
            [
             0.8,
             "#7fbc41"
            ],
            [
             0.9,
             "#4d9221"
            ],
            [
             1,
             "#276419"
            ]
           ],
           "sequential": [
            [
             0,
             "#0d0887"
            ],
            [
             0.1111111111111111,
             "#46039f"
            ],
            [
             0.2222222222222222,
             "#7201a8"
            ],
            [
             0.3333333333333333,
             "#9c179e"
            ],
            [
             0.4444444444444444,
             "#bd3786"
            ],
            [
             0.5555555555555556,
             "#d8576b"
            ],
            [
             0.6666666666666666,
             "#ed7953"
            ],
            [
             0.7777777777777778,
             "#fb9f3a"
            ],
            [
             0.8888888888888888,
             "#fdca26"
            ],
            [
             1,
             "#f0f921"
            ]
           ],
           "sequentialminus": [
            [
             0,
             "#0d0887"
            ],
            [
             0.1111111111111111,
             "#46039f"
            ],
            [
             0.2222222222222222,
             "#7201a8"
            ],
            [
             0.3333333333333333,
             "#9c179e"
            ],
            [
             0.4444444444444444,
             "#bd3786"
            ],
            [
             0.5555555555555556,
             "#d8576b"
            ],
            [
             0.6666666666666666,
             "#ed7953"
            ],
            [
             0.7777777777777778,
             "#fb9f3a"
            ],
            [
             0.8888888888888888,
             "#fdca26"
            ],
            [
             1,
             "#f0f921"
            ]
           ]
          },
          "colorway": [
           "#636efa",
           "#EF553B",
           "#00cc96",
           "#ab63fa",
           "#FFA15A",
           "#19d3f3",
           "#FF6692",
           "#B6E880",
           "#FF97FF",
           "#FECB52"
          ],
          "font": {
           "color": "#2a3f5f"
          },
          "geo": {
           "bgcolor": "white",
           "lakecolor": "white",
           "landcolor": "#E5ECF6",
           "showlakes": true,
           "showland": true,
           "subunitcolor": "white"
          },
          "hoverlabel": {
           "align": "left"
          },
          "hovermode": "closest",
          "mapbox": {
           "style": "light"
          },
          "paper_bgcolor": "white",
          "plot_bgcolor": "#E5ECF6",
          "polar": {
           "angularaxis": {
            "gridcolor": "white",
            "linecolor": "white",
            "ticks": ""
           },
           "bgcolor": "#E5ECF6",
           "radialaxis": {
            "gridcolor": "white",
            "linecolor": "white",
            "ticks": ""
           }
          },
          "scene": {
           "xaxis": {
            "backgroundcolor": "#E5ECF6",
            "gridcolor": "white",
            "gridwidth": 2,
            "linecolor": "white",
            "showbackground": true,
            "ticks": "",
            "zerolinecolor": "white"
           },
           "yaxis": {
            "backgroundcolor": "#E5ECF6",
            "gridcolor": "white",
            "gridwidth": 2,
            "linecolor": "white",
            "showbackground": true,
            "ticks": "",
            "zerolinecolor": "white"
           },
           "zaxis": {
            "backgroundcolor": "#E5ECF6",
            "gridcolor": "white",
            "gridwidth": 2,
            "linecolor": "white",
            "showbackground": true,
            "ticks": "",
            "zerolinecolor": "white"
           }
          },
          "shapedefaults": {
           "line": {
            "color": "#2a3f5f"
           }
          },
          "ternary": {
           "aaxis": {
            "gridcolor": "white",
            "linecolor": "white",
            "ticks": ""
           },
           "baxis": {
            "gridcolor": "white",
            "linecolor": "white",
            "ticks": ""
           },
           "bgcolor": "#E5ECF6",
           "caxis": {
            "gridcolor": "white",
            "linecolor": "white",
            "ticks": ""
           }
          },
          "title": {
           "x": 0.05
          },
          "xaxis": {
           "automargin": true,
           "gridcolor": "white",
           "linecolor": "white",
           "ticks": "",
           "title": {
            "standoff": 15
           },
           "zerolinecolor": "white",
           "zerolinewidth": 2
          },
          "yaxis": {
           "automargin": true,
           "gridcolor": "white",
           "linecolor": "white",
           "ticks": "",
           "title": {
            "standoff": 15
           },
           "zerolinecolor": "white",
           "zerolinewidth": 2
          }
         }
        },
        "title": {
         "font": {
          "color": "#4D5663"
         },
         "text": "Days_Since_Publication vs Claps_Per_Word"
        },
        "xaxis": {
         "gridcolor": "#E1E5ED",
         "showgrid": true,
         "tickfont": {
          "color": "#4D5663"
         },
         "title": {
          "font": {
           "color": "#4D5663"
          },
          "text": "Claps_Per_Word"
         },
         "zerolinecolor": "#E1E5ED"
        },
        "yaxis": {
         "gridcolor": "#E1E5ED",
         "showgrid": true,
         "tickfont": {
          "color": "#4D5663"
         },
         "title": {
          "font": {
           "color": "#4D5663"
          },
          "text": "Days_Since_Publication"
         },
         "zerolinecolor": "#E1E5ED"
        }
       }
      },
      "text/html": [
       "<div>                            <div id=\"db743ea2-e32c-47c8-a9ae-8ec24f12d53d\" class=\"plotly-graph-div\" style=\"height:525px; width:100%;\"></div>            <script type=\"text/javascript\">                require([\"plotly\"], function(Plotly) {                    window.PLOTLYENV=window.PLOTLYENV || {};\n",
       "                    window.PLOTLYENV.BASE_URL='https://plot.ly';                                    if (document.getElementById(\"db743ea2-e32c-47c8-a9ae-8ec24f12d53d\")) {                    Plotly.newPlot(                        \"db743ea2-e32c-47c8-a9ae-8ec24f12d53d\",                        [{\"line\":{\"color\":\"rgba(31, 119, 180, 1.0)\",\"dash\":\"solid\",\"shape\":\"linear\",\"width\":1.3},\"marker\":{\"size\":12,\"symbol\":\"circle\"},\"mode\":\"markers\",\"name\":\"days_since_publication\",\"text\":\"\",\"x\":[0.0010758472296933835,0.004626060138781804,0.004241164241164241,0.0,0.0,0.0,0.04105736782902137,0.1023454157782516,0.0010554089709762533,0.0,0.10561056105610561,0.007672972615425321,0.0006528267397832616,0.0020951810835079317,0.01579520697167756,0.004819782062028499,0.004118616144975288,0.024558823529411765,0.0056657223796034,0.004354508196721311,0.003975265017667844,1.0903426791277258,1.0526315789473684,0.02869669190912714,0.023837209302325583,0.2468607305936073,0.05211543849817876,0.010251630941286114,0.042598509052183174,0.8550488599348535,1.378614660390047,0.04490106544901065,1.1691022964509394,0.07014542343883662,0.01348747591522158,2.8876582278481013,0.881704628949302,0.1724137931034483,1.5779092702169626,1.0243277848911652,0.4435483870967742,3.356752537080406,2.0285714285714285,17.891816920943135,0.16363636363636364,1.8398268398268398,0.15930599369085174,3.0864197530864197,0.3541324575807334,1.0471596998928188,2.729044834307992,3.6726128016789086,1.1278195488721805,0.4954954954954955,1.1476664116296864,1.0993657505285412,1.8389346861128726,2.2974101921470345,0.483271375464684,0.3816793893129771,5.405405405405405,0.4745098039215686,3.827751196172249,1.3200257566001288,0.8390541571319603,1.6680923866552608,2.1512605042016806,3.2099697885196377,0.2486610558530987,2.7527527527527527,0.7073386383731212,1.430761369443025,0.5583992554676593,0.19230769230769232,0.5749799518845229,1.2528473804100229,2.1558059774620286,0.36022193768672645,2.428954423592493,0.950950950950951,0.17266562336984873,4.03680981595092,0.27214250371103416,1.09104589917231,0.825346112886049,0.6800341296928327,0.15569620253164557,0.9052183173588925,0.16626736942980355,1.437258153676064,0.32710903634544847,0.8457511075312123,0.4447513812154696,1.1251278554381179,0.5274888558692422,0.6584145377929944,0.41182415361293584,0.5870917573872473,0.3463526708788053,0.42152466367713004,1.4734144778987828,1.033210332103321,0.23160682754561507,0.9915014164305949,1.5032211882605584,4.3329532497149374,0.41755725190839693,0.6070921985815603,0.5537098560354374,0.09633458646616541,0.6790697674418604,0.06308654848800835,0.19130434782608696,0.002058022970191861,0.0,0.002474737059187461,0.0005877512636652169,0.0,0.001955671447196871,0.0,0.07564912280701755,0.38461538461538464,0.20689655172413793,0.2667844522968198,0.27480245829675154,0.10494834148994019,5.216197666437886,0.4845222072678331,0.13237924865831843,0.12440758293838862,0.5932957579353307,0.014933784164553396,0.7565071368597817],\"y\":[597.3011234928935,589.9831678934722,577.3632923185879,576.5206880427894,572.5330352605787,558.0200849386921,552.1556248098611,550.0150101095486,547.1585928973843,545.3034809904862,539.3015251376505,538.3616333815626,538.3616308881944,536.0693024557986,534.2649433761227,534.1913703218287,531.3165667823959,526.1891594631713,524.2700156780787,493.27377432550924,408.4711316033102,397.4293953507986,397.4277877258797,395.11609148437503,392.3287214495833,387.0576305824537,386.0425008728935,385.4954133210764,385.1945411716667,383.9926222874884,381.0352299594097,380.49090689327545,376.26001103743056,376.08059837900464,375.5302295332639,374.25597562319444,374.057076269838,371.30287774083337,369.1330005642593,366.05627657653935,365.5400972110185,362.41502231988426,360.50850330781253,358.51825893546294,355.52055696855325,352.9647862130903,351.1118723947454,348.4246294948727,342.3672663808449,338.5035495385648,331.4365996720949,324.2237845179977,317.4644109924653,314.49385861916664,311.37095904774304,303.5431680369791,297.31014599925925,290.0418619020949,283.33863078045135,283.33590105774306,275.2574436720486,273.4401389939236,257.37869697715274,256.5031338793634,255.49303694083335,252.30707613392363,245.41612982315974,240.48394241055556,223.04379871745368,220.4763571140278,218.55013955496528,214.54560088826392,209.44029542083334,192.52871201636574,186.50202452077545,172.5235798258449,170.65633337769677,165.28853490334492,163.07584995606481,161.4928592507176,161.4909019917708,152.1039705243287,151.37068348711804,147.1741579396412,140.50823078605325,134.46337733312498,134.1546791284375,127.46704148513888,124.33105608341435,119.0234442440625,116.35277775572916,108.38023233480325,103.46704841506943,94.25432953921296,88.03775204251157,85.00553926068287,82.47490355932871,82.47320225390047,77.52644544283565,74.5438217130787,71.98887388260417,71.06999180240742,63.34277000334491,61.469023250590276,58.40827168365741,52.2235387972801,51.289980235289356,50.015705424664354,44.37431741674769,43.02407055767361,42.06569560732639,35.0521156375,34.25713649174769,34.01111164185185,34.00981653321759,34.009006550671295,34.00856147113426,34.00809835439815,34.007692483854164,32.568144913657406,32.38009209974537,30.417934632164354,28.156351569837963,26.557568693715275,26.506609918437498,23.02377654986111,19.978734082060186,18.266623060266202,16.337141827581018,12.204313545636573,8.215424677094907,3.547005433310185,1.2186292689930556],\"type\":\"scatter\"}],                        {\"legend\":{\"bgcolor\":\"#F5F6F9\",\"font\":{\"color\":\"#4D5663\"}},\"paper_bgcolor\":\"#F5F6F9\",\"plot_bgcolor\":\"#F5F6F9\",\"template\":{\"data\":{\"barpolar\":[{\"marker\":{\"line\":{\"color\":\"#E5ECF6\",\"width\":0.5},\"pattern\":{\"fillmode\":\"overlay\",\"size\":10,\"solidity\":0.2}},\"type\":\"barpolar\"}],\"bar\":[{\"error_x\":{\"color\":\"#2a3f5f\"},\"error_y\":{\"color\":\"#2a3f5f\"},\"marker\":{\"line\":{\"color\":\"#E5ECF6\",\"width\":0.5},\"pattern\":{\"fillmode\":\"overlay\",\"size\":10,\"solidity\":0.2}},\"type\":\"bar\"}],\"carpet\":[{\"aaxis\":{\"endlinecolor\":\"#2a3f5f\",\"gridcolor\":\"white\",\"linecolor\":\"white\",\"minorgridcolor\":\"white\",\"startlinecolor\":\"#2a3f5f\"},\"baxis\":{\"endlinecolor\":\"#2a3f5f\",\"gridcolor\":\"white\",\"linecolor\":\"white\",\"minorgridcolor\":\"white\",\"startlinecolor\":\"#2a3f5f\"},\"type\":\"carpet\"}],\"choropleth\":[{\"colorbar\":{\"outlinewidth\":0,\"ticks\":\"\"},\"type\":\"choropleth\"}],\"contourcarpet\":[{\"colorbar\":{\"outlinewidth\":0,\"ticks\":\"\"},\"type\":\"contourcarpet\"}],\"contour\":[{\"colorbar\":{\"outlinewidth\":0,\"ticks\":\"\"},\"colorscale\":[[0.0,\"#0d0887\"],[0.1111111111111111,\"#46039f\"],[0.2222222222222222,\"#7201a8\"],[0.3333333333333333,\"#9c179e\"],[0.4444444444444444,\"#bd3786\"],[0.5555555555555556,\"#d8576b\"],[0.6666666666666666,\"#ed7953\"],[0.7777777777777778,\"#fb9f3a\"],[0.8888888888888888,\"#fdca26\"],[1.0,\"#f0f921\"]],\"type\":\"contour\"}],\"heatmapgl\":[{\"colorbar\":{\"outlinewidth\":0,\"ticks\":\"\"},\"colorscale\":[[0.0,\"#0d0887\"],[0.1111111111111111,\"#46039f\"],[0.2222222222222222,\"#7201a8\"],[0.3333333333333333,\"#9c179e\"],[0.4444444444444444,\"#bd3786\"],[0.5555555555555556,\"#d8576b\"],[0.6666666666666666,\"#ed7953\"],[0.7777777777777778,\"#fb9f3a\"],[0.8888888888888888,\"#fdca26\"],[1.0,\"#f0f921\"]],\"type\":\"heatmapgl\"}],\"heatmap\":[{\"colorbar\":{\"outlinewidth\":0,\"ticks\":\"\"},\"colorscale\":[[0.0,\"#0d0887\"],[0.1111111111111111,\"#46039f\"],[0.2222222222222222,\"#7201a8\"],[0.3333333333333333,\"#9c179e\"],[0.4444444444444444,\"#bd3786\"],[0.5555555555555556,\"#d8576b\"],[0.6666666666666666,\"#ed7953\"],[0.7777777777777778,\"#fb9f3a\"],[0.8888888888888888,\"#fdca26\"],[1.0,\"#f0f921\"]],\"type\":\"heatmap\"}],\"histogram2dcontour\":[{\"colorbar\":{\"outlinewidth\":0,\"ticks\":\"\"},\"colorscale\":[[0.0,\"#0d0887\"],[0.1111111111111111,\"#46039f\"],[0.2222222222222222,\"#7201a8\"],[0.3333333333333333,\"#9c179e\"],[0.4444444444444444,\"#bd3786\"],[0.5555555555555556,\"#d8576b\"],[0.6666666666666666,\"#ed7953\"],[0.7777777777777778,\"#fb9f3a\"],[0.8888888888888888,\"#fdca26\"],[1.0,\"#f0f921\"]],\"type\":\"histogram2dcontour\"}],\"histogram2d\":[{\"colorbar\":{\"outlinewidth\":0,\"ticks\":\"\"},\"colorscale\":[[0.0,\"#0d0887\"],[0.1111111111111111,\"#46039f\"],[0.2222222222222222,\"#7201a8\"],[0.3333333333333333,\"#9c179e\"],[0.4444444444444444,\"#bd3786\"],[0.5555555555555556,\"#d8576b\"],[0.6666666666666666,\"#ed7953\"],[0.7777777777777778,\"#fb9f3a\"],[0.8888888888888888,\"#fdca26\"],[1.0,\"#f0f921\"]],\"type\":\"histogram2d\"}],\"histogram\":[{\"marker\":{\"pattern\":{\"fillmode\":\"overlay\",\"size\":10,\"solidity\":0.2}},\"type\":\"histogram\"}],\"mesh3d\":[{\"colorbar\":{\"outlinewidth\":0,\"ticks\":\"\"},\"type\":\"mesh3d\"}],\"parcoords\":[{\"line\":{\"colorbar\":{\"outlinewidth\":0,\"ticks\":\"\"}},\"type\":\"parcoords\"}],\"pie\":[{\"automargin\":true,\"type\":\"pie\"}],\"scatter3d\":[{\"line\":{\"colorbar\":{\"outlinewidth\":0,\"ticks\":\"\"}},\"marker\":{\"colorbar\":{\"outlinewidth\":0,\"ticks\":\"\"}},\"type\":\"scatter3d\"}],\"scattercarpet\":[{\"marker\":{\"colorbar\":{\"outlinewidth\":0,\"ticks\":\"\"}},\"type\":\"scattercarpet\"}],\"scattergeo\":[{\"marker\":{\"colorbar\":{\"outlinewidth\":0,\"ticks\":\"\"}},\"type\":\"scattergeo\"}],\"scattergl\":[{\"marker\":{\"colorbar\":{\"outlinewidth\":0,\"ticks\":\"\"}},\"type\":\"scattergl\"}],\"scattermapbox\":[{\"marker\":{\"colorbar\":{\"outlinewidth\":0,\"ticks\":\"\"}},\"type\":\"scattermapbox\"}],\"scatterpolargl\":[{\"marker\":{\"colorbar\":{\"outlinewidth\":0,\"ticks\":\"\"}},\"type\":\"scatterpolargl\"}],\"scatterpolar\":[{\"marker\":{\"colorbar\":{\"outlinewidth\":0,\"ticks\":\"\"}},\"type\":\"scatterpolar\"}],\"scatter\":[{\"fillpattern\":{\"fillmode\":\"overlay\",\"size\":10,\"solidity\":0.2},\"type\":\"scatter\"}],\"scatterternary\":[{\"marker\":{\"colorbar\":{\"outlinewidth\":0,\"ticks\":\"\"}},\"type\":\"scatterternary\"}],\"surface\":[{\"colorbar\":{\"outlinewidth\":0,\"ticks\":\"\"},\"colorscale\":[[0.0,\"#0d0887\"],[0.1111111111111111,\"#46039f\"],[0.2222222222222222,\"#7201a8\"],[0.3333333333333333,\"#9c179e\"],[0.4444444444444444,\"#bd3786\"],[0.5555555555555556,\"#d8576b\"],[0.6666666666666666,\"#ed7953\"],[0.7777777777777778,\"#fb9f3a\"],[0.8888888888888888,\"#fdca26\"],[1.0,\"#f0f921\"]],\"type\":\"surface\"}],\"table\":[{\"cells\":{\"fill\":{\"color\":\"#EBF0F8\"},\"line\":{\"color\":\"white\"}},\"header\":{\"fill\":{\"color\":\"#C8D4E3\"},\"line\":{\"color\":\"white\"}},\"type\":\"table\"}]},\"layout\":{\"annotationdefaults\":{\"arrowcolor\":\"#2a3f5f\",\"arrowhead\":0,\"arrowwidth\":1},\"autotypenumbers\":\"strict\",\"coloraxis\":{\"colorbar\":{\"outlinewidth\":0,\"ticks\":\"\"}},\"colorscale\":{\"diverging\":[[0,\"#8e0152\"],[0.1,\"#c51b7d\"],[0.2,\"#de77ae\"],[0.3,\"#f1b6da\"],[0.4,\"#fde0ef\"],[0.5,\"#f7f7f7\"],[0.6,\"#e6f5d0\"],[0.7,\"#b8e186\"],[0.8,\"#7fbc41\"],[0.9,\"#4d9221\"],[1,\"#276419\"]],\"sequential\":[[0.0,\"#0d0887\"],[0.1111111111111111,\"#46039f\"],[0.2222222222222222,\"#7201a8\"],[0.3333333333333333,\"#9c179e\"],[0.4444444444444444,\"#bd3786\"],[0.5555555555555556,\"#d8576b\"],[0.6666666666666666,\"#ed7953\"],[0.7777777777777778,\"#fb9f3a\"],[0.8888888888888888,\"#fdca26\"],[1.0,\"#f0f921\"]],\"sequentialminus\":[[0.0,\"#0d0887\"],[0.1111111111111111,\"#46039f\"],[0.2222222222222222,\"#7201a8\"],[0.3333333333333333,\"#9c179e\"],[0.4444444444444444,\"#bd3786\"],[0.5555555555555556,\"#d8576b\"],[0.6666666666666666,\"#ed7953\"],[0.7777777777777778,\"#fb9f3a\"],[0.8888888888888888,\"#fdca26\"],[1.0,\"#f0f921\"]]},\"colorway\":[\"#636efa\",\"#EF553B\",\"#00cc96\",\"#ab63fa\",\"#FFA15A\",\"#19d3f3\",\"#FF6692\",\"#B6E880\",\"#FF97FF\",\"#FECB52\"],\"font\":{\"color\":\"#2a3f5f\"},\"geo\":{\"bgcolor\":\"white\",\"lakecolor\":\"white\",\"landcolor\":\"#E5ECF6\",\"showlakes\":true,\"showland\":true,\"subunitcolor\":\"white\"},\"hoverlabel\":{\"align\":\"left\"},\"hovermode\":\"closest\",\"mapbox\":{\"style\":\"light\"},\"paper_bgcolor\":\"white\",\"plot_bgcolor\":\"#E5ECF6\",\"polar\":{\"angularaxis\":{\"gridcolor\":\"white\",\"linecolor\":\"white\",\"ticks\":\"\"},\"bgcolor\":\"#E5ECF6\",\"radialaxis\":{\"gridcolor\":\"white\",\"linecolor\":\"white\",\"ticks\":\"\"}},\"scene\":{\"xaxis\":{\"backgroundcolor\":\"#E5ECF6\",\"gridcolor\":\"white\",\"gridwidth\":2,\"linecolor\":\"white\",\"showbackground\":true,\"ticks\":\"\",\"zerolinecolor\":\"white\"},\"yaxis\":{\"backgroundcolor\":\"#E5ECF6\",\"gridcolor\":\"white\",\"gridwidth\":2,\"linecolor\":\"white\",\"showbackground\":true,\"ticks\":\"\",\"zerolinecolor\":\"white\"},\"zaxis\":{\"backgroundcolor\":\"#E5ECF6\",\"gridcolor\":\"white\",\"gridwidth\":2,\"linecolor\":\"white\",\"showbackground\":true,\"ticks\":\"\",\"zerolinecolor\":\"white\"}},\"shapedefaults\":{\"line\":{\"color\":\"#2a3f5f\"}},\"ternary\":{\"aaxis\":{\"gridcolor\":\"white\",\"linecolor\":\"white\",\"ticks\":\"\"},\"baxis\":{\"gridcolor\":\"white\",\"linecolor\":\"white\",\"ticks\":\"\"},\"bgcolor\":\"#E5ECF6\",\"caxis\":{\"gridcolor\":\"white\",\"linecolor\":\"white\",\"ticks\":\"\"}},\"title\":{\"x\":0.05},\"xaxis\":{\"automargin\":true,\"gridcolor\":\"white\",\"linecolor\":\"white\",\"ticks\":\"\",\"title\":{\"standoff\":15},\"zerolinecolor\":\"white\",\"zerolinewidth\":2},\"yaxis\":{\"automargin\":true,\"gridcolor\":\"white\",\"linecolor\":\"white\",\"ticks\":\"\",\"title\":{\"standoff\":15},\"zerolinecolor\":\"white\",\"zerolinewidth\":2}}},\"title\":{\"font\":{\"color\":\"#4D5663\"},\"text\":\"Days_Since_Publication vs Claps_Per_Word\"},\"xaxis\":{\"gridcolor\":\"#E1E5ED\",\"showgrid\":true,\"tickfont\":{\"color\":\"#4D5663\"},\"title\":{\"font\":{\"color\":\"#4D5663\"},\"text\":\"Claps_Per_Word\"},\"zerolinecolor\":\"#E1E5ED\"},\"yaxis\":{\"gridcolor\":\"#E1E5ED\",\"showgrid\":true,\"tickfont\":{\"color\":\"#4D5663\"},\"title\":{\"font\":{\"color\":\"#4D5663\"},\"text\":\"Days_Since_Publication\"},\"zerolinecolor\":\"#E1E5ED\"}},                        {\"showLink\": true, \"linkText\": \"Export to plot.ly\", \"plotlyServerURL\": \"https://plot.ly\", \"responsive\": true}                    ).then(function(){\n",
       "                            \n",
       "var gd = document.getElementById('db743ea2-e32c-47c8-a9ae-8ec24f12d53d');\n",
       "var x = new MutationObserver(function (mutations, observer) {{\n",
       "        var display = window.getComputedStyle(gd).display;\n",
       "        if (!display || display === 'none') {{\n",
       "            console.log([gd, 'removed!']);\n",
       "            Plotly.purge(gd);\n",
       "            observer.disconnect();\n",
       "        }}\n",
       "}});\n",
       "\n",
       "// Listen for the removal of the full notebook cells\n",
       "var notebookContainer = gd.closest('#notebook-container');\n",
       "if (notebookContainer) {{\n",
       "    x.observe(notebookContainer, {childList: true});\n",
       "}}\n",
       "\n",
       "// Listen for the clearing of the current output cell\n",
       "var outputEl = gd.closest('.output');\n",
       "if (outputEl) {{\n",
       "    x.observe(outputEl, {childList: true});\n",
       "}}\n",
       "\n",
       "                        })                };                });            </script>        </div>"
      ]
     },
     "metadata": {},
     "output_type": "display_data"
    }
   ],
   "source": [
    "@interact\n",
    "def scatter_plot(x=list(df.select_dtypes('number').columns), \n",
    "                 y=list(df.select_dtypes('number').columns)[1:]):\n",
    "    if x == y:\n",
    "        print(f\"Please select separate variables for X and Y\")\n",
    "    else:\n",
    "        df.iplot(kind='scatter', x=x, y=y, mode='markers', \n",
    "                 xTitle=x.title(), yTitle=y.title(), title=f'{y.title()} vs {x.title()}')\n",
    "        ## If you are using Google Colab, comment out the above line of code and uncomment the lines below\n",
    "        #fig = px.scatter(df, x=x, y=y, title=f'{y.title()} vs {x.title()}')\n",
    "        #fig.show(renderer=\"colab\")"
   ]
  },
  {
   "cell_type": "code",
   "execution_count": 23,
   "metadata": {},
   "outputs": [
    {
     "data": {
      "text/plain": [
       "Index(['days_since_publication', 'fans', 'num_responses', 'read_ratio',\n",
       "       'read_time', 'reads', 'title_word_count', 'views', 'word_count',\n",
       "       'claps_per_word', 'editing_days', '<tag>Education', '<tag>Data Science',\n",
       "       '<tag>Towards Data Science', '<tag>Machine Learning', '<tag>Python'],\n",
       "      dtype='object')"
      ]
     },
     "execution_count": 23,
     "metadata": {},
     "output_type": "execute_result"
    }
   ],
   "source": [
    "df.select_dtypes('number').columns[1:]"
   ]
  },
  {
   "cell_type": "markdown",
   "metadata": {
    "colab_type": "text",
    "id": "SowggjiJwEY0"
   },
   "source": [
    "### Example 5"
   ]
  },
  {
   "cell_type": "markdown",
   "metadata": {},
   "source": [
    "In a similar fashion to the previous example, we can create a customisable heatmap of correlations:"
   ]
  },
  {
   "cell_type": "code",
   "execution_count": null,
   "metadata": {
    "colab": {
     "base_uri": "https://localhost:8080/",
     "height": 17
    },
    "colab_type": "code",
    "executionInfo": {
     "elapsed": 38135,
     "status": "ok",
     "timestamp": 1574753239380,
     "user": {
      "displayName": "Jonathan Botha",
      "photoUrl": "",
      "userId": "05591136402895135214"
     },
     "user_tz": -120
    },
    "id": "WLPhgAfXNjUo",
    "outputId": "d24ef704-b301-4f9f-aaa1-94d733e68c1d"
   },
   "outputs": [],
   "source": [
    "cscales = ['Greys', 'YlGnBu', 'Greens', 'YlOrRd', 'Bluered', 'RdBu',\n",
    "            'Reds', 'Blues', 'Picnic', 'Rainbow', 'Portland', 'Jet',\n",
    "            'Hot', 'Blackbody', 'Earth', 'Electric', 'Viridis', 'Cividis']\n",
    "\n",
    "# We use the Figure Factory module of Plotly, which\n",
    "# defines many unique and powerful plots to be used\n",
    "# in Python. \n",
    "# For more info, see: https://plot.ly/python/figure-factory-subplots/\n",
    "import plotly.figure_factory as ff\n",
    "\n",
    "corrs = df.corr(numeric_only=True)\n",
    "\n",
    "@interact\n",
    "def plot_corrs(colorscale=cscales):\n",
    "    figure = ff.create_annotated_heatmap(z = corrs.round(2).values, \n",
    "                                     x =list(corrs.columns), \n",
    "                                     y=list(corrs.index), \n",
    "                                     colorscale=colorscale,\n",
    "                                     annotation_text=corrs.round(2).values)\n",
    "    iplot(figure)\n",
    "    ## If you are using Google Colab, comment out the above line of code and uncomment the line below\n",
    "    #figure.show(renderer=\"colab\")"
   ]
  },
  {
   "cell_type": "markdown",
   "metadata": {
    "colab_type": "text",
    "id": "AmxkRXUVLWYJ"
   },
   "source": [
    "### Example 6"
   ]
  },
  {
   "attachments": {},
   "cell_type": "markdown",
   "metadata": {},
   "source": [
    "Interaction can also be extremely useful when we want to try and view various configurations for a plot that we are trying to produce. \n",
    "\n",
    "The following code allows us to add some options to control the colour scheme of a given Plotly chart. Here we call the `@interact_manual` decorator, which allows us to select multiple variables before our chart is updated. "
   ]
  },
  {
   "cell_type": "code",
   "execution_count": null,
   "metadata": {
    "colab": {
     "base_uri": "https://localhost:8080/",
     "height": 17
    },
    "colab_type": "code",
    "executionInfo": {
     "elapsed": 38828,
     "status": "ok",
     "timestamp": 1574753240088,
     "user": {
      "displayName": "Jonathan Botha",
      "photoUrl": "",
      "userId": "05591136402895135214"
     },
     "user_tz": -120
    },
    "id": "8JiGyFamNjU7",
    "outputId": "5bc9e034-757f-425f-a5ff-f6480d7f16db"
   },
   "outputs": [],
   "source": [
    "@interact_manual\n",
    "def scatter_plot(x=list(df.select_dtypes('number').columns), \n",
    "                 y=list(df.select_dtypes('number').columns)[1:],\n",
    "                 theme=list(cf.themes.THEMES.keys()), \n",
    "                 colorscale=list(cf.colors._scales_names.keys())):\n",
    "    \n",
    "    if x == y:\n",
    "        print(f\"Please select separate variables for X and Y\")\n",
    "    else:\n",
    "        df.iplot(kind='scatter', x=x, y=y, mode='markers', \n",
    "                 xTitle=x.title(), yTitle=y.title(), \n",
    "                 text='title',\n",
    "                 title=f'{y.title()} vs {x.title()}',\n",
    "                theme=theme, colorscale=colorscale)\n",
    "        ## If you are using Google Colab, comment out the above line of code and uncomment the line below\n",
    "        #fig = px.scatter(df, x=x, y=y, title=f'{y.title()} vs {x.title()}')\n",
    "        #fig.show(renderer=\"colab\")"
   ]
  },
  {
   "cell_type": "markdown",
   "metadata": {
    "colab_type": "text",
    "id": "p_osdia6OV2G"
   },
   "source": [
    "### Example 7"
   ]
  },
  {
   "attachments": {},
   "cell_type": "markdown",
   "metadata": {
    "colab_type": "text",
    "id": "vx4psP6FNjVL"
   },
   "source": [
    "The decorator ```@interact``` is not the only way to use widgets. \n",
    "\n",
    "Read through the following example to figure out how else we can use widgets."
   ]
  },
  {
   "cell_type": "code",
   "execution_count": null,
   "metadata": {
    "colab": {},
    "colab_type": "code",
    "id": "k_7lLT0jNjVM"
   },
   "outputs": [],
   "source": [
    "df.set_index('published_date', inplace=True)"
   ]
  },
  {
   "cell_type": "code",
   "execution_count": null,
   "metadata": {
    "colab": {
     "base_uri": "https://localhost:8080/",
     "height": 17
    },
    "colab_type": "code",
    "executionInfo": {
     "elapsed": 40429,
     "status": "ok",
     "timestamp": 1574753241706,
     "user": {
      "displayName": "Jonathan Botha",
      "photoUrl": "",
      "userId": "05591136402895135214"
     },
     "user_tz": -120
    },
    "id": "pDihhzPoNjVR",
    "outputId": "afc40dd5-1578-4a03-e939-0aae5b10de9a"
   },
   "outputs": [],
   "source": [
    "def print_articles_published(start_date, end_date):\n",
    "    start_date = pd.Timestamp(start_date)\n",
    "    end_date = pd.Timestamp(end_date)\n",
    "    stat_df = df.loc[(df.index >= start_date) & (df.index <= end_date)].copy()\n",
    "    total_words = stat_df['word_count'].sum()\n",
    "    total_read_time = stat_df['read_time'].sum()\n",
    "    num_articles = len(stat_df)\n",
    "    print(f'According to our dataset, published by Medium.com, there are {num_articles} articles between {start_date.date()} and {end_date.date()}.')\n",
    "    print(f'These articles totalled {total_words:,} words and {total_read_time/60:.2f} hours to read.')\n",
    "    \n",
    "_ = interact(print_articles_published,\n",
    "             start_date=widgets.DatePicker(value=pd.to_datetime('2018-01-01')),\n",
    "             end_date=widgets.DatePicker(value=pd.to_datetime('2019-01-01')))"
   ]
  },
  {
   "cell_type": "markdown",
   "metadata": {
    "colab_type": "text",
    "id": "Ezl7N2_HOnaJ"
   },
   "source": [
    "### Example 8"
   ]
  },
  {
   "attachments": {},
   "cell_type": "markdown",
   "metadata": {
    "colab_type": "text",
    "id": "dHR4eu9QNjVY"
   },
   "source": [
    "For our final example, we use the `Dropdown` and `DatePicker` widgets to plot one column cumulatively up to a certain time. "
   ]
  },
  {
   "cell_type": "code",
   "execution_count": null,
   "metadata": {
    "colab": {
     "base_uri": "https://localhost:8080/",
     "height": 17
    },
    "colab_type": "code",
    "executionInfo": {
     "elapsed": 40423,
     "status": "ok",
     "timestamp": 1574753241708,
     "user": {
      "displayName": "Jonathan Botha",
      "photoUrl": "",
      "userId": "05591136402895135214"
     },
     "user_tz": -120
    },
    "id": "eTyJSw94NjVa",
    "outputId": "20ea2928-7460-4683-bc0a-533be8c82c97",
    "scrolled": true
   },
   "outputs": [],
   "source": [
    "def plot_up_to(column, date):\n",
    "    date = pd.Timestamp(date)\n",
    "    plot_df = df.loc[df.index <= date].copy()\n",
    "    plot_df[column].cumsum().iplot(mode='markers+lines', \n",
    "                                   xTitle='published date',\n",
    "                                   yTitle=column, \n",
    "                                  title=f'Cumulative {column.title()} Until {date.date()}')\n",
    "    \n",
    "_ = interact(plot_up_to, column=widgets.Dropdown(options=list(df.select_dtypes('number').columns)), \n",
    "             date = widgets.DatePicker(value=pd.to_datetime('2019-01-01')))"
   ]
  },
  {
   "attachments": {},
   "cell_type": "markdown",
   "metadata": {
    "colab_type": "text",
    "id": "l9E2cGc9NjVf"
   },
   "source": [
    "## Summary"
   ]
  },
  {
   "attachments": {},
   "cell_type": "markdown",
   "metadata": {
    "colab_type": "text",
    "id": "-4sO_84lNjVh"
   },
   "source": [
    "Jupyter Notebook is a great data exploration and analysis environment. Using tools like notebook extensions and interactive widgets makes our job as data-driven storytellers even more efficient. Widgets are powerful tools that allow us to make our data more interactive and, therefore, more accessible to non-data scientists."
   ]
  },
  {
   "attachments": {},
   "cell_type": "markdown",
   "metadata": {},
   "source": [
    "<div align=\"center\" style=\" font-size: 80%; text-align: center; margin: 0 auto\">\n",
    "<img src=\"https://raw.githubusercontent.com/Explore-AI/Pictures/master/ExploreAI_logos/EAI_Blue_Dark.png\"  style=\"width:200px\";/>\n",
    "</div>"
   ]
  }
 ],
 "metadata": {
  "colab": {
   "name": "V2_Interactive_Jupyter_Notebooks.ipynb",
   "provenance": []
  },
  "kernelspec": {
   "display_name": "Python 3",
   "language": "python",
   "name": "python3"
  },
  "language_info": {
   "codemirror_mode": {
    "name": "ipython",
    "version": 3
   },
   "file_extension": ".py",
   "mimetype": "text/x-python",
   "name": "python",
   "nbconvert_exporter": "python",
   "pygments_lexer": "ipython3",
   "version": "3.10.13"
  },
  "toc": {
   "base_numbering": 1,
   "nav_menu": {},
   "number_sections": true,
   "sideBar": true,
   "skip_h1_title": false,
   "title_cell": "Table of Contents",
   "title_sidebar": "Contents",
   "toc_cell": false,
   "toc_position": {},
   "toc_section_display": true,
   "toc_window_display": false
  },
  "varInspector": {
   "cols": {
    "lenName": 16,
    "lenType": 16,
    "lenVar": 40
   },
   "kernels_config": {
    "python": {
     "delete_cmd_postfix": "",
     "delete_cmd_prefix": "del ",
     "library": "var_list.py",
     "varRefreshCmd": "print(var_dic_list())"
    },
    "r": {
     "delete_cmd_postfix": ") ",
     "delete_cmd_prefix": "rm(",
     "library": "var_list.r",
     "varRefreshCmd": "cat(var_dic_list()) "
    }
   },
   "types_to_exclude": [
    "module",
    "function",
    "builtin_function_or_method",
    "instance",
    "_Feature"
   ],
   "window_display": false
  }
 },
 "nbformat": 4,
 "nbformat_minor": 1
}
