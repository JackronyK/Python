{
 "cells": [
  {
   "cell_type": "markdown",
   "id": "cd88ea27",
   "metadata": {},
   "source": [
    "<div align=\"center\" style=\" font-size: 80%; text-align: center; margin: 0 auto\">\n",
    "<img src=\"https://raw.githubusercontent.com/Explore-AI/Pictures/master/Python-Notebook-Banners/Exercise.png\"  style=\"display: block; margin-left: auto; margin-right: auto;\";/>\n",
    "</div>"
   ]
  },
  {
   "cell_type": "markdown",
   "id": "f662d169",
   "metadata": {},
   "source": [
    "# Exercise: Applying Pandas to strings\n",
    "© ExploreAI Academy"
   ]
  },
  {
   "cell_type": "markdown",
   "id": "26af890c",
   "metadata": {},
   "source": [
    "In this notebook, we test some of the concepts we've learned for Pandas application on strings."
   ]
  },
  {
   "cell_type": "markdown",
   "id": "2d230d14",
   "metadata": {
    "tags": []
   },
   "source": [
    "## Learning objectives\n",
    "\n",
    "By the end of this train, you should be able to:\n",
    "- Demonstrate the ability to apply Pandas concepts in Python."
   ]
  },
  {
   "cell_type": "markdown",
   "id": "de45a481",
   "metadata": {},
   "source": [
    "## Exercises\n",
    "\n",
    "**Project scenario**: Environmental data analysis\n",
    "\n",
    "**Background**: You are working with an environmental organisation that focuses on conserving natural habitats. You have been given a dataset containing detailed records of various conservation projects, environmental incidents, and initiatives. Your task is to extract and analyse specific information from this dataset to aid decision-making and reporting.\n",
    "\n",
    "**Dataset structure**: The DataFrame `environment_df` contains the columns: 'ID', 'Description', 'Date', 'Location', 'Budget', and 'Notes'."
   ]
  },
  {
   "cell_type": "code",
   "execution_count": 20,
   "id": "cd57c70f",
   "metadata": {},
   "outputs": [
    {
     "data": {
      "text/html": [
       "<div>\n",
       "<style scoped>\n",
       "    .dataframe tbody tr th:only-of-type {\n",
       "        vertical-align: middle;\n",
       "    }\n",
       "\n",
       "    .dataframe tbody tr th {\n",
       "        vertical-align: top;\n",
       "    }\n",
       "\n",
       "    .dataframe thead th {\n",
       "        text-align: right;\n",
       "    }\n",
       "</style>\n",
       "<table border=\"1\" class=\"dataframe\">\n",
       "  <thead>\n",
       "    <tr style=\"text-align: right;\">\n",
       "      <th></th>\n",
       "      <th>ID</th>\n",
       "      <th>Description</th>\n",
       "      <th>Date</th>\n",
       "      <th>Location</th>\n",
       "      <th>Budget</th>\n",
       "      <th>Notes</th>\n",
       "    </tr>\n",
       "  </thead>\n",
       "  <tbody>\n",
       "    <tr>\n",
       "      <th>0</th>\n",
       "      <td>1</td>\n",
       "      <td>Forest Conservation Project in Spain</td>\n",
       "      <td>2021-03-15</td>\n",
       "      <td>madrid, spain</td>\n",
       "      <td>$20000</td>\n",
       "      <td>Focusing on native forest species in Spain</td>\n",
       "    </tr>\n",
       "    <tr>\n",
       "      <th>1</th>\n",
       "      <td>2</td>\n",
       "      <td>River Cleanup Initiative Project 2021 in Portugal</td>\n",
       "      <td>2021-06-20</td>\n",
       "      <td>LISBON, Portugal</td>\n",
       "      <td>€15000</td>\n",
       "      <td>Cleanup of the Tagus river in Portugal. Endang...</td>\n",
       "    </tr>\n",
       "    <tr>\n",
       "      <th>2</th>\n",
       "      <td>3</td>\n",
       "      <td>Urban Gardening Community Project in Germany</td>\n",
       "      <td>2022-01-11</td>\n",
       "      <td>berlin, germany</td>\n",
       "      <td>€12000</td>\n",
       "      <td>Community project in urban Berlin, Germany</td>\n",
       "    </tr>\n",
       "    <tr>\n",
       "      <th>3</th>\n",
       "      <td>4</td>\n",
       "      <td>Forest Reforestation Project 2022 in France</td>\n",
       "      <td>2022-04-05</td>\n",
       "      <td>Paris, France</td>\n",
       "      <td>£18000</td>\n",
       "      <td>Reforestation of oak trees in Paris, France</td>\n",
       "    </tr>\n",
       "    <tr>\n",
       "      <th>4</th>\n",
       "      <td>5</td>\n",
       "      <td>Wildlife Protection Project Plan in Italy</td>\n",
       "      <td>2023-02-22</td>\n",
       "      <td>rome, Italy</td>\n",
       "      <td>$25000</td>\n",
       "      <td>Plan for protecting local wildlife in Italy. E...</td>\n",
       "    </tr>\n",
       "  </tbody>\n",
       "</table>\n",
       "</div>"
      ],
      "text/plain": [
       "   ID                                        Description        Date  \\\n",
       "0   1               Forest Conservation Project in Spain  2021-03-15   \n",
       "1   2  River Cleanup Initiative Project 2021 in Portugal  2021-06-20   \n",
       "2   3       Urban Gardening Community Project in Germany  2022-01-11   \n",
       "3   4        Forest Reforestation Project 2022 in France  2022-04-05   \n",
       "4   5          Wildlife Protection Project Plan in Italy  2023-02-22   \n",
       "\n",
       "           Location  Budget                                              Notes  \n",
       "0     madrid, spain  $20000         Focusing on native forest species in Spain  \n",
       "1  LISBON, Portugal  €15000  Cleanup of the Tagus river in Portugal. Endang...  \n",
       "2   berlin, germany  €12000         Community project in urban Berlin, Germany  \n",
       "3     Paris, France  £18000        Reforestation of oak trees in Paris, France  \n",
       "4       rome, Italy  $25000  Plan for protecting local wildlife in Italy. E...  "
      ]
     },
     "execution_count": 20,
     "metadata": {},
     "output_type": "execute_result"
    }
   ],
   "source": [
    "import pandas as pd\n",
    "import re\n",
    "\n",
    "data = {\n",
    "    'ID': [1, 2, 3, 4, 5, 6, 7, 8, 9, 10],\n",
    "    'Description': [\n",
    "        'Forest Conservation Project in Spain',\n",
    "        'River Cleanup Initiative Project 2021 in Portugal',\n",
    "        'Urban Gardening Community Project in Germany',\n",
    "        'Forest Reforestation Project 2022 in France',\n",
    "        'Wildlife Protection Project Plan in Italy',\n",
    "        'Endangered Species Conservation Project in Greece',\n",
    "        'Wetland Restoration Project in Spain',\n",
    "        'Marine Life Conservation Project in Portugal',\n",
    "        'Air Quality Improvement Project Initiative in Germany',\n",
    "        'Habitat Preservation Project for Birds in France'\n",
    "    ],\n",
    "    'Date': ['2021-03-15', '2021-06-20', '2022-01-11', '2022-04-05', '2023-02-22', '2023-05-30', '2021-09-13', '2022-07-19', '2023-03-08', '2022-11-21'],\n",
    "    'Location': ['madrid, spain', 'LISBON, Portugal', 'berlin, germany', 'Paris, France', 'rome, Italy', 'Athens, GREECE', 'Valencia, Spain', 'PORTO, Portugal', 'Munich, Germany', 'Lyon, France'],\n",
    "    'Budget': ['$20000', '€15000', '€12000', '£18000', '$25000', '€20000', '$17000', '€13000', '€11000', '£16000'],\n",
    "    'Notes': [\n",
    "        'Focusing on native forest species in Spain',\n",
    "        'Cleanup of the Tagus river in Portugal. Endangered species alert!',\n",
    "        'Community project in urban Berlin, Germany',\n",
    "        'Reforestation of oak trees in Paris, France',\n",
    "        'Plan for protecting local wildlife in Italy. Endangered species identified.',\n",
    "        'Study on the impact on endangered bird species in Greece',\n",
    "        'Restoration of wetlands in Valencia, Spain',\n",
    "        'Conservation of marine life in Porto, Portugal',\n",
    "        'Initiative for improving air quality in Munich, Germany',\n",
    "        'Preservation of bird habitats in Lyon, France'\n",
    "    ]\n",
    "}\n",
    "\n",
    "\n",
    "\n",
    "environment_df = pd.DataFrame(data)\n",
    "\n",
    "environment_df.head()"
   ]
  },
  {
   "cell_type": "markdown",
   "id": "5a0b7683",
   "metadata": {
    "tags": []
   },
   "source": [
    "### Exercise 1\n",
    "\n",
    "Standardise the format of the 'Location' column where each location should be in the format \"City, Country\". Additionally, extract the year from the 'Date' column and create a new column, 'Year'."
   ]
  },
  {
   "cell_type": "code",
   "execution_count": 21,
   "id": "35b8fcd4",
   "metadata": {},
   "outputs": [],
   "source": [
    "# insert code here\n",
    "def year_title(df):\n",
    "    df = environment_df\n",
    "    import re\n",
    "    import pandas as pd\n",
    "    environment_df['Location'] = environment_df['Location'].str.title()\n",
    "    environment_df['Year'] = pd.to_datetime(environment_df['Date']).dt.year\n",
    "\n",
    "    return df"
   ]
  },
  {
   "cell_type": "code",
   "execution_count": 22,
   "id": "9b747ada",
   "metadata": {},
   "outputs": [],
   "source": [
    "df2 = year_title(environment_df)"
   ]
  },
  {
   "cell_type": "markdown",
   "id": "dc9b7dc6",
   "metadata": {},
   "source": [
    "### Exercise 2\n",
    "\n",
    "Calculate the total budget allocated to \"forest\"-related projects. Assume that the 'Budget' column is in string format with various currency symbols, and convert it to a numeric format for calculations.\n",
    "\n",
    "Hint:\n",
    "1. Identify the currency of each budget amount.\n",
    "2. Convert each amount to USD.\n",
    "3. Sum the converted amounts."
   ]
  },
  {
   "cell_type": "code",
   "execution_count": 23,
   "id": "ae48fab0",
   "metadata": {},
   "outputs": [],
   "source": [
    "# Fixed conversion rates\n",
    "conversion_rates = {'$': 1.0, '€': 1.1, '£': 1.3}  # Rates: 1 Euro = 1.1 USD, 1 Pound = 1.3 USD\n",
    "\n",
    "# insert code here\n",
    "def converter(x):\n",
    "    if x[0] == '$':\n",
    "        return float(x[1:]) * conversion_rates['$']\n",
    "    elif x[0] == '£':\n",
    "        return float(x[1:]) * conversion_rates['£']\n",
    "    elif x[0] == '€':\n",
    "        return float(x[1:]) * conversion_rates['€']\n",
    "    else:\n",
    "        return None\n"
   ]
  },
  {
   "cell_type": "code",
   "execution_count": 24,
   "id": "e0d4c1d9",
   "metadata": {},
   "outputs": [
    {
     "name": "stdout",
     "output_type": "stream",
     "text": [
      "20000.0\n",
      "16500.0\n",
      "13200.000000000002\n",
      "23400.0\n",
      "25000.0\n",
      "22000.0\n",
      "17000.0\n",
      "14300.000000000002\n",
      "12100.000000000002\n",
      "20800.0\n"
     ]
    }
   ],
   "source": [
    "for bud in environment_df['Budget']:\n",
    "    print(converter(bud))"
   ]
  },
  {
   "cell_type": "code",
   "execution_count": 9,
   "id": "7940ee86",
   "metadata": {},
   "outputs": [
    {
     "data": {
      "text/plain": [
       "0    20000.0\n",
       "1    16500.0\n",
       "2    13200.0\n",
       "3    23400.0\n",
       "4    25000.0\n",
       "5    22000.0\n",
       "6    17000.0\n",
       "7    14300.0\n",
       "8    12100.0\n",
       "9    20800.0\n",
       "Name: Budget, dtype: float64"
      ]
     },
     "execution_count": 9,
     "metadata": {},
     "output_type": "execute_result"
    }
   ],
   "source": [
    "environment_df['Budget'].apply(converter)"
   ]
  },
  {
   "cell_type": "code",
   "execution_count": 25,
   "id": "0670efa9",
   "metadata": {},
   "outputs": [],
   "source": [
    "# Putting everything together\n",
    "\n",
    "# Fixed conversion rates\n",
    "conversion_rates = {'$': 1.0, '€': 1.1, '£': 1.3}  # Rates: 1 Euro = 1.1 USD, 1 Pound = 1.3 USD\n",
    "\n",
    "#Defining the Converter functions\n",
    "def converter(x):\n",
    "    if x[0] == '$':\n",
    "        return float(x[1:]) * conversion_rates['$']\n",
    "    elif x[0] == '£':\n",
    "        return float(x[1:]) * conversion_rates['£']\n",
    "    elif x[0] == '€':\n",
    "        return float(x[1:]) * conversion_rates['€']\n",
    "    else:\n",
    "        return None\n",
    "\n",
    "def converting_col(df):\n",
    "    df['Budget'] = df['Budget'].apply(converter)\n",
    "\n",
    "    return df\n",
    "\n"
   ]
  },
  {
   "cell_type": "code",
   "execution_count": 26,
   "id": "cca2c475",
   "metadata": {},
   "outputs": [],
   "source": [
    "# calling the function \n",
    "df3 = converting_col(df2)"
   ]
  },
  {
   "cell_type": "markdown",
   "id": "03df7563",
   "metadata": {},
   "source": [
    "### Exercise 3\n",
    "\n",
    "Identify all records (`Notes` column) that mention endangered species and tag these records in a new column, '`Endangered_species`', with a 'Yes' or 'No' flag."
   ]
  },
  {
   "cell_type": "code",
   "execution_count": null,
   "id": "554e071a",
   "metadata": {},
   "outputs": [],
   "source": [
    "# insert code here"
   ]
  },
  {
   "cell_type": "markdown",
   "id": "086c8987",
   "metadata": {},
   "source": [
    "### Exercise 4\n",
    "\n",
    "Generate a report which shows, for each country, the number of projects, the average budget per project for that country, and a list of the top three most common project types across all the countries. Assume 'Project Type' is part of the 'Description' and can be obtained by finding the text before the word 'Project'."
   ]
  },
  {
   "cell_type": "code",
   "execution_count": null,
   "id": "4ee0371f",
   "metadata": {},
   "outputs": [],
   "source": [
    "# insert code here"
   ]
  },
  {
   "cell_type": "markdown",
   "id": "555dea0d",
   "metadata": {},
   "source": [
    "## Solutions"
   ]
  },
  {
   "cell_type": "markdown",
   "id": "9ff8f391",
   "metadata": {},
   "source": [
    "### Exercise 1"
   ]
  },
  {
   "cell_type": "code",
   "execution_count": null,
   "id": "ad52ad95",
   "metadata": {},
   "outputs": [],
   "source": [
    "# Standardising 'Location'\n",
    "environment_df['Location'] = environment_df['Location'].apply(lambda x: x.title())\n",
    "\n",
    "# Extracting 'Year'\n",
    "environment_df['Year'] = pd.to_datetime(environment_df['Date']).dt.year\n",
    "\n",
    "print(environment_df)"
   ]
  },
  {
   "cell_type": "markdown",
   "id": "6a522670",
   "metadata": {},
   "source": [
    "**Standardising 'Location'**: This line converts all characters in the 'Location' column to title case (first letter of each word capitalised). It ensures consistency in the format of location names.\n",
    "\n",
    "**Extracting 'Year'**: This line extracts the year from the 'Date' column. It first converts the 'Date' column to a datetime object using `pd.to_datetime` and then extracts the year component from this datetime object, adding it as a new column, 'Year', in the DataFrame."
   ]
  },
  {
   "cell_type": "markdown",
   "id": "a10363b6",
   "metadata": {},
   "source": [
    "### Exercise 2"
   ]
  },
  {
   "cell_type": "code",
   "execution_count": null,
   "id": "09386d51",
   "metadata": {},
   "outputs": [],
   "source": [
    "# Fixed conversion rates\n",
    "conversion_rates = {'$': 1.0, '€': 1.1, '£': 1.3}  # Example rates: 1 Euro = 1.1 USD, 1 Pound = 1.3 USD\n",
    "\n",
    "def convert_to_usd(budget_str):\n",
    "    # Extracting the currency symbol and amount\n",
    "    currency_symbol = budget_str[0]\n",
    "    amount = float(budget_str[1:])\n",
    "\n",
    "    # Converting to USD\n",
    "    if currency_symbol in conversion_rates:\n",
    "        return amount * conversion_rates[currency_symbol]\n",
    "    else:\n",
    "        return amount\n",
    "\n",
    "# Converting 'Budget' to numeric USD values\n",
    "environment_df['Budget_USD'] = environment_df['Budget'].apply(convert_to_usd)\n",
    "\n",
    "# Calculating total budget for \"forest\"-related projects in USD\n",
    "total_budget_forest_usd = environment_df[environment_df['Description'].str.contains(\"forest\", case=False)]['Budget_USD'].sum()\n",
    "print(total_budget_forest_usd)\n"
   ]
  },
  {
   "cell_type": "markdown",
   "id": "885e77b4",
   "metadata": {},
   "source": [
    "* The `convert_to_usd` function extracts the currency symbol and amount from each budget string. It then converts the amount to USD using the given conversion rates.\n",
    "* We then apply this function to the 'Budget' column to create a new 'Budget_USD' column, where all values are in USD.\n",
    "* Finally, we calculate the total budget for \"forest\"-related projects using this standardised 'Budget_USD' column."
   ]
  },
  {
   "cell_type": "markdown",
   "id": "ff325262",
   "metadata": {},
   "source": [
    "### Exercise 3\n",
    "\n",
    "This code uses regex to check if the words \"endangered species\" appear in the 'Notes' column of `environment_df`. If it does, the corresponding row in the new '`Endangered_species`' column is marked 'Yes', otherwise 'No'. The search is case insensitive."
   ]
  },
  {
   "cell_type": "code",
   "execution_count": null,
   "id": "97439fd7",
   "metadata": {},
   "outputs": [],
   "source": [
    "# Using regex to identify mentions of endangered species\n",
    "environment_df['Endangered_species'] = environment_df['Notes'].str.contains(r'endangered species', flags=re.IGNORECASE).map({True: 'Yes', False: 'No'})\n",
    "\n",
    "print(environment_df)"
   ]
  },
  {
   "cell_type": "markdown",
   "id": "e9956efe",
   "metadata": {
    "tags": []
   },
   "source": [
    "### Exercise 4\n",
    "\n",
    "This code extracts 'Country' and 'Project Type' from the 'Location' and 'Description' columns respectively, generates a report summarising total projects and average budget by country, and identifies the top three most common project types in the dataset."
   ]
  },
  {
   "cell_type": "code",
   "execution_count": null,
   "id": "f57bc4b8",
   "metadata": {},
   "outputs": [],
   "source": [
    "# Extract 'Country' from 'Location'\n",
    "environment_df['Country'] = environment_df['Location'].apply(lambda x: x.split(', ')[-1])\n",
    "\n",
    "# Extract 'Project Type' from 'Description'\n",
    "environment_df['Project_Type'] = environment_df['Description'].str.extract(r'(\\b\\w+\\b) Project')[0]\n",
    "\n",
    "# Generate the report\n",
    "report = environment_df.groupby('Country').agg(\n",
    "    Total_Projects=('ID', 'count'),\n",
    "    Average_Budget=('Budget_USD', 'mean')\n",
    ")\n",
    "\n",
    "# Identify top three most common project types\n",
    "top_project_types = environment_df['Project_Type'].value_counts().nlargest(3).index.tolist()\n",
    "report['Top_Project_Types'] = ', '.join(top_project_types)\n",
    "\n",
    "print(report)"
   ]
  },
  {
   "cell_type": "markdown",
   "id": "26fd094b-0fee-46f1-a4b8-73766813c42b",
   "metadata": {
    "tags": []
   },
   "source": [
    "#  \n",
    "\n",
    "<div align=\"center\" style=\" font-size: 80%; text-align: center; margin: 0 auto\">\n",
    "<img src=\"https://raw.githubusercontent.com/Explore-AI/Pictures/master/ExploreAI_logos/EAI_Blue_Dark.png\"  style=\"width:200px\";/>\n",
    "</div>"
   ]
  }
 ],
 "metadata": {
  "kernelspec": {
   "display_name": "Python 3 (ipykernel)",
   "language": "python",
   "name": "python3"
  },
  "language_info": {
   "codemirror_mode": {
    "name": "ipython",
    "version": 3
   },
   "file_extension": ".py",
   "mimetype": "text/x-python",
   "name": "python",
   "nbconvert_exporter": "python",
   "pygments_lexer": "ipython3",
   "version": "3.10.13"
  }
 },
 "nbformat": 4,
 "nbformat_minor": 5
}
