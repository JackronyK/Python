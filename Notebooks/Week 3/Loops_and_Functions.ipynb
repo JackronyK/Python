{
  "cells": [
    {
      "cell_type": "markdown",
      "metadata": {
        "id": "bpFeroOnMhij"
      },
      "source": [
        "<div align=\"center\" style=\" font-size: 80%; text-align: center; margin: 0 auto\">\n",
        "<img src=\"https://raw.githubusercontent.com/Explore-AI/Pictures/master/Python-Notebook-Banners/Examples.png\"  style=\"display: block; margi      n-left: auto; margin-right: auto;\";/>\n",
        "</div>"
      ]
    },
    {
      "cell_type": "markdown",
      "metadata": {
        "id": "FnvRn-p7Mmso"
      },
      "source": [
        "#Loops, Conditionals and Functions\n",
        "\n",
        "###Welcome to Loops"
      ]
    },
    {
      "cell_type": "code",
      "execution_count": 6,
      "metadata": {
        "id": "wLMLQ4KJMgBI"
      },
      "outputs": [
        {
          "name": "stdout",
          "output_type": "stream",
          "text": [
            "Bentley\n",
            "Porsche\n",
            "Mercedes-Benz\n",
            "BMW\n"
          ]
        }
      ],
      "source": [
        "# Luxury car auction: All cars on the list\n",
        "\n",
        "cars = [\n",
        "    \"Bentley\", \"Porsche\", \"Mercedes-Benz\", \"BMW\",\n",
        "    \"Audi\", \"Lexus\", \"Jaguar\", \"Land Rover\",\n",
        "    \"Tesla\", \"Volvo\", \"Infiniti\", \"Acura\",\n",
        "    \"Cadillac\", \"Lincoln\", \"Maserati\", \"Alfa Romeo\",\n",
        "    \"Ferrari\", \"Lamborghini\", \"Rolls-Royce\", \"Bugatti\",\n",
        "    \"Aston Martin\", \"McLaren\", \"Pagani\", \"Koenigsegg\",\n",
        "    \"Maybach\"\n",
        "]\n",
        "\n",
        "# We are assisting the customer sales reps to get information for their clients\n",
        "\n",
        "# Client 1 wants to see all cars in the listings (listings are all available item in an auction)\n",
        "\n",
        "print(cars[0])\n",
        "print(cars[1])\n",
        "print(cars[2])\n",
        "print(cars[3])"
      ]
    },
    {
      "cell_type": "markdown",
      "metadata": {
        "id": "Ek5PLksENs8G"
      },
      "source": [
        "Loops allow us to iterate"
      ]
    },
    {
      "cell_type": "code",
      "execution_count": 2,
      "metadata": {
        "id": "29tmBmN5NpF3"
      },
      "outputs": [
        {
          "name": "stdout",
          "output_type": "stream",
          "text": [
            "Bentley\n",
            "Porsche\n",
            "Mercedes-Benz\n",
            "BMW\n",
            "Audi\n",
            "Lexus\n",
            "Jaguar\n",
            "Land Rover\n",
            "Tesla\n",
            "Volvo\n",
            "Infiniti\n",
            "Acura\n",
            "Cadillac\n",
            "Lincoln\n",
            "Maserati\n",
            "Alfa Romeo\n",
            "Ferrari\n",
            "Lamborghini\n",
            "Rolls-Royce\n",
            "Bugatti\n",
            "Aston Martin\n",
            "McLaren\n",
            "Pagani\n",
            "Koenigsegg\n",
            "Maybach\n"
          ]
        }
      ],
      "source": [
        "# a better approach to Client 1 request:\n",
        "\n",
        "for number in cars:\n",
        "  print(number)"
      ]
    },
    {
      "cell_type": "code",
      "execution_count": 3,
      "metadata": {
        "id": "8xrwsKBaN4it"
      },
      "outputs": [
        {
          "name": "stdout",
          "output_type": "stream",
          "text": [
            "Bentley\n",
            "Porsche\n",
            "Mercedes-Benz\n",
            "BMW\n",
            "Audi\n"
          ]
        }
      ],
      "source": [
        "# Client 2: I want to see only the first 5 cars:\n",
        "\n",
        "iter = 0\n",
        "\n",
        "while iter < 5:\n",
        "  print(cars[iter])\n",
        "  iter = iter + 1"
      ]
    },
    {
      "cell_type": "code",
      "execution_count": null,
      "metadata": {
        "id": "6-CwGbJBT05L"
      },
      "outputs": [],
      "source": [
        "iter\n"
      ]
    },
    {
      "cell_type": "markdown",
      "metadata": {
        "id": "DCye59OlO4KK"
      },
      "source": [
        "### Conditionals"
      ]
    },
    {
      "cell_type": "code",
      "execution_count": 7,
      "metadata": {
        "id": "2au05I6vOa6f"
      },
      "outputs": [
        {
          "name": "stdout",
          "output_type": "stream",
          "text": [
            "Boring\n",
            "Boring\n",
            "Mercedes-Benz\n",
            "Boring\n",
            "Boring\n",
            "Boring\n",
            "Boring\n",
            "Boring\n",
            "Boring\n",
            "Boring\n",
            "Boring\n",
            "Boring\n",
            "Boring\n",
            "Boring\n",
            "Boring\n",
            "Boring\n",
            "Boring\n",
            "Boring\n",
            "Boring\n",
            "Boring\n",
            "Boring\n",
            "Boring\n",
            "Boring\n",
            "Boring\n",
            "Boring\n"
          ]
        },
        {
          "data": {
            "text/plain": [
              "['Mercedes-Benz']"
            ]
          },
          "execution_count": 7,
          "metadata": {},
          "output_type": "execute_result"
        }
      ],
      "source": [
        "# client 3: I am interested in only \"Merc\", show others as boring!\n",
        "# lets find any brand that starts with \"Merc\"\n",
        "\n",
        "for car in cars:\n",
        "    if car.startswith('Merc'):\n",
        "        print(car)\n",
        "    else:\n",
        "        print(\"Boring\")\n",
        "\n",
        "def Merc_Car(Cars):\n",
        "    merc=[car for car in cars if car.startswith('Mer')]\n",
        "    return merc\n",
        "\n",
        "Merc_Car(cars)"
      ]
    },
    {
      "cell_type": "code",
      "execution_count": null,
      "metadata": {},
      "outputs": [],
      "source": []
    },
    {
      "cell_type": "code",
      "execution_count": 8,
      "metadata": {
        "id": "eZnjqZ57fKyC"
      },
      "outputs": [
        {
          "name": "stdout",
          "output_type": "stream",
          "text": [
            "boring\n",
            "boring\n",
            "Mercedes-Benz\n",
            "boring\n",
            "boring\n",
            "boring\n",
            "boring\n",
            "boring\n",
            "boring\n",
            "boring\n",
            "boring\n",
            "boring\n",
            "boring\n",
            "boring\n",
            "boring\n",
            "boring\n",
            "boring\n",
            "boring\n",
            "boring\n",
            "boring\n",
            "boring\n",
            "boring\n",
            "boring\n",
            "boring\n",
            "boring\n"
          ]
        }
      ],
      "source": [
        "# Since we now have the Actual name, we can build our conditional:\n",
        "for number in cars:\n",
        "  if number == \"Mercedes-Benz\":\n",
        "    print(number)\n",
        "  else:\n",
        "    print(\"boring\")"
      ]
    },
    {
      "cell_type": "markdown",
      "metadata": {
        "id": "lPaQoEH2PV_o"
      },
      "source": [
        "Conditionals control the flow\n",
        "* Whilst the statement is true it remains in the condition\n",
        "* If conditions are absolute\n",
        "* We can control the statement in the if\n",
        "* Else is a default if all other conditons are not met"
      ]
    },
    {
      "cell_type": "code",
      "execution_count": null,
      "metadata": {
        "id": "XGWE93rDPN_f"
      },
      "outputs": [],
      "source": [
        "# Client 4: update client 3's request with any BMWs as \"not that boring\"\n",
        "for number in cars:\n",
        "  if number == \"Mercedes-Benz\":\n",
        "    print(number)\n",
        "  elif number == \"BMW\":\n",
        "    print(\"not that boring\")\n",
        "  else:\n",
        "    print(\"boring\")"
      ]
    },
    {
      "cell_type": "markdown",
      "metadata": {
        "id": "dyROix1vP33_"
      },
      "source": [
        "Elif statement allows use to create alternative options once the if is not valid\n",
        "\n",
        "### Functions vs Imports\n",
        "\n",
        "We going to build an area calculator for Triangles\n",
        "\n",
        "![pic](https://www.worksheetsplanet.com/wp-content/uploads/2022/09/Area-of-a-Triangle-scaled.jpg)"
      ]
    },
    {
      "cell_type": "markdown",
      "metadata": {
        "id": "OzJRgwrIRjta"
      },
      "source": [
        "### Import way"
      ]
    },
    {
      "cell_type": "code",
      "execution_count": 11,
      "metadata": {
        "id": "M7EoTr4JP1JW"
      },
      "outputs": [],
      "source": [
        "import numpy as np"
      ]
    },
    {
      "cell_type": "code",
      "execution_count": 10,
      "metadata": {
        "id": "f7B11fKWg4Qz"
      },
      "outputs": [
        {
          "data": {
            "text/plain": [
              "6.0"
            ]
          },
          "execution_count": 10,
          "metadata": {},
          "output_type": "execute_result"
        }
      ],
      "source": [
        "# build the area calculator using np multiply function\n",
        "area = np.multiply(1/2, np.multiply(3, 4))\n",
        "area\n",
        "\n"
      ]
    },
    {
      "cell_type": "code",
      "execution_count": 17,
      "metadata": {},
      "outputs": [
        {
          "name": "stdout",
          "output_type": "stream",
          "text": [
            "Area of a Triange with Height 3 and Base 4 is: 6.0 Units Sq\n"
          ]
        }
      ],
      "source": [
        "def Area(h,b):\n",
        "    # Importing Necessary Functions\n",
        "    import numpy as np\n",
        "    from functools import reduce\n",
        "    from operator import mul\n",
        "    area=reduce(mul,[0.5,b,h])\n",
        "\n",
        "    print(f\"Area of a Triange with Height {h} and Base {b} is: {area} Units Sq\")\n",
        "\n",
        "Area(3,4)"
      ]
    },
    {
      "cell_type": "code",
      "execution_count": null,
      "metadata": {},
      "outputs": [],
      "source": []
    },
    {
      "cell_type": "code",
      "execution_count": 18,
      "metadata": {},
      "outputs": [
        {
          "ename": "TypeError",
          "evalue": "return arrays must be of ArrayType",
          "output_type": "error",
          "traceback": [
            "\u001b[1;31m---------------------------------------------------------------------------\u001b[0m",
            "\u001b[1;31mTypeError\u001b[0m                                 Traceback (most recent call last)",
            "Cell \u001b[1;32mIn[18], line 1\u001b[0m\n\u001b[1;32m----> 1\u001b[0m \u001b[43mnp\u001b[49m\u001b[38;5;241;43m.\u001b[39;49m\u001b[43mmultiply\u001b[49m\u001b[43m(\u001b[49m\u001b[38;5;241;43m0.5\u001b[39;49m\u001b[43m,\u001b[49m\u001b[38;5;241;43m8\u001b[39;49m\u001b[43m,\u001b[49m\u001b[38;5;241;43m8\u001b[39;49m\u001b[43m)\u001b[49m\n",
            "\u001b[1;31mTypeError\u001b[0m: return arrays must be of ArrayType"
          ]
        }
      ],
      "source": [
        "np.multiply(0.5,8,8)"
      ]
    },
    {
      "cell_type": "markdown",
      "metadata": {
        "id": "rTqx3omnR50W"
      },
      "source": [
        "This is not reuseable we have to continously update the variables\n",
        "\n",
        "### Functions way\n",
        "\n",
        "**Syntax**\n",
        "\n",
        "```python\n",
        "def function_name(parameter_1, parameter_n):\n",
        "      function block\n",
        "      return expression\n",
        "  ```\n",
        "\n",
        "* To define the function, we use the def keyword, along with the function name.\n",
        "* The identifier rule must follow the function name.\n",
        "* A function accepts the parameter (argument), and it can be optional.\n",
        "* The function block is started with the help of colon (:), and block statements must be at the same indentation.\n",
        "* To return the value from the function, we use the return statement. A function can have only one return statement involved in it."
      ]
    },
    {
      "cell_type": "code",
      "execution_count": null,
      "metadata": {
        "id": "A5hW3igTR0iN"
      },
      "outputs": [],
      "source": [
        "# Let's define our own function.\n",
        "def area_tri(base,height):\n",
        "  area = 1/2 * base * height\n",
        "  return area"
      ]
    },
    {
      "cell_type": "code",
      "execution_count": null,
      "metadata": {
        "id": "0K3PUfm2SVMO"
      },
      "outputs": [],
      "source": [
        "area_tri(3,4)"
      ]
    },
    {
      "cell_type": "code",
      "execution_count": null,
      "metadata": {
        "id": "X1WuNee7SY_k"
      },
      "outputs": [],
      "source": [
        "area_tri(5,6)"
      ]
    },
    {
      "cell_type": "markdown",
      "metadata": {
        "id": "WjfyGDCOSeJs"
      },
      "source": [
        "Benefits to using custom functions\n",
        "\n",
        "* With the help of functions, we can avoid rewriting the same logic or code again and again in a program.\n",
        "* In a single Program, we can call Python functions anywhere and also call multiple times.\n",
        "* We can track a large Python program easily when it is divided into multiple functions.\n",
        "* The main achievement of Python functions is its Reusability."
      ]
    },
    {
      "cell_type": "markdown",
      "metadata": {
        "id": "ZSWwVFLCVElk"
      },
      "source": [
        "### Arguments vs Placeholders (Parameters)"
      ]
    },
    {
      "cell_type": "code",
      "execution_count": null,
      "metadata": {
        "id": "YQ3gDSEySbFH"
      },
      "outputs": [],
      "source": [
        "# Arguments\n",
        "\n",
        "def printer(name):\n",
        "  return (\"Welcome \" + name)"
      ]
    },
    {
      "cell_type": "markdown",
      "metadata": {
        "id": "Q55szVANTNjL"
      },
      "source": []
    },
    {
      "cell_type": "code",
      "execution_count": null,
      "metadata": {
        "id": "3CFBHgZLVNTv"
      },
      "outputs": [],
      "source": [
        "printer(\"Damian\")"
      ]
    },
    {
      "cell_type": "code",
      "execution_count": null,
      "metadata": {
        "id": "zMiYlqdkmPww"
      },
      "outputs": [],
      "source": [
        "printer()"
      ]
    },
    {
      "cell_type": "code",
      "execution_count": null,
      "metadata": {
        "id": "Rd_JJtusVafP"
      },
      "outputs": [],
      "source": [
        "# Parameters: Setting a default variable when defining the function\n",
        "\n",
        "def printer_with_param(name = \"stranger!\"):\n",
        "  return (\"Welcome \" + name)"
      ]
    },
    {
      "cell_type": "code",
      "execution_count": null,
      "metadata": {
        "id": "unA8XzCnVqZR"
      },
      "outputs": [],
      "source": [
        "# Now we can use our function without passing in a parameter\n",
        "printer_with_param()"
      ]
    },
    {
      "cell_type": "code",
      "execution_count": null,
      "metadata": {
        "id": "K_T8qYFWVtii"
      },
      "outputs": [],
      "source": [
        "# It still retains its flexibility of accepting a parameter\n",
        "printer_with_param(\"Damian\")"
      ]
    },
    {
      "cell_type": "markdown",
      "metadata": {
        "id": "PAS9vjYAWENs"
      },
      "source": [
        "### Global vs Local variable and parameters"
      ]
    },
    {
      "cell_type": "code",
      "execution_count": null,
      "metadata": {
        "id": "WCq_jxzSVwRn"
      },
      "outputs": [],
      "source": [
        "globally = \"Damian\" # available anywhere after definition\n",
        "\n",
        "def greet(name = globally):\n",
        "  message = \"Welcome \" # available only within this greet function\n",
        "  print(message)\n",
        "  return (message + name)"
      ]
    },
    {
      "cell_type": "code",
      "execution_count": null,
      "metadata": {
        "id": "yAxkIpSVWCv4"
      },
      "outputs": [],
      "source": [
        "greet()"
      ]
    },
    {
      "cell_type": "markdown",
      "metadata": {
        "id": "yyxFOGdJW2hI"
      },
      "source": [
        "We can still change the output with the user input"
      ]
    },
    {
      "cell_type": "code",
      "execution_count": null,
      "metadata": {
        "id": "DWlx_B_4WNmI"
      },
      "outputs": [],
      "source": [
        "greet(\"Thato\")"
      ]
    },
    {
      "cell_type": "code",
      "execution_count": null,
      "metadata": {
        "id": "7wdWR7VUWdqW"
      },
      "outputs": [],
      "source": [
        "globally"
      ]
    },
    {
      "cell_type": "code",
      "execution_count": null,
      "metadata": {
        "id": "6Aa8LvJHWkkc"
      },
      "outputs": [],
      "source": [
        "message"
      ]
    },
    {
      "cell_type": "markdown",
      "metadata": {
        "id": "o0LffdSdXPet"
      },
      "source": [
        "***message*** only exists within the function as is known as a local variable\n",
        "\n",
        "***globally***  exists anywhere outside the function as is known as a global variable"
      ]
    },
    {
      "cell_type": "markdown",
      "metadata": {
        "id": "UYeYTRjuXonx"
      },
      "source": [
        "## Excercise"
      ]
    },
    {
      "cell_type": "markdown",
      "metadata": {
        "id": "oQohzCjUYjf1"
      },
      "source": [
        "## Challenge\n",
        "\n",
        "Given a list of lowercasestrings, return a list with the strings in sorted in alphabetical order, except group all the strings that begin with `'x'` at the beginning of the list.<br>\n",
        "e.g. ['mix', 'xyz', 'apple', 'xanadu', 'aardvark'] yields<br>\n",
        "`['xanadu', 'xyz', 'aardvark', 'apple', 'mix']`<br>\n",
        "\n",
        "Hint: this can be done by making 2 lists and sorting each of them before combining them.\n",
        "\n",
        "Hint: Remember that Python's `list` object has a `sort()` method. Python also has a built-in function called `sorted()`."
      ]
    },
    {
      "cell_type": "markdown",
      "metadata": {
        "id": "N8eWxhoAYoVc"
      },
      "source": [
        "### What to google?\n",
        "* How to define a list\n",
        "* How to sort list\n",
        "* How to loop over a list\n",
        "* How to check if a list contains a word starting with a given letter\n",
        "* How to join two list together"
      ]
    },
    {
      "cell_type": "code",
      "execution_count": 21,
      "metadata": {
        "id": "6p3emdnvXNSe"
      },
      "outputs": [
        {
          "data": {
            "text/plain": [
              "['xanadu', 'xyz', 'aardvark', 'apple', 'mix']"
            ]
          },
          "execution_count": 21,
          "metadata": {},
          "output_type": "execute_result"
        }
      ],
      "source": [
        "def X_Sorter(lc_list):\n",
        "    # Initializing Lists to Hold X and other Strings\n",
        "    X_strg=[]\n",
        "    Other_strg=[]\n",
        "    for strg in lc_list:\n",
        "        if strg.startswith('x'):\n",
        "            X_strg.append(strg)\n",
        "        else:\n",
        "            Other_strg.append(strg)\n",
        "        X_strg.sort()\n",
        "        Other_strg.sort()\n",
        "\n",
        "    return X_strg + Other_strg\n",
        "\n",
        "lc_list=['mix', 'xyz', 'apple', 'xanadu', 'aardvark']\n",
        "X_Sorter(lc_list)"
      ]
    },
    {
      "cell_type": "code",
      "execution_count": 22,
      "metadata": {},
      "outputs": [
        {
          "data": {
            "text/plain": [
              "['xanadu', 'xyz', 'aardvark', 'apple', 'mix']"
            ]
          },
          "execution_count": 22,
          "metadata": {},
          "output_type": "execute_result"
        }
      ],
      "source": [
        "def X_Sorter(lc_list):\n",
        "    # Initializing Lists to Hold X and other Strings\n",
        "    X_strg=[strg for strg in lc_list if strg.startswith('x')]\n",
        "    Other_strg=[strg for strg in lc_list if not strg.startswith('x')]\n",
        "\n",
        "    X_strg.sort()\n",
        "    Other_strg.sort()\n",
        "\n",
        "    return X_strg + Other_strg\n",
        "\n",
        "lc_list=['mix', 'xyz', 'apple', 'xanadu', 'aardvark']\n",
        "X_Sorter(lc_list)"
      ]
    },
    {
      "cell_type": "code",
      "execution_count": null,
      "metadata": {},
      "outputs": [],
      "source": [
        "# How to define a list\n",
        "\n",
        "this_is_a_list = [2,1,3,'word']\n",
        "this_is_a_list"
      ]
    },
    {
      "cell_type": "code",
      "execution_count": null,
      "metadata": {
        "id": "2ZNMQYH3YtrT"
      },
      "outputs": [],
      "source": [
        "this_is_a_list.sort()"
      ]
    },
    {
      "cell_type": "code",
      "execution_count": null,
      "metadata": {
        "id": "ASUC7O9RYvSh"
      },
      "outputs": [],
      "source": [
        "# How to sort list\n",
        "new_list = [2,4,1,3,3]\n",
        "new_list.sort()\n",
        "new_list"
      ]
    },
    {
      "cell_type": "code",
      "execution_count": 23,
      "metadata": {
        "id": "JP_K721vYzNZ"
      },
      "outputs": [
        {
          "data": {
            "text/plain": [
              "['Apple', 'Bob']"
            ]
          },
          "execution_count": 23,
          "metadata": {},
          "output_type": "execute_result"
        }
      ],
      "source": [
        "# How to sort list\n",
        "xs = [\"Bob\", \"Apple\"]\n",
        "xs.sort()\n",
        "xs"
      ]
    },
    {
      "cell_type": "code",
      "execution_count": null,
      "metadata": {
        "id": "cLQEUorjHk2M"
      },
      "outputs": [],
      "source": [
        "## Sorted example"
      ]
    },
    {
      "cell_type": "code",
      "execution_count": null,
      "metadata": {
        "id": "_cfG1FxVY51d"
      },
      "outputs": [],
      "source": [
        "# How to loop over a list\n",
        "words = ['apple', 'banana', 'bag']\n",
        "x = 'apple'\n",
        "print(x[0])\n",
        "print(x[-1])"
      ]
    },
    {
      "cell_type": "code",
      "execution_count": null,
      "metadata": {
        "id": "2_eQ_dCQZIWU"
      },
      "outputs": [],
      "source": [
        "# How to loop over a list\n",
        "for i in words:\n",
        "    if i[0] == 'a':\n",
        "        print(i)\n",
        "        print(words)"
      ]
    },
    {
      "cell_type": "code",
      "execution_count": null,
      "metadata": {
        "id": "GbLA5y8KZMRv"
      },
      "outputs": [],
      "source": [
        "# How to check if a list contains a word starting with a given letter\n",
        "[x for x in words if x[0] =='b']"
      ]
    },
    {
      "cell_type": "code",
      "execution_count": null,
      "metadata": {
        "id": "s723q7obZf9m"
      },
      "outputs": [],
      "source": [
        "words"
      ]
    },
    {
      "cell_type": "code",
      "execution_count": null,
      "metadata": {
        "id": "tZRnhe8bZZtT"
      },
      "outputs": [],
      "source": [
        "words.remove('apple')\n",
        "words"
      ]
    },
    {
      "cell_type": "code",
      "execution_count": null,
      "metadata": {
        "id": "FeqlnzSOZdwE"
      },
      "outputs": [],
      "source": [
        "# How to join two list together\n",
        "final_1 = words + new_list\n",
        "final_2 = new_list + words\n",
        "print(final_1)\n",
        "print(final_2)"
      ]
    },
    {
      "cell_type": "markdown",
      "metadata": {
        "id": "hrFayAYMZuM7"
      },
      "source": [
        "## Let's Try Code it"
      ]
    },
    {
      "cell_type": "code",
      "execution_count": null,
      "metadata": {
        "id": "NbFhHrUQZqnG"
      },
      "outputs": [],
      "source": [
        "# Example 1\n",
        "def front_1(words):\n",
        "    x_words = []\n",
        "\n",
        "    for i in words:\n",
        "        if i[0] == 'x':\n",
        "            x_words.append(i)\n",
        "            words.remove(i)\n",
        "\n",
        "    x_words.sort()\n",
        "    words.sort()\n",
        "    return x_words + words"
      ]
    },
    {
      "cell_type": "code",
      "execution_count": null,
      "metadata": {
        "id": "_itar_B_Z1Zc"
      },
      "outputs": [],
      "source": [
        "# Example 2\n",
        "def front_2(words):\n",
        "    # Create a list of words starting with x\n",
        "    x_words = [word for word in words if word[0] == 'x']\n",
        "\n",
        "    # Create a list of words not starting with x\n",
        "    non_x_words = [word for word in words if word[0] != 'x']\n",
        "\n",
        "    #Sort and join both lists\n",
        "    return sorted(x_words) + sorted(non_x_words)"
      ]
    },
    {
      "cell_type": "code",
      "execution_count": null,
      "metadata": {
        "id": "AWD0urA-Z65s"
      },
      "outputs": [],
      "source": [
        "# Example 3\n",
        "def front_3(words):\n",
        "\n",
        "    #sort list alphabetically\n",
        "    words.sort()\n",
        "    #create new list containing the values'of the list that start with 'x' (still alphabetically)\n",
        "    ans = [words[i] for i in range(len(words)) if words[i][0] == 'x']\n",
        "\n",
        "    #remove the values in the new list from the original list\n",
        "    [words.remove(j) for j in ans]\n",
        "\n",
        "    #Extend the two lists\n",
        "    ans.extend(words) # answer = ans + words\n",
        "\n",
        "    return ans"
      ]
    },
    {
      "cell_type": "markdown",
      "metadata": {
        "id": "xAFb78BhaEyu"
      },
      "source": [
        "**Expected Outputs:**\n",
        "```python\n",
        "front_x(['mix', 'xyz', 'apple', 'xanadu', 'aardvark']) == ['xanadu', 'xyz', 'aardvark', 'apple', 'mix']\n",
        "front_x(['netowrk', 'artist', 'xamarian', 'king', 'cat']) == ['xamarian', 'artist', 'cat', 'king', 'netowrk']\n",
        "front_x(['jhsdfi', 'jeiri', 'iopqwu', 'bhvaiau', 'loaks']) == ['bhvaiau', 'iopqwu', 'jeiri', 'jhsdfi', 'loaks']\n",
        "```"
      ]
    },
    {
      "cell_type": "code",
      "execution_count": 27,
      "metadata": {},
      "outputs": [
        {
          "data": {
            "text/plain": [
              "['bhvaiau', 'iopqwu', 'jeiri', 'jhsdfi', 'loaks']"
            ]
          },
          "execution_count": 27,
          "metadata": {},
          "output_type": "execute_result"
        }
      ],
      "source": [
        "S_list1=['netowrk', 'artist', 'xamarian', 'king', 'cat']\n",
        "X_Sorter(S_list1)\n",
        "S_list2=['mix', 'xyz', 'apple', 'xanadu', 'aardvark']\n",
        "X_Sorter(S_list2)\n",
        "S_list3=['jhsdfi', 'jeiri', 'iopqwu', 'bhvaiau', 'loaks']\n",
        "X_Sorter(S_list3)\n"
      ]
    },
    {
      "cell_type": "markdown",
      "metadata": {
        "id": "-tH-w4rZbHRR"
      },
      "source": [
        "## Challenge\n",
        "\n",
        "Proteins are the building blocks of life. The process starts when another protein (a polymerase) reads your genetic code and performs transcription, the code (RNA) for making protein. Ribosomes will then attach to this RNA code to begin making specific proteins. Your genetic code is made up of pairs of nucleotides. Once transcribed into the code, these nucleotides contain the following nucleotides:\n",
        "\n",
        "U,G,A,C.\n",
        "\n",
        "UGA, UAA, and UAG are stop codons and AUG is a start codon so that the protein ,ribosome, can identify where to stop and start the protein formation.\n",
        "\n",
        "A genetics lab has tasked you to design a function which recognises the length of the RNA code (excluding the start and stop codons). The function must also determine if there code is actually a valid piece of code (must contain AUG as a start codon and UGA, UAA, or UAG at the end).\n",
        "\n",
        "Note: RNA starts with a start codon AUG and ends with UGA, UAA, or UAG\n",
        "\n",
        "The function must return \"Not readable RNA code\" if the above conditions are not met."
      ]
    },
    {
      "cell_type": "markdown",
      "metadata": {
        "id": "hmRg_x8CbPcz"
      },
      "source": [
        "### What to google?\n",
        "* How to check the length of a word/string\n",
        "* How to get the first 3 and last 3 letters/characters of a word\n",
        "* How to conditional statement work\n",
        "* How do if and else statements works"
      ]
    },
    {
      "cell_type": "code",
      "execution_count": 46,
      "metadata": {
        "id": "O32YhhXVbJDq"
      },
      "outputs": [],
      "source": [
        "def Protein_Len1(prot):\n",
        "    stop_codon=['UGA','UAA','UAG']\n",
        "    start_codon='AUG'\n",
        "    if prot[:3]==start_codon and prot[-3:] in stop_codon:\n",
        "        prot_list=[prot[i:i+3] for i in range(0,len(prot),3)]\n",
        "        print(f\"The RNA {prot_list}. Length: {len((prot_list))-2}\")\n",
        "    else:\n",
        "        print(\"Not Readable RNA Code\")\n",
        "    "
      ]
    },
    {
      "cell_type": "code",
      "execution_count": 56,
      "metadata": {},
      "outputs": [],
      "source": [
        "def Protein_Len2(prot):\n",
        "    stop_codon=['UGA','UAA','UAG']\n",
        "    start_codon='AUG'\n",
        "    if prot[:3]==start_codon and prot[-3:] in stop_codon:\n",
        "        prot_list=prot[3:len(prot)-3]\n",
        "        print(f\"The RNA: {prot_list}.\\nLength: {len(prot_list)}\")\n",
        "    else:\n",
        "        print(\"Not Readable RNA Code\")\n",
        "    "
      ]
    },
    {
      "cell_type": "code",
      "execution_count": 60,
      "metadata": {},
      "outputs": [
        {
          "name": "stdout",
          "output_type": "stream",
          "text": [
            "The RNA: UAGCA.\n",
            "Length: 5\n",
            "The RNA: UUA.\n",
            "Length: 3\n",
            "The RNA: UAGGCACAUUUAUGCUCC.\n",
            "Length: 18\n",
            "Not Readable RNA Code\n"
          ]
        }
      ],
      "source": [
        "Protein_Len2(\"AUGUAGCAUAA\")\n",
        "Protein_Len2(\"AUGUUAUAG\")\n",
        "Protein_Len2(\"AUGUAGGCACAUUUAUGCUCCUGA\")\n",
        "Protein_Len2(\"AUGAGGCACCUUCUGCUCCUUAC\")"
      ]
    },
    {
      "cell_type": "code",
      "execution_count": 52,
      "metadata": {},
      "outputs": [
        {
          "data": {
            "text/plain": [
              "'UAGCA'"
            ]
          },
          "execution_count": 52,
          "metadata": {},
          "output_type": "execute_result"
        }
      ],
      "source": [
        "prot='AUGUAGCAUAA'\n",
        "prot[3:len(prot)-3]"
      ]
    },
    {
      "cell_type": "markdown",
      "metadata": {},
      "source": [
        "_**Expected Outputs**_\n",
        "```python\n",
        "rna_length('AUGUAGCAUAA') == 5\n",
        "rna_length('AUGUUAUAG') == 3\n",
        "rna_length('AUGUAGGCACAUUUAUGCUCCUGA') == 18\n",
        "rna_length('AUGAGGCACCUUCUGCUCCUUAC') == \"Not readable RNA code\"\n",
        "```"
      ]
    },
    {
      "cell_type": "code",
      "execution_count": null,
      "metadata": {},
      "outputs": [],
      "source": []
    },
    {
      "cell_type": "code",
      "execution_count": 39,
      "metadata": {},
      "outputs": [
        {
          "data": {
            "text/plain": [
              "'ssh'"
            ]
          },
          "execution_count": 39,
          "metadata": {},
          "output_type": "execute_result"
        }
      ],
      "source": [
        "X='sshdsgry'\n",
        "X[:3]"
      ]
    },
    {
      "cell_type": "code",
      "execution_count": null,
      "metadata": {},
      "outputs": [],
      "source": [
        "# How to check the length of a word/string\n",
        "x = 'hello'\n",
        "y = 'hello '\n",
        "print(len(x))\n",
        "print(len(y))"
      ]
    },
    {
      "cell_type": "code",
      "execution_count": null,
      "metadata": {
        "id": "XQ1lzFI6bTFc"
      },
      "outputs": [],
      "source": [
        "# How to get the first 3 and last 3 letters/characters of a word\n",
        "x[0]"
      ]
    },
    {
      "cell_type": "code",
      "execution_count": null,
      "metadata": {
        "id": "oiqGw77TbYqV"
      },
      "outputs": [],
      "source": [
        "x[0:3]"
      ]
    },
    {
      "cell_type": "code",
      "execution_count": null,
      "metadata": {
        "id": "D2f61aTpbZwT"
      },
      "outputs": [],
      "source": [
        "x[:3]"
      ]
    },
    {
      "cell_type": "code",
      "execution_count": null,
      "metadata": {
        "id": "N_lokXrpbbHD"
      },
      "outputs": [],
      "source": [
        "x[-3:]"
      ]
    },
    {
      "cell_type": "code",
      "execution_count": 61,
      "metadata": {
        "id": "GSeFQk45beF6"
      },
      "outputs": [],
      "source": [
        "# Example 1\n",
        "def rna_length(mrna):\n",
        "    length = 0\n",
        "\n",
        "    if mrna[:3] == 'AUG' and (mrna[-3:] == 'UGA' or mrna[-3:] == 'UAA' or mrna[-3:] == 'UAG'):\n",
        "        for i in mrna:\n",
        "            length = length + 1\n",
        "        length = length  - 6\n",
        "        return length\n",
        "    else:\n",
        "        return \"Not readable RNA code\"\n"
      ]
    },
    {
      "cell_type": "code",
      "execution_count": null,
      "metadata": {
        "id": "7BgAjhPRbiid"
      },
      "outputs": [],
      "source": [
        "# Example 2\n",
        "def rna_length(mrna):\n",
        "\n",
        "    #search for starting and end name tags\n",
        "    if mrna[:3]=='AUG' and mrna[-3:] in ['UGA','UAA','UAG']:\n",
        "        #calculate the len\n",
        "        return (len(mrna) - 6)\n",
        "\n",
        "    # if no match tell the user\n",
        "    else:\n",
        "        return 'Not readable RNA code'"
      ]
    },
    {
      "cell_type": "markdown",
      "metadata": {
        "id": "c153M6szbnNY"
      },
      "source": [
        "_**Expected Outputs**_\n",
        "```python\n",
        "rna_length('AUGUAGCAUAA') == 5\n",
        "rna_length('AUGUUAUAG') == 3\n",
        "rna_length('AUGUAGGCACAUUUAUGCUCCUGA') == 18\n",
        "rna_length('AUGAGGCACCUUCUGCUCCUUAC') == \"Not readable RNA code\"\n",
        "```"
      ]
    },
    {
      "cell_type": "code",
      "execution_count": null,
      "metadata": {
        "id": "mhZ4tVHfblAm"
      },
      "outputs": [],
      "source": []
    }
  ],
  "metadata": {
    "colab": {
      "provenance": []
    },
    "kernelspec": {
      "display_name": "Python 3",
      "name": "python3"
    },
    "language_info": {
      "codemirror_mode": {
        "name": "ipython",
        "version": 3
      },
      "file_extension": ".py",
      "mimetype": "text/x-python",
      "name": "python",
      "nbconvert_exporter": "python",
      "pygments_lexer": "ipython3",
      "version": "3.10.13"
    }
  },
  "nbformat": 4,
  "nbformat_minor": 0
}
