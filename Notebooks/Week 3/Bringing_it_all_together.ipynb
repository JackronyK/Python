{
  "cells": [
    {
      "cell_type": "markdown",
      "metadata": {
        "id": "1K5KIcmUL-qA"
      },
      "source": [
        "<div align=\"center\" style=\" font-size: 80%; text-align: center; margin: 0 auto\">\n",
        "<img src=\"https://raw.githubusercontent.com/Explore-AI/Pictures/master/Python-Notebook-Banners/Examples.png\"  style=\"display: block; margi      n-left: auto; margin-right: auto;\";/>\n",
        "</div>"
      ]
    },
    {
      "cell_type": "markdown",
      "metadata": {
        "id": "JVQ7KIUEMOPZ"
      },
      "source": [
        "# Functions meets Classes meets Methods\n",
        "\n",
        "### Learning Outcomes\n",
        "* Recap on function\n",
        "* Introduction to OOP\n",
        "* Coding Examples"
      ]
    },
    {
      "cell_type": "markdown",
      "metadata": {
        "id": "9KJu6Lt3OTj6"
      },
      "source": [
        "## Functions\n",
        "\n",
        "* Definition and Purpose:\n",
        "  * Explain what functions are and why they're essential for code organization and reusability.\n",
        "* Syntax and Structure:\n",
        "  * Demonstrate the def keyword, function name, parameters, and return values using clear code examples.\n",
        "  * Emphasize indentation for code blocks.\n",
        "\n",
        "* Example\n",
        "\n",
        "```python\n",
        "def greet(name):\n",
        "    \"\"\"Greets a person by name.\"\"\"\n",
        "    print(\"Hello, \" + name + \"!\")\n",
        "\n",
        "greet(\"Alice\")  # Output: Hello, Alice!\n",
        "```"
      ]
    },
    {
      "cell_type": "markdown",
      "metadata": {
        "id": "1zKUwgzxOsvk"
      },
      "source": [
        "### Classes and Objects\n",
        "\n",
        "* Class Definition:\n",
        "  * Demonstrate the class keyword, attributes (variables), and methods (functions within a class) using examples.\n",
        "* Object Creation and Usage:\n",
        "  * Show how to create objects (instances of classes) and access their attributes and methods.\n",
        "* Inheritance:\n",
        "  * If time permits, briefly explain inheritance as a way to create new classes based on existing ones.\n",
        "* Examples:\n",
        "\n",
        "```python\n",
        "class Dog:\n",
        "    \"\"\"Represents a dog.\"\"\"\n",
        "\n",
        "    def __init__(self, name, breed):\n",
        "        self.name = name\n",
        "        self.breed = breed\n",
        "\n",
        "    def bark(self):\n",
        "        print(\"Woof!\")\n",
        "\n",
        "my_dog = Dog(\"Fido\", \"Labrador\")\n",
        "print(my_dog.name, my_dog.breed)  # Output: Fido Labrador\n",
        "my_dog.bark()  # Output: Woof!\n"
      ]
    },
    {
      "cell_type": "markdown",
      "metadata": {
        "id": "zzV1Dy_sZOwO"
      },
      "source": [
        "## OOP can be scary\n",
        "\n",
        "**Class**\n",
        "* This is a blueprint which has several methods -> Car\n",
        "\n",
        "**Method**\n",
        "* This is a function specific to a class -> Drive forward, Reverse, Turning, Start car\n",
        "\n",
        "**Object**\n",
        "* Indivial specs of a class -> Shape, Size, Colour\n",
        "\n",
        "\n",
        "|Feature|Class|Object|Method|\n",
        "|---|---|---|---|\n",
        "|Definition|Blueprint or template|Specific instance of a class|Function specific to a class|\n",
        "|Analogy|Recipe|Individual food item made from the recipe|Action you can do with the food item|\n",
        "|Multiple instances|Yes|No, each object is unique|Multiple objects can use the same method|\n"
      ]
    },
    {
      "cell_type": "markdown",
      "metadata": {
        "id": "GBmtnGcMbaQe"
      },
      "source": [
        "![](https://net-informations.com/python/ess/img/python-class.png)"
      ]
    },
    {
      "cell_type": "markdown",
      "metadata": {
        "id": "JBYx6sHobtBR"
      },
      "source": [
        "## Let's make Numpy"
      ]
    },
    {
      "cell_type": "code",
      "execution_count": 1,
      "metadata": {
        "id": "qvVKycHQLxY7"
      },
      "outputs": [],
      "source": [
        "class DamianNumpy:\n",
        "  \"\"\"\n",
        "  Create my own numpy add and subtract\n",
        "  \"\"\"\n",
        "\n",
        "  def __init__(self):\n",
        "    \"\"\"\n",
        "    Creates instances\n",
        "    \"\"\"\n",
        "\n",
        "  def add(self, num1, num2):\n",
        "    \"\"\"\n",
        "    Returns the sum of num1 and num2\n",
        "    \"\"\"\n",
        "    self.num1 = num1\n",
        "    self.num2 = num2\n",
        "    if not isinstance(num1, int):\n",
        "      raise ValueError(\"Value must be an integer, Please\")\n",
        "    if not isinstance(num2, int):\n",
        "      raise ValueError(\"Value must be an integer, Please\")\n",
        "\n",
        "    return self.num1 + self.num2\n",
        "\n",
        "  def sub(self):\n",
        "    \"\"\"\n",
        "    Returns the difference of num1 and num2\n",
        "    \"\"\"\n",
        "    self.num1 = num1\n",
        "    self.num2 = num2\n",
        "    if not isinstance(num1, int):\n",
        "      raise ValueError(\"Value must be an integer, Please\")\n",
        "    if not isinstance(num2, int):\n",
        "      raise ValueError(\"Value must be an integer, Please\")\n",
        "    return self.num1 - self.num2"
      ]
    },
    {
      "cell_type": "code",
      "execution_count": 2,
      "metadata": {
        "colab": {
          "base_uri": "https://localhost:8080/"
        },
        "id": "B_7KU5jsdoMy",
        "outputId": "7047f557-53e5-42cd-b995-165c3ae43715"
      },
      "outputs": [
        {
          "data": {
            "text/plain": [
              "<__main__.DamianNumpy at 0x1f8ff5efbe0>"
            ]
          },
          "execution_count": 2,
          "metadata": {},
          "output_type": "execute_result"
        }
      ],
      "source": [
        "DamianNumpy()"
      ]
    },
    {
      "cell_type": "code",
      "execution_count": null,
      "metadata": {
        "colab": {
          "base_uri": "https://localhost:8080/"
        },
        "id": "A7qitNC-h4xM",
        "outputId": "88b8539e-4992-4327-8353-0192c7dea48a"
      },
      "outputs": [
        {
          "data": {
            "text/plain": [
              "<bound method DamianNumpy.add of <__main__.DamianNumpy object at 0x7dce1d835060>>"
            ]
          },
          "execution_count": 44,
          "metadata": {},
          "output_type": "execute_result"
        }
      ],
      "source": [
        "DamianNumpy().add"
      ]
    },
    {
      "cell_type": "code",
      "execution_count": null,
      "metadata": {
        "colab": {
          "base_uri": "https://localhost:8080/"
        },
        "id": "fDstttxqdwin",
        "outputId": "52cc3ac0-a648-4ef3-fdcc-4e5ff0dc4de7"
      },
      "outputs": [
        {
          "data": {
            "text/plain": [
              "3"
            ]
          },
          "execution_count": 41,
          "metadata": {},
          "output_type": "execute_result"
        }
      ],
      "source": [
        "DamianNumpy().add(1,2)"
      ]
    },
    {
      "cell_type": "code",
      "execution_count": null,
      "metadata": {
        "colab": {
          "base_uri": "https://localhost:8080/"
        },
        "id": "3kXRJbEJeOqZ",
        "outputId": "f8dddac0-30ee-4b50-885e-dfe51c362c8c"
      },
      "outputs": [
        {
          "data": {
            "text/plain": [
              "3"
            ]
          },
          "execution_count": 36,
          "metadata": {},
          "output_type": "execute_result"
        }
      ],
      "source": [
        "sum"
      ]
    },
    {
      "cell_type": "markdown",
      "metadata": {
        "id": "RW9FmF_V49Aa"
      },
      "source": [
        "# Let's practise some code"
      ]
    },
    {
      "cell_type": "markdown",
      "metadata": {
        "id": "NBUVsnk14_AQ"
      },
      "source": [
        "## Challenge\n",
        "In order for protein to be formed, a chain of amino acids must be formed. These amino acids are formed with 3 base pairs. An example would be 'CUU' makes a Leucine ('Leu') amino acid. Remember that there are stop codons UAG, UGA, UAA which essentially ends the protein synthesis formation. This leaves you with a chain of amino acids that will be folded into a protien which hopefully becomes part of your python brain tissue!\n",
        "\n",
        "The function to be built, ```amino_acids```, must return a list of a tuple and an integer when given a string of mRNA code. The first tuple must contain all the amino acids and the integer must be the number of distinct amino acids. You can use the dictionary below to help with your function. The function must also not include the stop codon codes.\n",
        "\n",
        "NOTE : For this piece of code, we'll assume that there's only one stop codon in the sequence\n",
        "\n",
        "```python\n",
        "{'CUU': 'Leu', 'UAG': '---', 'ACA': 'Thr', 'AAA': 'Lys', 'AUC': 'Ile',\n",
        " 'AAC': 'Asn','AUA': 'Ile', 'AGG': 'Arg', 'CCU': 'Pro', 'ACU': 'Thr',\n",
        " 'AGC': 'Ser','AAG': 'Lys', 'AGA': 'Arg', 'CAU': 'His', 'AAU': 'Asn',\n",
        " 'AUU': 'Ile','CUG': 'Leu', 'CUA': 'Leu', 'CUC': 'Leu', 'CAC': 'His',\n",
        " 'UGG': 'Trp','CAA': 'Gln', 'AGU': 'Ser', 'CCA': 'Pro', 'CCG': 'Pro',\n",
        " 'CCC': 'Pro', 'UAU': 'Tyr', 'GGU': 'Gly', 'UGU': 'Cys', 'CGA': 'Arg',\n",
        " 'CAG': 'Gln', 'UCU': 'Ser', 'GAU': 'Asp', 'CGG': 'Arg', 'UUU': 'Phe',\n",
        " 'UGC': 'Cys', 'GGG': 'Gly', 'UGA':'---', 'GGA': 'Gly', 'UAA': '---',\n",
        " 'ACG': 'Thr', 'UAC': 'Tyr', 'UUC': 'Phe', 'UCG': 'Ser', 'UUA': 'Leu',\n",
        " 'UUG': 'Leu', 'UCC': 'Ser', 'ACC': 'Thr', 'UCA': 'Ser', 'GCA': 'Ala',\n",
        " 'GUA': 'Val', 'GCC': 'Ala', 'GUC': 'Val', 'GGC':'Gly', 'GCG': 'Ala',\n",
        " 'GUG': 'Val', 'GAG': 'Glu', 'GUU': 'Val', 'GCU': 'Ala', 'GAC': 'Asp',\n",
        " 'CGU': 'Arg', 'GAA': 'Glu', 'AUG': 'Met', 'CGC': 'Arg'}\n",
        "```\n",
        "```'---'``` represents the stop codons\n",
        "\n",
        "Example would be :\n",
        "\n",
        "'AUGUCGGCACAUUUAUGCUCC**UAA**UCC' <br>\n",
        "To give : [('Met', 'Ser', 'Ala', 'His', 'Leu', 'Cys', 'Ser'), 6]\n",
        "\n",
        "This is the summary of what is required from the challenge:\n",
        "\n",
        "* The output must be a list of a tuple of strings (amino acid) and a single integer (number of distinct amino acids)\n",
        "* Must use the dictionary to call the amino acid or stop codon\n",
        "* Must convert the three codes into an amino acid and stop at the stop codon (the function assumes all the codes have only one stop codon)\n"
      ]
    },
    {
      "cell_type": "code",
      "execution_count": 20,
      "metadata": {},
      "outputs": [
        {
          "data": {
            "text/plain": [
              "[('Met', 'Ser', 'Ala', 'His', 'Leu', 'Cys', 'Ser'), 6]"
            ]
          },
          "execution_count": 20,
          "metadata": {},
          "output_type": "execute_result"
        }
      ],
      "source": [
        "def amino_acids(mRNA):\n",
        "    # Amino Acids Dic\n",
        "    Amino_Acids_Dic={'CUU': 'Leu', 'UAG': '---', 'ACA': 'Thr', 'AAA': 'Lys', 'AUC': 'Ile',\n",
        " 'AAC': 'Asn','AUA': 'Ile', 'AGG': 'Arg', 'CCU': 'Pro', 'ACU': 'Thr',\n",
        " 'AGC': 'Ser','AAG': 'Lys', 'AGA': 'Arg', 'CAU': 'His', 'AAU': 'Asn',\n",
        " 'AUU': 'Ile','CUG': 'Leu', 'CUA': 'Leu', 'CUC': 'Leu', 'CAC': 'His',\n",
        " 'UGG': 'Trp','CAA': 'Gln', 'AGU': 'Ser', 'CCA': 'Pro', 'CCG': 'Pro',\n",
        " 'CCC': 'Pro', 'UAU': 'Tyr', 'GGU': 'Gly', 'UGU': 'Cys', 'CGA': 'Arg',\n",
        " 'CAG': 'Gln', 'UCU': 'Ser', 'GAU': 'Asp', 'CGG': 'Arg', 'UUU': 'Phe',\n",
        " 'UGC': 'Cys', 'GGG': 'Gly', 'UGA':'---', 'GGA': 'Gly', 'UAA': '---',\n",
        " 'ACG': 'Thr', 'UAC': 'Tyr', 'UUC': 'Phe', 'UCG': 'Ser', 'UUA': 'Leu',\n",
        " 'UUG': 'Leu', 'UCC': 'Ser', 'ACC': 'Thr', 'UCA': 'Ser', 'GCA': 'Ala',\n",
        " 'GUA': 'Val', 'GCC': 'Ala', 'GUC': 'Val', 'GGC':'Gly', 'GCG': 'Ala',\n",
        " 'GUG': 'Val', 'GAG': 'Glu', 'GUU': 'Val', 'GCU': 'Ala', 'GAC': 'Asp',\n",
        " 'CGU': 'Arg', 'GAA': 'Glu', 'AUG': 'Met', 'CGC': 'Arg'}\n",
        "    stop_codon=['UAG', 'UGA', 'UAA']\n",
        "    # Breaking down the mRNA into Amino Acids\n",
        "    Amino_Acids_List=[mRNA[i:i+3] for i in range(0,len(mRNA),3)]\n",
        "    #Updating the correct names of the amino acids\n",
        "    Amino_Acids_List_updated=[Amino_Acids_Dic[amin] for amin in Amino_Acids_List]\n",
        "    \n",
        "    #Removing the stop codons\n",
        "    # Amino_Acids_Without_SC=[amin for amin in Amino_Acids_List_updated if amin=='---' break]\n",
        "    Amino_Acids_Without_SC=[]\n",
        "    for amin in Amino_Acids_List_updated:\n",
        "        if amin==\"---\":\n",
        "            break\n",
        "        Amino_Acids_Without_SC.append(amin)\n",
        "    \n",
        "    return [tuple(Amino_Acids_Without_SC),len(set(Amino_Acids_Without_SC))]\n",
        "\n",
        "\n",
        "\n",
        "\n",
        "\n",
        "amino_acids('AUGUCGGCACAUUUAUGCUCCUAAUCC')\n",
        "\n",
        "    "
      ]
    },
    {
      "cell_type": "code",
      "execution_count": 6,
      "metadata": {},
      "outputs": [
        {
          "name": "stdout",
          "output_type": "stream",
          "text": [
            "['AUG', 'CGA', 'UUC', 'AUG', 'UUU']\n"
          ]
        }
      ],
      "source": [
        "# Example mRNA sequence\n",
        "mRNA = \"AUGCGAUUCAUGUUU\"\n",
        "\n",
        "# Check if the length is divisible by 3\n",
        "if len(mRNA) % 3 == 0:\n",
        "    # Use a list comprehension for better readability\n",
        "    Amino_Acids_List = [mRNA[i:i+3] for i in range(0, len(mRNA), 3)]\n",
        "    print(Amino_Acids_List)\n",
        "else:\n",
        "    print(\"mRNA length is not divisible by 3, consider handling the remaining nucleotides.\")\n"
      ]
    },
    {
      "cell_type": "markdown",
      "metadata": {
        "id": "-AcdfKfI5EQ1"
      },
      "source": [
        "## What to Google?\n",
        "* How to work with a dict\n",
        "* String slicing\n",
        "* How to count the characters in a string\n",
        "* How to use a tuple\n",
        "* How sets work\n",
        "* How to use the break key word"
      ]
    },
    {
      "cell_type": "code",
      "execution_count": null,
      "metadata": {
        "colab": {
          "base_uri": "https://localhost:8080/",
          "height": 36
        },
        "id": "-E1vED3TfoR5",
        "outputId": "732709be-7796-49d2-bea7-c93b8f864535"
      },
      "outputs": [
        {
          "data": {
            "application/vnd.google.colaboratory.intrinsic+json": {
              "type": "string"
            },
            "text/plain": [
              "'eww'"
            ]
          },
          "execution_count": 45,
          "metadata": {},
          "output_type": "execute_result"
        }
      ],
      "source": []
    },
    {
      "cell_type": "code",
      "execution_count": null,
      "metadata": {},
      "outputs": [],
      "source": [
        "# How to work with a dict\n",
        "\n",
        "dic = {'cat':'eww', 'dog':'cool'}\n",
        "dic['cat']"
      ]
    },
    {
      "cell_type": "code",
      "execution_count": null,
      "metadata": {
        "colab": {
          "base_uri": "https://localhost:8080/",
          "height": 36
        },
        "id": "IzTs18iP5HqZ",
        "outputId": "4b84ffeb-ec6a-4f5b-fdae-7aeec33cb162"
      },
      "outputs": [
        {
          "data": {
            "application/vnd.google.colaboratory.intrinsic+json": {
              "type": "string"
            },
            "text/plain": [
              "'123'"
            ]
          },
          "execution_count": 46,
          "metadata": {},
          "output_type": "execute_result"
        }
      ],
      "source": [
        "# String slicing\n",
        "\n",
        "my_string = '123456789'\n",
        "my_string[0:3]"
      ]
    },
    {
      "cell_type": "code",
      "execution_count": null,
      "metadata": {
        "colab": {
          "base_uri": "https://localhost:8080/"
        },
        "id": "ijetr_Tn5QHr",
        "outputId": "d52bd20f-560f-4055-ab74-45cd09f8f8d5"
      },
      "outputs": [
        {
          "name": "stdout",
          "output_type": "stream",
          "text": [
            "0\n",
            "123\n",
            "3\n",
            "456\n",
            "6\n",
            "789\n"
          ]
        }
      ],
      "source": [
        "for i in range(0, len(my_string), 3):\n",
        "    print(i)\n",
        "    print(my_string[i:i+3])"
      ]
    },
    {
      "cell_type": "code",
      "execution_count": null,
      "metadata": {
        "colab": {
          "base_uri": "https://localhost:8080/"
        },
        "id": "usN2CnxO5Q8s",
        "outputId": "fc6e6705-6e9c-41e6-ff7d-67062f23f58d"
      },
      "outputs": [
        {
          "data": {
            "text/plain": [
              "9"
            ]
          },
          "execution_count": 48,
          "metadata": {},
          "output_type": "execute_result"
        }
      ],
      "source": [
        "# How to count the characters in a string\n",
        "\n",
        "len(my_string)"
      ]
    },
    {
      "cell_type": "code",
      "execution_count": null,
      "metadata": {
        "colab": {
          "base_uri": "https://localhost:8080/"
        },
        "id": "Z_zo5MxK5VK5",
        "outputId": "f5aa0293-902c-4fd1-e730-edc91bde3ecb"
      },
      "outputs": [
        {
          "data": {
            "text/plain": [
              "(1, 2, 3, 4, 2)"
            ]
          },
          "execution_count": 49,
          "metadata": {},
          "output_type": "execute_result"
        }
      ],
      "source": [
        "# How to use a tuple\n",
        "\n",
        "tup = (1,2,3,4,2)\n",
        "tup"
      ]
    },
    {
      "cell_type": "code",
      "execution_count": null,
      "metadata": {
        "colab": {
          "base_uri": "https://localhost:8080/"
        },
        "id": "fAZz8fRW5ZJP",
        "outputId": "84d2a233-443f-4b77-dc9c-dbc4bdc6172f"
      },
      "outputs": [
        {
          "data": {
            "text/plain": [
              "2"
            ]
          },
          "execution_count": 50,
          "metadata": {},
          "output_type": "execute_result"
        }
      ],
      "source": [
        "tup[1]"
      ]
    },
    {
      "cell_type": "code",
      "execution_count": null,
      "metadata": {
        "colab": {
          "base_uri": "https://localhost:8080/"
        },
        "id": "ISlu95C85Zp-",
        "outputId": "3e5119b5-b16c-4b99-e5e0-0a7ad1b641a4"
      },
      "outputs": [
        {
          "name": "stdout",
          "output_type": "stream",
          "text": [
            "Working\n",
            "0\n",
            "Working\n",
            "1\n",
            "Working\n",
            "2\n",
            "Guess it broke\n"
          ]
        }
      ],
      "source": [
        "for i in range(9):\n",
        "    if i < 3 or i >3:\n",
        "        print('Working')\n",
        "        print(i)\n",
        "\n",
        "    else:\n",
        "        print('Guess it broke')\n",
        "        break\n"
      ]
    },
    {
      "cell_type": "code",
      "execution_count": null,
      "metadata": {
        "id": "R3noiHnF5eNO"
      },
      "outputs": [],
      "source": [
        "### START FUNCTION\n",
        "def amino_acids(mrna):\n",
        "\n",
        "    amino_acid_dict = {\n",
        "        'CUU': 'Leu', 'UAG': '---', 'ACA': 'Thr', 'AAA': 'Lys', 'AUC': 'Ile',\n",
        "        'AAC': 'Asn','AUA': 'Ile', 'AGG': 'Arg', 'CCU': 'Pro', 'ACU': 'Thr',\n",
        "        'AGC': 'Ser','AAG': 'Lys', 'AGA': 'Arg', 'CAU': 'His', 'AAU': 'Asn',\n",
        "        'AUU': 'Ile','CUG': 'Leu', 'CUA': 'Leu', 'CUC': 'Leu', 'CAC': 'His',\n",
        "        'UGG': 'Trp','CAA': 'Gln', 'AGU': 'Ser', 'CCA': 'Pro', 'CCG': 'Pro',\n",
        "        'CCC': 'Pro', 'UAU': 'Tyr', 'GGU': 'Gly', 'UGU': 'Cys', 'CGA': 'Arg',\n",
        "        'CAG': 'Gln', 'UCU': 'Ser', 'GAU': 'Asp', 'CGG': 'Arg', 'UUU': 'Phe',\n",
        "        'UGC': 'Cys', 'GGG': 'Gly', 'UGA':'---', 'GGA': 'Gly', 'UAA': '---',\n",
        "        'ACG': 'Thr', 'UAC': 'Tyr', 'UUC': 'Phe', 'UCG': 'Ser', 'UUA': 'Leu',\n",
        "        'UUG': 'Leu', 'UCC': 'Ser', 'ACC': 'Thr', 'UCA': 'Ser', 'GCA': 'Ala',\n",
        "        'GUA': 'Val', 'GCC': 'Ala', 'GUC': 'Val', 'GGC':'Gly', 'GCG': 'Ala',\n",
        "        'GUG': 'Val', 'GAG': 'Glu', 'GUU': 'Val', 'GCU': 'Ala', 'GAC': 'Asp',\n",
        "        'CGU': 'Arg', 'GAA': 'Glu', 'AUG': 'Met', 'CGC': 'Arg'\n",
        "    }\n",
        "\n",
        "\n",
        "    aminos = []\n",
        "    for i in range(0, len(mrna), 3):\n",
        "        seq = mrna[i:i+3]\n",
        "        if seq in ['UAG', 'UGA', 'UAA']:\n",
        "            break\n",
        "        aminos.append(amino_acid_dict[seq])\n",
        "\n",
        "    protein = tuple(aminos)\n",
        "\n",
        "    # to find distinct number of amino acids\n",
        "    n_unique = len(set(protein))\n",
        "\n",
        "    return [protein, n_unique]\n",
        "### END FUNCTION"
      ]
    },
    {
      "cell_type": "code",
      "execution_count": null,
      "metadata": {
        "id": "z2dTWZGi5pkx"
      },
      "outputs": [],
      "source": [
        "### START FUNCTION\n",
        "def amino_acids(mrna):\n",
        "    aminos = {'CUU': 'Leu', 'UAG': '---', 'ACA': 'Thr', 'AAA': 'Lys', 'AUC': 'Ile',\n",
        " 'AAC': 'Asn','AUA': 'Ile', 'AGG': 'Arg', 'CCU': 'Pro', 'ACU': 'Thr',\n",
        " 'AGC': 'Ser','AAG': 'Lys', 'AGA': 'Arg', 'CAU': 'His', 'AAU': 'Asn',\n",
        " 'AUU': 'Ile','CUG': 'Leu', 'CUA': 'Leu', 'CUC': 'Leu', 'CAC': 'His',\n",
        " 'UGG': 'Trp','CAA': 'Gln', 'AGU': 'Ser', 'CCA': 'Pro', 'CCG': 'Pro',\n",
        " 'CCC': 'Pro', 'UAU': 'Tyr', 'GGU': 'Gly', 'UGU': 'Cys', 'CGA': 'Arg',\n",
        " 'CAG': 'Gln', 'UCU': 'Ser', 'GAU': 'Asp', 'CGG': 'Arg', 'UUU': 'Phe',\n",
        " 'UGC': 'Cys', 'GGG': 'Gly', 'UGA':'---', 'GGA': 'Gly', 'UAA': '---',\n",
        " 'ACG': 'Thr', 'UAC': 'Tyr', 'UUC': 'Phe', 'UCG': 'Ser', 'UUA': 'Leu',\n",
        " 'UUG': 'Leu', 'UCC': 'Ser', 'ACC': 'Thr', 'UCA': 'Ser', 'GCA': 'Ala',\n",
        " 'GUA': 'Val', 'GCC': 'Ala', 'GUC': 'Val', 'GGC':'Gly', 'GCG': 'Ala',\n",
        " 'GUG': 'Val', 'GAG': 'Glu', 'GUU': 'Val', 'GCU': 'Ala', 'GAC': 'Asp',\n",
        " 'CGU': 'Arg', 'GAA': 'Glu', 'AUG': 'Met', 'CGC': 'Arg'}\n",
        "    translated = []\n",
        "    for i in range(0, len(mrna), 3):\n",
        "        codon = mrna[i:i + 3]\n",
        "        translated.append(aminos[codon])\n",
        "        if aminos[codon] == \"---\":\n",
        "            break\n",
        "    return [tuple(translated[0:-1]), len(set(translated[0:-1]))]"
      ]
    },
    {
      "cell_type": "code",
      "execution_count": 15,
      "metadata": {
        "id": "T3x9xgQ-6FQq"
      },
      "outputs": [],
      "source": [
        " dict_DNA  = {'CUU': 'Leu', 'UAG': '---', 'ACA': 'Thr', 'AAA': 'Lys', 'AUC': 'Ile',\n",
        " 'AAC': 'Asn','AUA': 'Ile', 'AGG': 'Arg', 'CCU': 'Pro', 'ACU': 'Thr',\n",
        " 'AGC': 'Ser','AAG': 'Lys', 'AGA': 'Arg', 'CAU': 'His', 'AAU': 'Asn',\n",
        " 'AUU': 'Ile','CUG': 'Leu', 'CUA': 'Leu', 'CUC': 'Leu', 'CAC': 'His',\n",
        " 'UGG': 'Trp','CAA': 'Gln', 'AGU': 'Ser', 'CCA': 'Pro', 'CCG': 'Pro',\n",
        " 'CCC': 'Pro', 'UAU': 'Tyr', 'GGU': 'Gly', 'UGU': 'Cys', 'CGA': 'Arg',\n",
        " 'CAG': 'Gln', 'UCU': 'Ser', 'GAU': 'Asp', 'CGG': 'Arg', 'UUU': 'Phe',\n",
        " 'UGC': 'Cys', 'GGG': 'Gly', 'UGA':'---', 'GGA': 'Gly', 'UAA': '---',\n",
        " 'ACG': 'Thr', 'UAC': 'Tyr', 'UUC': 'Phe', 'UCG': 'Ser', 'UUA': 'Leu',\n",
        " 'UUG': 'Leu', 'UCC': 'Ser', 'ACC': 'Thr', 'UCA': 'Ser', 'GCA': 'Ala',\n",
        " 'GUA': 'Val', 'GCC': 'Ala', 'GUC': 'Val', 'GGC':'Gly', 'GCG': 'Ala',\n",
        " 'GUG': 'Val', 'GAG': 'Glu', 'GUU': 'Val', 'GCU': 'Ala', 'GAC': 'Asp',\n",
        " 'CGU': 'Arg', 'GAA': 'Glu', 'AUG': 'Met', 'CGC': 'Arg'}"
      ]
    },
    {
      "cell_type": "code",
      "execution_count": 21,
      "metadata": {
        "id": "QjM76-hY5r_a"
      },
      "outputs": [],
      "source": [
        "def amino_acids(mrna):\n",
        "\n",
        "  data = [mrna[i:i+3] for i in range(0, len(mrna), 3)]\n",
        "  print(data)\n",
        "  amino = [dict_DNA[x] for x in data]\n",
        "  print(amino)\n",
        "  amino_n = tuple(amino[:amino.index('---')])\n",
        "\n",
        "  return [amino_n,len(set(amino_n))]"
      ]
    },
    {
      "cell_type": "code",
      "execution_count": 22,
      "metadata": {
        "colab": {
          "base_uri": "https://localhost:8080/"
        },
        "id": "jv4y3W9X5u8V",
        "outputId": "99565f78-777c-4b3a-b307-e28e2230927c"
      },
      "outputs": [
        {
          "name": "stdout",
          "output_type": "stream",
          "text": [
            "['AUG', 'UCG', 'GCA', 'CAU', 'UUA', 'UGC', 'UCC', 'UAA', 'UCC']\n",
            "['Met', 'Ser', 'Ala', 'His', 'Leu', 'Cys', 'Ser', '---', 'Ser']\n"
          ]
        },
        {
          "data": {
            "text/plain": [
              "[('Met', 'Ser', 'Ala', 'His', 'Leu', 'Cys', 'Ser'), 6]"
            ]
          },
          "execution_count": 22,
          "metadata": {},
          "output_type": "execute_result"
        }
      ],
      "source": [
        "amino_acids('AUGUCGGCACAUUUAUGCUCCUAAUCC')"
      ]
    },
    {
      "cell_type": "markdown",
      "metadata": {
        "id": "SSOxrr3nEfcZ"
      },
      "source": [
        "## Challenge\n",
        "\n",
        "In coding challenge 2, you were introduced to RNA synthesis. DNA differs from RNA because RNA is one strand compared to DNA which is double stranded. It also differs in that instead of the U nucleotide, it contains a T. Below is an example of the different structures taken from https://byjus.com/biology/difference-between-dna-and-rna/:\n",
        "\n",
        "The same lab was extremely impressed with the first code and now wants a new one. They want to find the complementary strands of DNA. Here is the low-down:\n",
        "\n",
        "A links with T and vice versa\n",
        "C links with G and vice versa\n",
        "An example of the complementary strand for the code ATCGGAATGCC is TAGCCTTACGG\n",
        "\n",
        "You are tasked to create a function dna_complementary which finds the complementary strand for a given DNA strand based on the above criteria. The function must return a string of the code\n",
        "\n",
        "This kind of code can be really helpful as a product. Imagine trying to get DNA strands for thousands of sequences which are thousands of nucleotides long. This is the power of python and coding!\n",
        "\n",
        "Hint: We didn't teach you dictionaries for nothing"
      ]
    },
    {
      "cell_type": "code",
      "execution_count": null,
      "metadata": {
        "colab": {
          "base_uri": "https://localhost:8080/",
          "height": 545
        },
        "id": "z9yGKLvc5wzA",
        "outputId": "352a701b-a710-498a-c851-9589329e0abf"
      },
      "outputs": [
        {
          "data": {
            "text/html": [
              "<img src=\"https://github.com/Explore-AI/Pictures/blob/master/Difference-Between-DNA-and-RNA.png?raw=true\"/>"
            ],
            "text/plain": [
              "<IPython.core.display.Image object>"
            ]
          },
          "execution_count": 65,
          "metadata": {},
          "output_type": "execute_result"
        }
      ],
      "source": [
        "from IPython.display import Image\n",
        "from IPython.core.display import HTML\n",
        "Image(url = 'https://github.com/Explore-AI/Pictures/blob/master/Difference-Between-DNA-and-RNA.png?raw=true')"
      ]
    },
    {
      "cell_type": "markdown",
      "metadata": {
        "id": "788Pi1GoElsZ"
      },
      "source": [
        "### What to google?\n",
        "* How to use dictionaries\n",
        "* How to switch letters if the match\n",
        "* How to join strings"
      ]
    },
    {
      "cell_type": "code",
      "execution_count": null,
      "metadata": {
        "id": "UbIm5RJnEh_K"
      },
      "outputs": [],
      "source": [
        "# How to use dictionaries\n",
        "\n",
        "nucleotide_dict = {'A':'T', 'T':'A', 'C':'G', 'G':'C'}"
      ]
    },
    {
      "cell_type": "code",
      "execution_count": null,
      "metadata": {
        "colab": {
          "base_uri": "https://localhost:8080/",
          "height": 36
        },
        "id": "gQWROo0qEkSK",
        "outputId": "40a30dd9-bdc2-4641-de5a-3dde337b1894"
      },
      "outputs": [
        {
          "data": {
            "application/vnd.google.colaboratory.intrinsic+json": {
              "type": "string"
            },
            "text/plain": [
              "'T'"
            ]
          },
          "execution_count": 68,
          "metadata": {},
          "output_type": "execute_result"
        }
      ],
      "source": [
        "nucleotide_dict['A']"
      ]
    },
    {
      "cell_type": "code",
      "execution_count": null,
      "metadata": {
        "colab": {
          "base_uri": "https://localhost:8080/",
          "height": 36
        },
        "id": "odpEuVaPErec",
        "outputId": "db1fe45b-0187-4280-86e6-8b747a14c701"
      },
      "outputs": [
        {
          "data": {
            "application/vnd.google.colaboratory.intrinsic+json": {
              "type": "string"
            },
            "text/plain": [
              "'TA'"
            ]
          },
          "execution_count": 70,
          "metadata": {},
          "output_type": "execute_result"
        }
      ],
      "source": [
        "\n",
        "# How to join strings\n",
        "\n",
        "nucleotide_dict['A'] + nucleotide_dict['T']"
      ]
    },
    {
      "cell_type": "code",
      "execution_count": null,
      "metadata": {
        "colab": {
          "base_uri": "https://localhost:8080/"
        },
        "id": "J2tSIPdPEuGN",
        "outputId": "7cce1206-4723-4f34-c932-e0bedfef8126"
      },
      "outputs": [
        {
          "data": {
            "text/plain": [
              "['T', 'A']"
            ]
          },
          "execution_count": 71,
          "metadata": {},
          "output_type": "execute_result"
        }
      ],
      "source": [
        "ans = []\n",
        "final_ans = ''\n",
        "ans.append(nucleotide_dict['A'])\n",
        "ans.append(nucleotide_dict['T'])\n",
        "ans"
      ]
    },
    {
      "cell_type": "code",
      "execution_count": null,
      "metadata": {
        "colab": {
          "base_uri": "https://localhost:8080/",
          "height": 36
        },
        "id": "ZL-8GkEuEyye",
        "outputId": "87b5ef48-aa6b-4417-c979-d0e19df46048"
      },
      "outputs": [
        {
          "data": {
            "application/vnd.google.colaboratory.intrinsic+json": {
              "type": "string"
            },
            "text/plain": [
              "'TA'"
            ]
          },
          "execution_count": 72,
          "metadata": {},
          "output_type": "execute_result"
        }
      ],
      "source": [
        "final_ans.join(ans)"
      ]
    },
    {
      "cell_type": "code",
      "execution_count": null,
      "metadata": {
        "id": "0fkc2RxcE0z7"
      },
      "outputs": [],
      "source": [
        "### START FUNCTION\n",
        "def dna_complementary(dna):\n",
        "    nucleotide_dict = {'A':'T', 'T':'A', 'C':'G', 'G':'C'}\n",
        "\n",
        "    strand = ''\n",
        "    for i in dna:\n",
        "        strand = strand + nucleotide_dict[i]\n",
        "\n",
        "    return strand\n",
        "### END FUNCTION"
      ]
    },
    {
      "cell_type": "code",
      "execution_count": null,
      "metadata": {
        "id": "puGMJTtHE3n7"
      },
      "outputs": [],
      "source": [
        "def dna_complementary(dna):\n",
        "    #define you dict this allows us to use it for string swapping\n",
        "    dict_DNA = {'A':'T','T':'A','C':'G','G':'C'}\n",
        "\n",
        "    #Taking the index of the dict and switching it with the new value\n",
        "    ans = [dict_DNA[x] for x in dna]\n",
        "    ans = ''.join(ans)\n",
        "    return ans"
      ]
    },
    {
      "cell_type": "code",
      "execution_count": null,
      "metadata": {
        "colab": {
          "base_uri": "https://localhost:8080/",
          "height": 36
        },
        "id": "5CaIZjRbE5HL",
        "outputId": "15bf9810-9fdf-41fe-8a7d-78b92acc6c90"
      },
      "outputs": [
        {
          "data": {
            "application/vnd.google.colaboratory.intrinsic+json": {
              "type": "string"
            },
            "text/plain": [
              "'TAGAATATTAATGGCTCAGCTAGCC'"
            ]
          },
          "execution_count": 75,
          "metadata": {},
          "output_type": "execute_result"
        }
      ],
      "source": [
        "dna_complementary('ATCTTATAATTACCGAGTCGATCGG')"
      ]
    },
    {
      "cell_type": "markdown",
      "metadata": {
        "id": "nXbKWV54E-SY"
      },
      "source": [
        "_**Expected Outputs**_\n",
        "```python\n",
        "dna_complementary('ATCGGAATGCC') == 'TAGCCTTACGG'\n",
        "dna_complementary('TCCCGGATCGCATACGAT') == 'AGGGCCTAGCGTATGCTA'\n",
        "dna_complementary('ATCTTATAATTACCGAGTCGATCGG') == 'TAGAATATTAATGGCTCAGCTAGCC'\n",
        "dna_complementary('ATCGGACTACGA') == 'TAGCCTGATGCT'\n",
        "```"
      ]
    },
    {
      "cell_type": "markdown",
      "metadata": {
        "id": "zMpc9dHoS8rv"
      },
      "source": [
        "### Learning Outcomes\n",
        "* Recap on function\n",
        "* Introduction to OOP\n",
        "* Coding Examples"
      ]
    },
    {
      "cell_type": "code",
      "execution_count": null,
      "metadata": {
        "id": "LtGYo5fRS60I"
      },
      "outputs": [],
      "source": []
    }
  ],
  "metadata": {
    "colab": {
      "provenance": []
    },
    "kernelspec": {
      "display_name": "Python 3",
      "name": "python3"
    },
    "language_info": {
      "codemirror_mode": {
        "name": "ipython",
        "version": 3
      },
      "file_extension": ".py",
      "mimetype": "text/x-python",
      "name": "python",
      "nbconvert_exporter": "python",
      "pygments_lexer": "ipython3",
      "version": "3.10.13"
    }
  },
  "nbformat": 4,
  "nbformat_minor": 0
}
