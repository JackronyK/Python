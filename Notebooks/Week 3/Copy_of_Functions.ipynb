{
  "cells": [
    {
      "cell_type": "markdown",
      "metadata": {
        "id": "cQAvQ4UINAkL"
      },
      "source": [
        "# PYTHON FUNCTIONS\n",
        "## Recap\n",
        "\n",
        "### Conditional execution, Logic and  Loops.  \n",
        "\n",
        "*  Conditional execution allows users to execute a block of code if certain conditions are met or not.\n",
        "*  Logic is the way a python program performs actions based on the conditions and rules, it is 'reasoning'.\n",
        "*  Loops are a block of code that is repeated until a specific condition is met.\n",
        "\n",
        "Why do we need to understand all these concepts?\n",
        "\n",
        "![truenature.png](attachment:truenature.png)\n",
        "\n",
        "### Functions\n",
        "\n",
        "*   A python function is a reusable set of instructions.  \n",
        "*   It is defined be the keyword 'def' and we pass inputs to a function and receive an output.\n",
        "*   When we define the function we give it parameters as placeholders and when we use the function we pass arguments in place of these parameters for the function to perform its intended use.\n",
        "\n"
      ]
    },
    {
      "cell_type": "markdown",
      "metadata": {
        "id": "c7BjjaAbeCUq"
      },
      "source": [
        "## Types of functions\n",
        "\n",
        "Functions can be classified into either built-in or user-defined functions.\n",
        "\n",
        "### Built-in functions\n",
        "\n",
        "These are functions that are already defined and are standard across all distributions of python in the same version.\n",
        "\n",
        "The functions are developed by the team at python or they can be integrated from the community.\n",
        "\n",
        "They have a set of rules that must be obeyed for the functions to run, the rules can be found in the documentation.\n",
        "\n",
        "Benefits of built-in functions\n",
        "*  Efficiency - The code is optimised by the team and utilises the hardware to maximise efficiency and performance\n",
        "*  Reduce complexity - The functions reduce the load on developers by enabling them perform complex repetitive tasks in a simple line of code instead of having to rewrite the logic for each use case.\n",
        "*  Standardisation - The built-in functions provide a consistent way to perform tasks across different projects and use cases.\n",
        "\n",
        "### User-defined functions\n",
        "\n",
        "These are functions that we create to perform specialised tasks based on our unique requirements.\n",
        "\n",
        "Each individual defines and utilises their code to fit their specific purpose.\n",
        "\n",
        "We define how the code will work and what inputs and outputs it will generate.\n",
        "\n",
        "Benefits of user-defined functions:\n",
        "\n",
        "*  Flexibility - The functions allow developers to tailor their code to solve very specific tasks. These functions can be very powerfull and efficient for these specific tasks and not have a global application.\n",
        "*  Collaboration and reusability - Well-documented, user-defined functions can be shared within a team and create a library of tools that reduce repetition and promote consistent coding practises within the team.\n",
        "\n",
        "*  Building complex systems - User-defined functions act as building blocks to develop very powerful and complex softwares step by step."
      ]
    },
    {
      "cell_type": "markdown",
      "metadata": {
        "id": "JlMm36OEeCUr"
      },
      "source": [
        "### Example of built in functions"
      ]
    },
    {
      "cell_type": "code",
      "execution_count": 1,
      "metadata": {
        "id": "68b2smo3eCUs",
        "outputId": "468d60e5-4009-45ac-e8fc-f5f12b5a8ebb"
      },
      "outputs": [
        {
          "data": {
            "text/plain": [
              "4"
            ]
          },
          "execution_count": 1,
          "metadata": {},
          "output_type": "execute_result"
        }
      ],
      "source": [
        "pow(2,2)"
      ]
    },
    {
      "cell_type": "markdown",
      "metadata": {
        "id": "5Gij4F8XeCUx"
      },
      "source": [
        "### Example of user-defined functions"
      ]
    },
    {
      "cell_type": "code",
      "execution_count": 2,
      "metadata": {
        "id": "NoAwmlgWeCUy",
        "outputId": "7f2e52b1-0629-48d6-d838-f61a47a45290"
      },
      "outputs": [
        {
          "data": {
            "text/plain": [
              "4"
            ]
          },
          "execution_count": 2,
          "metadata": {},
          "output_type": "execute_result"
        }
      ],
      "source": [
        "def raise_to_power(number, power):\n",
        "    return number**power\n",
        "\n",
        "raise_to_power(2,2)"
      ]
    },
    {
      "cell_type": "markdown",
      "metadata": {
        "id": "Ametlr9beCUy"
      },
      "source": [
        "### Documentation\n",
        "\n",
        "This is the collection of resources that provide information about the Python language, its features, usage, and available libraries.\n",
        "\n",
        "https://docs.python.org/3/\n",
        "\n",
        "![documentation_homepage.png](attachment:documentation_homepage.png)\n",
        "\n",
        "This is the link and screenshot of the official Python documentation, third party libraries also have their official documentations.\n",
        "\n",
        "An example of this would be: https://numpy.org/doc/stable/\n",
        "\n",
        "Documentations have multiple resources:\n",
        "*  Tutorials\n",
        "*  Library reference of modules, data types, built-in functions"
      ]
    },
    {
      "cell_type": "markdown",
      "metadata": {
        "id": "MyygNdlheCUz"
      },
      "source": [
        "Let us look at the documentation for the example we used above\n",
        "\n",
        "https://docs.python.org/3/library/functions.html?highlight=pow#pow"
      ]
    },
    {
      "cell_type": "markdown",
      "metadata": {
        "id": "LUvgOSyxeCU0"
      },
      "source": [
        "The function has 3 parameters; base, exp, mod.  \n",
        "The function takes the base and raises it to the power of the exp.  \n",
        "$base^{ exp}$  \n",
        "Modulo has an assigned value of **None** within the documentation.  \n",
        "Keep an eye on this.\n"
      ]
    },
    {
      "cell_type": "markdown",
      "metadata": {
        "id": "bDBtiN5keCU1"
      },
      "source": [
        "### Default arguments, *args, **kwargs"
      ]
    },
    {
      "cell_type": "markdown",
      "metadata": {
        "id": "4HBg7kWpeCU3"
      },
      "source": [
        "#### Default arguments\n",
        "Default arguments are assigned values that can be attached to a parameter to act as the input value in the event a value is not provided.  \n",
        "This can be especially useful when the parameter should not be left blank or when you want to add optional parameters to your function."
      ]
    },
    {
      "cell_type": "code",
      "execution_count": 3,
      "metadata": {
        "id": "alokOdGGeCU3",
        "outputId": "eb784a99-1d77-4d93-d663-22cfa736bf22"
      },
      "outputs": [
        {
          "data": {
            "text/plain": [
              "3"
            ]
          },
          "execution_count": 3,
          "metadata": {},
          "output_type": "execute_result"
        }
      ],
      "source": [
        "def quick_maths(val_1, val_2, val_3):\n",
        "    return val_1 + val_2 - val_3\n",
        "\n",
        "\n",
        "quick_maths(2,2,1)"
      ]
    },
    {
      "cell_type": "code",
      "execution_count": null,
      "metadata": {
        "id": "5cdUS7VFeCU4",
        "outputId": "e1f98026-53e0-4714-b762-e94bde3419ef"
      },
      "outputs": [
        {
          "ename": "TypeError",
          "evalue": "quick_maths() missing 3 required positional arguments: 'val_1', 'val_2', and 'val_3'",
          "output_type": "error",
          "traceback": [
            "\u001b[1;31m---------------------------------------------------------------------------\u001b[0m",
            "\u001b[1;31mTypeError\u001b[0m                                 Traceback (most recent call last)",
            "Cell \u001b[1;32mIn[4], line 1\u001b[0m\n\u001b[1;32m----> 1\u001b[0m quick_maths()\n",
            "\u001b[1;31mTypeError\u001b[0m: quick_maths() missing 3 required positional arguments: 'val_1', 'val_2', and 'val_3'"
          ]
        }
      ],
      "source": [
        "quick_maths()"
      ]
    },
    {
      "cell_type": "code",
      "execution_count": 4,
      "metadata": {
        "id": "RdYqJA4weCU4",
        "outputId": "a9f88ef4-75cd-4803-e9bb-113d29d871ac"
      },
      "outputs": [
        {
          "data": {
            "text/plain": [
              "3"
            ]
          },
          "execution_count": 4,
          "metadata": {},
          "output_type": "execute_result"
        }
      ],
      "source": [
        "def quick_maths(val_1 = 2, val_2 = 2, val_3 = 1):\n",
        "    return val_1 + val_2 - val_3\n",
        "\n",
        "quick_maths()"
      ]
    },
    {
      "cell_type": "markdown",
      "metadata": {
        "id": "XsahoN9oeCU5"
      },
      "source": [
        "#### *args\n",
        "\n",
        "This element enables a user to handle a variable number of arguments in functions.  \n",
        "This is especially useful if the programmer does not know how many inputs will passed to the defined function.  \n",
        "It collects an undefined number of positional arguements into a tuple.  \n",
        "\\* is similar to the wildcard in SQL  \n",
        "SELECT *, FROM....;\n"
      ]
    },
    {
      "cell_type": "code",
      "execution_count": null,
      "metadata": {
        "id": "WLkGDGfYeCU5",
        "outputId": "badfacf1-1dfa-44da-eb34-8dceb14b330a"
      },
      "outputs": [
        {
          "data": {
            "text/plain": [
              "120"
            ]
          },
          "execution_count": 6,
          "metadata": {},
          "output_type": "execute_result"
        }
      ],
      "source": [
        "max(1,9,56,58,45,120,4)"
      ]
    },
    {
      "cell_type": "code",
      "execution_count": 5,
      "metadata": {
        "id": "3KRgh9wfeCU5",
        "outputId": "b4720679-0258-4f6c-ab5f-224d28852bd7"
      },
      "outputs": [
        {
          "data": {
            "text/plain": [
              "3"
            ]
          },
          "execution_count": 5,
          "metadata": {},
          "output_type": "execute_result"
        }
      ],
      "source": [
        "max(2,3)"
      ]
    },
    {
      "cell_type": "markdown",
      "metadata": {
        "id": "ZHE9R1QteCU5"
      },
      "source": [
        "#### **kwargs\n",
        "\n",
        "This elements enables a user to handle variable number of keyword arguments in functions.  \n",
        "It collects an undefined number of keyword arguments into a dictionary\n",
        "\n",
        "Tip to remember ; kw can represent *keyword*\n"
      ]
    },
    {
      "cell_type": "code",
      "execution_count": 6,
      "metadata": {
        "id": "VwHeLT0MeCU6",
        "outputId": "98458ca9-0d8e-43da-d41b-9fff240bce04"
      },
      "outputs": [
        {
          "name": "stdout",
          "output_type": "stream",
          "text": [
            "Event : DS webinar 2\n",
            "Time : 14:30 SAST\n",
            "Platform : Zoom\n"
          ]
        }
      ],
      "source": [
        "def my_print_function(**kwargs):\n",
        "    for key, value in kwargs.items():\n",
        "        print(key, value)\n",
        "\n",
        "my_print_function(Event = ': DS webinar 2', Time = ': 14:30 SAST', Platform = ': Zoom')"
      ]
    },
    {
      "cell_type": "markdown",
      "metadata": {
        "id": "8ZL07qb2eCU6"
      },
      "source": [
        "### Tips\n",
        "\n",
        "* Patience is key!\n",
        "\n",
        "* Do it to learn.  \n",
        "\n",
        "* Collaborate\n",
        "\n",
        "### Resources\n",
        "\n",
        "* Documentation\n",
        "\n",
        "* Web search; W3, GeeksforGeeks\n",
        "\n",
        "* Practice; Leetcode, HackerRank."
      ]
    },
    {
      "cell_type": "markdown",
      "metadata": {
        "id": "8mJwyoTFeCU6"
      },
      "source": [
        "## Thank You!"
      ]
    }
  ],
  "metadata": {
    "colab": {
      "provenance": []
    },
    "kernelspec": {
      "display_name": "Python 3 (ipykernel)",
      "language": "python",
      "name": "python3"
    },
    "language_info": {
      "codemirror_mode": {
        "name": "ipython",
        "version": 3
      },
      "file_extension": ".py",
      "mimetype": "text/x-python",
      "name": "python",
      "nbconvert_exporter": "python",
      "pygments_lexer": "ipython3",
      "version": "3.10.13"
    }
  },
  "nbformat": 4,
  "nbformat_minor": 0
}
