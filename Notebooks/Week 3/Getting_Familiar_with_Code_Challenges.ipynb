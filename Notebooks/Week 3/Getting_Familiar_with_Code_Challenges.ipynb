{
  "cells": [
    {
      "cell_type": "markdown",
      "id": "5587b43c",
      "metadata": {
        "id": "5587b43c"
      },
      "source": [
        "# Getting Started with Coding Challenges"
      ]
    },
    {
      "cell_type": "markdown",
      "id": "9bffddc7",
      "metadata": {
        "id": "9bffddc7"
      },
      "source": [
        "**Tips for Solving Code Challenges**\n",
        "    \n",
        "    - Read and understand the problem statement carefully.\n",
        "    \n",
        "    - Break down the problem into smaller subproblems if needed.\n",
        "    \n",
        "    - Plan and design your solution before writing the code.\n",
        "    \n",
        "    - Test your code with different inputs to ensure it works correctly.\n",
        "    \n",
        "    - Refactor and optimize your code if possible"
      ]
    },
    {
      "cell_type": "markdown",
      "id": "6c93d790",
      "metadata": {
        "id": "6c93d790"
      },
      "source": [
        "***Let's Begin!***"
      ]
    },
    {
      "cell_type": "markdown",
      "id": "a4d2547c",
      "metadata": {
        "id": "a4d2547c"
      },
      "source": [
        "## Problem 1:  Sum of First N Natural Numbers"
      ]
    },
    {
      "cell_type": "markdown",
      "id": "d24385fe",
      "metadata": {
        "id": "d24385fe"
      },
      "source": [
        "> __Task:__\n",
        "\n",
        "> Calculate and print the sum of all numbers from 1 to N."
      ]
    },
    {
      "cell_type": "markdown",
      "id": "46ca3786",
      "metadata": {
        "id": "46ca3786"
      },
      "source": [
        "**Breaking down the problem:**\n",
        "\n",
        "    - To find the sum, we need to add every number from 1 to the end number provided.\n",
        "    - This can be done using a loop."
      ]
    },
    {
      "cell_type": "markdown",
      "id": "baa6fd74",
      "metadata": {
        "id": "baa6fd74"
      },
      "source": [
        "**Planning the solution:**\n",
        "\n",
        "    - We will use a for loop to iterate from 1 to the end number provided.\n",
        "    - During each iteration, we will add the current number to a cumulative sum"
      ]
    },
    {
      "cell_type": "markdown",
      "id": "d6bc8b93",
      "metadata": {
        "id": "d6bc8b93"
      },
      "source": [
        "**Solution:**"
      ]
    },
    {
      "cell_type": "code",
      "execution_count": 1,
      "id": "f5d41428",
      "metadata": {
        "id": "f5d41428",
        "outputId": "aa0c859b-bf73-4788-a189-6888433e77ac"
      },
      "outputs": [
        {
          "name": "stdout",
          "output_type": "stream",
          "text": [
            "1\n",
            "3\n",
            "5\n",
            "7\n",
            "9\n"
          ]
        }
      ],
      "source": [
        "for index in range(1,11,2):\n",
        "    print(index)"
      ]
    },
    {
      "cell_type": "code",
      "execution_count": null,
      "id": "060b4d41",
      "metadata": {
        "id": "060b4d41",
        "outputId": "b4807fde-a0c5-49c4-a9c0-59dd57fbe5eb"
      },
      "outputs": [
        {
          "name": "stdout",
          "output_type": "stream",
          "text": [
            "Enter your number: 5\n",
            "1 1\n",
            "2 3\n",
            "3 6\n",
            "4 10\n",
            "5 15\n",
            "15\n"
          ]
        }
      ],
      "source": [
        "N = int(input(\"Enter your number: \"))\n",
        "sum = 0\n",
        "for i in range(1, N + 1):\n",
        "    sum += i\n",
        "    print(i,sum)\n",
        "print(sum)"
      ]
    },
    {
      "cell_type": "markdown",
      "id": "d1c32a47",
      "metadata": {
        "id": "d1c32a47"
      },
      "source": [
        "**Optimizing solution**\n",
        "\n",
        "    - We will try to make our solution more intuitive, by providing some feedback to the user if any vlaue\n",
        "    but an integer is provided."
      ]
    },
    {
      "cell_type": "code",
      "execution_count": null,
      "id": "553ebc9c",
      "metadata": {
        "id": "553ebc9c",
        "outputId": "983c3993-86ab-4934-dcac-831ad4f23ab0"
      },
      "outputs": [
        {
          "name": "stdout",
          "output_type": "stream",
          "text": [
            "Enter your number: tree\n",
            "You did not enter a valid number. Kindly try again.\n",
            "Enter your number: 10\n",
            "Sum of the first 10 integers is: 55\n"
          ]
        }
      ],
      "source": [
        "N = input(\"Enter your number: \")\n",
        "\n",
        "# Check if the input is a valid number\n",
        "if not N.isdigit():\n",
        "    print(\"You did not enter a valid number. Kindly try again.\")\n",
        "    N = int(input(\"Enter your number: \"))\n",
        "else:\n",
        "    print(\"....Calculating....\")\n",
        "\n",
        "N = int(N)  # Convert the input to an integer\n",
        "sum_result = 0\n",
        "\n",
        "for i in range(1, N + 1):\n",
        "    sum_result += i\n",
        "\n",
        "print(\"Sum of the first\", N, \"integers is:\", sum_result)"
      ]
    },
    {
      "cell_type": "markdown",
      "id": "01e98a36",
      "metadata": {
        "id": "01e98a36"
      },
      "source": []
    },
    {
      "cell_type": "markdown",
      "id": "5fcb4f9c",
      "metadata": {
        "id": "5fcb4f9c"
      },
      "source": [
        "## Problem 2:  List of Squares"
      ]
    },
    {
      "cell_type": "markdown",
      "id": "f45cbac5",
      "metadata": {
        "id": "f45cbac5"
      },
      "source": [
        "> __Task:__\n",
        "\n",
        "> Create and print a list of the squares of numbers from 1 to 10."
      ]
    },
    {
      "cell_type": "markdown",
      "id": "7a6a800d",
      "metadata": {
        "id": "7a6a800d"
      },
      "source": [
        "**Breaking down the problem:**\n",
        "\n",
        "    - Calculate the square of each number from 1 to 10."
      ]
    },
    {
      "cell_type": "markdown",
      "id": "019afe60",
      "metadata": {
        "id": "019afe60"
      },
      "source": [
        "**Planning the solution:**\n",
        "\n",
        "    - Generate the list of squares using a for loop."
      ]
    },
    {
      "cell_type": "markdown",
      "id": "0af34538",
      "metadata": {
        "id": "0af34538"
      },
      "source": [
        "**Solution:**"
      ]
    },
    {
      "cell_type": "code",
      "execution_count": null,
      "id": "57c55cae",
      "metadata": {
        "id": "57c55cae",
        "outputId": "6007f1c1-4076-41ca-c993-4c9dfdcbdca5"
      },
      "outputs": [
        {
          "name": "stdout",
          "output_type": "stream",
          "text": [
            "List of squares from 1 to 10: [1, 9, 25, 49, 81]\n"
          ]
        }
      ],
      "source": [
        "list_of_squares = []\n",
        "\n",
        "for index in range(1,11,2):\n",
        "    square = index ** 2\n",
        "    #print(square)\n",
        "    list_of_squares.append(square)\n",
        "\n",
        "print(\"List of squares from 1 to 10:\", list_of_squares)"
      ]
    },
    {
      "cell_type": "markdown",
      "id": "8100465b",
      "metadata": {
        "id": "8100465b"
      },
      "source": [
        "**Testing and Optimization:**\n",
        "\n",
        "    - Ensure your output is correct.\n",
        "    - Try other use cases by changing the range.\n",
        "    - Use a list comprehension to reduce number of lines"
      ]
    },
    {
      "cell_type": "code",
      "execution_count": null,
      "id": "2ce2113c",
      "metadata": {
        "id": "2ce2113c"
      },
      "outputs": [],
      "source": [
        "squares_list = [i**2 for i in range(1, 11)]\n",
        "\n",
        "print(\"List of squares from 1 to 10:\", squares_list)"
      ]
    },
    {
      "cell_type": "markdown",
      "id": "6de6ccbb",
      "metadata": {
        "id": "6de6ccbb"
      },
      "source": [
        "## Problem 3:  Reverse a String\n",
        "\n",
        "> __Task:__\n",
        "\n",
        "> Reverse the string \"Hello World\" and print the result."
      ]
    },
    {
      "cell_type": "markdown",
      "id": "999c7bd4",
      "metadata": {
        "id": "999c7bd4"
      },
      "source": [
        "**Breaking down the problem:**\n",
        "\n",
        "- Skip this step as problem is straight-forward"
      ]
    },
    {
      "cell_type": "markdown",
      "id": "0992a3b9",
      "metadata": {
        "id": "0992a3b9"
      },
      "source": [
        "**Planning the solution:**\n",
        "\n",
        "    - Use slicing to reverse the provided string"
      ]
    },
    {
      "cell_type": "markdown",
      "id": "fdbdb580",
      "metadata": {
        "id": "fdbdb580"
      },
      "source": [
        "**Solution:**"
      ]
    },
    {
      "cell_type": "code",
      "execution_count": 2,
      "id": "a651ba9d",
      "metadata": {
        "id": "a651ba9d"
      },
      "outputs": [],
      "source": [
        "webinar_string = \"Getting familliar with code challenges\""
      ]
    },
    {
      "cell_type": "code",
      "execution_count": 3,
      "id": "da40530c",
      "metadata": {
        "id": "da40530c",
        "outputId": "3d7a0d00-ca70-481b-b7d8-29dd8b12c4ab"
      },
      "outputs": [
        {
          "data": {
            "text/plain": [
              "'segnellahc edoc htiw raillimaf gnitteG'"
            ]
          },
          "execution_count": 3,
          "metadata": {},
          "output_type": "execute_result"
        }
      ],
      "source": [
        "webinar_string[::-1]"
      ]
    },
    {
      "cell_type": "code",
      "execution_count": 4,
      "id": "5cd8a538",
      "metadata": {
        "id": "5cd8a538",
        "outputId": "7b5e99ca-c4eb-4191-aaa3-9a2f0dad9380"
      },
      "outputs": [
        {
          "name": "stdout",
          "output_type": "stream",
          "text": [
            "Original String: We love Data Science!\n",
            "Reversed String: !ecneicS ataD evol eW\n"
          ]
        }
      ],
      "source": [
        "original_string = \"We love Data Science!\"\n",
        "reversed_string = original_string[::-1]\n",
        "\n",
        "print(\"Original String:\", original_string)\n",
        "print(\"Reversed String:\", reversed_string)"
      ]
    },
    {
      "cell_type": "markdown",
      "id": "e987d3fe",
      "metadata": {
        "id": "e987d3fe"
      },
      "source": []
    },
    {
      "cell_type": "markdown",
      "id": "aeb84d24",
      "metadata": {
        "id": "aeb84d24"
      },
      "source": [
        "_The first colon : specifies the start index of the slice. If omitted, it defaults to the beginning of the string._\n",
        "\n",
        "_The second colon : specifies the end index of the slice. If omitted, it defaults to the end of the string._\n",
        "\n",
        "_The -1 as the step value indicates that you want to step backward through the string._"
      ]
    },
    {
      "cell_type": "markdown",
      "id": "a3248959",
      "metadata": {
        "id": "a3248959"
      },
      "source": [
        "**Testing and Optimization:**\n",
        "\n",
        "    - Ensure your output is correct.\n",
        "    - Try other use cases by changing the string.\n",
        "    - You can also ask for a string from the user to make your solution more interactive."
      ]
    },
    {
      "cell_type": "code",
      "execution_count": null,
      "id": "9dc65b20",
      "metadata": {
        "id": "9dc65b20",
        "outputId": "3db3e6e8-694b-488f-a3f7-a106f8297ce2"
      },
      "outputs": [
        {
          "name": "stdout",
          "output_type": "stream",
          "text": [
            "Kindly enter your string: We love Data Science!\n",
            "Original String: We love Data Science!\n",
            "Reversed String: !ecneicS ataD evol eW\n"
          ]
        }
      ],
      "source": [
        "original_string = input(\"Kindly enter your string: \")\n",
        "reversed_string = original_string[::-1]\n",
        "\n",
        "print(\"Original String:\", original_string)\n",
        "print(\"Reversed String:\", reversed_string)"
      ]
    },
    {
      "cell_type": "markdown",
      "id": "71ab37b1",
      "metadata": {
        "id": "71ab37b1"
      },
      "source": []
    }
  ],
  "metadata": {
    "colab": {
      "provenance": []
    },
    "kernelspec": {
      "display_name": "Python 3 (ipykernel)",
      "language": "python",
      "name": "python3"
    },
    "language_info": {
      "codemirror_mode": {
        "name": "ipython",
        "version": 3
      },
      "file_extension": ".py",
      "mimetype": "text/x-python",
      "name": "python",
      "nbconvert_exporter": "python",
      "pygments_lexer": "ipython3",
      "version": "3.10.13"
    }
  },
  "nbformat": 4,
  "nbformat_minor": 5
}
