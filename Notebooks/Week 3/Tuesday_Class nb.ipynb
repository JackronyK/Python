{
 "cells": [
  {
   "cell_type": "code",
   "execution_count": 2,
   "metadata": {},
   "outputs": [
    {
     "name": "stdout",
     "output_type": "stream",
     "text": [
      "0\n",
      "UDI\n",
      "3\n",
      "DJD\n",
      "6\n",
      "UED\n",
      "9\n",
      "KSW\n",
      "12\n",
      "OEI\n",
      "15\n",
      "OWI\n",
      "18\n",
      "DOD\n",
      "21\n",
      "ISO\n",
      "24\n",
      "DSI\n"
     ]
    }
   ],
   "source": [
    "def amino_acids(Amin):\n",
    "\n",
    "    for i in range(0,len(Amin),3):\n",
    "        print(i)\n",
    "        print(Amin[i:i+3])\n",
    "\n",
    "amino_acids(\"UDIDJDUEDKSWOEIOWIDODISODSI\")\n",
    "        \n",
    "    "
   ]
  },
  {
   "cell_type": "code",
   "execution_count": null,
   "metadata": {},
   "outputs": [],
   "source": []
  }
 ],
 "metadata": {
  "kernelspec": {
   "display_name": "Python_Dev",
   "language": "python",
   "name": "python3"
  },
  "language_info": {
   "codemirror_mode": {
    "name": "ipython",
    "version": 3
   },
   "file_extension": ".py",
   "mimetype": "text/x-python",
   "name": "python",
   "nbconvert_exporter": "python",
   "pygments_lexer": "ipython3",
   "version": "3.10.13"
  }
 },
 "nbformat": 4,
 "nbformat_minor": 2
}
