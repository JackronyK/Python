{
 "cells": [
  {
   "cell_type": "code",
   "execution_count": 12,
   "metadata": {},
   "outputs": [
    {
     "data": {
      "text/plain": [
       "'5!= 1 * 2 * 3 * 4 * 5 = 120'"
      ]
     },
     "execution_count": 12,
     "metadata": {},
     "output_type": "execute_result"
    }
   ],
   "source": [
    "def factorial(n):\n",
    "    fac = 1\n",
    "    for i in range(1,n+1):\n",
    "         fac *= i\n",
    "    \n",
    "\n",
    "    # Breakdown\n",
    "    sep = \" * \"\n",
    "    num = [str(i) for i in range(1,n+1)]\n",
    "    \n",
    "\n",
    "    #Printing\n",
    "    return (f\"{i}!= {sep.join(num)} = {fac}\")\n",
    "\n",
    "factorial(5)\n"
   ]
  },
  {
   "cell_type": "code",
   "execution_count": 13,
   "metadata": {},
   "outputs": [
    {
     "name": "stdout",
     "output_type": "stream",
     "text": [
      "1!= 1 = 1\n",
      "2!= 1 * 2 = 2\n",
      "3!= 1 * 2 * 3 = 6\n",
      "4!= 1 * 2 * 3 * 4 = 24\n",
      "5!= 1 * 2 * 3 * 4 * 5 = 120\n",
      "6!= 1 * 2 * 3 * 4 * 5 * 6 = 720\n",
      "7!= 1 * 2 * 3 * 4 * 5 * 6 * 7 = 5040\n",
      "8!= 1 * 2 * 3 * 4 * 5 * 6 * 7 * 8 = 40320\n",
      "9!= 1 * 2 * 3 * 4 * 5 * 6 * 7 * 8 * 9 = 362880\n",
      "10!= 1 * 2 * 3 * 4 * 5 * 6 * 7 * 8 * 9 * 10 = 3628800\n"
     ]
    }
   ],
   "source": [
    "for i in range(1,11):\n",
    "    print(f\"{factorial(i)}\")"
   ]
  },
  {
   "cell_type": "code",
   "execution_count": 2,
   "metadata": {},
   "outputs": [
    {
     "data": {
      "text/plain": [
       "'1 X 2 X 3 X 4'"
      ]
     },
     "execution_count": 2,
     "metadata": {},
     "output_type": "execute_result"
    }
   ],
   "source": [
    "fact =\"1\"\n",
    "\n",
    "Fact=\" X \"\n",
    "Fact.join(str(list(range(1,5))))\n",
    "\n",
    "str(list(range(1,5)))\n",
    "\n",
    "num = [str(i) for i in range(1,5)]\n",
    "num\n",
    "Fact.join(num)\n",
    "\n"
   ]
  },
  {
   "cell_type": "markdown",
   "metadata": {},
   "source": [
    "##### Different Approach \n",
    "recusively"
   ]
  },
  {
   "cell_type": "code",
   "execution_count": 26,
   "metadata": {},
   "outputs": [],
   "source": [
    "def factorial_rec(n):\n",
    "    if n == 1 :\n",
    "        return n\n",
    "    else:\n",
    "        return factorial_rec(n-1) * n\n",
    "    "
   ]
  },
  {
   "cell_type": "code",
   "execution_count": 27,
   "metadata": {},
   "outputs": [
    {
     "data": {
      "text/plain": [
       "120"
      ]
     },
     "execution_count": 27,
     "metadata": {},
     "output_type": "execute_result"
    }
   ],
   "source": [
    "factorial_rec(5)"
   ]
  }
 ],
 "metadata": {
  "kernelspec": {
   "display_name": "Python_Dev",
   "language": "python",
   "name": "python3"
  },
  "language_info": {
   "codemirror_mode": {
    "name": "ipython",
    "version": 3
   },
   "file_extension": ".py",
   "mimetype": "text/x-python",
   "name": "python",
   "nbconvert_exporter": "python",
   "pygments_lexer": "ipython3",
   "version": "3.10.13"
  }
 },
 "nbformat": 4,
 "nbformat_minor": 2
}
